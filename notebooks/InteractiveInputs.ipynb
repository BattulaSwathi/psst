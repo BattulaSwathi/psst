{
 "cells": [
  {
   "cell_type": "code",
   "execution_count": 2,
   "metadata": {
    "collapsed": true
   },
   "outputs": [],
   "source": [
    "import ipywidgets as ipyw"
   ]
  },
  {
   "cell_type": "code",
   "execution_count": 4,
   "metadata": {
    "collapsed": true
   },
   "outputs": [],
   "source": [
    "from psst.case.generator import Generator\n",
    "from psst.case.generator import GeneratorColumnView as GeneratorView\n",
    "from psst.case.generator import GeneratorCostView\n",
    "\n",
    "import ipywidgets as ipyw"
   ]
  },
  {
   "cell_type": "code",
   "execution_count": 5,
   "metadata": {
    "collapsed": true
   },
   "outputs": [],
   "source": [
    "g = Generator(capacity=100)"
   ]
  },
  {
   "cell_type": "code",
   "execution_count": 6,
   "metadata": {
    "collapsed": true
   },
   "outputs": [],
   "source": [
    "g.nsegments = 3"
   ]
  },
  {
   "cell_type": "code",
   "execution_count": 7,
   "metadata": {
    "collapsed": true
   },
   "outputs": [],
   "source": [
    "gv = GeneratorView(g)\n",
    "gcv = GeneratorCostView(g)"
   ]
  },
  {
   "cell_type": "code",
   "execution_count": 8,
   "metadata": {
    "scrolled": false
   },
   "outputs": [
    {
     "data": {
      "application/vnd.jupyter.widget-view+json": {
       "model_id": "e042e69e6fe843458041138a206f24e2"
      }
     },
     "metadata": {},
     "output_type": "display_data"
    }
   ],
   "source": [
    "ipyw.HBox(children=[gv, gcv])"
   ]
  }
 ],
 "metadata": {
  "kernelspec": {
   "display_name": "Python 3",
   "language": "python",
   "name": "python3"
  },
  "language_info": {
   "codemirror_mode": {
    "name": "ipython",
    "version": 3
   },
   "file_extension": ".py",
   "mimetype": "text/x-python",
   "name": "python",
   "nbconvert_exporter": "python",
   "pygments_lexer": "ipython3",
   "version": "3.6.1"
  },
  "widgets": {
   "application/vnd.jupyter.widget-state+json": {
    "state": {
     "02e8cf7fb3af42b6b25c80505e8ee178": {
      "model_module": "bqplot",
      "model_module_version": "^0.2.3",
      "model_name": "AxisModel",
      "state": {
       "scale": "IPY_MODEL_9a5426913bb0480490a2c3c1ac983593",
       "side": "bottom",
       "tick_values": {
        "type": null,
        "values": null
       }
      }
     },
     "0498438af795466e8b5249fee1564031": {
      "model_module": "jupyter-js-widgets",
      "model_module_version": "~2.1.4",
      "model_name": "LayoutModel",
      "state": {
       "_model_module_version": "~2.1.4",
       "_view_module_version": "~2.1.4"
      }
     },
     "0b0e8aec8c1347ea82ef18f13a8ad718": {
      "model_module": "jupyter-js-widgets",
      "model_module_version": "~2.1.4",
      "model_name": "IntSliderModel",
      "state": {
       "_model_module_version": "~2.1.4",
       "_view_module_version": "~2.1.4",
       "description": "Number of Cost Curve Segments",
       "layout": "IPY_MODEL_330e9d0b4e3945f09fc9ad014be8a548",
       "max": 50,
       "min": 2,
       "style": "IPY_MODEL_0b49c4aabcf54b39973ca7847a108ef1",
       "value": 3
      }
     },
     "0b49c4aabcf54b39973ca7847a108ef1": {
      "model_module": "jupyter-js-widgets",
      "model_module_version": "~2.1.4",
      "model_name": "SliderStyleModel",
      "state": {
       "_model_module_version": "~2.1.4",
       "_view_module_version": "~2.1.4"
      }
     },
     "178d171452c4436da893d4229d5427e8": {
      "model_module": "jupyter-js-widgets",
      "model_module_version": "~2.1.4",
      "model_name": "ButtonStyleModel",
      "state": {
       "_model_module_version": "~2.1.4",
       "_view_module_version": "~2.1.4"
      }
     },
     "1aaf75b9dd1f409f89259e73d469a36d": {
      "model_module": "jupyter-js-widgets",
      "model_module_version": "~2.1.4",
      "model_name": "LayoutModel",
      "state": {
       "_model_module_version": "~2.1.4",
       "_view_module_version": "~2.1.4"
      }
     },
     "1c70ce39147248969913275c6d0f09d5": {
      "model_module": "jupyter-js-widgets",
      "model_module_version": "~2.1.4",
      "model_name": "FloatTextModel",
      "state": {
       "_model_module_version": "~2.1.4",
       "_view_module_version": "~2.1.4",
       "description": "No-Load Cost ($/hr):",
       "layout": "IPY_MODEL_2c67807ed6974812b365ad07618e3cef",
       "max": 10000000000,
       "min": 0,
       "step": 0.1
      }
     },
     "1d07d917df3f4f0fa57d7187ada995c5": {
      "model_module": "jupyter-js-widgets",
      "model_module_version": "~2.1.4",
      "model_name": "FloatTextModel",
      "state": {
       "_model_module_version": "~2.1.4",
       "_view_module_version": "~2.1.4",
       "description": "Startup Cost ($/hr):",
       "layout": "IPY_MODEL_ff5ad74e595b45ab9e602b9745ceee7a",
       "max": 10000000000,
       "min": 0,
       "step": 0.1
      }
     },
     "2c67807ed6974812b365ad07618e3cef": {
      "model_module": "jupyter-js-widgets",
      "model_module_version": "~2.1.4",
      "model_name": "LayoutModel",
      "state": {
       "_model_module_version": "~2.1.4",
       "_view_module_version": "~2.1.4"
      }
     },
     "330e9d0b4e3945f09fc9ad014be8a548": {
      "model_module": "jupyter-js-widgets",
      "model_module_version": "~2.1.4",
      "model_name": "LayoutModel",
      "state": {
       "_model_module_version": "~2.1.4",
       "_view_module_version": "~2.1.4"
      }
     },
     "3aa11553ad0144e68c18c054f28d7852": {
      "model_module": "jupyter-js-widgets",
      "model_module_version": "~2.1.4",
      "model_name": "CheckboxModel",
      "state": {
       "_model_module_version": "~2.1.4",
       "_view_module_version": "~2.1.4",
       "description": "Initial Status:",
       "disabled": false,
       "layout": "IPY_MODEL_435af088833049bc9d06d5936e4969e3",
       "value": true
      }
     },
     "435af088833049bc9d06d5936e4969e3": {
      "model_module": "jupyter-js-widgets",
      "model_module_version": "~2.1.4",
      "model_name": "LayoutModel",
      "state": {
       "_model_module_version": "~2.1.4",
       "_view_module_version": "~2.1.4"
      }
     },
     "466730daedba46f8981f2564149b954c": {
      "model_module": "jupyter-js-widgets",
      "model_module_version": "~2.1.4",
      "model_name": "FloatTextModel",
      "state": {
       "_model_module_version": "~2.1.4",
       "_view_module_version": "~2.1.4",
       "description": "Shutdown Time (hr):",
       "layout": "IPY_MODEL_5ba757422acb444f80b4dbfcedf5416c",
       "max": 24,
       "min": 0,
       "step": 0.1
      }
     },
     "4ed940fc4a1f4ee08e923e628505f50b": {
      "model_module": "jupyter-js-widgets",
      "model_module_version": "~2.1.4",
      "model_name": "LayoutModel",
      "state": {
       "_model_module_version": "~2.1.4",
       "_view_module_version": "~2.1.4"
      }
     },
     "56d821f03fc647d7bc2c33818a163e21": {
      "model_module": "bqplot",
      "model_module_version": "^0.2.3",
      "model_name": "FigureModel",
      "state": {
       "_dom_classes": [],
       "axes": [
        "IPY_MODEL_02e8cf7fb3af42b6b25c80505e8ee178",
        "IPY_MODEL_62e901a11c0b4a7f9817444321313774"
       ],
       "layout": "IPY_MODEL_5ff7bf39b381421487d599d3e686b15e",
       "marks": [
        "IPY_MODEL_d92e9fa209784b8aaf7e561f2ff56ff9",
        "IPY_MODEL_7e13fb93691d42c8a450387fc434a6b9"
       ],
       "max_aspect_ratio": 6,
       "scale_x": "IPY_MODEL_e47568ddde6c4353b6a51f0567e5c0d4",
       "scale_y": "IPY_MODEL_fb4e1074e2374c858fee39503e09e72e"
      }
     },
     "5ba757422acb444f80b4dbfcedf5416c": {
      "model_module": "jupyter-js-widgets",
      "model_module_version": "~2.1.4",
      "model_name": "LayoutModel",
      "state": {
       "_model_module_version": "~2.1.4",
       "_view_module_version": "~2.1.4"
      }
     },
     "5ff7bf39b381421487d599d3e686b15e": {
      "model_module": "jupyter-js-widgets",
      "model_module_version": "~2.1.4",
      "model_name": "LayoutModel",
      "state": {
       "_model_module_version": "~2.1.4",
       "_view_module_version": "~2.1.4",
       "min_width": "125px"
      }
     },
     "6008cae1a19f41658422ac0b8fdfc0ca": {
      "model_module": "jupyter-js-widgets",
      "model_module_version": "~2.1.4",
      "model_name": "VBoxModel",
      "state": {
       "_model_module_version": "~2.1.4",
       "_view_module_version": "~2.1.4",
       "children": [
        "IPY_MODEL_56d821f03fc647d7bc2c33818a163e21"
       ],
       "layout": "IPY_MODEL_fe61b5d70fcc46b39ecef4dcf118285e"
      }
     },
     "62e901a11c0b4a7f9817444321313774": {
      "model_module": "bqplot",
      "model_module_version": "^0.2.3",
      "model_name": "AxisModel",
      "state": {
       "orientation": "vertical",
       "scale": "IPY_MODEL_aaa5b0d4b2f44bc691c0a46aae0e4977",
       "side": "left",
       "tick_values": {
        "type": null,
        "values": null
       }
      }
     },
     "68b67b12dbd04b87a0544e19460e97bf": {
      "model_module": "jupyter-js-widgets",
      "model_module_version": "~2.1.4",
      "model_name": "FloatTextModel",
      "state": {
       "_model_module_version": "~2.1.4",
       "_view_module_version": "~2.1.4",
       "description": "Initial Generation (MW):",
       "layout": "IPY_MODEL_1aaf75b9dd1f409f89259e73d469a36d",
       "max": 100,
       "min": 0,
       "step": 0.1
      }
     },
     "7cb04f51687e41e68d48f65c93f70b96": {
      "model_module": "jupyter-js-widgets",
      "model_module_version": "~2.1.4",
      "model_name": "LayoutModel",
      "state": {
       "_model_module_version": "~2.1.4",
       "_view_module_version": "~2.1.4"
      }
     },
     "7e13fb93691d42c8a450387fc434a6b9": {
      "model_module": "bqplot",
      "model_module_version": "^0.2.3",
      "model_name": "ScatterModel",
      "state": {
       "_model_module": "bqplot",
       "_model_module_version": "^0.2.3",
       "_view_module": "bqplot",
       "_view_module_version": "^0.2.3",
       "apply_clip": true,
       "color": {
        "type": null,
        "values": null
       },
       "colors": [
        "DeepSkyBlue"
       ],
       "display_legend": false,
       "enable_hover": true,
       "enable_move": true,
       "hovered_style": {},
       "interactions": {
        "click": null
       },
       "labels": [],
       "msg_throttle": 1,
       "names": {
        "type": null,
        "values": null
       },
       "opacity": {
        "type": null,
        "values": null
       },
       "preserve_domain": {},
       "rotation": {
        "type": null,
        "values": null
       },
       "scales": {
        "x": "IPY_MODEL_9a5426913bb0480490a2c3c1ac983593",
        "y": "IPY_MODEL_aaa5b0d4b2f44bc691c0a46aae0e4977"
       },
       "scales_metadata": {
        "color": {
         "dimension": "color"
        },
        "opacity": {
         "dimension": "opacity"
        },
        "size": {
         "dimension": "size"
        },
        "x": {
         "dimension": "x",
         "orientation": "horizontal"
        },
        "y": {
         "dimension": "y",
         "orientation": "vertical"
        }
       },
       "selected": [],
       "selected_style": {},
       "size": {
        "type": null,
        "values": null
       },
       "skew": {
        "type": null,
        "values": null
       },
       "tooltip": null,
       "tooltip_location": "mouse",
       "tooltip_style": {
        "opacity": 0.9
       },
       "unhovered_style": {},
       "unselected_style": {},
       "update_on_move": true,
       "visible": true,
       "x": {
        "type": "float",
        "values": [
         10,
         38.25061274509804,
         65.3094362745098,
         89.03492647058823
        ]
       },
       "y": {
        "type": "float",
        "values": [
         0,
         9.530308734939759,
         24.439947289156628,
         46.72910391566265
        ]
       }
      }
     },
     "7ea70be354d747928166b7e14ea52ce2": {
      "model_module": "jupyter-js-widgets",
      "model_module_version": "~2.1.4",
      "model_name": "LayoutModel",
      "state": {
       "_model_module_version": "~2.1.4",
       "_view_module_version": "~2.1.4"
      }
     },
     "80e63570f94d4aa49c7f48deb4c42ddd": {
      "model_module": "jupyter-js-widgets",
      "model_module_version": "~2.1.4",
      "model_name": "LayoutModel",
      "state": {
       "_model_module_version": "~2.1.4",
       "_view_module_version": "~2.1.4"
      }
     },
     "810821bcbf92402e82c6bc9d5e8a731b": {
      "model_module": "jupyter-js-widgets",
      "model_module_version": "~2.1.4",
      "model_name": "LayoutModel",
      "state": {
       "_model_module_version": "~2.1.4",
       "_view_module_version": "~2.1.4"
      }
     },
     "81cc6061f9c44dd5b3d1c2ac4b9e91c7": {
      "model_module": "jupyter-js-widgets",
      "model_module_version": "~2.1.4",
      "model_name": "FloatTextModel",
      "state": {
       "_model_module_version": "~2.1.4",
       "_view_module_version": "~2.1.4",
       "description": "Capacity (MW):",
       "layout": "IPY_MODEL_c9c0e5811e994b4b9fc54f94afbeca26",
       "max": 10000000000,
       "min": 0,
       "step": 0.1,
       "value": 100
      }
     },
     "84569bac129e4b6c8179d8f35b12d220": {
      "model_module": "jupyter-js-widgets",
      "model_module_version": "~2.1.4",
      "model_name": "VBoxModel",
      "state": {
       "_model_module_version": "~2.1.4",
       "_view_module_version": "~2.1.4",
       "children": [
        "IPY_MODEL_b45413595b4e4e679697d513dc548fdd",
        "IPY_MODEL_c48422cf188a438da80dca9070cfb912",
        "IPY_MODEL_3aa11553ad0144e68c18c054f28d7852",
        "IPY_MODEL_c326be6b0332407ab2fc5c41ca5b9bd9",
        "IPY_MODEL_81cc6061f9c44dd5b3d1c2ac4b9e91c7",
        "IPY_MODEL_b5f4a4bd463247c88f36d6181ffc946b",
        "IPY_MODEL_68b67b12dbd04b87a0544e19460e97bf",
        "IPY_MODEL_af00bddd6e36418ca2b33ecc7384c155",
        "IPY_MODEL_acb44968656d4a2a9d92e17e54840222",
        "IPY_MODEL_0b0e8aec8c1347ea82ef18f13a8ad718",
        "IPY_MODEL_be89f7d08a9b4886b22206d741d7ea7c",
        "IPY_MODEL_e9a4a76d57db40128833b1091560261f",
        "IPY_MODEL_d38509a304ea427e92421058aa25d0a4",
        "IPY_MODEL_466730daedba46f8981f2564149b954c",
        "IPY_MODEL_1c70ce39147248969913275c6d0f09d5",
        "IPY_MODEL_1d07d917df3f4f0fa57d7187ada995c5"
       ],
       "layout": "IPY_MODEL_bee0ae98e1d7446ab517ae2aefd4bc91"
      }
     },
     "8b3629e9f4d8405597ee9c90949cdba4": {
      "model_module": "jupyter-js-widgets",
      "model_module_version": "~2.1.4",
      "model_name": "ButtonModel",
      "state": {
       "_model_module_version": "~2.1.4",
       "_view_module_version": "~2.1.4",
       "layout": "IPY_MODEL_7cb04f51687e41e68d48f65c93f70b96",
       "style": "IPY_MODEL_178d171452c4436da893d4229d5427e8"
      }
     },
     "8d4f1ce24a1f45628eeb0089659e01c4": {
      "model_module": "jupyter-js-widgets",
      "model_module_version": "~2.1.4",
      "model_name": "LayoutModel",
      "state": {
       "_model_module_version": "~2.1.4",
       "_view_module_version": "~2.1.4"
      }
     },
     "9a5426913bb0480490a2c3c1ac983593": {
      "model_module": "bqplot",
      "model_module_version": "^0.2.3",
      "model_name": "LinearScaleModel",
      "state": {
       "max": 100,
       "min": 0,
       "stabilized": false
      }
     },
     "aaa5b0d4b2f44bc691c0a46aae0e4977": {
      "model_module": "bqplot",
      "model_module_version": "^0.2.3",
      "model_name": "LinearScaleModel",
      "state": {
       "max": 50,
       "min": 0,
       "stabilized": false
      }
     },
     "acb44968656d4a2a9d92e17e54840222": {
      "model_module": "jupyter-js-widgets",
      "model_module_version": "~2.1.4",
      "model_name": "FloatTextModel",
      "state": {
       "_model_module_version": "~2.1.4",
       "_view_module_version": "~2.1.4",
       "description": "Minimum Down Time (hr):",
       "layout": "IPY_MODEL_810821bcbf92402e82c6bc9d5e8a731b",
       "max": 24,
       "min": 0,
       "step": 0.1
      }
     },
     "af00bddd6e36418ca2b33ecc7384c155": {
      "model_module": "jupyter-js-widgets",
      "model_module_version": "~2.1.4",
      "model_name": "FloatTextModel",
      "state": {
       "_model_module_version": "~2.1.4",
       "_view_module_version": "~2.1.4",
       "description": "Minimum Up Time (hr):",
       "layout": "IPY_MODEL_f4040139e0dc4d09a3e059e94822e06c",
       "max": 24,
       "min": 0,
       "step": 0.1
      }
     },
     "b45413595b4e4e679697d513dc548fdd": {
      "model_module": "jupyter-js-widgets",
      "model_module_version": "~2.1.4",
      "model_name": "HTMLModel",
      "state": {
       "_model_module_version": "~2.1.4",
       "_view_module_version": "~2.1.4",
       "layout": "IPY_MODEL_bcfbd28361a64879a345862fad7837dc",
       "value": "Generator:"
      }
     },
     "b5f4a4bd463247c88f36d6181ffc946b": {
      "model_module": "jupyter-js-widgets",
      "model_module_version": "~2.1.4",
      "model_name": "FloatTextModel",
      "state": {
       "_model_module_version": "~2.1.4",
       "_view_module_version": "~2.1.4",
       "description": "Minimum Generation (MW):",
       "layout": "IPY_MODEL_7ea70be354d747928166b7e14ea52ce2",
       "max": 100,
       "min": 0,
       "step": 0.1,
       "value": 10
      }
     },
     "bcfbd28361a64879a345862fad7837dc": {
      "model_module": "jupyter-js-widgets",
      "model_module_version": "~2.1.4",
      "model_name": "LayoutModel",
      "state": {
       "_model_module_version": "~2.1.4",
       "_view_module_version": "~2.1.4"
      }
     },
     "be89f7d08a9b4886b22206d741d7ea7c": {
      "model_module": "jupyter-js-widgets",
      "model_module_version": "~2.1.4",
      "model_name": "FloatTextModel",
      "state": {
       "_model_module_version": "~2.1.4",
       "_view_module_version": "~2.1.4",
       "description": "Ramp Up Rate (MW/hr):",
       "layout": "IPY_MODEL_4ed940fc4a1f4ee08e923e628505f50b",
       "max": 100,
       "min": 0,
       "step": 0.1
      }
     },
     "bee0ae98e1d7446ab517ae2aefd4bc91": {
      "model_module": "jupyter-js-widgets",
      "model_module_version": "~2.1.4",
      "model_name": "LayoutModel",
      "state": {
       "_model_module_version": "~2.1.4",
       "_view_module_version": "~2.1.4"
      }
     },
     "c326be6b0332407ab2fc5c41ca5b9bd9": {
      "model_module": "jupyter-js-widgets",
      "model_module_version": "~2.1.4",
      "model_name": "DropdownModel",
      "state": {
       "_model_module_version": "~2.1.4",
       "_options_labels": [
        "COAL",
        "NATURALGAS",
        "WIND"
       ],
       "_view_module_version": "~2.1.4",
       "description": "Generation Type:",
       "layout": "IPY_MODEL_0498438af795466e8b5249fee1564031",
       "value": "COAL"
      }
     },
     "c48422cf188a438da80dca9070cfb912": {
      "model_module": "jupyter-js-widgets",
      "model_module_version": "~2.1.4",
      "model_name": "TextModel",
      "state": {
       "_model_module_version": "~2.1.4",
       "_view_module_version": "~2.1.4",
       "description": "Name",
       "layout": "IPY_MODEL_80e63570f94d4aa49c7f48deb4c42ddd",
       "value": "GenCo0"
      }
     },
     "c9c0e5811e994b4b9fc54f94afbeca26": {
      "model_module": "jupyter-js-widgets",
      "model_module_version": "~2.1.4",
      "model_name": "LayoutModel",
      "state": {
       "_model_module_version": "~2.1.4",
       "_view_module_version": "~2.1.4"
      }
     },
     "d38509a304ea427e92421058aa25d0a4": {
      "model_module": "jupyter-js-widgets",
      "model_module_version": "~2.1.4",
      "model_name": "FloatTextModel",
      "state": {
       "_model_module_version": "~2.1.4",
       "_view_module_version": "~2.1.4",
       "description": "Startup Time (hr):",
       "layout": "IPY_MODEL_de42e0738a2f415cbe4e48268a450324",
       "max": 24,
       "min": 0,
       "step": 0.1
      }
     },
     "d92e9fa209784b8aaf7e561f2ff56ff9": {
      "model_module": "bqplot",
      "model_module_version": "^0.2.3",
      "model_name": "LinesModel",
      "state": {
       "color": {
        "type": null,
        "values": null
       },
       "display_legend": false,
       "fill_colors": [],
       "labels": [
        "C1"
       ],
       "scales": {
        "x": "IPY_MODEL_9a5426913bb0480490a2c3c1ac983593",
        "y": "IPY_MODEL_aaa5b0d4b2f44bc691c0a46aae0e4977"
       },
       "selected": [],
       "x": {
        "type": "float",
        "values": [
         10,
         38.25061274509804,
         65.3094362745098,
         89.03492647058823
        ]
       },
       "y": {
        "type": "float",
        "values": [
         0,
         9.530308734939759,
         24.439947289156628,
         46.72910391566265
        ]
       }
      }
     },
     "de42e0738a2f415cbe4e48268a450324": {
      "model_module": "jupyter-js-widgets",
      "model_module_version": "~2.1.4",
      "model_name": "LayoutModel",
      "state": {
       "_model_module_version": "~2.1.4",
       "_view_module_version": "~2.1.4"
      }
     },
     "e042e69e6fe843458041138a206f24e2": {
      "model_module": "jupyter-js-widgets",
      "model_module_version": "~2.1.4",
      "model_name": "HBoxModel",
      "state": {
       "_model_module_version": "~2.1.4",
       "_view_module_version": "~2.1.4",
       "children": [
        "IPY_MODEL_84569bac129e4b6c8179d8f35b12d220",
        "IPY_MODEL_6008cae1a19f41658422ac0b8fdfc0ca"
       ],
       "layout": "IPY_MODEL_8d4f1ce24a1f45628eeb0089659e01c4"
      }
     },
     "e22611624f3a421e91878fb687d04819": {
      "model_module": "jupyter-js-widgets",
      "model_module_version": "~2.1.4",
      "model_name": "LayoutModel",
      "state": {
       "_model_module_version": "~2.1.4",
       "_view_module_version": "~2.1.4"
      }
     },
     "e47568ddde6c4353b6a51f0567e5c0d4": {
      "model_module": "bqplot",
      "model_module_version": "^0.2.3",
      "model_name": "LinearScaleModel",
      "state": {
       "allow_padding": false,
       "max": 1,
       "min": 0,
       "stabilized": false
      }
     },
     "e9a4a76d57db40128833b1091560261f": {
      "model_module": "jupyter-js-widgets",
      "model_module_version": "~2.1.4",
      "model_name": "FloatTextModel",
      "state": {
       "_model_module_version": "~2.1.4",
       "_view_module_version": "~2.1.4",
       "description": "Ramp Down Rate (MW/hr):",
       "layout": "IPY_MODEL_e22611624f3a421e91878fb687d04819",
       "max": 100,
       "min": 0,
       "step": 0.1
      }
     },
     "f4040139e0dc4d09a3e059e94822e06c": {
      "model_module": "jupyter-js-widgets",
      "model_module_version": "~2.1.4",
      "model_name": "LayoutModel",
      "state": {
       "_model_module_version": "~2.1.4",
       "_view_module_version": "~2.1.4"
      }
     },
     "fb4e1074e2374c858fee39503e09e72e": {
      "model_module": "bqplot",
      "model_module_version": "^0.2.3",
      "model_name": "LinearScaleModel",
      "state": {
       "allow_padding": false,
       "max": 1,
       "min": 0,
       "stabilized": false
      }
     },
     "fe61b5d70fcc46b39ecef4dcf118285e": {
      "model_module": "jupyter-js-widgets",
      "model_module_version": "~2.1.4",
      "model_name": "LayoutModel",
      "state": {
       "_model_module_version": "~2.1.4",
       "_view_module_version": "~2.1.4"
      }
     },
     "ff5ad74e595b45ab9e602b9745ceee7a": {
      "model_module": "jupyter-js-widgets",
      "model_module_version": "~2.1.4",
      "model_name": "LayoutModel",
      "state": {
       "_model_module_version": "~2.1.4",
       "_view_module_version": "~2.1.4"
      }
     }
    },
    "version_major": 1,
    "version_minor": 0
   }
  }
 },
 "nbformat": 4,
 "nbformat_minor": 2
}

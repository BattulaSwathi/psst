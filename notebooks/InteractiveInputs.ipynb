{
 "cells": [
  {
   "cell_type": "code",
   "execution_count": 1,
   "metadata": {
    "collapsed": true
   },
   "outputs": [],
   "source": [
    "from psst.case.generator import Generator\n",
    "from psst.case.generator import GeneratorColumnView as GeneratorView\n",
    "from psst.case.generator import GeneratorCostView\n",
    "\n",
    "import ipywidgets as ipyw"
   ]
  },
  {
   "cell_type": "code",
   "execution_count": 2,
   "metadata": {
    "collapsed": true
   },
   "outputs": [],
   "source": [
    "g = Generator(capacity=100)"
   ]
  },
  {
   "cell_type": "code",
   "execution_count": 3,
   "metadata": {
    "collapsed": true
   },
   "outputs": [],
   "source": [
    "g.nsegments = 3"
   ]
  },
  {
   "cell_type": "code",
   "execution_count": 4,
   "metadata": {
    "collapsed": true
   },
   "outputs": [],
   "source": [
    "gv = GeneratorView(g)\n",
    "gcv = GeneratorCostView(g)"
   ]
  },
  {
   "cell_type": "code",
   "execution_count": 5,
   "metadata": {
    "scrolled": false
   },
   "outputs": [
    {
     "data": {
      "application/vnd.jupyter.widget-view+json": {
       "model_id": "b699c300767f4aea850bdbdf2a17608a",
       "version_major": "2",
       "version_minor": "0"
      },
      "text/plain": [
       "A Jupyter Widget"
      ]
     },
     "metadata": {},
     "output_type": "display_data"
    }
   ],
   "source": [
    "ipyw.HBox(children=[gv, gcv])"
   ]
  }
 ],
 "metadata": {
  "kernelspec": {
   "display_name": "Python 3",
   "language": "python",
   "name": "python3"
  },
  "language_info": {
   "codemirror_mode": {
    "name": "ipython",
    "version": 3
   },
   "file_extension": ".py",
   "mimetype": "text/x-python",
   "name": "python",
   "nbconvert_exporter": "python",
   "pygments_lexer": "ipython3",
   "version": "3.6.1"
  },
  "widgets": {
   "application/vnd.jupyter.widget-state+json": {
    "state": {
     "001486efa385488abaf8821020b50002": {
      "model_module": "@jupyter-widgets/controls",
      "model_module_version": "3.0.0",
      "model_name": "VBoxModel",
      "state": {
       "children": [
        "IPY_MODEL_3d50762f27a94d08abce25a62ec6bc37"
       ],
       "layout": "IPY_MODEL_9e42bd6b2cf44e4a91ce79630907de11"
      }
     },
     "003614937b2544f9b01428517ec5185b": {
      "model_module": "@jupyter-widgets/controls",
      "model_module_version": "3.0.0",
      "model_name": "TextModel",
      "state": {
       "description": "Name",
       "layout": "IPY_MODEL_08c7474c7b23430d982cbe09f7dd48f5",
       "style": "IPY_MODEL_120b143134f4437ca63c35a9bc97aa0a",
       "value": "GenCo0"
      }
     },
     "00569979039b41d899b3ce85659392b8": {
      "model_module": "@jupyter-widgets/base",
      "model_module_version": "3.0.0",
      "model_name": "LayoutModel",
      "state": {}
     },
     "00c2a6ebbc664348bd8918aeba4d9d57": {
      "model_module": "@jupyter-widgets/base",
      "model_module_version": "3.0.0",
      "model_name": "LayoutModel",
      "state": {}
     },
     "012f2a4c7bb742f097b8a70c4c90d8cc": {
      "model_module": "@jupyter-widgets/base",
      "model_module_version": "3.0.0",
      "model_name": "LayoutModel",
      "state": {}
     },
     "0131ab3d341e44dab04edcfb30ab0a52": {
      "model_module": "@jupyter-widgets/controls",
      "model_module_version": "3.0.0",
      "model_name": "DescriptionStyleModel",
      "state": {
       "description_width": "initial"
      }
     },
     "0137d6844e1f440f876ea1d3be1ce039": {
      "model_module": "@jupyter-widgets/controls",
      "model_module_version": "3.0.0",
      "model_name": "DescriptionStyleModel",
      "state": {
       "description_width": "initial"
      }
     },
     "0175604c35aa4b80a736bb92b0afd003": {
      "model_module": "@jupyter-widgets/controls",
      "model_module_version": "3.0.0",
      "model_name": "BoundedFloatTextModel",
      "state": {
       "description": "Initial Generation (MW):",
       "layout": "IPY_MODEL_00569979039b41d899b3ce85659392b8",
       "style": "IPY_MODEL_3255d54f587f4c1d8562193d97305711"
      }
     },
     "018a6f4e4f7f49e492c4a1cf8014d042": {
      "model_module": "@jupyter-widgets/controls",
      "model_module_version": "3.0.0",
      "model_name": "BoundedFloatTextModel",
      "state": {
       "description": "Minimum Up Time (hr):",
       "layout": "IPY_MODEL_b300ee665c494897b14c524148e14f28",
       "max": 24,
       "style": "IPY_MODEL_e68f89ca848d4a239db8c2e2695bd6aa"
      }
     },
     "01b09a7a1a9845b0b60237536365002a": {
      "model_module": "bqplot",
      "model_module_version": "^0.3.0-alpha.1",
      "model_name": "LinearScaleModel",
      "state": {
       "_model_module_version": "^0.3.0-alpha.1",
       "_view_module_version": "^0.3.0-alpha.1",
       "max": 45,
       "min": 0,
       "stabilized": false
      }
     },
     "01c5d0cca28e4e66823afa9f60a1f35e": {
      "model_module": "@jupyter-widgets/controls",
      "model_module_version": "3.0.0",
      "model_name": "DescriptionStyleModel",
      "state": {
       "description_width": "initial"
      }
     },
     "01d9a2bc3b3048a5b56c430e4f6c1dab": {
      "model_module": "@jupyter-widgets/controls",
      "model_module_version": "3.0.0",
      "model_name": "VBoxModel",
      "state": {
       "children": [
        "IPY_MODEL_e1ac7736e7984d90a0472bea76df6b97",
        "IPY_MODEL_ed6fc157935b4e9f83c66cd8b2696a77",
        "IPY_MODEL_685d8ab7ca5f4653abc9a95abed9f826",
        "IPY_MODEL_dc53362b4e224582a2cc30f6f5421637",
        "IPY_MODEL_b93187475506478db7efb782d6a344f4",
        "IPY_MODEL_24f18eb45bff4e63b5a65907c0bcefb3",
        "IPY_MODEL_c6893bd990374eb5b550388cc27c0a51",
        "IPY_MODEL_d62ddd3f04554b1cbada082cb75c9657",
        "IPY_MODEL_e0ab6adb73d54b3c9f345b983962ac8f",
        "IPY_MODEL_0308fe19a7d24250a700b3b5023bf835",
        "IPY_MODEL_8aea25b6d83646b2880f0c879577b2b7",
        "IPY_MODEL_6eafe137138d4e8082c3bcf84816bb7f",
        "IPY_MODEL_cb8c710357c54f35be123b0a4bd6fb83",
        "IPY_MODEL_5cd201201adf43f68a7b4c4489516c29",
        "IPY_MODEL_5cd35a06c7b04354b8dc18d0c00ca5a0",
        "IPY_MODEL_6de50a32db5346cb84b2d8e66e1f7ded"
       ],
       "layout": "IPY_MODEL_6b70bfc3308c485bbe8a22abd7c79632"
      }
     },
     "01d9b2984fa94855a6b6b06b264c1f9b": {
      "model_module": "@jupyter-widgets/controls",
      "model_module_version": "3.0.0",
      "model_name": "DescriptionStyleModel",
      "state": {
       "description_width": "initial"
      }
     },
     "024ecb58fd914eb49e81cc5cddbf9156": {
      "model_module": "bqplot",
      "model_module_version": "^0.3.0-alpha.1",
      "model_name": "FigureModel",
      "state": {
       "_dom_classes": [],
       "_model_module_version": "^0.3.0-alpha.1",
       "_view_module_version": "^0.3.0-alpha.1",
       "axes": [
        "IPY_MODEL_43f2a94ecdb346f8ba8c5e9663ace122",
        "IPY_MODEL_fa9c1a1d3d2c4a6db2851630ce880453"
       ],
       "layout": "IPY_MODEL_1d9974d6f0624c0a874f96780d99b246",
       "marks": [
        "IPY_MODEL_18e29334ff5d47089c779342648dbf5b",
        "IPY_MODEL_baa621f3a76d4e91a31df3650dc44719"
       ],
       "max_aspect_ratio": 6,
       "scale_x": "IPY_MODEL_0a5b87595e94460a925e72ab53f3b5b7",
       "scale_y": "IPY_MODEL_8a1a489f311f438b852eab40a2ba28cb"
      }
     },
     "0287b7ae5a6f485f86c90a68719c0ca2": {
      "model_module": "@jupyter-widgets/controls",
      "model_module_version": "3.0.0",
      "model_name": "DescriptionStyleModel",
      "state": {
       "description_width": "initial"
      }
     },
     "0295c08896e34033948fd2baf41d2a30": {
      "model_module": "@jupyter-widgets/controls",
      "model_module_version": "3.0.0",
      "model_name": "TextModel",
      "state": {
       "description": "Name",
       "layout": "IPY_MODEL_c2cdccc28a224d13baaeac6cb63750d1",
       "style": "IPY_MODEL_0425d48d57d947d39ffeb1b75b0a7054",
       "value": "GenCo0"
      }
     },
     "02d070e383774959b3e3f8edd2c2ba15": {
      "model_module": "@jupyter-widgets/base",
      "model_module_version": "3.0.0",
      "model_name": "LayoutModel",
      "state": {
       "min_width": "125px"
      }
     },
     "02e85227f3a44fa0ac240388800ba5ad": {
      "model_module": "@jupyter-widgets/base",
      "model_module_version": "3.0.0",
      "model_name": "LayoutModel",
      "state": {}
     },
     "0307978f53424d58b8953a754393fd46": {
      "model_module": "@jupyter-widgets/controls",
      "model_module_version": "3.0.0",
      "model_name": "CheckboxModel",
      "state": {
       "description": "Initial Status:",
       "disabled": false,
       "layout": "IPY_MODEL_f1fd1df6346946f89e2eb45e75d93e9f",
       "style": "IPY_MODEL_a3093eb03d834b9ca882a4b284407d1a",
       "value": true
      }
     },
     "0308fe19a7d24250a700b3b5023bf835": {
      "model_module": "@jupyter-widgets/controls",
      "model_module_version": "3.0.0",
      "model_name": "BoundedFloatTextModel",
      "state": {
       "description": "Ramp Down Rate (MW/hr):",
       "layout": "IPY_MODEL_c6b40c68f1494c2195fde3dd21183d74",
       "style": "IPY_MODEL_8ccb6eea3e394d338596dc02cd30e699"
      }
     },
     "030dae2faf4c49e18e9963c38784ad17": {
      "model_module": "@jupyter-widgets/base",
      "model_module_version": "3.0.0",
      "model_name": "LayoutModel",
      "state": {}
     },
     "03206a6103bb4a7ea134cd359ea94fd3": {
      "model_module": "bqplot",
      "model_module_version": "^0.3.0-alpha.1",
      "model_name": "AxisModel",
      "state": {
       "_model_module_version": "^0.3.0-alpha.1",
       "_view_module_version": "^0.3.0-alpha.1",
       "scale": "IPY_MODEL_73967179ec6e4748aa8dc1cb86bc5dc9",
       "side": "bottom",
       "tick_values": {
        "type": null,
        "values": null
       }
      }
     },
     "0341fd06b2d34b59baa86d07fac6f768": {
      "model_module": "@jupyter-widgets/controls",
      "model_module_version": "3.0.0",
      "model_name": "DescriptionStyleModel",
      "state": {
       "description_width": "initial"
      }
     },
     "03641057f5964ee2acc4901ca22738e2": {
      "model_module": "@jupyter-widgets/controls",
      "model_module_version": "3.0.0",
      "model_name": "IntSliderModel",
      "state": {
       "description": "Number of Cost Curve Segments",
       "layout": "IPY_MODEL_e67551aa115e4978a3b24927946ccb7c",
       "max": 50,
       "min": 2,
       "style": "IPY_MODEL_fec3253cfada4de1b24462250b2baeb1",
       "value": 18
      }
     },
     "0368dbb12da648bb8dc4b60c08d979f0": {
      "model_module": "@jupyter-widgets/base",
      "model_module_version": "3.0.0",
      "model_name": "LayoutModel",
      "state": {}
     },
     "037601efcbac4873857c5e7c1f166ce4": {
      "model_module": "@jupyter-widgets/controls",
      "model_module_version": "3.0.0",
      "model_name": "DescriptionStyleModel",
      "state": {
       "description_width": "initial"
      }
     },
     "037a8fae392746c9aec777f8494880ec": {
      "model_module": "@jupyter-widgets/base",
      "model_module_version": "3.0.0",
      "model_name": "LayoutModel",
      "state": {}
     },
     "03bd932e93af4b0889142701a6110910": {
      "model_module": "bqplot",
      "model_module_version": "^0.3.0-alpha.1",
      "model_name": "LinearScaleModel",
      "state": {
       "_model_module_version": "^0.3.0-alpha.1",
       "_view_module_version": "^0.3.0-alpha.1",
       "max": 0,
       "min": 0,
       "stabilized": false
      }
     },
     "03bdd7261a544c83820f400f05c69dc4": {
      "model_module": "@jupyter-widgets/controls",
      "model_module_version": "3.0.0",
      "model_name": "DescriptionStyleModel",
      "state": {
       "description_width": "initial"
      }
     },
     "03c0b082af8d48dcaf1511e6df023a48": {
      "model_module": "@jupyter-widgets/controls",
      "model_module_version": "3.0.0",
      "model_name": "HTMLModel",
      "state": {
       "layout": "IPY_MODEL_5af77600f1454c4ca50116285c758e91",
       "style": "IPY_MODEL_fec63218cbb745708b2d4bb2a9bf9383",
       "value": "Generator:"
      }
     },
     "03fcbe9a3e284968a5aeb7e14d2f1cee": {
      "model_module": "bqplot",
      "model_module_version": "^0.3.0-alpha.1",
      "model_name": "AxisModel",
      "state": {
       "_model_module_version": "^0.3.0-alpha.1",
       "_view_module_version": "^0.3.0-alpha.1",
       "orientation": "vertical",
       "scale": "IPY_MODEL_c8196c51e1274e0db67080f248599f16",
       "side": "left",
       "tick_values": {
        "type": null,
        "values": null
       }
      }
     },
     "040ddf6aa59348048ac12beee3149456": {
      "model_module": "@jupyter-widgets/controls",
      "model_module_version": "3.0.0",
      "model_name": "DescriptionStyleModel",
      "state": {
       "description_width": "initial"
      }
     },
     "0410f163dd5a412db7fa5c1e1728ed34": {
      "model_module": "@jupyter-widgets/controls",
      "model_module_version": "3.0.0",
      "model_name": "DescriptionStyleModel",
      "state": {
       "description_width": "initial"
      }
     },
     "041f4826be34427db894980fd495f3a7": {
      "model_module": "@jupyter-widgets/controls",
      "model_module_version": "3.0.0",
      "model_name": "TextModel",
      "state": {
       "description": "Name",
       "layout": "IPY_MODEL_26c2d4fa40e8401bb75b97d3e48e3a1c",
       "style": "IPY_MODEL_61cef8bf111c4d4ba50d270f7de19c71",
       "value": "GenCo0"
      }
     },
     "0425d48d57d947d39ffeb1b75b0a7054": {
      "model_module": "@jupyter-widgets/controls",
      "model_module_version": "3.0.0",
      "model_name": "DescriptionStyleModel",
      "state": {
       "description_width": "initial"
      }
     },
     "0452cbbf839746009d9b0fef2787b53c": {
      "model_module": "@jupyter-widgets/controls",
      "model_module_version": "3.0.0",
      "model_name": "BoundedFloatTextModel",
      "state": {
       "description": "Capacity (MW):",
       "layout": "IPY_MODEL_bc883a6eb1c84189a32dae34c310ba61",
       "max": 10000000000,
       "style": "IPY_MODEL_077ede6fc457438da01f6baf09aa87ee",
       "value": 100
      }
     },
     "04629fa93bf64fa38f67d311a0332472": {
      "model_module": "bqplot",
      "model_module_version": "^0.3.0-alpha.1",
      "model_name": "ScatterModel",
      "state": {
       "_model_module": "bqplot",
       "_model_module_version": "^0.3.0-alpha.1",
       "_view_count": null,
       "_view_module": "bqplot",
       "_view_module_version": "^0.3.0-alpha.1",
       "apply_clip": true,
       "color": {
        "type": null,
        "values": null
       },
       "colors": [
        "DeepSkyBlue"
       ],
       "display_legend": false,
       "enable_hover": true,
       "hovered_style": {},
       "interactions": {
        "hover": "tooltip"
       },
       "labels": [],
       "msg_throttle": 1,
       "names": {
        "type": null,
        "values": null
       },
       "opacity": {
        "type": null,
        "values": null
       },
       "preserve_domain": {},
       "rotation": {
        "type": null,
        "values": null
       },
       "scales": {
        "x": "IPY_MODEL_4ffe474993b240f396701e22b27e337c",
        "y": "IPY_MODEL_8b64ea2969694912abab6dc4c324439a"
       },
       "scales_metadata": {
        "color": {
         "dimension": "color"
        },
        "opacity": {
         "dimension": "opacity"
        },
        "size": {
         "dimension": "size"
        },
        "x": {
         "dimension": "x",
         "orientation": "horizontal"
        },
        "y": {
         "dimension": "y",
         "orientation": "vertical"
        }
       },
       "selected": [],
       "selected_style": {},
       "size": {
        "type": null,
        "values": null
       },
       "skew": {
        "type": null,
        "values": null
       },
       "tooltip": null,
       "tooltip_location": "mouse",
       "tooltip_style": {
        "opacity": 0.9
       },
       "unhovered_style": {},
       "unselected_style": {},
       "visible": true,
       "x": {
        "type": "float",
        "values": [
         0,
         33.333333333333336,
         66.66666666666667,
         100
        ]
       },
       "y": {
        "type": "float",
        "values": [
         10,
         20,
         30,
         90
        ]
       }
      }
     },
     "0465fb94093442f7af2b2bfdbde31fb8": {
      "model_module": "@jupyter-widgets/base",
      "model_module_version": "3.0.0",
      "model_name": "LayoutModel",
      "state": {}
     },
     "04834f07d46c496b866b9240019c8315": {
      "model_module": "@jupyter-widgets/base",
      "model_module_version": "3.0.0",
      "model_name": "LayoutModel",
      "state": {}
     },
     "0497a42dbc6c4472bb9d273471fc139a": {
      "model_module": "bqplot",
      "model_module_version": "^0.3.0-alpha.1",
      "model_name": "FigureModel",
      "state": {
       "_dom_classes": [],
       "_model_module_version": "^0.3.0-alpha.1",
       "_view_module_version": "^0.3.0-alpha.1",
       "axes": [
        "IPY_MODEL_58d4fdc2a0aa4ca395a5c44a7f1b9b40",
        "IPY_MODEL_6ac071e332134df896627b59c4bcf42b"
       ],
       "layout": "IPY_MODEL_02d070e383774959b3e3f8edd2c2ba15",
       "marks": [
        "IPY_MODEL_990e457dd3b744dc983b21937b8225b9"
       ],
       "max_aspect_ratio": 6,
       "scale_x": "IPY_MODEL_dd06e0f493d24e4daad32750a3ff984a",
       "scale_y": "IPY_MODEL_3619da6f4551496f99400517065d6c30"
      }
     },
     "04adf7690a4c434c80884a306937c7bf": {
      "model_module": "@jupyter-widgets/controls",
      "model_module_version": "3.0.0",
      "model_name": "DescriptionStyleModel",
      "state": {
       "description_width": "initial"
      }
     },
     "04d938b81b474c09ada9b658b7f76205": {
      "model_module": "@jupyter-widgets/base",
      "model_module_version": "3.0.0",
      "model_name": "LayoutModel",
      "state": {}
     },
     "05381c8e55c0482dbfbd73f1dec59204": {
      "model_module": "@jupyter-widgets/controls",
      "model_module_version": "3.0.0",
      "model_name": "IntSliderModel",
      "state": {
       "description": "Number of Cost Curve Segments",
       "layout": "IPY_MODEL_f190b3b494fc42ae86fc0f5be5fc31c3",
       "max": 50,
       "min": 2,
       "style": "IPY_MODEL_4ca15f321ae84e74a5711a6e7f19905b",
       "value": 3
      }
     },
     "05905ba72f3f418a8011b24e177d6963": {
      "model_module": "@jupyter-widgets/controls",
      "model_module_version": "3.0.0",
      "model_name": "DescriptionStyleModel",
      "state": {
       "description_width": "initial"
      }
     },
     "0651aeaa11544cca94287937d4d1b46d": {
      "model_module": "@jupyter-widgets/base",
      "model_module_version": "3.0.0",
      "model_name": "LayoutModel",
      "state": {}
     },
     "067b0112a385415bb84beb4ee07f2943": {
      "model_module": "bqplot",
      "model_module_version": "^0.3.0-alpha.1",
      "model_name": "LinearScaleModel",
      "state": {
       "_model_module_version": "^0.3.0-alpha.1",
       "_view_module_version": "^0.3.0-alpha.1",
       "allow_padding": false,
       "max": 1,
       "min": 0,
       "stabilized": false
      }
     },
     "06ada10579b74a1d866367ecb3873d46": {
      "model_module": "@jupyter-widgets/controls",
      "model_module_version": "3.0.0",
      "model_name": "BoundedFloatTextModel",
      "state": {
       "description": "Capacity (MW):",
       "layout": "IPY_MODEL_ab9b7a7c5bd747aab5d48755dca69085",
       "max": 10000000000,
       "style": "IPY_MODEL_7fa81c8e28294228b04a3ed3866a68d9",
       "value": 100
      }
     },
     "06aebffecfa244fab9e81eed4ec9ae7f": {
      "model_module": "@jupyter-widgets/controls",
      "model_module_version": "3.0.0",
      "model_name": "DescriptionStyleModel",
      "state": {
       "description_width": "initial"
      }
     },
     "06c5936a86d64400b423fe9ca403d4fe": {
      "model_module": "@jupyter-widgets/base",
      "model_module_version": "3.0.0",
      "model_name": "LayoutModel",
      "state": {}
     },
     "07197f29f74b4a60a909697c43e982ee": {
      "model_module": "@jupyter-widgets/controls",
      "model_module_version": "3.0.0",
      "model_name": "CheckboxModel",
      "state": {
       "description": "Initial Status:",
       "disabled": false,
       "layout": "IPY_MODEL_90c6aee10e6345bfb8097a2000fdf438",
       "style": "IPY_MODEL_3a27965512e54804a53c5934372415cf",
       "value": true
      }
     },
     "07213d403ed842b2a6c779140b6d7802": {
      "model_module": "@jupyter-widgets/base",
      "model_module_version": "3.0.0",
      "model_name": "LayoutModel",
      "state": {}
     },
     "076f80745b5d426a8ddde2b7f2692b79": {
      "model_module": "@jupyter-widgets/base",
      "model_module_version": "3.0.0",
      "model_name": "LayoutModel",
      "state": {}
     },
     "077a733d42644ff9927a34bd31daa71c": {
      "model_module": "bqplot",
      "model_module_version": "^0.3.0-alpha.1",
      "model_name": "LinearScaleModel",
      "state": {
       "_model_module_version": "^0.3.0-alpha.1",
       "_view_module_version": "^0.3.0-alpha.1",
       "max": 45,
       "min": 0,
       "stabilized": false
      }
     },
     "077ede6fc457438da01f6baf09aa87ee": {
      "model_module": "@jupyter-widgets/controls",
      "model_module_version": "3.0.0",
      "model_name": "DescriptionStyleModel",
      "state": {
       "description_width": "initial"
      }
     },
     "07b3622f0ff74a2c982a17fbe40818ed": {
      "model_module": "bqplot",
      "model_module_version": "^0.3.0-alpha.1",
      "model_name": "LinearScaleModel",
      "state": {
       "_model_module_version": "^0.3.0-alpha.1",
       "_view_module_version": "^0.3.0-alpha.1",
       "max": 0,
       "min": 0,
       "stabilized": false
      }
     },
     "07b462525a524eccbea0c1efc8fab61d": {
      "model_module": "@jupyter-widgets/base",
      "model_module_version": "3.0.0",
      "model_name": "LayoutModel",
      "state": {}
     },
     "07cf2369d1c7480ead316ac5d79a88e4": {
      "model_module": "bqplot",
      "model_module_version": "^0.3.0-alpha.1",
      "model_name": "FigureModel",
      "state": {
       "_dom_classes": [],
       "_model_module_version": "^0.3.0-alpha.1",
       "_view_module_version": "^0.3.0-alpha.1",
       "axes": [
        "IPY_MODEL_9e16a5ceec924b1c8b07740a602c1fbb",
        "IPY_MODEL_42b8bb599e4b463a9faf9237c2be75d7"
       ],
       "layout": "IPY_MODEL_b7c8ee7b21674dfa8829d1278e16518b",
       "marks": [
        "IPY_MODEL_f05a46e61b294b5d8dc9a135dc8486e7"
       ],
       "max_aspect_ratio": 6,
       "scale_x": "IPY_MODEL_34b2b7f662374bf497b9da8291aff171",
       "scale_y": "IPY_MODEL_10de58d2a1304819b12a46ba91a42512"
      }
     },
     "07d244806cd44105bcc30f2554de3509": {
      "model_module": "@jupyter-widgets/controls",
      "model_module_version": "3.0.0",
      "model_name": "HBoxModel",
      "state": {
       "children": [
        "IPY_MODEL_94fb7e625a4941408bee142c715a22fa",
        "IPY_MODEL_4ce09b60173242b1a19ba902172d8fd5"
       ],
       "layout": "IPY_MODEL_e42270f10b9943b68ac5a2fd89e84161"
      }
     },
     "07d5386325954ffcb45d7d8baf90f25e": {
      "model_module": "@jupyter-widgets/base",
      "model_module_version": "3.0.0",
      "model_name": "LayoutModel",
      "state": {}
     },
     "08190ff3e33f4085a413efd7a1c030a7": {
      "model_module": "@jupyter-widgets/base",
      "model_module_version": "3.0.0",
      "model_name": "LayoutModel",
      "state": {}
     },
     "081c5263dad74a64b148b5f1a8e222a1": {
      "model_module": "@jupyter-widgets/base",
      "model_module_version": "3.0.0",
      "model_name": "LayoutModel",
      "state": {}
     },
     "083ae11ef5a24fd3bbdb0fcf575086c8": {
      "model_module": "bqplot",
      "model_module_version": "^0.3.0-alpha.1",
      "model_name": "ScatterModel",
      "state": {
       "_model_module": "bqplot",
       "_model_module_version": "^0.3.0-alpha.1",
       "_view_count": null,
       "_view_module": "bqplot",
       "_view_module_version": "^0.3.0-alpha.1",
       "apply_clip": true,
       "color": {
        "type": null,
        "values": null
       },
       "colors": [
        "DeepSkyBlue"
       ],
       "display_legend": false,
       "enable_hover": true,
       "enable_move": true,
       "hovered_style": {},
       "interactions": {
        "click": null
       },
       "labels": [],
       "msg_throttle": 1,
       "names": {
        "type": null,
        "values": null
       },
       "opacity": {
        "type": null,
        "values": null
       },
       "preserve_domain": {},
       "rotation": {
        "type": null,
        "values": null
       },
       "scales": {
        "x": "IPY_MODEL_2157d13c506d4dab94cc5d1eb77817a4",
        "y": "IPY_MODEL_d48c96a265d44859856160dffb6d5ff1"
       },
       "scales_metadata": {
        "color": {
         "dimension": "color"
        },
        "opacity": {
         "dimension": "opacity"
        },
        "size": {
         "dimension": "size"
        },
        "x": {
         "dimension": "x",
         "orientation": "horizontal"
        },
        "y": {
         "dimension": "y",
         "orientation": "vertical"
        }
       },
       "selected": [],
       "selected_style": {},
       "size": {
        "type": null,
        "values": null
       },
       "skew": {
        "type": null,
        "values": null
       },
       "tooltip": null,
       "tooltip_location": "mouse",
       "tooltip_style": {
        "opacity": 0.9
       },
       "unhovered_style": {},
       "unselected_style": {},
       "update_on_move": true,
       "visible": true,
       "x": {
        "type": "float",
        "values": [
         13.428308823529411,
         37.34987745098039,
         67.54595588235294,
         87.3498774509804
        ]
       },
       "y": {
        "type": "float",
        "values": [
         12.758847891566266,
         12.457643072289157,
         26.011859939759034,
         42.2769201807229
        ]
       }
      }
     },
     "085fc66f0e3c46fbbacb259e5b1e006f": {
      "model_module": "@jupyter-widgets/base",
      "model_module_version": "3.0.0",
      "model_name": "LayoutModel",
      "state": {}
     },
     "0886d2dc7ce84eb8972157e587349075": {
      "model_module": "@jupyter-widgets/controls",
      "model_module_version": "3.0.0",
      "model_name": "DescriptionStyleModel",
      "state": {
       "description_width": "initial"
      }
     },
     "08c7474c7b23430d982cbe09f7dd48f5": {
      "model_module": "@jupyter-widgets/base",
      "model_module_version": "3.0.0",
      "model_name": "LayoutModel",
      "state": {}
     },
     "08e155d9222841908178b2f8c5e7516e": {
      "model_module": "@jupyter-widgets/controls",
      "model_module_version": "3.0.0",
      "model_name": "BoundedFloatTextModel",
      "state": {
       "description": "Startup Cost ($/hr):",
       "layout": "IPY_MODEL_482af2d303df491bb83ec6703ebbac5c",
       "max": 10000000000,
       "style": "IPY_MODEL_2fd0edfacc31483184c4e68004b47307"
      }
     },
     "08e411e5f58c4d00b0ef287130cf9218": {
      "model_module": "@jupyter-widgets/base",
      "model_module_version": "3.0.0",
      "model_name": "LayoutModel",
      "state": {}
     },
     "091c164d19f44567ba61229285e0f61d": {
      "model_module": "@jupyter-widgets/controls",
      "model_module_version": "3.0.0",
      "model_name": "DescriptionStyleModel",
      "state": {
       "description_width": "initial"
      }
     },
     "0936d66ce5bb49088d46997ebca4e534": {
      "model_module": "bqplot",
      "model_module_version": "^0.3.0-alpha.1",
      "model_name": "LinesModel",
      "state": {
       "_model_module_version": "^0.3.0-alpha.1",
       "_view_module_version": "^0.3.0-alpha.1",
       "color": {
        "type": null,
        "values": null
       },
       "display_legend": false,
       "fill_colors": [],
       "labels": [
        "C1"
       ],
       "scales": {
        "x": "IPY_MODEL_b04d62441eb540419941c6ec97587acd",
        "y": "IPY_MODEL_a3901f3d3db54db3940f4f05b8032a53"
       },
       "selected": [],
       "x": {
        "type": "float",
        "values": [
         0,
         24.996936274509803,
         64.9969362745098,
         97.15379901960785
        ]
       },
       "y": {
        "type": "float",
        "values": [
         0,
         7.788968373493976,
         21.192582831325304,
         43.18053463855422
        ]
       }
      }
     },
     "0956b75b056b41888d17923f3c7f09c3": {
      "model_module": "@jupyter-widgets/controls",
      "model_module_version": "3.0.0",
      "model_name": "DescriptionStyleModel",
      "state": {
       "description_width": "initial"
      }
     },
     "09a289c9840b47f19c8a7c5d67cda2b0": {
      "model_module": "@jupyter-widgets/base",
      "model_module_version": "3.0.0",
      "model_name": "LayoutModel",
      "state": {}
     },
     "09e5a57afac444a79c4795da838d5d03": {
      "model_module": "@jupyter-widgets/controls",
      "model_module_version": "3.0.0",
      "model_name": "HTMLModel",
      "state": {
       "layout": "IPY_MODEL_6287848f9b7a488e80e54f1a17f04312",
       "style": "IPY_MODEL_35a55d9725014f4084e60b5c5528183c",
       "value": "Generator:"
      }
     },
     "0a3f25cff75f473fa01421d6fc11d643": {
      "model_module": "@jupyter-widgets/base",
      "model_module_version": "3.0.0",
      "model_name": "LayoutModel",
      "state": {}
     },
     "0a5b87595e94460a925e72ab53f3b5b7": {
      "model_module": "bqplot",
      "model_module_version": "^0.3.0-alpha.1",
      "model_name": "LinearScaleModel",
      "state": {
       "_model_module_version": "^0.3.0-alpha.1",
       "_view_module_version": "^0.3.0-alpha.1",
       "allow_padding": false,
       "max": 1,
       "min": 0,
       "stabilized": false
      }
     },
     "0a5f3d905f274c33924d5adb4f99836b": {
      "model_module": "@jupyter-widgets/controls",
      "model_module_version": "3.0.0",
      "model_name": "DescriptionStyleModel",
      "state": {
       "description_width": "initial"
      }
     },
     "0ae37935b3344fcfb1bf528ed6ac7820": {
      "model_module": "bqplot",
      "model_module_version": "^0.3.0-alpha.1",
      "model_name": "AxisModel",
      "state": {
       "_model_module_version": "^0.3.0-alpha.1",
       "_view_module_version": "^0.3.0-alpha.1",
       "orientation": "vertical",
       "scale": "IPY_MODEL_db2ad612640b49ad85555ca8a11a9001",
       "side": "left",
       "tick_values": {
        "type": null,
        "values": null
       }
      }
     },
     "0b0543f6359842cfbcd8e0f08dc6ffc0": {
      "model_module": "@jupyter-widgets/base",
      "model_module_version": "3.0.0",
      "model_name": "LayoutModel",
      "state": {}
     },
     "0b130572c7c04bf2b6b50c13a17b3889": {
      "model_module": "@jupyter-widgets/base",
      "model_module_version": "3.0.0",
      "model_name": "LayoutModel",
      "state": {}
     },
     "0b57bd1ec8ee4a22bf78ae11ec77308d": {
      "model_module": "@jupyter-widgets/controls",
      "model_module_version": "3.0.0",
      "model_name": "HTMLModel",
      "state": {
       "layout": "IPY_MODEL_499ed2dda2d241349a288f7453bd0f10",
       "style": "IPY_MODEL_a6e889c5111a48bca6abc8de77193603",
       "value": "Generator:"
      }
     },
     "0b5e4ce3e12d4a70a87a38b01eb8e716": {
      "model_module": "bqplot",
      "model_module_version": "^0.3.0-alpha.1",
      "model_name": "ScatterModel",
      "state": {
       "_model_module": "bqplot",
       "_model_module_version": "^0.3.0-alpha.1",
       "_view_count": null,
       "_view_module": "bqplot",
       "_view_module_version": "^0.3.0-alpha.1",
       "apply_clip": true,
       "color": {
        "type": null,
        "values": null
       },
       "colors": [
        "DeepSkyBlue"
       ],
       "display_legend": false,
       "enable_hover": true,
       "enable_move": true,
       "hovered_style": {},
       "interactions": {
        "click": null
       },
       "labels": [],
       "msg_throttle": 1,
       "names": {
        "type": null,
        "values": null
       },
       "opacity": {
        "type": null,
        "values": null
       },
       "preserve_domain": {},
       "rotation": {
        "type": null,
        "values": null
       },
       "scales": {
        "x": "IPY_MODEL_b97a8d2c94c94e579ed23a45ff79bd20",
        "y": "IPY_MODEL_eb64a7ae51c94bc68eb9f6190402574f"
       },
       "scales_metadata": {
        "color": {
         "dimension": "color"
        },
        "opacity": {
         "dimension": "opacity"
        },
        "size": {
         "dimension": "size"
        },
        "x": {
         "dimension": "x",
         "orientation": "horizontal"
        },
        "y": {
         "dimension": "y",
         "orientation": "vertical"
        }
       },
       "selected": [],
       "selected_style": {},
       "size": {
        "type": null,
        "values": null
       },
       "skew": {
        "type": null,
        "values": null
       },
       "tooltip": null,
       "tooltip_location": "mouse",
       "tooltip_style": {
        "opacity": 0.9
       },
       "unhovered_style": {},
       "unselected_style": {},
       "update_on_move": true,
       "visible": true,
       "x": {
        "type": "float",
        "values": [
         0,
         30.09497549019608,
         64.9969362745098,
         100
        ]
       },
       "y": {
        "type": "float",
        "values": [
         0,
         0,
         0,
         0
        ]
       }
      }
     },
     "0b6f12e798db477399d453971928a540": {
      "model_module": "bqplot",
      "model_module_version": "^0.3.0-alpha.1",
      "model_name": "FigureModel",
      "state": {
       "_dom_classes": [],
       "_model_module_version": "^0.3.0-alpha.1",
       "_view_module_version": "^0.3.0-alpha.1",
       "axes": [
        "IPY_MODEL_75420883c4a9452f877ad4a2b809567e",
        "IPY_MODEL_9408f445ae2d4f77b6bd70e0dc3f64c6"
       ],
       "layout": "IPY_MODEL_ab280a86d43247d692b32280c5a79ce8",
       "marks": [
        "IPY_MODEL_3764f6c126084a7c85fe3cc48e6ce7a6",
        "IPY_MODEL_8a48a57f92da40da83ab2b6378d275c4"
       ],
       "max_aspect_ratio": 6,
       "scale_x": "IPY_MODEL_9ebd6944868a4a3c99b33360e1e7e938",
       "scale_y": "IPY_MODEL_3176051652d348eea9ab09087331d7d4"
      }
     },
     "0b7d425431d5488cbcd6707ec105c216": {
      "model_module": "@jupyter-widgets/base",
      "model_module_version": "3.0.0",
      "model_name": "LayoutModel",
      "state": {}
     },
     "0ba3bd6a76b54743aed9f39ba844e0c9": {
      "model_module": "@jupyter-widgets/controls",
      "model_module_version": "3.0.0",
      "model_name": "DescriptionStyleModel",
      "state": {
       "description_width": "initial"
      }
     },
     "0ba6ffdffb3b4617a384b53e9ed41f3a": {
      "model_module": "@jupyter-widgets/base",
      "model_module_version": "3.0.0",
      "model_name": "LayoutModel",
      "state": {}
     },
     "0bea56166e4b4058b3aafd8cd7abc352": {
      "model_module": "@jupyter-widgets/controls",
      "model_module_version": "3.0.0",
      "model_name": "DescriptionStyleModel",
      "state": {
       "description_width": "initial"
      }
     },
     "0c029f37167c4656afd7ff1a911bb065": {
      "model_module": "@jupyter-widgets/controls",
      "model_module_version": "3.0.0",
      "model_name": "BoundedFloatTextModel",
      "state": {
       "description": "Minimum Up Time (hr):",
       "layout": "IPY_MODEL_733a7338fe234b699fd85ff6ae5e6ae3",
       "max": 24,
       "style": "IPY_MODEL_4fecaa5fc5d04f518507afe24e1fed25"
      }
     },
     "0c1f24cd682d4242bbd2d7afb5cbcec2": {
      "model_module": "@jupyter-widgets/base",
      "model_module_version": "3.0.0",
      "model_name": "LayoutModel",
      "state": {
       "min_width": "125px"
      }
     },
     "0c486b61a0054866afae82b2cec881f9": {
      "model_module": "@jupyter-widgets/controls",
      "model_module_version": "3.0.0",
      "model_name": "IntSliderModel",
      "state": {
       "description": "Number of Cost Curve Segments",
       "layout": "IPY_MODEL_d0c17311e9e54ddf8d577f6b69f01424",
       "max": 50,
       "min": 2,
       "style": "IPY_MODEL_adf46a93e1a5465ab58f84528b671744",
       "value": 3
      }
     },
     "0c6238e4ccc841e2b1082b20331f910c": {
      "model_module": "bqplot",
      "model_module_version": "^0.3.0-alpha.1",
      "model_name": "FigureModel",
      "state": {
       "_dom_classes": [],
       "_model_module_version": "^0.3.0-alpha.1",
       "_view_module_version": "^0.3.0-alpha.1",
       "axes": [
        "IPY_MODEL_da3b6d563f5b46848d1bcf60436195cf",
        "IPY_MODEL_bf9340fc52164b24b1827c6b9d5ad01c"
       ],
       "layout": "IPY_MODEL_64d09c1649184f32872e577ccb821f99",
       "marks": [
        "IPY_MODEL_e414a8b54fd74d34823d886279e71497",
        "IPY_MODEL_9c1fdf0bfc66458e9993a2d09416ef99"
       ],
       "max_aspect_ratio": 6,
       "scale_x": "IPY_MODEL_d745a72e5a884d3b8603e62ad439a782",
       "scale_y": "IPY_MODEL_8333db11b16948f7a899efbb6688629b"
      }
     },
     "0c76ee62665e496b852eadf95087ca28": {
      "model_module": "@jupyter-widgets/controls",
      "model_module_version": "3.0.0",
      "model_name": "DescriptionStyleModel",
      "state": {
       "description_width": "initial"
      }
     },
     "0cbb3ff4da3841ab9274fcb0cfc6aa6b": {
      "model_module": "@jupyter-widgets/controls",
      "model_module_version": "3.0.0",
      "model_name": "DescriptionStyleModel",
      "state": {
       "description_width": "initial"
      }
     },
     "0cff897f93c24bb3bd5855378d1c8407": {
      "model_module": "@jupyter-widgets/base",
      "model_module_version": "3.0.0",
      "model_name": "LayoutModel",
      "state": {}
     },
     "0d3b6907c41c4afd9fedb1bfa153728d": {
      "model_module": "@jupyter-widgets/base",
      "model_module_version": "3.0.0",
      "model_name": "LayoutModel",
      "state": {}
     },
     "0d4948f6320249c7abf074767ad6ec7a": {
      "model_module": "@jupyter-widgets/base",
      "model_module_version": "3.0.0",
      "model_name": "LayoutModel",
      "state": {}
     },
     "0d607bbe82f244c6a00dcf00fc95e896": {
      "model_module": "@jupyter-widgets/controls",
      "model_module_version": "3.0.0",
      "model_name": "BoundedFloatTextModel",
      "state": {
       "description": "Startup Time (hr):",
       "layout": "IPY_MODEL_326342059e194135a6d5342ed1df832c",
       "max": 24,
       "style": "IPY_MODEL_16e848b51e0a4d7d9f36a6c7cc534c62"
      }
     },
     "0dd3eaa13ee04cc0b1c456b09e5eb0aa": {
      "model_module": "@jupyter-widgets/controls",
      "model_module_version": "3.0.0",
      "model_name": "DescriptionStyleModel",
      "state": {
       "description_width": "initial"
      }
     },
     "0e401f354a6d45d3ab94a92e7f20e881": {
      "model_module": "bqplot",
      "model_module_version": "^0.3.0-alpha.1",
      "model_name": "LinearScaleModel",
      "state": {
       "_model_module_version": "^0.3.0-alpha.1",
       "_view_module_version": "^0.3.0-alpha.1",
       "allow_padding": false,
       "max": 1,
       "min": 0,
       "stabilized": false
      }
     },
     "0e411fd745184d2dab2560fae41d4894": {
      "model_module": "bqplot",
      "model_module_version": "^0.3.0-alpha.1",
      "model_name": "LinearScaleModel",
      "state": {
       "_model_module_version": "^0.3.0-alpha.1",
       "_view_module_version": "^0.3.0-alpha.1",
       "allow_padding": false,
       "max": 1,
       "min": 0,
       "stabilized": false
      }
     },
     "0e5d0567b1ed47f6bcb651f68064847b": {
      "model_module": "@jupyter-widgets/controls",
      "model_module_version": "3.0.0",
      "model_name": "HBoxModel",
      "state": {
       "children": [
        "IPY_MODEL_01d9a2bc3b3048a5b56c430e4f6c1dab",
        "IPY_MODEL_8d1b26c365474ac3a92dc0184249344e"
       ],
       "layout": "IPY_MODEL_370934a0aa5149fb842ceed76b964d68"
      }
     },
     "0e80033b8708442397a8f675a17143df": {
      "model_module": "@jupyter-widgets/controls",
      "model_module_version": "3.0.0",
      "model_name": "BoundedFloatTextModel",
      "state": {
       "description": "Initial Generation (MW):",
       "layout": "IPY_MODEL_cf1dd2e55f68473f9964747f234f7074",
       "style": "IPY_MODEL_2bdc8304e9c04c1d97c72d3c2ef30304"
      }
     },
     "0ecfe891438443518921ae594c931b75": {
      "model_module": "@jupyter-widgets/controls",
      "model_module_version": "3.0.0",
      "model_name": "DescriptionStyleModel",
      "state": {
       "description_width": "initial"
      }
     },
     "0ee133a9f84c4614a4e9358fd2bcf1d9": {
      "model_module": "@jupyter-widgets/base",
      "model_module_version": "3.0.0",
      "model_name": "LayoutModel",
      "state": {}
     },
     "0f1456c72cf74f22a6dda1b6f32ed3d7": {
      "model_module": "@jupyter-widgets/base",
      "model_module_version": "3.0.0",
      "model_name": "LayoutModel",
      "state": {}
     },
     "0f44c34df2404654bbb6e3afc8b0f78c": {
      "model_module": "@jupyter-widgets/controls",
      "model_module_version": "3.0.0",
      "model_name": "DescriptionStyleModel",
      "state": {
       "description_width": "initial"
      }
     },
     "0f71a6fc791b4d898361752fd09a5554": {
      "model_module": "@jupyter-widgets/base",
      "model_module_version": "3.0.0",
      "model_name": "LayoutModel",
      "state": {}
     },
     "0fdfced2aa6244028d2d789f3377bbae": {
      "model_module": "bqplot",
      "model_module_version": "^0.3.0-alpha.1",
      "model_name": "LinearScaleModel",
      "state": {
       "_model_module_version": "^0.3.0-alpha.1",
       "_view_module_version": "^0.3.0-alpha.1",
       "max": 30,
       "min": 0,
       "stabilized": false
      }
     },
     "100849a3a694452ab3c0524413287c22": {
      "model_module": "@jupyter-widgets/controls",
      "model_module_version": "3.0.0",
      "model_name": "BoundedFloatTextModel",
      "state": {
       "description": "Minimum Down Time (hr):",
       "layout": "IPY_MODEL_70038f2185b5465e8b3afdc79270ea52",
       "max": 24,
       "style": "IPY_MODEL_ce1f9b1b695a4d98aaa841eb03bb3a66"
      }
     },
     "103eb6e52b9a4584a7713ee8bcf96b07": {
      "model_module": "@jupyter-widgets/controls",
      "model_module_version": "3.0.0",
      "model_name": "DescriptionStyleModel",
      "state": {
       "description_width": "initial"
      }
     },
     "1075b9eddd3042f78916099141f5d818": {
      "model_module": "@jupyter-widgets/base",
      "model_module_version": "3.0.0",
      "model_name": "LayoutModel",
      "state": {}
     },
     "10b69524aece4696957127abc0e72fd4": {
      "model_module": "@jupyter-widgets/base",
      "model_module_version": "3.0.0",
      "model_name": "LayoutModel",
      "state": {}
     },
     "10c3d9871e5e4a359e12c812a894bc96": {
      "model_module": "@jupyter-widgets/base",
      "model_module_version": "3.0.0",
      "model_name": "LayoutModel",
      "state": {}
     },
     "10d0c0443db547468282850aa7c4f916": {
      "model_module": "@jupyter-widgets/controls",
      "model_module_version": "3.0.0",
      "model_name": "VBoxModel",
      "state": {
       "children": [
        "IPY_MODEL_7c261db8ad794fcea8364fb22bc9a229"
       ],
       "layout": "IPY_MODEL_c94250ba3ae1491f817da8cae44642db"
      }
     },
     "10d7919b8c704ee1be8e697e641b8463": {
      "model_module": "@jupyter-widgets/controls",
      "model_module_version": "3.0.0",
      "model_name": "CheckboxModel",
      "state": {
       "description": "Initial Status:",
       "disabled": false,
       "layout": "IPY_MODEL_11abc3e84c6a48ec93dfeaca1460a527",
       "style": "IPY_MODEL_7d159d0eb0a44eb08f0486bd1a9c8829",
       "value": true
      }
     },
     "10de58d2a1304819b12a46ba91a42512": {
      "model_module": "bqplot",
      "model_module_version": "^0.3.0-alpha.1",
      "model_name": "LinearScaleModel",
      "state": {
       "_model_module_version": "^0.3.0-alpha.1",
       "_view_module_version": "^0.3.0-alpha.1",
       "allow_padding": false,
       "max": 1,
       "min": 0,
       "stabilized": false
      }
     },
     "115a666081944b878e79a678d616540b": {
      "model_module": "@jupyter-widgets/controls",
      "model_module_version": "3.0.0",
      "model_name": "BoundedFloatTextModel",
      "state": {
       "description": "Ramp Down Rate (MW/hr):",
       "layout": "IPY_MODEL_806edcd2991f47a28ab9bf127ffddda0",
       "style": "IPY_MODEL_b9f5c01c79f94cce8643b2e23268991a"
      }
     },
     "1188ca929c1444258174aa8529279b03": {
      "model_module": "@jupyter-widgets/controls",
      "model_module_version": "3.0.0",
      "model_name": "BoundedFloatTextModel",
      "state": {
       "description": "Minimum Down Time (hr):",
       "layout": "IPY_MODEL_0b0543f6359842cfbcd8e0f08dc6ffc0",
       "max": 24,
       "style": "IPY_MODEL_d2d84e1e804a43faa9e23966da30bffd"
      }
     },
     "11abc3e84c6a48ec93dfeaca1460a527": {
      "model_module": "@jupyter-widgets/base",
      "model_module_version": "3.0.0",
      "model_name": "LayoutModel",
      "state": {}
     },
     "11b0919d1e314f0ebfe4b24e9942d524": {
      "model_module": "@jupyter-widgets/controls",
      "model_module_version": "3.0.0",
      "model_name": "DescriptionStyleModel",
      "state": {
       "description_width": "initial"
      }
     },
     "11e4d9b2e62f42d78cd29ad71d31fce2": {
      "model_module": "@jupyter-widgets/base",
      "model_module_version": "3.0.0",
      "model_name": "LayoutModel",
      "state": {}
     },
     "120b143134f4437ca63c35a9bc97aa0a": {
      "model_module": "@jupyter-widgets/controls",
      "model_module_version": "3.0.0",
      "model_name": "DescriptionStyleModel",
      "state": {
       "description_width": "initial"
      }
     },
     "1230cc57cf0b40febb789b02de587f85": {
      "model_module": "bqplot",
      "model_module_version": "^0.3.0-alpha.1",
      "model_name": "LinearScaleModel",
      "state": {
       "_model_module_version": "^0.3.0-alpha.1",
       "_view_module_version": "^0.3.0-alpha.1",
       "allow_padding": false,
       "max": 1,
       "min": 0,
       "stabilized": false
      }
     },
     "123a2e589fa1429bbcdc293b56075ef5": {
      "model_module": "@jupyter-widgets/controls",
      "model_module_version": "3.0.0",
      "model_name": "BoundedFloatTextModel",
      "state": {
       "description": "Ramp Up Rate (MW/hr):",
       "layout": "IPY_MODEL_06c5936a86d64400b423fe9ca403d4fe",
       "style": "IPY_MODEL_90330d0dda8642a7b4e24c20a19aca34"
      }
     },
     "128230b038784d4a9959e9e417d26f18": {
      "model_module": "bqplot",
      "model_module_version": "^0.3.0-alpha.1",
      "model_name": "LinearScaleModel",
      "state": {
       "_model_module_version": "^0.3.0-alpha.1",
       "_view_module_version": "^0.3.0-alpha.1",
       "allow_padding": false,
       "max": 1,
       "min": 0,
       "stabilized": false
      }
     },
     "129d2845257d4cffa27b5da7ccf96e13": {
      "model_module": "@jupyter-widgets/base",
      "model_module_version": "3.0.0",
      "model_name": "LayoutModel",
      "state": {}
     },
     "12c67771934142018466e19af4c5209b": {
      "model_module": "@jupyter-widgets/base",
      "model_module_version": "3.0.0",
      "model_name": "LayoutModel",
      "state": {}
     },
     "12c7925170ba4a148869c6ce4e775647": {
      "model_module": "bqplot",
      "model_module_version": "^0.3.0-alpha.1",
      "model_name": "LinearScaleModel",
      "state": {
       "_model_module_version": "^0.3.0-alpha.1",
       "_view_module_version": "^0.3.0-alpha.1",
       "max": 30,
       "min": 0,
       "stabilized": false
      }
     },
     "12d304efb85f4d308ea7de28bafb2e2b": {
      "model_module": "bqplot",
      "model_module_version": "^0.3.0-alpha.1",
      "model_name": "LinearScaleModel",
      "state": {
       "_model_module_version": "^0.3.0-alpha.1",
       "_view_module_version": "^0.3.0-alpha.1",
       "allow_padding": false,
       "max": 1,
       "min": 0,
       "stabilized": false
      }
     },
     "12f24de76a6a4296a18602ee4efdc711": {
      "model_module": "@jupyter-widgets/controls",
      "model_module_version": "3.0.0",
      "model_name": "DescriptionStyleModel",
      "state": {
       "description_width": "initial"
      }
     },
     "13016c65209c4b599323ad66aebcee22": {
      "model_module": "@jupyter-widgets/controls",
      "model_module_version": "3.0.0",
      "model_name": "BoundedFloatTextModel",
      "state": {
       "description": "Minimum Up Time (hr):",
       "layout": "IPY_MODEL_c88e756aa7d0454190304cb95bdbe934",
       "max": 24,
       "style": "IPY_MODEL_438ec67c47d34dc5aae4c0a50e63bc3e"
      }
     },
     "131a918c31f74230960117b217416bc9": {
      "model_module": "@jupyter-widgets/base",
      "model_module_version": "3.0.0",
      "model_name": "LayoutModel",
      "state": {}
     },
     "138c38fcf17f49089e69d6aef82c8edf": {
      "model_module": "@jupyter-widgets/controls",
      "model_module_version": "3.0.0",
      "model_name": "BoundedFloatTextModel",
      "state": {
       "description": "Initial Generation (MW):",
       "layout": "IPY_MODEL_f0d077695dc24179aff9b6af3d015484",
       "style": "IPY_MODEL_78382b2827d7451f9f378f15676d6e16"
      }
     },
     "13b73a9d19a746b3ae643d3a8eff4708": {
      "model_module": "@jupyter-widgets/base",
      "model_module_version": "3.0.0",
      "model_name": "LayoutModel",
      "state": {}
     },
     "1429caa32386420aaff1828303e387d3": {
      "model_module": "@jupyter-widgets/controls",
      "model_module_version": "3.0.0",
      "model_name": "DescriptionStyleModel",
      "state": {
       "description_width": "initial"
      }
     },
     "14355e1d24474d26b1efe80a3c876dfd": {
      "model_module": "@jupyter-widgets/base",
      "model_module_version": "3.0.0",
      "model_name": "LayoutModel",
      "state": {}
     },
     "146ad59113d248478ac2dfab6273858f": {
      "model_module": "@jupyter-widgets/controls",
      "model_module_version": "3.0.0",
      "model_name": "DescriptionStyleModel",
      "state": {
       "description_width": "initial"
      }
     },
     "1490a7b8918a46b3b4a4409334f52ab7": {
      "model_module": "@jupyter-widgets/base",
      "model_module_version": "3.0.0",
      "model_name": "LayoutModel",
      "state": {}
     },
     "149c3231ae004a548d225857a5d48fae": {
      "model_module": "@jupyter-widgets/controls",
      "model_module_version": "3.0.0",
      "model_name": "BoundedFloatTextModel",
      "state": {
       "description": "Startup Cost ($/hr):",
       "layout": "IPY_MODEL_46a8422d265045b0ad843772d80fd402",
       "max": 10000000000,
       "style": "IPY_MODEL_e4d5cabfb13a4c5a8ec79cbe8a637e68"
      }
     },
     "14bf28f65c364762adb652095a41b177": {
      "model_module": "@jupyter-widgets/controls",
      "model_module_version": "3.0.0",
      "model_name": "BoundedFloatTextModel",
      "state": {
       "description": "Ramp Up Rate (MW/hr):",
       "layout": "IPY_MODEL_81cab602685a40129c9c8301bc27ca9d",
       "max": 200,
       "style": "IPY_MODEL_103eb6e52b9a4584a7713ee8bcf96b07"
      }
     },
     "14d1cba4f9514059a3aba988852fd466": {
      "model_module": "bqplot",
      "model_module_version": "^0.3.0-alpha.1",
      "model_name": "FigureModel",
      "state": {
       "_dom_classes": [],
       "_model_module_version": "^0.3.0-alpha.1",
       "_view_module_version": "^0.3.0-alpha.1",
       "axes": [
        "IPY_MODEL_f2946c8164334b51842623355bcb72d0",
        "IPY_MODEL_18e193353344488bb8cc5db9043203fb"
       ],
       "layout": "IPY_MODEL_4eef6396246e4619b71b960c401970d1",
       "marks": [
        "IPY_MODEL_584c798097824f1fa0ea8a5be817f9b4",
        "IPY_MODEL_083ae11ef5a24fd3bbdb0fcf575086c8"
       ],
       "max_aspect_ratio": 6,
       "scale_x": "IPY_MODEL_467d709ba3594fdfbe9a0c551fd6d2f9",
       "scale_y": "IPY_MODEL_9713aa385b3a4affaf9b7bfdb4a440cb"
      }
     },
     "14db692d1e7d454dadab2748ba9275e2": {
      "model_module": "@jupyter-widgets/controls",
      "model_module_version": "3.0.0",
      "model_name": "DescriptionStyleModel",
      "state": {
       "description_width": "initial"
      }
     },
     "151021cb6386415eae1bfd74a6e28cb4": {
      "model_module": "@jupyter-widgets/controls",
      "model_module_version": "3.0.0",
      "model_name": "BoundedFloatTextModel",
      "state": {
       "description": "Startup Cost ($/hr):",
       "layout": "IPY_MODEL_81e85d467b0a4ca0963750739965414a",
       "max": 10000000000,
       "style": "IPY_MODEL_0287b7ae5a6f485f86c90a68719c0ca2"
      }
     },
     "152dca967ce7413ea5d09b09a52bd4e8": {
      "model_module": "@jupyter-widgets/controls",
      "model_module_version": "3.0.0",
      "model_name": "DescriptionStyleModel",
      "state": {
       "description_width": ""
      }
     },
     "15a0306785b24b3a89771974939e40f1": {
      "model_module": "@jupyter-widgets/controls",
      "model_module_version": "3.0.0",
      "model_name": "BoundedFloatTextModel",
      "state": {
       "description": "No-Load Cost ($/hr):",
       "layout": "IPY_MODEL_bfc828f0954144c5b0183eff50029256",
       "max": 10000000000,
       "style": "IPY_MODEL_c83b976e92e44f4993583c750378ff3e"
      }
     },
     "15df15b24b2241e19336617910db94ff": {
      "model_module": "@jupyter-widgets/controls",
      "model_module_version": "3.0.0",
      "model_name": "DescriptionStyleModel",
      "state": {
       "description_width": "initial"
      }
     },
     "15f5d45c061b42ba865f40b750b26ceb": {
      "model_module": "@jupyter-widgets/controls",
      "model_module_version": "3.0.0",
      "model_name": "IntSliderModel",
      "state": {
       "description": "Number of Cost Curve Segments",
       "layout": "IPY_MODEL_59e90c72940c45e3a5b3421a8183a197",
       "max": 50,
       "min": 2,
       "style": "IPY_MODEL_2c13b5a857704f9e954005244838a02c",
       "value": 3
      }
     },
     "16271996cb484aabaa0dead2c0caf739": {
      "model_module": "@jupyter-widgets/controls",
      "model_module_version": "3.0.0",
      "model_name": "VBoxModel",
      "state": {
       "children": [
        "IPY_MODEL_82a975d6b3ce45229b0a042a743fbe78",
        "IPY_MODEL_5fbb898b7cfb49bfa1aa53c79786d524",
        "IPY_MODEL_c95e08edd60b4fb4826de958ee31e0d4",
        "IPY_MODEL_975fec67feb4431da594e6c5149a4839",
        "IPY_MODEL_6bab101f820f409399faaa40d987dada",
        "IPY_MODEL_b7cdf89b300a46479f4e60b8565fe194",
        "IPY_MODEL_eb825388f3bc4077a9c4637abe8a4ede",
        "IPY_MODEL_6b092eb643364d5e8a78b109836d6db8",
        "IPY_MODEL_37e07421fe2640c9b23ab1432241aa45",
        "IPY_MODEL_d7a61fd598754d8bb62e32d0d4848b3a",
        "IPY_MODEL_873af382e5d64b3b860aa2c0dc9d5d13",
        "IPY_MODEL_74d3326bf8d24a059cea6a61a246b166",
        "IPY_MODEL_922e11e619204b6daa44f9e4352d2096",
        "IPY_MODEL_e944b2b73a804c0999fe0de11862ead6",
        "IPY_MODEL_4f3b6f4b68f64333b3b0bbc44e1cfb77",
        "IPY_MODEL_9dfa1b73f82542e5b4fd4ce2cbe3669b"
       ],
       "layout": "IPY_MODEL_9647cb3cc4914ccda81dbf9e505c2c78"
      }
     },
     "16527a1f9ba84112ad44bfc2129a3ec0": {
      "model_module": "@jupyter-widgets/controls",
      "model_module_version": "3.0.0",
      "model_name": "DropdownModel",
      "state": {
       "_options_labels": [
        "COAL",
        "NATURALGAS",
        "WIND"
       ],
       "description": "Generation Type:",
       "index": 0,
       "layout": "IPY_MODEL_25fbd14dd7a04b449f7e56e92f003762",
       "style": "IPY_MODEL_c173d0395d314635a94ab114fd8e7d7e"
      }
     },
     "168d504a57014488a5b6c516c308570b": {
      "model_module": "bqplot",
      "model_module_version": "^0.3.0-alpha.1",
      "model_name": "LinearScaleModel",
      "state": {
       "_model_module_version": "^0.3.0-alpha.1",
       "_view_module_version": "^0.3.0-alpha.1",
       "allow_padding": false,
       "max": 1,
       "min": 0,
       "stabilized": false
      }
     },
     "169f5a800edb4befb563b428019a1615": {
      "model_module": "@jupyter-widgets/controls",
      "model_module_version": "3.0.0",
      "model_name": "BoundedFloatTextModel",
      "state": {
       "description": "Shutdown Time (hr):",
       "layout": "IPY_MODEL_a0ca3fbfe40649a699c3b03d30f2639c",
       "max": 24,
       "style": "IPY_MODEL_50aecdc998b94956b5be07edc70aea64"
      }
     },
     "16b7e91377534d2abdebd6c788fc748e": {
      "model_module": "@jupyter-widgets/controls",
      "model_module_version": "3.0.0",
      "model_name": "BoundedFloatTextModel",
      "state": {
       "description": "Minimum Generation (MW):",
       "layout": "IPY_MODEL_81d730c1b7224c3dbfee9cb4aa366ec8",
       "style": "IPY_MODEL_e7beb89fda5747a49d77c410e2eb571f"
      }
     },
     "16d66eb0596e4e84ab7aa09c1966e380": {
      "model_module": "bqplot",
      "model_module_version": "^0.3.0-alpha.1",
      "model_name": "AxisModel",
      "state": {
       "_model_module_version": "^0.3.0-alpha.1",
       "_view_module_version": "^0.3.0-alpha.1",
       "scale": "IPY_MODEL_2e757b6141484a4c9e74035b2c3255c5",
       "side": "bottom",
       "tick_values": {
        "type": null,
        "values": null
       }
      }
     },
     "16e848b51e0a4d7d9f36a6c7cc534c62": {
      "model_module": "@jupyter-widgets/controls",
      "model_module_version": "3.0.0",
      "model_name": "DescriptionStyleModel",
      "state": {
       "description_width": "initial"
      }
     },
     "17246dd2d9cc4c5a938aa2ff77e4e7bf": {
      "model_module": "@jupyter-widgets/controls",
      "model_module_version": "3.0.0",
      "model_name": "DropdownModel",
      "state": {
       "_options_labels": [
        "COAL",
        "NATURALGAS",
        "WIND"
       ],
       "description": "Generation Type:",
       "index": 0,
       "layout": "IPY_MODEL_1b798cc3d61f4b94900a7393d9fca7cb",
       "style": "IPY_MODEL_2492515f953c42949fd3231c3f70631b"
      }
     },
     "172c55ba05404d58bc3a0d7849d1c578": {
      "model_module": "@jupyter-widgets/base",
      "model_module_version": "3.0.0",
      "model_name": "LayoutModel",
      "state": {}
     },
     "1744157bf50746508761e2ee1ee573ae": {
      "model_module": "@jupyter-widgets/controls",
      "model_module_version": "3.0.0",
      "model_name": "TextModel",
      "state": {
       "description": "Name",
       "layout": "IPY_MODEL_ea480303d4f74647bb9048a14ddf64e3",
       "style": "IPY_MODEL_091c164d19f44567ba61229285e0f61d",
       "value": "GenCo0"
      }
     },
     "174873c5255341aca3e3514340a9ab74": {
      "model_module": "@jupyter-widgets/base",
      "model_module_version": "3.0.0",
      "model_name": "LayoutModel",
      "state": {}
     },
     "17500b3f27fa433cbd3c5f7bf3e04b5e": {
      "model_module": "@jupyter-widgets/controls",
      "model_module_version": "3.0.0",
      "model_name": "DescriptionStyleModel",
      "state": {
       "description_width": "initial"
      }
     },
     "17620cb9c35f45d9aaa4203ccff96103": {
      "model_module": "@jupyter-widgets/base",
      "model_module_version": "3.0.0",
      "model_name": "LayoutModel",
      "state": {}
     },
     "17855d8663134b76bfad4a31d07023d0": {
      "model_module": "@jupyter-widgets/controls",
      "model_module_version": "3.0.0",
      "model_name": "DescriptionStyleModel",
      "state": {
       "description_width": "initial"
      }
     },
     "178c05ec4130440a9c7f631f249238fc": {
      "model_module": "@jupyter-widgets/controls",
      "model_module_version": "3.0.0",
      "model_name": "BoundedFloatTextModel",
      "state": {
       "description": "Shutdown Time (hr):",
       "layout": "IPY_MODEL_84ec5cacb6294a42ad6082cbe846aa03",
       "max": 24,
       "style": "IPY_MODEL_fccc8a11e3234831b863632e3e759c18"
      }
     },
     "17f7866026a049a186638ed3af8c0a25": {
      "model_module": "@jupyter-widgets/controls",
      "model_module_version": "3.0.0",
      "model_name": "HTMLModel",
      "state": {
       "layout": "IPY_MODEL_5e69287809d240a298748841e42f15d7",
       "style": "IPY_MODEL_757a46dfbb844742a900d54d79698d38",
       "value": "Generator:"
      }
     },
     "17f95953b7634dadbbb5b18818b91e5e": {
      "model_module": "@jupyter-widgets/controls",
      "model_module_version": "3.0.0",
      "model_name": "IntSliderModel",
      "state": {
       "description": "Number of Cost Curve Segments",
       "layout": "IPY_MODEL_174873c5255341aca3e3514340a9ab74",
       "max": 50,
       "min": 2,
       "style": "IPY_MODEL_ca4511076fcf4ff89243be665a3a3b2f",
       "value": 3
      }
     },
     "1806e29f5a7447029a4883304692df32": {
      "model_module": "@jupyter-widgets/base",
      "model_module_version": "3.0.0",
      "model_name": "LayoutModel",
      "state": {}
     },
     "1809188bbf84476eaa9952bca9b9b1f3": {
      "model_module": "@jupyter-widgets/controls",
      "model_module_version": "3.0.0",
      "model_name": "BoundedFloatTextModel",
      "state": {
       "description": "Ramp Down Rate (MW/hr):",
       "layout": "IPY_MODEL_0f71a6fc791b4d898361752fd09a5554",
       "style": "IPY_MODEL_01d9b2984fa94855a6b6b06b264c1f9b"
      }
     },
     "1809f84112db41348ceca185c6ea60c5": {
      "model_module": "@jupyter-widgets/controls",
      "model_module_version": "3.0.0",
      "model_name": "BoundedFloatTextModel",
      "state": {
       "description": "Minimum Generation (MW):",
       "layout": "IPY_MODEL_0ee133a9f84c4614a4e9358fd2bcf1d9",
       "style": "IPY_MODEL_c77c4b624b8a440fa302886c71467bfa"
      }
     },
     "18a60c7f429a4eee81f18d92b92393c9": {
      "model_module": "@jupyter-widgets/base",
      "model_module_version": "3.0.0",
      "model_name": "LayoutModel",
      "state": {}
     },
     "18bda9665e73411582b58a77575003ed": {
      "model_module": "bqplot",
      "model_module_version": "^0.3.0-alpha.1",
      "model_name": "LinearScaleModel",
      "state": {
       "_model_module_version": "^0.3.0-alpha.1",
       "_view_module_version": "^0.3.0-alpha.1",
       "max": 100,
       "min": 0,
       "stabilized": false
      }
     },
     "18cedc9e784c42b696b1a41d7831b927": {
      "model_module": "@jupyter-widgets/base",
      "model_module_version": "3.0.0",
      "model_name": "LayoutModel",
      "state": {}
     },
     "18d35d4f50434a4ba3837a039fc5dd97": {
      "model_module": "@jupyter-widgets/controls",
      "model_module_version": "3.0.0",
      "model_name": "BoundedFloatTextModel",
      "state": {
       "description": "Minimum Up Time (hr):",
       "layout": "IPY_MODEL_a24e8558953a463ea47d7d10975cedc9",
       "max": 24,
       "style": "IPY_MODEL_7723fd1d215a4ce8a988b58c1e24dd30"
      }
     },
     "18e193353344488bb8cc5db9043203fb": {
      "model_module": "bqplot",
      "model_module_version": "^0.3.0-alpha.1",
      "model_name": "AxisModel",
      "state": {
       "_model_module_version": "^0.3.0-alpha.1",
       "_view_module_version": "^0.3.0-alpha.1",
       "orientation": "vertical",
       "scale": "IPY_MODEL_d48c96a265d44859856160dffb6d5ff1",
       "side": "left",
       "tick_values": {
        "type": null,
        "values": null
       }
      }
     },
     "18e29334ff5d47089c779342648dbf5b": {
      "model_module": "bqplot",
      "model_module_version": "^0.3.0-alpha.1",
      "model_name": "LinesModel",
      "state": {
       "_model_module_version": "^0.3.0-alpha.1",
       "_view_module_version": "^0.3.0-alpha.1",
       "color": {
        "type": null,
        "values": null
       },
       "display_legend": false,
       "fill_colors": [],
       "labels": [
        "C1"
       ],
       "scales": {
        "x": "IPY_MODEL_592999571cdf420c8c6f7b965611f98f",
        "y": "IPY_MODEL_03bd932e93af4b0889142701a6110910"
       },
       "selected": [],
       "x": {
        "type": "float",
        "values": [
         0,
         33.333333333333336,
         66.66666666666667,
         100
        ]
       },
       "y": {
        "type": "float",
        "values": [
         0,
         0,
         0,
         0
        ]
       }
      }
     },
     "18ef9a0dedee40569bfcb863c6c841c0": {
      "model_module": "@jupyter-widgets/controls",
      "model_module_version": "3.0.0",
      "model_name": "DescriptionStyleModel",
      "state": {
       "description_width": "initial"
      }
     },
     "19045b1e9c4d4e689a429771f84d6fdc": {
      "model_module": "@jupyter-widgets/controls",
      "model_module_version": "3.0.0",
      "model_name": "BoundedFloatTextModel",
      "state": {
       "description": "Ramp Down Rate (MW/hr):",
       "layout": "IPY_MODEL_66af1fb46a2d40b4854bcd46fc27e37f",
       "style": "IPY_MODEL_d5c36efa2b2a425781224d05b094b868"
      }
     },
     "1924699d3b5e43c3b8c9c0dee113677c": {
      "model_module": "@jupyter-widgets/base",
      "model_module_version": "3.0.0",
      "model_name": "LayoutModel",
      "state": {}
     },
     "196fbe1a3bbf41c48b10f72f5be4061a": {
      "model_module": "@jupyter-widgets/base",
      "model_module_version": "3.0.0",
      "model_name": "LayoutModel",
      "state": {}
     },
     "19e621a927ac4691a2febde8bbebd5b0": {
      "model_module": "@jupyter-widgets/controls",
      "model_module_version": "3.0.0",
      "model_name": "BoundedFloatTextModel",
      "state": {
       "description": "Startup Time (hr):",
       "layout": "IPY_MODEL_445c9e94fdb14c9790586dc7d0f998bd",
       "max": 24,
       "style": "IPY_MODEL_87abf2b184fd42b7915f731099893c7d"
      }
     },
     "1a14ab562fcd4dd08dc124092912e6da": {
      "model_module": "bqplot",
      "model_module_version": "^0.3.0-alpha.1",
      "model_name": "LinearScaleModel",
      "state": {
       "_model_module_version": "^0.3.0-alpha.1",
       "_view_module_version": "^0.3.0-alpha.1",
       "max": 0,
       "min": 0,
       "stabilized": false
      }
     },
     "1a3faba18f384af7b50dde067a975010": {
      "model_module": "@jupyter-widgets/controls",
      "model_module_version": "3.0.0",
      "model_name": "SliderStyleModel",
      "state": {
       "description_width": "initial"
      }
     },
     "1a75084473064013ae36e7113c414d40": {
      "model_module": "@jupyter-widgets/controls",
      "model_module_version": "3.0.0",
      "model_name": "BoundedFloatTextModel",
      "state": {
       "description": "Minimum Generation (MW):",
       "layout": "IPY_MODEL_b716eda086964591bf6ed5df1e177999",
       "style": "IPY_MODEL_0ba3bd6a76b54743aed9f39ba844e0c9"
      }
     },
     "1aa88191587246ddbf46e3cf9e552dd8": {
      "model_module": "@jupyter-widgets/controls",
      "model_module_version": "3.0.0",
      "model_name": "HBoxModel",
      "state": {
       "children": [
        "IPY_MODEL_70749f6f56b7481ab44358f3f7b69a06",
        "IPY_MODEL_b11d0fae8f894d62a843611543d41e26"
       ],
       "layout": "IPY_MODEL_012f2a4c7bb742f097b8a70c4c90d8cc"
      }
     },
     "1ab562b7c82d4544b898c0c6b64629ba": {
      "model_module": "bqplot",
      "model_module_version": "^0.3.0-alpha.1",
      "model_name": "ScatterModel",
      "state": {
       "_model_module": "bqplot",
       "_model_module_version": "^0.3.0-alpha.1",
       "_view_count": null,
       "_view_module": "bqplot",
       "_view_module_version": "^0.3.0-alpha.1",
       "apply_clip": true,
       "color": {
        "type": null,
        "values": null
       },
       "colors": [
        "DeepSkyBlue"
       ],
       "display_legend": false,
       "enable_hover": true,
       "hovered_style": {},
       "interactions": {
        "hover": "tooltip"
       },
       "labels": [],
       "msg_throttle": 1,
       "names": {
        "type": null,
        "values": null
       },
       "opacity": {
        "type": null,
        "values": null
       },
       "preserve_domain": {},
       "rotation": {
        "type": null,
        "values": null
       },
       "scales": {
        "x": "IPY_MODEL_c922fbe72edd429ebba2b4f483104883",
        "y": "IPY_MODEL_db2ad612640b49ad85555ca8a11a9001"
       },
       "scales_metadata": {
        "color": {
         "dimension": "color"
        },
        "opacity": {
         "dimension": "opacity"
        },
        "size": {
         "dimension": "size"
        },
        "x": {
         "dimension": "x",
         "orientation": "horizontal"
        },
        "y": {
         "dimension": "y",
         "orientation": "vertical"
        }
       },
       "selected": [],
       "selected_style": {},
       "size": {
        "type": null,
        "values": null
       },
       "skew": {
        "type": null,
        "values": null
       },
       "tooltip": null,
       "tooltip_location": "mouse",
       "tooltip_style": {
        "opacity": 0.9
       },
       "unhovered_style": {},
       "unselected_style": {},
       "visible": true,
       "x": {
        "type": "float",
        "values": [
         0,
         33.333333333333336,
         66.66666666666667,
         100
        ]
       },
       "y": {
        "type": "float",
        "values": [
         0,
         10,
         20,
         30
        ]
       }
      }
     },
     "1b12b39d38bd4878b7d05ad6fb845d82": {
      "model_module": "bqplot",
      "model_module_version": "^0.3.0-alpha.1",
      "model_name": "ScatterModel",
      "state": {
       "_model_module": "bqplot",
       "_model_module_version": "^0.3.0-alpha.1",
       "_view_count": null,
       "_view_module": "bqplot",
       "_view_module_version": "^0.3.0-alpha.1",
       "apply_clip": true,
       "color": {
        "type": null,
        "values": null
       },
       "colors": [
        "DeepSkyBlue"
       ],
       "display_legend": false,
       "enable_hover": true,
       "hovered_style": {},
       "interactions": {
        "hover": "tooltip"
       },
       "labels": [],
       "msg_throttle": 1,
       "names": {
        "type": null,
        "values": null
       },
       "opacity": {
        "type": null,
        "values": null
       },
       "preserve_domain": {},
       "rotation": {
        "type": null,
        "values": null
       },
       "scales": {
        "x": "IPY_MODEL_2ca3f277319248c5bcafa9047726c025",
        "y": "IPY_MODEL_c8196c51e1274e0db67080f248599f16"
       },
       "scales_metadata": {
        "color": {
         "dimension": "color"
        },
        "opacity": {
         "dimension": "opacity"
        },
        "size": {
         "dimension": "size"
        },
        "x": {
         "dimension": "x",
         "orientation": "horizontal"
        },
        "y": {
         "dimension": "y",
         "orientation": "vertical"
        }
       },
       "selected": [],
       "selected_style": {},
       "size": {
        "type": null,
        "values": null
       },
       "skew": {
        "type": null,
        "values": null
       },
       "tooltip": null,
       "tooltip_location": "mouse",
       "tooltip_style": {
        "opacity": 0.9
       },
       "unhovered_style": {},
       "unselected_style": {},
       "visible": true,
       "x": {
        "type": "float",
        "values": [
         0,
         33.333333333333336,
         66.66666666666667,
         100
        ]
       },
       "y": {
        "type": "float",
        "values": [
         0,
         0,
         0,
         0
        ]
       }
      }
     },
     "1b263fec7c854a23ab1b7756386f01db": {
      "model_module": "@jupyter-widgets/controls",
      "model_module_version": "3.0.0",
      "model_name": "DescriptionStyleModel",
      "state": {
       "description_width": "initial"
      }
     },
     "1b61233ce7e540bcb401681e38be4010": {
      "model_module": "@jupyter-widgets/controls",
      "model_module_version": "3.0.0",
      "model_name": "DescriptionStyleModel",
      "state": {
       "description_width": "initial"
      }
     },
     "1b71e31b501040b1b1f6367b20089a8f": {
      "model_module": "bqplot",
      "model_module_version": "^0.3.0-alpha.1",
      "model_name": "FigureModel",
      "state": {
       "_dom_classes": [],
       "_model_module_version": "^0.3.0-alpha.1",
       "_view_module_version": "^0.3.0-alpha.1",
       "axes": [
        "IPY_MODEL_46ad0ad09c984ebf9e227c9abe7b8e60",
        "IPY_MODEL_7681a2c07cbe46178e54558cba056d70"
       ],
       "layout": "IPY_MODEL_e00af5fe4a9d4c6bb1e484662ba9d1e8",
       "marks": [
        "IPY_MODEL_3aa2fd52b9b24b10b8f3d13cab7d8266",
        "IPY_MODEL_2af9585de5fc44b791a8949e4b904b98"
       ],
       "max_aspect_ratio": 6,
       "scale_x": "IPY_MODEL_e25c4c62caf94913be0a29905b84ac66",
       "scale_y": "IPY_MODEL_c2b8b57f79b64b1da8078abb7c03f6ef"
      }
     },
     "1b78ae2d949c48289c4073f304f27d0a": {
      "model_module": "@jupyter-widgets/controls",
      "model_module_version": "3.0.0",
      "model_name": "BoundedFloatTextModel",
      "state": {
       "description": "Capacity (MW):",
       "layout": "IPY_MODEL_6b39f5a66a624a09af5620bf7411e6ba",
       "max": 10000000000,
       "style": "IPY_MODEL_20eb11056ce745ebbb3243aec6ce99af",
       "value": 100
      }
     },
     "1b798cc3d61f4b94900a7393d9fca7cb": {
      "model_module": "@jupyter-widgets/base",
      "model_module_version": "3.0.0",
      "model_name": "LayoutModel",
      "state": {}
     },
     "1bf7138fa44c4986aea828a8a5a859aa": {
      "model_module": "@jupyter-widgets/base",
      "model_module_version": "3.0.0",
      "model_name": "LayoutModel",
      "state": {}
     },
     "1c72144fd1fe4c2290bb35f4aab66203": {
      "model_module": "@jupyter-widgets/controls",
      "model_module_version": "3.0.0",
      "model_name": "BoundedFloatTextModel",
      "state": {
       "description": "Minimum Up Time (hr):",
       "layout": "IPY_MODEL_2a52ac2b7e89446189218550608b4912",
       "max": 24,
       "style": "IPY_MODEL_9e90f3cc8e3747f68cfb9093976d161f"
      }
     },
     "1c7a6c4c9d254e5e8ee601adef6b9c39": {
      "model_module": "@jupyter-widgets/controls",
      "model_module_version": "3.0.0",
      "model_name": "VBoxModel",
      "state": {
       "children": [
        "IPY_MODEL_14d1cba4f9514059a3aba988852fd466"
       ],
       "layout": "IPY_MODEL_97a86d11d0c245b4be59af0424feb457"
      }
     },
     "1c9411fffe7740feb95d00819755d9d9": {
      "model_module": "@jupyter-widgets/controls",
      "model_module_version": "3.0.0",
      "model_name": "DescriptionStyleModel",
      "state": {
       "description_width": "initial"
      }
     },
     "1cb3bcf6ff3b462a8bae439a7eebb7e9": {
      "model_module": "@jupyter-widgets/base",
      "model_module_version": "3.0.0",
      "model_name": "LayoutModel",
      "state": {}
     },
     "1cd1b552288e49cca03e721dbeeef9e3": {
      "model_module": "bqplot",
      "model_module_version": "^0.3.0-alpha.1",
      "model_name": "LinearScaleModel",
      "state": {
       "_model_module_version": "^0.3.0-alpha.1",
       "_view_module_version": "^0.3.0-alpha.1",
       "allow_padding": false,
       "max": 1,
       "min": 0,
       "stabilized": false
      }
     },
     "1d022c7e45974221a24a0b71ce6c6ae9": {
      "model_module": "@jupyter-widgets/base",
      "model_module_version": "3.0.0",
      "model_name": "LayoutModel",
      "state": {}
     },
     "1d0b1749c01d4db583ef4c8e7bb3fcd1": {
      "model_module": "@jupyter-widgets/base",
      "model_module_version": "3.0.0",
      "model_name": "LayoutModel",
      "state": {}
     },
     "1d29ddac4c1c4492a05e5791ab13e1e4": {
      "model_module": "bqplot",
      "model_module_version": "^0.3.0-alpha.1",
      "model_name": "LinearScaleModel",
      "state": {
       "_model_module_version": "^0.3.0-alpha.1",
       "_view_module_version": "^0.3.0-alpha.1",
       "allow_padding": false,
       "max": 1,
       "min": 0,
       "stabilized": false
      }
     },
     "1d8f51e4b72b4e5f837e790b3b582bbf": {
      "model_module": "@jupyter-widgets/controls",
      "model_module_version": "3.0.0",
      "model_name": "BoundedFloatTextModel",
      "state": {
       "description": "Capacity (MW):",
       "layout": "IPY_MODEL_a38ac38e8abf4f5694e749ce7ea42ca1",
       "max": 10000000000,
       "style": "IPY_MODEL_bcbff9711feb48fb9c49b7255f7af314",
       "value": 100
      }
     },
     "1d9974d6f0624c0a874f96780d99b246": {
      "model_module": "@jupyter-widgets/base",
      "model_module_version": "3.0.0",
      "model_name": "LayoutModel",
      "state": {
       "min_width": "125px"
      }
     },
     "1da6d1b7e1154d2d9dc04f03a7306440": {
      "model_module": "@jupyter-widgets/base",
      "model_module_version": "3.0.0",
      "model_name": "LayoutModel",
      "state": {}
     },
     "1dac29d1d52244d7a9473ac43450a51d": {
      "model_module": "@jupyter-widgets/base",
      "model_module_version": "3.0.0",
      "model_name": "LayoutModel",
      "state": {
       "min_width": "125px"
      }
     },
     "1dbbde0d67b2413185df577114f43c97": {
      "model_module": "@jupyter-widgets/base",
      "model_module_version": "3.0.0",
      "model_name": "LayoutModel",
      "state": {}
     },
     "1df5d90bbd294651a690b57be9dc56ab": {
      "model_module": "@jupyter-widgets/controls",
      "model_module_version": "3.0.0",
      "model_name": "DescriptionStyleModel",
      "state": {
       "description_width": "initial"
      }
     },
     "1e0a7be5c014473b9caee70cf8f66015": {
      "model_module": "@jupyter-widgets/base",
      "model_module_version": "3.0.0",
      "model_name": "LayoutModel",
      "state": {}
     },
     "1e55e767fbb8484eaee2bd5b225c7e31": {
      "model_module": "bqplot",
      "model_module_version": "^0.3.0-alpha.1",
      "model_name": "LinearScaleModel",
      "state": {
       "_model_module_version": "^0.3.0-alpha.1",
       "_view_module_version": "^0.3.0-alpha.1",
       "max": 100,
       "min": 0,
       "stabilized": false
      }
     },
     "1eb03e3628364d04b4b4dffeca8949d4": {
      "model_module": "bqplot",
      "model_module_version": "^0.3.0-alpha.1",
      "model_name": "LinearScaleModel",
      "state": {
       "_model_module_version": "^0.3.0-alpha.1",
       "_view_module_version": "^0.3.0-alpha.1",
       "max": 0,
       "min": 0,
       "stabilized": false
      }
     },
     "1f4afe251d9f4fd9bf6b24196cbb4b4f": {
      "model_module": "@jupyter-widgets/controls",
      "model_module_version": "3.0.0",
      "model_name": "DescriptionStyleModel",
      "state": {
       "description_width": "initial"
      }
     },
     "1fb26378435646b2b519f7123c67b840": {
      "model_module": "@jupyter-widgets/base",
      "model_module_version": "3.0.0",
      "model_name": "LayoutModel",
      "state": {}
     },
     "201f7adac336471d85d42f9429724dd7": {
      "model_module": "@jupyter-widgets/controls",
      "model_module_version": "3.0.0",
      "model_name": "BoundedFloatTextModel",
      "state": {
       "description": "Minimum Generation (MW):",
       "layout": "IPY_MODEL_3a969a03a020460a997278148024b3b7",
       "style": "IPY_MODEL_740de7364c814df58e34878f4df635b4"
      }
     },
     "204bdd299925478c9f45ae30955e70dc": {
      "model_module": "bqplot",
      "model_module_version": "^0.3.0-alpha.1",
      "model_name": "LinearScaleModel",
      "state": {
       "_model_module_version": "^0.3.0-alpha.1",
       "_view_module_version": "^0.3.0-alpha.1",
       "allow_padding": false,
       "max": 1,
       "min": 0,
       "stabilized": false
      }
     },
     "206402dec2f74dbfa23f2d8949309864": {
      "model_module": "@jupyter-widgets/controls",
      "model_module_version": "3.0.0",
      "model_name": "BoundedFloatTextModel",
      "state": {
       "description": "Minimum Down Time (hr):",
       "layout": "IPY_MODEL_9e56fa0d01af455a9afdc288ff06e742",
       "max": 24,
       "style": "IPY_MODEL_5305e1f7f46a489d8e6d590fa38ba515"
      }
     },
     "206df66f19474268a397cd106b0b6f50": {
      "model_module": "@jupyter-widgets/base",
      "model_module_version": "3.0.0",
      "model_name": "LayoutModel",
      "state": {}
     },
     "2098b1536800455cb4822f5d8b257118": {
      "model_module": "@jupyter-widgets/controls",
      "model_module_version": "3.0.0",
      "model_name": "DescriptionStyleModel",
      "state": {
       "description_width": "initial"
      }
     },
     "20c6a7c951d14da3b04a079819cacb68": {
      "model_module": "@jupyter-widgets/controls",
      "model_module_version": "3.0.0",
      "model_name": "DescriptionStyleModel",
      "state": {
       "description_width": "initial"
      }
     },
     "20eb11056ce745ebbb3243aec6ce99af": {
      "model_module": "@jupyter-widgets/controls",
      "model_module_version": "3.0.0",
      "model_name": "DescriptionStyleModel",
      "state": {
       "description_width": "initial"
      }
     },
     "211a0cf1347f442fabe010c15ccf5d14": {
      "model_module": "@jupyter-widgets/controls",
      "model_module_version": "3.0.0",
      "model_name": "DropdownModel",
      "state": {
       "_options_labels": [
        "COAL",
        "NATURALGAS",
        "WIND"
       ],
       "description": "Generation Type:",
       "index": 0,
       "layout": "IPY_MODEL_f3ee237d63e24818a616823995e2122e",
       "style": "IPY_MODEL_fd70d3573a8743619c7842b9725d2b78"
      }
     },
     "21302b4427e84240abde7fc7407e58f9": {
      "model_module": "@jupyter-widgets/base",
      "model_module_version": "3.0.0",
      "model_name": "LayoutModel",
      "state": {
       "min_width": "125px"
      }
     },
     "2157d13c506d4dab94cc5d1eb77817a4": {
      "model_module": "bqplot",
      "model_module_version": "^0.3.0-alpha.1",
      "model_name": "LinearScaleModel",
      "state": {
       "_model_module_version": "^0.3.0-alpha.1",
       "_view_module_version": "^0.3.0-alpha.1",
       "max": 100,
       "min": 0,
       "stabilized": false
      }
     },
     "216f079f7f63444ea7637640dc6690af": {
      "model_module": "@jupyter-widgets/base",
      "model_module_version": "3.0.0",
      "model_name": "LayoutModel",
      "state": {}
     },
     "217a4dc858c34a87821fa12282a04e22": {
      "model_module": "bqplot",
      "model_module_version": "^0.3.0-alpha.1",
      "model_name": "ScatterModel",
      "state": {
       "_model_module": "bqplot",
       "_model_module_version": "^0.3.0-alpha.1",
       "_view_count": null,
       "_view_module": "bqplot",
       "_view_module_version": "^0.3.0-alpha.1",
       "apply_clip": true,
       "color": {
        "type": null,
        "values": null
       },
       "colors": [
        "DeepSkyBlue"
       ],
       "display_legend": false,
       "enable_hover": true,
       "hovered_style": {},
       "interactions": {
        "hover": "tooltip"
       },
       "labels": [],
       "msg_throttle": 1,
       "names": {
        "type": null,
        "values": null
       },
       "opacity": {
        "type": null,
        "values": null
       },
       "preserve_domain": {},
       "rotation": {
        "type": null,
        "values": null
       },
       "scales": {
        "x": "IPY_MODEL_2676a3af6d5947259b6ac8cab1e183fb",
        "y": "IPY_MODEL_c0e0a4eb621549619e6993418471c5e7"
       },
       "scales_metadata": {
        "color": {
         "dimension": "color"
        },
        "opacity": {
         "dimension": "opacity"
        },
        "size": {
         "dimension": "size"
        },
        "x": {
         "dimension": "x",
         "orientation": "horizontal"
        },
        "y": {
         "dimension": "y",
         "orientation": "vertical"
        }
       },
       "selected": [],
       "selected_style": {},
       "size": {
        "type": null,
        "values": null
       },
       "skew": {
        "type": null,
        "values": null
       },
       "tooltip": null,
       "tooltip_location": "mouse",
       "tooltip_style": {
        "opacity": 0.9
       },
       "unhovered_style": {},
       "unselected_style": {},
       "visible": true,
       "x": {
        "type": "float",
        "values": [
         0,
         33.333333333333336,
         66.66666666666667,
         100,
         100,
         100,
         100,
         100,
         100,
         100,
         100,
         100,
         100,
         100,
         100,
         100,
         100,
         100,
         100
        ]
       },
       "y": {
        "type": "float",
        "values": [
         0,
         10,
         20,
         30,
         30,
         30,
         30,
         30,
         30,
         30,
         30,
         30,
         30,
         30,
         30,
         30,
         30,
         30,
         30
        ]
       }
      }
     },
     "21b7b9d914614dffacdece6991c3e74f": {
      "model_module": "@jupyter-widgets/controls",
      "model_module_version": "3.0.0",
      "model_name": "VBoxModel",
      "state": {
       "children": [
        "IPY_MODEL_6cc937e3ca7f41ad99b732e19c3a68dc"
       ],
       "layout": "IPY_MODEL_8e3576327b50422ba6d3e57c1610ad6f"
      }
     },
     "21cd1a23ee7b4ec49aa479aab094ec68": {
      "model_module": "@jupyter-widgets/controls",
      "model_module_version": "3.0.0",
      "model_name": "DescriptionStyleModel",
      "state": {
       "description_width": "initial"
      }
     },
     "21e4c3eeb9b84cd492077a25520aab17": {
      "model_module": "bqplot",
      "model_module_version": "^0.3.0-alpha.1",
      "model_name": "LinearScaleModel",
      "state": {
       "_model_module_version": "^0.3.0-alpha.1",
       "_view_module_version": "^0.3.0-alpha.1",
       "allow_padding": false,
       "max": 1,
       "min": 0,
       "stabilized": false
      }
     },
     "22455a7c70934f079355c319ef553ca4": {
      "model_module": "@jupyter-widgets/controls",
      "model_module_version": "3.0.0",
      "model_name": "BoundedFloatTextModel",
      "state": {
       "description": "Minimum Generation (MW):",
       "layout": "IPY_MODEL_1e0a7be5c014473b9caee70cf8f66015",
       "style": "IPY_MODEL_ecedef54b14849588c84d6c61a94de96",
       "value": 40
      }
     },
     "2284c57bfc3247c6bd395875fe83e0b5": {
      "model_module": "@jupyter-widgets/base",
      "model_module_version": "3.0.0",
      "model_name": "LayoutModel",
      "state": {}
     },
     "22a0ae001c0b4f92a7c49e1921baefa6": {
      "model_module": "@jupyter-widgets/base",
      "model_module_version": "3.0.0",
      "model_name": "LayoutModel",
      "state": {}
     },
     "22c0145014fa4db29b92de0ced09907c": {
      "model_module": "@jupyter-widgets/controls",
      "model_module_version": "3.0.0",
      "model_name": "DescriptionStyleModel",
      "state": {
       "description_width": "initial"
      }
     },
     "22d0174587ed4983bdcac37691b0ceb4": {
      "model_module": "@jupyter-widgets/base",
      "model_module_version": "3.0.0",
      "model_name": "LayoutModel",
      "state": {}
     },
     "23028e2bd4ce46f2bba6621b0a73c362": {
      "model_module": "@jupyter-widgets/base",
      "model_module_version": "3.0.0",
      "model_name": "LayoutModel",
      "state": {}
     },
     "230dceaae16f4790a3b804dee3dfbe6f": {
      "model_module": "@jupyter-widgets/controls",
      "model_module_version": "3.0.0",
      "model_name": "BoundedFloatTextModel",
      "state": {
       "description": "Ramp Down Rate (MW/hr):",
       "layout": "IPY_MODEL_6f264eaac5c145808a24f4a01e690909",
       "style": "IPY_MODEL_35ae92a4e1e54d3c9e3ec68b892e1ce7"
      }
     },
     "233094464ba14457b2cedc0a032260b1": {
      "model_module": "@jupyter-widgets/base",
      "model_module_version": "3.0.0",
      "model_name": "LayoutModel",
      "state": {}
     },
     "233398ae20564bf88afbfc777568517d": {
      "model_module": "@jupyter-widgets/controls",
      "model_module_version": "3.0.0",
      "model_name": "DescriptionStyleModel",
      "state": {
       "description_width": "initial"
      }
     },
     "2334df2cf0fe4f55b396e55fa77ef0d7": {
      "model_module": "@jupyter-widgets/base",
      "model_module_version": "3.0.0",
      "model_name": "LayoutModel",
      "state": {}
     },
     "234628fae08e496ea0c28759c83bc032": {
      "model_module": "@jupyter-widgets/controls",
      "model_module_version": "3.0.0",
      "model_name": "DescriptionStyleModel",
      "state": {
       "description_width": "initial"
      }
     },
     "2371e9bfd2164f24a6abbf1fba884fef": {
      "model_module": "@jupyter-widgets/controls",
      "model_module_version": "3.0.0",
      "model_name": "BoundedFloatTextModel",
      "state": {
       "description": "Capacity (MW):",
       "layout": "IPY_MODEL_5cc29f272c034948ac9708a69ce33988",
       "max": 10000000000,
       "style": "IPY_MODEL_e7f817f8297c4d8ab5ddd141678a6178",
       "value": 100
      }
     },
     "238c0b0746ee4fe6940fbcaa0650af82": {
      "model_module": "@jupyter-widgets/controls",
      "model_module_version": "3.0.0",
      "model_name": "TextModel",
      "state": {
       "description": "Name",
       "layout": "IPY_MODEL_764d3c016a08457dbdec326fbfbd3fe7",
       "style": "IPY_MODEL_c408539229f947959bc08ff89f174fcc",
       "value": "GenCo0"
      }
     },
     "242bc72314754f6dafaa845da699b940": {
      "model_module": "@jupyter-widgets/controls",
      "model_module_version": "3.0.0",
      "model_name": "DescriptionStyleModel",
      "state": {
       "description_width": "initial"
      }
     },
     "24514de28dbc49c188f7a6af34a30a87": {
      "model_module": "@jupyter-widgets/controls",
      "model_module_version": "3.0.0",
      "model_name": "HTMLModel",
      "state": {
       "layout": "IPY_MODEL_fffca4c9973a477d95b6541ff72424fb",
       "style": "IPY_MODEL_b14d5304138d477181bf90f3478af2f1",
       "value": "Generator:"
      }
     },
     "245bd6b94e1546359b3d89435264df68": {
      "model_module": "@jupyter-widgets/controls",
      "model_module_version": "3.0.0",
      "model_name": "DescriptionStyleModel",
      "state": {
       "description_width": ""
      }
     },
     "2461551ae4b14094bc99d5f8bca20e99": {
      "model_module": "bqplot",
      "model_module_version": "^0.3.0-alpha.1",
      "model_name": "FigureModel",
      "state": {
       "_dom_classes": [],
       "_model_module_version": "^0.3.0-alpha.1",
       "_view_module_version": "^0.3.0-alpha.1",
       "axes": [
        "IPY_MODEL_ca35b3b387fe419098f009b96491dfa5",
        "IPY_MODEL_ad3a1c130c1d433c89dabdcc685bc3be"
       ],
       "layout": "IPY_MODEL_a02d19d9f7784fb0966eccd835c05991",
       "marks": [
        "IPY_MODEL_f390714e2958415291813b44201ffa16",
        "IPY_MODEL_84388dfe629347b0bf6546e4db102587"
       ],
       "max_aspect_ratio": 6,
       "scale_x": "IPY_MODEL_cdea35e3135648a4a29279b4abff4238",
       "scale_y": "IPY_MODEL_2bb83e5b225b49ec8cabf16524d32bce"
      }
     },
     "24792754ee7247cf9bdc4fb7a29a1b1f": {
      "model_module": "@jupyter-widgets/controls",
      "model_module_version": "3.0.0",
      "model_name": "CheckboxModel",
      "state": {
       "description": "Initial Status:",
       "disabled": false,
       "layout": "IPY_MODEL_5d2a7e1b98f74310b3ff3daeefaad510",
       "style": "IPY_MODEL_6a696b17263a4858b97d1509351da49c",
       "value": true
      }
     },
     "2492515f953c42949fd3231c3f70631b": {
      "model_module": "@jupyter-widgets/controls",
      "model_module_version": "3.0.0",
      "model_name": "DescriptionStyleModel",
      "state": {
       "description_width": "initial"
      }
     },
     "24b2d902488c4b189875d2bd9bc00805": {
      "model_module": "@jupyter-widgets/base",
      "model_module_version": "3.0.0",
      "model_name": "LayoutModel",
      "state": {}
     },
     "24f18eb45bff4e63b5a65907c0bcefb3": {
      "model_module": "@jupyter-widgets/controls",
      "model_module_version": "3.0.0",
      "model_name": "BoundedFloatTextModel",
      "state": {
       "description": "Minimum Generation (MW):",
       "layout": "IPY_MODEL_b943f084efc048dc8b0bf53641fb9537",
       "style": "IPY_MODEL_79f3b6942ffb4b6db05c3130291c0c6a"
      }
     },
     "24fcff71c19b4bc5aef0d2f04578e363": {
      "model_module": "@jupyter-widgets/controls",
      "model_module_version": "3.0.0",
      "model_name": "BoundedFloatTextModel",
      "state": {
       "description": "Minimum Down Time (hr):",
       "layout": "IPY_MODEL_0b7d425431d5488cbcd6707ec105c216",
       "max": 24,
       "style": "IPY_MODEL_fc616eafe59e48a699cca8beb600a4a9"
      }
     },
     "253af76075f74c898b1bf7ac30cabc01": {
      "model_module": "@jupyter-widgets/base",
      "model_module_version": "3.0.0",
      "model_name": "LayoutModel",
      "state": {}
     },
     "25a90540cb30486c815d879a47109a07": {
      "model_module": "@jupyter-widgets/controls",
      "model_module_version": "3.0.0",
      "model_name": "DescriptionStyleModel",
      "state": {
       "description_width": "initial"
      }
     },
     "25fbd14dd7a04b449f7e56e92f003762": {
      "model_module": "@jupyter-widgets/base",
      "model_module_version": "3.0.0",
      "model_name": "LayoutModel",
      "state": {}
     },
     "2676a3af6d5947259b6ac8cab1e183fb": {
      "model_module": "bqplot",
      "model_module_version": "^0.3.0-alpha.1",
      "model_name": "LinearScaleModel",
      "state": {
       "_model_module_version": "^0.3.0-alpha.1",
       "_view_module_version": "^0.3.0-alpha.1",
       "max": 100,
       "min": 0,
       "stabilized": false
      }
     },
     "26c2d4fa40e8401bb75b97d3e48e3a1c": {
      "model_module": "@jupyter-widgets/base",
      "model_module_version": "3.0.0",
      "model_name": "LayoutModel",
      "state": {}
     },
     "26f400d39a1344ea9b6ae4b2d68f8a34": {
      "model_module": "@jupyter-widgets/controls",
      "model_module_version": "3.0.0",
      "model_name": "DescriptionStyleModel",
      "state": {
       "description_width": ""
      }
     },
     "271eb449062447309c32e5d6b7e9dfeb": {
      "model_module": "@jupyter-widgets/controls",
      "model_module_version": "3.0.0",
      "model_name": "TextModel",
      "state": {
       "description": "Name",
       "layout": "IPY_MODEL_b3d76b1e5dab40dfb4fe088c7855840a",
       "style": "IPY_MODEL_b2c4d88272af453da4eb1561b35ae296",
       "value": "GenCo0"
      }
     },
     "2728c38cd9ec4eebbb60e1b3d7b33ec3": {
      "model_module": "@jupyter-widgets/controls",
      "model_module_version": "3.0.0",
      "model_name": "BoundedFloatTextModel",
      "state": {
       "description": "Capacity (MW):",
       "layout": "IPY_MODEL_91fad65c15f44d1cb218260d0414343e",
       "max": 10000000000,
       "style": "IPY_MODEL_27bb9d739c3d4ee0bfdc6b760c31ab58",
       "value": 100
      }
     },
     "273a3876ceae4a11925dc6711f50af40": {
      "model_module": "@jupyter-widgets/controls",
      "model_module_version": "3.0.0",
      "model_name": "BoundedFloatTextModel",
      "state": {
       "description": "Minimum Down Time (hr):",
       "layout": "IPY_MODEL_2334df2cf0fe4f55b396e55fa77ef0d7",
       "max": 24,
       "style": "IPY_MODEL_87ff6e0ba3de42a3bb220f7d32afa2ec"
      }
     },
     "27824c0eb03246ed80f7836b11858133": {
      "model_module": "@jupyter-widgets/base",
      "model_module_version": "3.0.0",
      "model_name": "LayoutModel",
      "state": {}
     },
     "27a2184ecea845cd8640325f88b15b7f": {
      "model_module": "@jupyter-widgets/controls",
      "model_module_version": "3.0.0",
      "model_name": "DescriptionStyleModel",
      "state": {
       "description_width": "initial"
      }
     },
     "27bb9d739c3d4ee0bfdc6b760c31ab58": {
      "model_module": "@jupyter-widgets/controls",
      "model_module_version": "3.0.0",
      "model_name": "DescriptionStyleModel",
      "state": {
       "description_width": "initial"
      }
     },
     "2836eae0aa684cc1b1cad215e9596814": {
      "model_module": "@jupyter-widgets/controls",
      "model_module_version": "3.0.0",
      "model_name": "BoundedFloatTextModel",
      "state": {
       "description": "Ramp Up Rate (MW/hr):",
       "layout": "IPY_MODEL_9091ec62917141ea8d74a3bc8a3c8be0",
       "style": "IPY_MODEL_8265144f9cff4f8385ff120e4871a937"
      }
     },
     "28f381bd2c2b4256bc737e60f941c9fd": {
      "model_module": "@jupyter-widgets/controls",
      "model_module_version": "3.0.0",
      "model_name": "DescriptionStyleModel",
      "state": {
       "description_width": "initial"
      }
     },
     "2922fd0fbe7247fd8fe8035e2d4d309e": {
      "model_module": "@jupyter-widgets/base",
      "model_module_version": "3.0.0",
      "model_name": "LayoutModel",
      "state": {}
     },
     "294b9efc64c440b594b841cd68f45ba3": {
      "model_module": "@jupyter-widgets/controls",
      "model_module_version": "3.0.0",
      "model_name": "DescriptionStyleModel",
      "state": {
       "description_width": "initial"
      }
     },
     "2991dfeeca8340aaad4cdd430b4c22d0": {
      "model_module": "@jupyter-widgets/controls",
      "model_module_version": "3.0.0",
      "model_name": "DescriptionStyleModel",
      "state": {
       "description_width": "initial"
      }
     },
     "29ec4833586f4e4d96dc8bc5088a5794": {
      "model_module": "@jupyter-widgets/base",
      "model_module_version": "3.0.0",
      "model_name": "LayoutModel",
      "state": {}
     },
     "2a5274c486ee4997b95ea10cc8e494f6": {
      "model_module": "@jupyter-widgets/controls",
      "model_module_version": "3.0.0",
      "model_name": "BoundedFloatTextModel",
      "state": {
       "description": "Minimum Generation (MW):",
       "layout": "IPY_MODEL_fb5c0f6196dd47d1a043491385054fd1",
       "style": "IPY_MODEL_ce4c28989c884a3cbf5a742385a6e8d1"
      }
     },
     "2a52a21d1537474eaa5755071443b43f": {
      "model_module": "bqplot",
      "model_module_version": "^0.3.0-alpha.1",
      "model_name": "LinearScaleModel",
      "state": {
       "_model_module_version": "^0.3.0-alpha.1",
       "_view_module_version": "^0.3.0-alpha.1",
       "max": 100,
       "min": 0,
       "stabilized": false
      }
     },
     "2a52ac2b7e89446189218550608b4912": {
      "model_module": "@jupyter-widgets/base",
      "model_module_version": "3.0.0",
      "model_name": "LayoutModel",
      "state": {}
     },
     "2a5764bc53c24366afc9dce8eace9031": {
      "model_module": "@jupyter-widgets/base",
      "model_module_version": "3.0.0",
      "model_name": "LayoutModel",
      "state": {}
     },
     "2a79f127e0c348bf9a57c98b6afc9dae": {
      "model_module": "@jupyter-widgets/controls",
      "model_module_version": "3.0.0",
      "model_name": "HTMLModel",
      "state": {
       "layout": "IPY_MODEL_8de3095aa2c645afb7413f7e3f538c82",
       "style": "IPY_MODEL_d186e60f18fd468bb91f86e206fae278",
       "value": "Generator:"
      }
     },
     "2aa3c351819a45ea846c33bdc20b4f88": {
      "model_module": "@jupyter-widgets/controls",
      "model_module_version": "3.0.0",
      "model_name": "BoundedFloatTextModel",
      "state": {
       "description": "Capacity (MW):",
       "layout": "IPY_MODEL_a7a7909331e44e9ca69f2c4ff643991f",
       "max": 10000000000,
       "style": "IPY_MODEL_17855d8663134b76bfad4a31d07023d0",
       "value": 100
      }
     },
     "2acd5c86d64f4e7f95f2f2ddb4ef3be4": {
      "model_module": "@jupyter-widgets/base",
      "model_module_version": "3.0.0",
      "model_name": "LayoutModel",
      "state": {}
     },
     "2adf13df57784c97a95d47a99de5e29d": {
      "model_module": "@jupyter-widgets/base",
      "model_module_version": "3.0.0",
      "model_name": "LayoutModel",
      "state": {}
     },
     "2af9585de5fc44b791a8949e4b904b98": {
      "model_module": "bqplot",
      "model_module_version": "^0.3.0-alpha.1",
      "model_name": "ScatterModel",
      "state": {
       "_model_module": "bqplot",
       "_model_module_version": "^0.3.0-alpha.1",
       "_view_count": null,
       "_view_module": "bqplot",
       "_view_module_version": "^0.3.0-alpha.1",
       "apply_clip": true,
       "color": {
        "type": null,
        "values": null
       },
       "colors": [
        "DeepSkyBlue"
       ],
       "display_legend": false,
       "enable_hover": true,
       "hovered_style": {},
       "interactions": {
        "hover": "tooltip"
       },
       "labels": [],
       "msg_throttle": 1,
       "names": {
        "type": null,
        "values": null
       },
       "opacity": {
        "type": null,
        "values": null
       },
       "preserve_domain": {},
       "rotation": {
        "type": null,
        "values": null
       },
       "scales": {
        "x": "IPY_MODEL_e9d557d3065e42fcb94831bc2cc3b9dd",
        "y": "IPY_MODEL_07b3622f0ff74a2c982a17fbe40818ed"
       },
       "scales_metadata": {
        "color": {
         "dimension": "color"
        },
        "opacity": {
         "dimension": "opacity"
        },
        "size": {
         "dimension": "size"
        },
        "x": {
         "dimension": "x",
         "orientation": "horizontal"
        },
        "y": {
         "dimension": "y",
         "orientation": "vertical"
        }
       },
       "selected": [],
       "selected_style": {},
       "size": {
        "type": null,
        "values": null
       },
       "skew": {
        "type": null,
        "values": null
       },
       "tooltip": null,
       "tooltip_location": "mouse",
       "tooltip_style": {
        "opacity": 0.9
       },
       "unhovered_style": {},
       "unselected_style": {},
       "visible": true,
       "x": {
        "type": "float",
        "values": [
         0,
         7.6923076923076925,
         15.384615384615385,
         23.076923076923077,
         30.76923076923077,
         38.46153846153846,
         46.15384615384615,
         53.84615384615385,
         61.53846153846154,
         69.23076923076923,
         76.92307692307692,
         84.61538461538461,
         92.3076923076923,
         100
        ]
       },
       "y": {
        "type": "float",
        "values": [
         0,
         0,
         0,
         0,
         0,
         0,
         0,
         0,
         0,
         0,
         0,
         0,
         0,
         0
        ]
       }
      }
     },
     "2b3266160c7b4ceebe0ccd3e0cb3cc57": {
      "model_module": "@jupyter-widgets/controls",
      "model_module_version": "3.0.0",
      "model_name": "BoundedFloatTextModel",
      "state": {
       "description": "Minimum Up Time (hr):",
       "layout": "IPY_MODEL_de02ac4ed31e486786305f394e123194",
       "max": 24,
       "style": "IPY_MODEL_14db692d1e7d454dadab2748ba9275e2"
      }
     },
     "2b5871877c804b7b8c55263d958ddb20": {
      "model_module": "bqplot",
      "model_module_version": "^0.3.0-alpha.1",
      "model_name": "LinesModel",
      "state": {
       "_model_module_version": "^0.3.0-alpha.1",
       "_view_module_version": "^0.3.0-alpha.1",
       "color": {
        "type": null,
        "values": null
       },
       "display_legend": false,
       "fill_colors": [],
       "labels": [
        "C1"
       ],
       "scales": {
        "x": "IPY_MODEL_2676a3af6d5947259b6ac8cab1e183fb",
        "y": "IPY_MODEL_c0e0a4eb621549619e6993418471c5e7"
       },
       "selected": [],
       "x": {
        "type": "float",
        "values": [
         0,
         33.333333333333336,
         66.66666666666667,
         100,
         100,
         100,
         100,
         100,
         100,
         100,
         100,
         100,
         100,
         100,
         100,
         100,
         100,
         100,
         100
        ]
       },
       "y": {
        "type": "float",
        "values": [
         0,
         10,
         20,
         30,
         30,
         30,
         30,
         30,
         30,
         30,
         30,
         30,
         30,
         30,
         30,
         30,
         30,
         30,
         30
        ]
       }
      }
     },
     "2b5c43d81a034de1b20e83b179f76d7b": {
      "model_module": "@jupyter-widgets/controls",
      "model_module_version": "3.0.0",
      "model_name": "DescriptionStyleModel",
      "state": {
       "description_width": "initial"
      }
     },
     "2b7459573bad4a15bd523bd93e891679": {
      "model_module": "@jupyter-widgets/controls",
      "model_module_version": "3.0.0",
      "model_name": "DescriptionStyleModel",
      "state": {
       "description_width": "initial"
      }
     },
     "2ba8f389ae2a44f8bdd9348a7270dd41": {
      "model_module": "bqplot",
      "model_module_version": "^0.3.0-alpha.1",
      "model_name": "ScatterModel",
      "state": {
       "_model_module": "bqplot",
       "_model_module_version": "^0.3.0-alpha.1",
       "_view_count": null,
       "_view_module": "bqplot",
       "_view_module_version": "^0.3.0-alpha.1",
       "apply_clip": true,
       "color": {
        "type": null,
        "values": null
       },
       "colors": [
        "DeepSkyBlue"
       ],
       "display_legend": false,
       "enable_hover": true,
       "hovered_style": {},
       "interactions": {
        "hover": "tooltip"
       },
       "labels": [],
       "msg_throttle": 1,
       "names": {
        "type": null,
        "values": null
       },
       "opacity": {
        "type": null,
        "values": null
       },
       "preserve_domain": {},
       "rotation": {
        "type": null,
        "values": null
       },
       "scales": {
        "x": "IPY_MODEL_c922fbe72edd429ebba2b4f483104883",
        "y": "IPY_MODEL_db2ad612640b49ad85555ca8a11a9001"
       },
       "scales_metadata": {
        "color": {
         "dimension": "color"
        },
        "opacity": {
         "dimension": "opacity"
        },
        "size": {
         "dimension": "size"
        },
        "x": {
         "dimension": "x",
         "orientation": "horizontal"
        },
        "y": {
         "dimension": "y",
         "orientation": "vertical"
        }
       },
       "selected": [],
       "selected_style": {},
       "size": {
        "type": null,
        "values": null
       },
       "skew": {
        "type": null,
        "values": null
       },
       "tooltip": null,
       "tooltip_location": "mouse",
       "tooltip_style": {
        "opacity": 0.9
       },
       "unhovered_style": {},
       "unselected_style": {},
       "visible": true,
       "x": {
        "type": "float",
        "values": [
         0,
         33.333333333333336,
         66.66666666666667,
         100
        ]
       },
       "y": {
        "type": "float",
        "values": [
         0,
         10,
         20,
         30
        ]
       }
      }
     },
     "2bb286317bcb4927b8f35ca4f1b78927": {
      "model_module": "@jupyter-widgets/controls",
      "model_module_version": "3.0.0",
      "model_name": "BoundedFloatTextModel",
      "state": {
       "description": "Startup Time (hr):",
       "layout": "IPY_MODEL_5f09692aad1b4814a41bbb049f189110",
       "max": 24,
       "style": "IPY_MODEL_22c0145014fa4db29b92de0ced09907c"
      }
     },
     "2bb83e5b225b49ec8cabf16524d32bce": {
      "model_module": "bqplot",
      "model_module_version": "^0.3.0-alpha.1",
      "model_name": "LinearScaleModel",
      "state": {
       "_model_module_version": "^0.3.0-alpha.1",
       "_view_module_version": "^0.3.0-alpha.1",
       "allow_padding": false,
       "max": 1,
       "min": 0,
       "stabilized": false
      }
     },
     "2bcd24920f1f411a8999ee2059cf7a4b": {
      "model_module": "@jupyter-widgets/base",
      "model_module_version": "3.0.0",
      "model_name": "LayoutModel",
      "state": {}
     },
     "2bdc8304e9c04c1d97c72d3c2ef30304": {
      "model_module": "@jupyter-widgets/controls",
      "model_module_version": "3.0.0",
      "model_name": "DescriptionStyleModel",
      "state": {
       "description_width": "initial"
      }
     },
     "2be2b3e3f58e437da5d3ebf0e364cbd0": {
      "model_module": "@jupyter-widgets/controls",
      "model_module_version": "3.0.0",
      "model_name": "BoundedFloatTextModel",
      "state": {
       "description": "Ramp Down Rate (MW/hr):",
       "layout": "IPY_MODEL_abc253f6dcb5413795985dd0c81ff2e1",
       "style": "IPY_MODEL_0dd3eaa13ee04cc0b1c456b09e5eb0aa"
      }
     },
     "2c13b5a857704f9e954005244838a02c": {
      "model_module": "@jupyter-widgets/controls",
      "model_module_version": "3.0.0",
      "model_name": "SliderStyleModel",
      "state": {
       "description_width": "initial"
      }
     },
     "2c2bdac8b1a74aadb9a1dd6db4308f00": {
      "model_module": "@jupyter-widgets/base",
      "model_module_version": "3.0.0",
      "model_name": "LayoutModel",
      "state": {}
     },
     "2ca0a41e4aa14d46a7f229688104b96c": {
      "model_module": "@jupyter-widgets/base",
      "model_module_version": "3.0.0",
      "model_name": "LayoutModel",
      "state": {}
     },
     "2ca3f277319248c5bcafa9047726c025": {
      "model_module": "bqplot",
      "model_module_version": "^0.3.0-alpha.1",
      "model_name": "LinearScaleModel",
      "state": {
       "_model_module_version": "^0.3.0-alpha.1",
       "_view_module_version": "^0.3.0-alpha.1",
       "max": 100,
       "min": 0,
       "stabilized": false
      }
     },
     "2dc1c5b3ac3043e989094d47c65da26f": {
      "model_module": "bqplot",
      "model_module_version": "^0.3.0-alpha.1",
      "model_name": "LinearScaleModel",
      "state": {
       "_model_module_version": "^0.3.0-alpha.1",
       "_view_module_version": "^0.3.0-alpha.1",
       "allow_padding": false,
       "max": 1,
       "min": 0,
       "stabilized": false
      }
     },
     "2dee8191e92d4065b41bfb81d92f0a0c": {
      "model_module": "@jupyter-widgets/controls",
      "model_module_version": "3.0.0",
      "model_name": "DescriptionStyleModel",
      "state": {
       "description_width": "initial"
      }
     },
     "2e0054e5975e460a91b811608c4dad52": {
      "model_module": "@jupyter-widgets/controls",
      "model_module_version": "3.0.0",
      "model_name": "BoundedFloatTextModel",
      "state": {
       "description": "No-Load Cost ($/hr):",
       "layout": "IPY_MODEL_685e68ef66054e6695fc6dc6d0f456d2",
       "max": 10000000000,
       "style": "IPY_MODEL_4c93bba4fbd0448284e80b63c021b36a"
      }
     },
     "2e757b6141484a4c9e74035b2c3255c5": {
      "model_module": "bqplot",
      "model_module_version": "^0.3.0-alpha.1",
      "model_name": "LinearScaleModel",
      "state": {
       "_model_module_version": "^0.3.0-alpha.1",
       "_view_module_version": "^0.3.0-alpha.1",
       "max": 100,
       "min": 0,
       "stabilized": false
      }
     },
     "2ebccb8e317a43ffb198aa3d61a802ee": {
      "model_module": "@jupyter-widgets/base",
      "model_module_version": "3.0.0",
      "model_name": "LayoutModel",
      "state": {}
     },
     "2ed5cecf82b740e3be5a74181c51b832": {
      "model_module": "@jupyter-widgets/base",
      "model_module_version": "3.0.0",
      "model_name": "LayoutModel",
      "state": {}
     },
     "2eed63979b7246589b5cbac00652cdb6": {
      "model_module": "@jupyter-widgets/base",
      "model_module_version": "3.0.0",
      "model_name": "LayoutModel",
      "state": {}
     },
     "2f3d723591514910a5b497cecd3d2dda": {
      "model_module": "@jupyter-widgets/base",
      "model_module_version": "3.0.0",
      "model_name": "LayoutModel",
      "state": {}
     },
     "2f451e071c494b118aeb6aff1e1b812e": {
      "model_module": "@jupyter-widgets/base",
      "model_module_version": "3.0.0",
      "model_name": "LayoutModel",
      "state": {}
     },
     "2f6af0976bf74f589542329744f6b318": {
      "model_module": "@jupyter-widgets/controls",
      "model_module_version": "3.0.0",
      "model_name": "DescriptionStyleModel",
      "state": {
       "description_width": "initial"
      }
     },
     "2f7e759514b64e65bbc5a4bfc2453a0a": {
      "model_module": "@jupyter-widgets/base",
      "model_module_version": "3.0.0",
      "model_name": "LayoutModel",
      "state": {
       "min_width": "125px"
      }
     },
     "2f7fe66da10f4061a2372a74502f8cc5": {
      "model_module": "@jupyter-widgets/controls",
      "model_module_version": "3.0.0",
      "model_name": "BoundedFloatTextModel",
      "state": {
       "description": "Ramp Up Rate (MW/hr):",
       "layout": "IPY_MODEL_660e73c1c12b4688ace1e04d8dcd2db0",
       "style": "IPY_MODEL_c58cd3d5ecec402ba94c3b1c18b6f863"
      }
     },
     "2f82b65bc39542579fee99b7568a3b11": {
      "model_module": "bqplot",
      "model_module_version": "^0.3.0-alpha.1",
      "model_name": "LinearScaleModel",
      "state": {
       "_model_module_version": "^0.3.0-alpha.1",
       "_view_module_version": "^0.3.0-alpha.1",
       "max": 100,
       "min": 0,
       "stabilized": false
      }
     },
     "2f9b5cc4b0f4411d832e28843613a2d1": {
      "model_module": "@jupyter-widgets/controls",
      "model_module_version": "3.0.0",
      "model_name": "DescriptionStyleModel",
      "state": {
       "description_width": "initial"
      }
     },
     "2fc4fa1918884fceb7b82115ca0089ca": {
      "model_module": "bqplot",
      "model_module_version": "^0.3.0-alpha.1",
      "model_name": "ScatterModel",
      "state": {
       "_model_module": "bqplot",
       "_model_module_version": "^0.3.0-alpha.1",
       "_view_count": null,
       "_view_module": "bqplot",
       "_view_module_version": "^0.3.0-alpha.1",
       "apply_clip": true,
       "color": {
        "type": null,
        "values": null
       },
       "colors": [
        "DeepSkyBlue"
       ],
       "display_legend": false,
       "enable_hover": true,
       "enable_move": true,
       "hovered_style": {},
       "interactions": {
        "click": null
       },
       "labels": [],
       "msg_throttle": 1,
       "names": {
        "type": null,
        "values": null
       },
       "opacity": {
        "type": null,
        "values": null
       },
       "preserve_domain": {},
       "rotation": {
        "type": null,
        "values": null
       },
       "scales": {
        "x": "IPY_MODEL_b04d62441eb540419941c6ec97587acd",
        "y": "IPY_MODEL_a3901f3d3db54db3940f4f05b8032a53"
       },
       "scales_metadata": {
        "color": {
         "dimension": "color"
        },
        "opacity": {
         "dimension": "opacity"
        },
        "size": {
         "dimension": "size"
        },
        "x": {
         "dimension": "x",
         "orientation": "horizontal"
        },
        "y": {
         "dimension": "y",
         "orientation": "vertical"
        }
       },
       "selected": [],
       "selected_style": {},
       "size": {
        "type": null,
        "values": null
       },
       "skew": {
        "type": null,
        "values": null
       },
       "tooltip": null,
       "tooltip_location": "mouse",
       "tooltip_style": {
        "opacity": 0.9
       },
       "unhovered_style": {},
       "unselected_style": {},
       "update_on_move": true,
       "visible": true,
       "x": {
        "type": "float",
        "values": [
         0,
         24.996936274509803,
         64.9969362745098,
         97.15379901960785
        ]
       },
       "y": {
        "type": "float",
        "values": [
         0,
         7.788968373493976,
         21.192582831325304,
         43.18053463855422
        ]
       }
      }
     },
     "2fcb01dc37f24302abe0c3b83775241b": {
      "model_module": "@jupyter-widgets/base",
      "model_module_version": "3.0.0",
      "model_name": "LayoutModel",
      "state": {}
     },
     "2fd0edfacc31483184c4e68004b47307": {
      "model_module": "@jupyter-widgets/controls",
      "model_module_version": "3.0.0",
      "model_name": "DescriptionStyleModel",
      "state": {
       "description_width": "initial"
      }
     },
     "2ff2c7a5d919433a9a944c329d00e2b8": {
      "model_module": "@jupyter-widgets/controls",
      "model_module_version": "3.0.0",
      "model_name": "DescriptionStyleModel",
      "state": {
       "description_width": "initial"
      }
     },
     "30033aaa0832433f9dfab5742211721b": {
      "model_module": "@jupyter-widgets/base",
      "model_module_version": "3.0.0",
      "model_name": "LayoutModel",
      "state": {}
     },
     "30370558670f4aa1a581236c59ae7d57": {
      "model_module": "@jupyter-widgets/base",
      "model_module_version": "3.0.0",
      "model_name": "LayoutModel",
      "state": {}
     },
     "30d5b3a07a8d41ca831d763c91e971ff": {
      "model_module": "@jupyter-widgets/controls",
      "model_module_version": "3.0.0",
      "model_name": "BoundedFloatTextModel",
      "state": {
       "description": "Ramp Down Rate (MW/hr):",
       "layout": "IPY_MODEL_04834f07d46c496b866b9240019c8315",
       "max": 30,
       "style": "IPY_MODEL_c690b88c254f478d8f4f78a143716143"
      }
     },
     "3153d51a4231407c8339b6a3a7849c4a": {
      "model_module": "@jupyter-widgets/controls",
      "model_module_version": "3.0.0",
      "model_name": "DescriptionStyleModel",
      "state": {
       "description_width": "initial"
      }
     },
     "3176051652d348eea9ab09087331d7d4": {
      "model_module": "bqplot",
      "model_module_version": "^0.3.0-alpha.1",
      "model_name": "LinearScaleModel",
      "state": {
       "_model_module_version": "^0.3.0-alpha.1",
       "_view_module_version": "^0.3.0-alpha.1",
       "allow_padding": false,
       "max": 1,
       "min": 0,
       "stabilized": false
      }
     },
     "3184699cbb124be99e4dfc3a94da5439": {
      "model_module": "@jupyter-widgets/controls",
      "model_module_version": "3.0.0",
      "model_name": "BoundedFloatTextModel",
      "state": {
       "description": "Initial Generation (MW):",
       "layout": "IPY_MODEL_8a75ff2d51d842fc8861673f46bec13a",
       "style": "IPY_MODEL_294b9efc64c440b594b841cd68f45ba3"
      }
     },
     "318c35aded5546fa8bc5432d992de664": {
      "model_module": "@jupyter-widgets/base",
      "model_module_version": "3.0.0",
      "model_name": "LayoutModel",
      "state": {}
     },
     "3194a57e5f184731b5646791693268f0": {
      "model_module": "@jupyter-widgets/controls",
      "model_module_version": "3.0.0",
      "model_name": "BoundedFloatTextModel",
      "state": {
       "description": "Capacity (MW):",
       "layout": "IPY_MODEL_9d3ddd63dff2457b8d439485c06f2e1c",
       "max": 10000000000,
       "style": "IPY_MODEL_b31c9505903844019e527c8bceba9162",
       "value": 100
      }
     },
     "3197665c107a484ea1267175050069c9": {
      "model_module": "@jupyter-widgets/controls",
      "model_module_version": "3.0.0",
      "model_name": "DescriptionStyleModel",
      "state": {
       "description_width": "initial"
      }
     },
     "31aba8a55edf46568ecaa5c87b3c6f4a": {
      "model_module": "bqplot",
      "model_module_version": "^0.3.0-alpha.1",
      "model_name": "AxisModel",
      "state": {
       "_model_module_version": "^0.3.0-alpha.1",
       "_view_module_version": "^0.3.0-alpha.1",
       "orientation": "vertical",
       "scale": "IPY_MODEL_077a733d42644ff9927a34bd31daa71c",
       "side": "left",
       "tick_values": {
        "type": null,
        "values": null
       }
      }
     },
     "32144e310fc547c58ea9b00639c5035e": {
      "model_module": "@jupyter-widgets/controls",
      "model_module_version": "3.0.0",
      "model_name": "VBoxModel",
      "state": {
       "children": [
        "IPY_MODEL_e6107c2a8e84478fa0319449a4bd1f04",
        "IPY_MODEL_9affb8cf6de442c4b7cc177d49046b5a",
        "IPY_MODEL_cb0914c6cb9042d889dfdd09c2542b69",
        "IPY_MODEL_3e6fea8c46b6485292c572540f49d7c0",
        "IPY_MODEL_5523f42510ea459faf57a7ead4286c07",
        "IPY_MODEL_f9ad54240dd04dbebdf37d83503731df",
        "IPY_MODEL_0e80033b8708442397a8f675a17143df",
        "IPY_MODEL_0c029f37167c4656afd7ff1a911bb065",
        "IPY_MODEL_816acb5c5fca40b481f0b41a06abcb8c",
        "IPY_MODEL_b0b04944061f4deba102da6c8748ea19",
        "IPY_MODEL_78aa4825c21d4ec287b5cc5b45e06339",
        "IPY_MODEL_863455df543145819ca7e129e712a6be",
        "IPY_MODEL_9de54f062c2d452abf28ed528dc97680",
        "IPY_MODEL_43ecc457350a42a9b84327f628998fd2",
        "IPY_MODEL_5f7362538c7a4d87bafbef943717f0cb",
        "IPY_MODEL_54656ad93a8a4c9092829ffbe3079e48"
       ],
       "layout": "IPY_MODEL_409cf4a0b7da4c71a2cacb525eb82d49"
      }
     },
     "3226c4f8854a4196916489d15114767a": {
      "model_module": "@jupyter-widgets/base",
      "model_module_version": "3.0.0",
      "model_name": "LayoutModel",
      "state": {}
     },
     "3255d54f587f4c1d8562193d97305711": {
      "model_module": "@jupyter-widgets/controls",
      "model_module_version": "3.0.0",
      "model_name": "DescriptionStyleModel",
      "state": {
       "description_width": "initial"
      }
     },
     "326342059e194135a6d5342ed1df832c": {
      "model_module": "@jupyter-widgets/base",
      "model_module_version": "3.0.0",
      "model_name": "LayoutModel",
      "state": {}
     },
     "3297f7053a4b481089538168e64e7577": {
      "model_module": "@jupyter-widgets/base",
      "model_module_version": "3.0.0",
      "model_name": "LayoutModel",
      "state": {}
     },
     "32a0180bb6bc4e67a730d17bf712dd4c": {
      "model_module": "@jupyter-widgets/base",
      "model_module_version": "3.0.0",
      "model_name": "LayoutModel",
      "state": {}
     },
     "32a7564b2596463099bed95ba6bab6c3": {
      "model_module": "@jupyter-widgets/controls",
      "model_module_version": "3.0.0",
      "model_name": "DescriptionStyleModel",
      "state": {
       "description_width": "initial"
      }
     },
     "32ba5fd4cf34482e8d2df307be3e5b67": {
      "model_module": "@jupyter-widgets/controls",
      "model_module_version": "3.0.0",
      "model_name": "DescriptionStyleModel",
      "state": {
       "description_width": "initial"
      }
     },
     "32c81212c21941b0ab8eee822bf0aaa9": {
      "model_module": "@jupyter-widgets/controls",
      "model_module_version": "3.0.0",
      "model_name": "BoundedFloatTextModel",
      "state": {
       "description": "Shutdown Time (hr):",
       "layout": "IPY_MODEL_95c9070e87bb4faf8720423cd4364ea3",
       "max": 24,
       "style": "IPY_MODEL_f51d739f1aa54a2e95d15d676ba8bac3"
      }
     },
     "32ef37ec3fdd49109ddd24fb91a309e2": {
      "model_module": "bqplot",
      "model_module_version": "^0.3.0-alpha.1",
      "model_name": "LinearScaleModel",
      "state": {
       "_model_module_version": "^0.3.0-alpha.1",
       "_view_module_version": "^0.3.0-alpha.1",
       "allow_padding": false,
       "max": 1,
       "min": 0,
       "stabilized": false
      }
     },
     "33490ac29b3d4eb9b7a09a702064aafe": {
      "model_module": "@jupyter-widgets/controls",
      "model_module_version": "3.0.0",
      "model_name": "CheckboxModel",
      "state": {
       "description": "Initial Status:",
       "disabled": false,
       "layout": "IPY_MODEL_9676f0cca1dd47c0a9e31fa532443b23",
       "style": "IPY_MODEL_7ebb946c3b5d4c8ab856b930a9aa5ae3",
       "value": true
      }
     },
     "33c0e499c77c4d138d11f0db06419e78": {
      "model_module": "@jupyter-widgets/base",
      "model_module_version": "3.0.0",
      "model_name": "LayoutModel",
      "state": {}
     },
     "33fa03989d1a4a4db62551d81510b0cc": {
      "model_module": "@jupyter-widgets/base",
      "model_module_version": "3.0.0",
      "model_name": "LayoutModel",
      "state": {
       "min_width": "125px"
      }
     },
     "3437c49a3e2447ed9c4b1a56d7acdab8": {
      "model_module": "@jupyter-widgets/controls",
      "model_module_version": "3.0.0",
      "model_name": "BoundedFloatTextModel",
      "state": {
       "description": "Ramp Down Rate (MW/hr):",
       "layout": "IPY_MODEL_30370558670f4aa1a581236c59ae7d57",
       "style": "IPY_MODEL_c1e588438f0d4f2a94b8c24f1082e908"
      }
     },
     "343968fd4b03454b932aac28317443d5": {
      "model_module": "@jupyter-widgets/controls",
      "model_module_version": "3.0.0",
      "model_name": "DescriptionStyleModel",
      "state": {
       "description_width": "initial"
      }
     },
     "343c69d7435b42d1b5d53ced1105dcc7": {
      "model_module": "@jupyter-widgets/controls",
      "model_module_version": "3.0.0",
      "model_name": "BoundedFloatTextModel",
      "state": {
       "description": "Startup Cost ($/hr):",
       "layout": "IPY_MODEL_2ed5cecf82b740e3be5a74181c51b832",
       "max": 10000000000,
       "style": "IPY_MODEL_5687a700443c4d21a5dda3dce0574939"
      }
     },
     "34499b8bacfd43a58042abde0d8bac2b": {
      "model_module": "@jupyter-widgets/base",
      "model_module_version": "3.0.0",
      "model_name": "LayoutModel",
      "state": {
       "min_width": "125px"
      }
     },
     "346b0071366340ff968baf5bbba5b4c0": {
      "model_module": "bqplot",
      "model_module_version": "^0.3.0-alpha.1",
      "model_name": "AxisModel",
      "state": {
       "_model_module_version": "^0.3.0-alpha.1",
       "_view_module_version": "^0.3.0-alpha.1",
       "orientation": "vertical",
       "scale": "IPY_MODEL_97e44cfa906140e68e9500b87876215c",
       "side": "left",
       "tick_values": {
        "type": null,
        "values": null
       }
      }
     },
     "34ade02769ba457cb152a71b5d255e48": {
      "model_module": "@jupyter-widgets/base",
      "model_module_version": "3.0.0",
      "model_name": "LayoutModel",
      "state": {}
     },
     "34b2b7f662374bf497b9da8291aff171": {
      "model_module": "bqplot",
      "model_module_version": "^0.3.0-alpha.1",
      "model_name": "LinearScaleModel",
      "state": {
       "_model_module_version": "^0.3.0-alpha.1",
       "_view_module_version": "^0.3.0-alpha.1",
       "allow_padding": false,
       "max": 1,
       "min": 0,
       "stabilized": false
      }
     },
     "34c6c67609b04e149c6ea09bf9beeb85": {
      "model_module": "@jupyter-widgets/controls",
      "model_module_version": "3.0.0",
      "model_name": "DescriptionStyleModel",
      "state": {
       "description_width": "initial"
      }
     },
     "351cf9e281c24d6698dc1d53ecfdead0": {
      "model_module": "@jupyter-widgets/base",
      "model_module_version": "3.0.0",
      "model_name": "LayoutModel",
      "state": {}
     },
     "353dbca143304b24958d252ba6869d9c": {
      "model_module": "@jupyter-widgets/controls",
      "model_module_version": "3.0.0",
      "model_name": "BoundedFloatTextModel",
      "state": {
       "description": "Startup Time (hr):",
       "layout": "IPY_MODEL_7f6517dbcadb472eab7768adf6f3be5f",
       "max": 24,
       "style": "IPY_MODEL_a59bdee82eef488db71baa9daf6f9497"
      }
     },
     "355e0005dd6640e4955206a35e172361": {
      "model_module": "@jupyter-widgets/base",
      "model_module_version": "3.0.0",
      "model_name": "LayoutModel",
      "state": {}
     },
     "3566ab9f7f0f47969f1efb6c16b4a2f8": {
      "model_module": "bqplot",
      "model_module_version": "^0.3.0-alpha.1",
      "model_name": "AxisModel",
      "state": {
       "_model_module_version": "^0.3.0-alpha.1",
       "_view_module_version": "^0.3.0-alpha.1",
       "orientation": "vertical",
       "scale": "IPY_MODEL_c1fa9cc511ec40608eb792aa09b4731c",
       "side": "left",
       "tick_values": {
        "type": null,
        "values": null
       }
      }
     },
     "35a336d735d74da2be6c003c99224fa0": {
      "model_module": "@jupyter-widgets/controls",
      "model_module_version": "3.0.0",
      "model_name": "BoundedFloatTextModel",
      "state": {
       "description": "No-Load Cost ($/hr):",
       "layout": "IPY_MODEL_9c752a8c72e440148e644b0a92ddf841",
       "max": 10000000000,
       "style": "IPY_MODEL_6869412b74ba4f9f98250af7998f221c"
      }
     },
     "35a55d9725014f4084e60b5c5528183c": {
      "model_module": "@jupyter-widgets/controls",
      "model_module_version": "3.0.0",
      "model_name": "DescriptionStyleModel",
      "state": {
       "description_width": ""
      }
     },
     "35ae92a4e1e54d3c9e3ec68b892e1ce7": {
      "model_module": "@jupyter-widgets/controls",
      "model_module_version": "3.0.0",
      "model_name": "DescriptionStyleModel",
      "state": {
       "description_width": "initial"
      }
     },
     "35d7e9d99a614bf9aad763625edff03d": {
      "model_module": "@jupyter-widgets/controls",
      "model_module_version": "3.0.0",
      "model_name": "DescriptionStyleModel",
      "state": {
       "description_width": "initial"
      }
     },
     "360a88db487348cc93af494ba53874e6": {
      "model_module": "@jupyter-widgets/base",
      "model_module_version": "3.0.0",
      "model_name": "LayoutModel",
      "state": {}
     },
     "3619da6f4551496f99400517065d6c30": {
      "model_module": "bqplot",
      "model_module_version": "^0.3.0-alpha.1",
      "model_name": "LinearScaleModel",
      "state": {
       "_model_module_version": "^0.3.0-alpha.1",
       "_view_module_version": "^0.3.0-alpha.1",
       "allow_padding": false,
       "max": 1,
       "min": 0,
       "stabilized": false
      }
     },
     "361dc73706f04068a9f4cd9232887e9c": {
      "model_module": "@jupyter-widgets/controls",
      "model_module_version": "3.0.0",
      "model_name": "DescriptionStyleModel",
      "state": {
       "description_width": "initial"
      }
     },
     "363529ad3db24e819d5995d8c926ef88": {
      "model_module": "@jupyter-widgets/controls",
      "model_module_version": "3.0.0",
      "model_name": "DescriptionStyleModel",
      "state": {
       "description_width": "initial"
      }
     },
     "367ffc38e3d64988801df6ff65e73915": {
      "model_module": "bqplot",
      "model_module_version": "^0.3.0-alpha.1",
      "model_name": "AxisModel",
      "state": {
       "_model_module_version": "^0.3.0-alpha.1",
       "_view_module_version": "^0.3.0-alpha.1",
       "orientation": "vertical",
       "scale": "IPY_MODEL_01b09a7a1a9845b0b60237536365002a",
       "side": "left",
       "tick_values": {
        "type": null,
        "values": null
       }
      }
     },
     "369d3c85974847808893c3ab6302008b": {
      "model_module": "@jupyter-widgets/controls",
      "model_module_version": "3.0.0",
      "model_name": "TextModel",
      "state": {
       "description": "Name",
       "layout": "IPY_MODEL_4926df5d9d374a378525e0f2203f211c",
       "style": "IPY_MODEL_0cbb3ff4da3841ab9274fcb0cfc6aa6b",
       "value": "GenCo0"
      }
     },
     "36c59abfc66b4f439fbd4666fd433af4": {
      "model_module": "@jupyter-widgets/controls",
      "model_module_version": "3.0.0",
      "model_name": "BoundedFloatTextModel",
      "state": {
       "description": "Ramp Up Rate (MW/hr):",
       "layout": "IPY_MODEL_67353e6c89254d009aa1594744760f93",
       "style": "IPY_MODEL_d7f3c2e7b8da4bb699ac8d94a04b2cbb"
      }
     },
     "36e4ae2b41a742e9a4eef3d28218c290": {
      "model_module": "@jupyter-widgets/controls",
      "model_module_version": "3.0.0",
      "model_name": "BoundedFloatTextModel",
      "state": {
       "description": "Startup Cost ($/hr):",
       "layout": "IPY_MODEL_8dd7cc7df3fb4668971567965d942418",
       "max": 10000000000,
       "style": "IPY_MODEL_17500b3f27fa433cbd3c5f7bf3e04b5e"
      }
     },
     "370091cebdcd4c99a09a16f2b568fabe": {
      "model_module": "@jupyter-widgets/controls",
      "model_module_version": "3.0.0",
      "model_name": "DescriptionStyleModel",
      "state": {
       "description_width": "initial"
      }
     },
     "370934a0aa5149fb842ceed76b964d68": {
      "model_module": "@jupyter-widgets/base",
      "model_module_version": "3.0.0",
      "model_name": "LayoutModel",
      "state": {}
     },
     "372f929083384b5e99e781a1ee1d7527": {
      "model_module": "@jupyter-widgets/controls",
      "model_module_version": "3.0.0",
      "model_name": "BoundedFloatTextModel",
      "state": {
       "description": "Startup Time (hr):",
       "layout": "IPY_MODEL_0465fb94093442f7af2b2bfdbde31fb8",
       "max": 24,
       "style": "IPY_MODEL_12f24de76a6a4296a18602ee4efdc711"
      }
     },
     "3764f6c126084a7c85fe3cc48e6ce7a6": {
      "model_module": "bqplot",
      "model_module_version": "^0.3.0-alpha.1",
      "model_name": "LinesModel",
      "state": {
       "_model_module_version": "^0.3.0-alpha.1",
       "_view_module_version": "^0.3.0-alpha.1",
       "color": {
        "type": null,
        "values": null
       },
       "display_legend": false,
       "fill_colors": [],
       "labels": [
        "C1"
       ],
       "scales": {
        "x": "IPY_MODEL_d509457317e94e3caba7e7823dcaad15",
        "y": "IPY_MODEL_1eb03e3628364d04b4b4dffeca8949d4"
       },
       "selected": [],
       "x": {
        "type": "float",
        "values": [
         0,
         50,
         94.80085784313725
        ]
       },
       "y": {
        "type": "float",
        "values": [
         0,
         0,
         0
        ]
       }
      }
     },
     "37775ea3c0e24625bd9d98bf50ae91dc": {
      "model_module": "@jupyter-widgets/controls",
      "model_module_version": "3.0.0",
      "model_name": "DescriptionStyleModel",
      "state": {
       "description_width": "initial"
      }
     },
     "37e07421fe2640c9b23ab1432241aa45": {
      "model_module": "@jupyter-widgets/controls",
      "model_module_version": "3.0.0",
      "model_name": "BoundedFloatTextModel",
      "state": {
       "description": "Minimum Down Time (hr):",
       "layout": "IPY_MODEL_8ab1e055751e4aefb7212b81afafa618",
       "max": 24,
       "style": "IPY_MODEL_c57a36aec71a46ef9a15f4b6824b39b3"
      }
     },
     "3828dd657ea44f1c9598d0a5cd150722": {
      "model_module": "@jupyter-widgets/base",
      "model_module_version": "3.0.0",
      "model_name": "LayoutModel",
      "state": {}
     },
     "38d1702306db4a3fb24e17c650eccf69": {
      "model_module": "@jupyter-widgets/controls",
      "model_module_version": "3.0.0",
      "model_name": "DescriptionStyleModel",
      "state": {
       "description_width": "initial"
      }
     },
     "38f3b62daae1493893966d7a02a5ec94": {
      "model_module": "@jupyter-widgets/controls",
      "model_module_version": "3.0.0",
      "model_name": "HBoxModel",
      "state": {
       "children": [
        "IPY_MODEL_c1a0657ea4e340afae8f68e87dfd631a",
        "IPY_MODEL_c99db5dcf3e5496ba5e69dc962b35d55"
       ],
       "layout": "IPY_MODEL_fab168a0350c41a0b067307b29ec6297"
      }
     },
     "3919c5bfc4594e7da4020e06844d14d1": {
      "model_module": "@jupyter-widgets/controls",
      "model_module_version": "3.0.0",
      "model_name": "BoundedFloatTextModel",
      "state": {
       "description": "Ramp Up Rate (MW/hr):",
       "layout": "IPY_MODEL_206df66f19474268a397cd106b0b6f50",
       "style": "IPY_MODEL_71ee6dab20334d1586da7c94f0ccc336"
      }
     },
     "397c5f30508c44718197585878b77dfb": {
      "model_module": "@jupyter-widgets/controls",
      "model_module_version": "3.0.0",
      "model_name": "VBoxModel",
      "state": {
       "children": [
        "IPY_MODEL_6ea584f9107144acb342dc014be6e544"
       ],
       "layout": "IPY_MODEL_8f913c8be3964a9eb9f523293df06a01"
      }
     },
     "39a956bb13ca4ffbb8695463918df4f2": {
      "model_module": "bqplot",
      "model_module_version": "^0.3.0-alpha.1",
      "model_name": "LinearScaleModel",
      "state": {
       "_model_module_version": "^0.3.0-alpha.1",
       "_view_module_version": "^0.3.0-alpha.1",
       "max": 30,
       "min": 0,
       "stabilized": false
      }
     },
     "39b2c8c5c17e406197a9ad09e7cacdcd": {
      "model_module": "@jupyter-widgets/base",
      "model_module_version": "3.0.0",
      "model_name": "LayoutModel",
      "state": {}
     },
     "39c94304101e4864bf9550386b731ef1": {
      "model_module": "@jupyter-widgets/base",
      "model_module_version": "3.0.0",
      "model_name": "LayoutModel",
      "state": {}
     },
     "39ea99a87ede4db2b4e7ca9697ae2e34": {
      "model_module": "@jupyter-widgets/controls",
      "model_module_version": "3.0.0",
      "model_name": "CheckboxModel",
      "state": {
       "description": "Initial Status:",
       "disabled": false,
       "layout": "IPY_MODEL_b6ec9da8986d43c9b4a79c56291623a7",
       "style": "IPY_MODEL_32ba5fd4cf34482e8d2df307be3e5b67",
       "value": true
      }
     },
     "3a27965512e54804a53c5934372415cf": {
      "model_module": "@jupyter-widgets/controls",
      "model_module_version": "3.0.0",
      "model_name": "DescriptionStyleModel",
      "state": {
       "description_width": "initial"
      }
     },
     "3a444eaab0404bc2bf8cdece682a57de": {
      "model_module": "@jupyter-widgets/base",
      "model_module_version": "3.0.0",
      "model_name": "LayoutModel",
      "state": {}
     },
     "3a63be70be5c4cf6aeb260b2c9dfcf27": {
      "model_module": "bqplot",
      "model_module_version": "^0.3.0-alpha.1",
      "model_name": "ScatterModel",
      "state": {
       "_model_module": "bqplot",
       "_model_module_version": "^0.3.0-alpha.1",
       "_view_count": null,
       "_view_module": "bqplot",
       "_view_module_version": "^0.3.0-alpha.1",
       "apply_clip": true,
       "color": {
        "type": null,
        "values": null
       },
       "colors": [
        "DeepSkyBlue"
       ],
       "display_legend": false,
       "enable_hover": true,
       "hovered_style": {},
       "interactions": {
        "hover": "tooltip"
       },
       "labels": [],
       "msg_throttle": 1,
       "names": {
        "type": null,
        "values": null
       },
       "opacity": {
        "type": null,
        "values": null
       },
       "preserve_domain": {},
       "rotation": {
        "type": null,
        "values": null
       },
       "scales": {
        "x": "IPY_MODEL_aecc75e1f08f426b8d67b1675473ec70",
        "y": "IPY_MODEL_f09290a400f946c29d43fc1c1cbe0e44"
       },
       "scales_metadata": {
        "color": {
         "dimension": "color"
        },
        "opacity": {
         "dimension": "opacity"
        },
        "size": {
         "dimension": "size"
        },
        "x": {
         "dimension": "x",
         "orientation": "horizontal"
        },
        "y": {
         "dimension": "y",
         "orientation": "vertical"
        }
       },
       "selected": [],
       "selected_style": {},
       "size": {
        "type": null,
        "values": null
       },
       "skew": {
        "type": null,
        "values": null
       },
       "tooltip": null,
       "tooltip_location": "mouse",
       "tooltip_style": {
        "opacity": 0.9
       },
       "unhovered_style": {},
       "unselected_style": {},
       "visible": true,
       "x": {
        "type": "float",
        "values": [
         0,
         33.333333333333336,
         66.66666666666667,
         100
        ]
       },
       "y": {
        "type": "float",
        "values": [
         0,
         3,
         10,
         20
        ]
       }
      }
     },
     "3a8f00db701a4959ab01989f4fb09f9c": {
      "model_module": "bqplot",
      "model_module_version": "^0.3.0-alpha.1",
      "model_name": "LinesModel",
      "state": {
       "_model_module_version": "^0.3.0-alpha.1",
       "_view_module_version": "^0.3.0-alpha.1",
       "color": {
        "type": null,
        "values": null
       },
       "display_legend": false,
       "fill_colors": [],
       "labels": [
        "C1"
       ],
       "scales": {
        "x": "IPY_MODEL_2f82b65bc39542579fee99b7568a3b11",
        "y": "IPY_MODEL_cc960a04f92f4f65898c4f04c17e8f1a"
       },
       "selected": [],
       "x": {
        "type": "float",
        "values": [
         0,
         33.333333333333336,
         66.66666666666667,
         100
        ]
       },
       "y": {
        "type": "float",
        "values": [
         0,
         3,
         10,
         20
        ]
       }
      }
     },
     "3a969a03a020460a997278148024b3b7": {
      "model_module": "@jupyter-widgets/base",
      "model_module_version": "3.0.0",
      "model_name": "LayoutModel",
      "state": {}
     },
     "3a9e0e385d93487da636f54fddd36d96": {
      "model_module": "@jupyter-widgets/base",
      "model_module_version": "3.0.0",
      "model_name": "LayoutModel",
      "state": {}
     },
     "3aa2fd52b9b24b10b8f3d13cab7d8266": {
      "model_module": "bqplot",
      "model_module_version": "^0.3.0-alpha.1",
      "model_name": "LinesModel",
      "state": {
       "_model_module_version": "^0.3.0-alpha.1",
       "_view_module_version": "^0.3.0-alpha.1",
       "color": {
        "type": null,
        "values": null
       },
       "display_legend": false,
       "fill_colors": [],
       "labels": [
        "C1"
       ],
       "scales": {
        "x": "IPY_MODEL_e9d557d3065e42fcb94831bc2cc3b9dd",
        "y": "IPY_MODEL_07b3622f0ff74a2c982a17fbe40818ed"
       },
       "selected": [],
       "x": {
        "type": "float",
        "values": [
         0,
         7.6923076923076925,
         15.384615384615385,
         23.076923076923077,
         30.76923076923077,
         38.46153846153846,
         46.15384615384615,
         53.84615384615385,
         61.53846153846154,
         69.23076923076923,
         76.92307692307692,
         84.61538461538461,
         92.3076923076923,
         100
        ]
       },
       "y": {
        "type": "float",
        "values": [
         0,
         0,
         0,
         0,
         0,
         0,
         0,
         0,
         0,
         0,
         0,
         0,
         0,
         0
        ]
       }
      }
     },
     "3ab46a6adc754fa0b472769b0d91901e": {
      "model_module": "@jupyter-widgets/base",
      "model_module_version": "3.0.0",
      "model_name": "LayoutModel",
      "state": {}
     },
     "3abf7f3bae2f4f2da4bd66a681d89521": {
      "model_module": "@jupyter-widgets/base",
      "model_module_version": "3.0.0",
      "model_name": "LayoutModel",
      "state": {}
     },
     "3af2e0fd8d0a41b688576c541054a86a": {
      "model_module": "@jupyter-widgets/base",
      "model_module_version": "3.0.0",
      "model_name": "LayoutModel",
      "state": {}
     },
     "3afa1be8983d45f3a4dfe40792d168e1": {
      "model_module": "@jupyter-widgets/base",
      "model_module_version": "3.0.0",
      "model_name": "LayoutModel",
      "state": {}
     },
     "3bb16d7d1ae446a69fb8a4ee6ba75a00": {
      "model_module": "@jupyter-widgets/base",
      "model_module_version": "3.0.0",
      "model_name": "LayoutModel",
      "state": {}
     },
     "3c4a67b4c90842d4b33f7ee4050deffa": {
      "model_module": "@jupyter-widgets/controls",
      "model_module_version": "3.0.0",
      "model_name": "DescriptionStyleModel",
      "state": {
       "description_width": "initial"
      }
     },
     "3ce66effac244cbfbdd594846c467da7": {
      "model_module": "@jupyter-widgets/controls",
      "model_module_version": "3.0.0",
      "model_name": "DescriptionStyleModel",
      "state": {
       "description_width": "initial"
      }
     },
     "3d50762f27a94d08abce25a62ec6bc37": {
      "model_module": "bqplot",
      "model_module_version": "^0.3.0-alpha.1",
      "model_name": "FigureModel",
      "state": {
       "_dom_classes": [],
       "_model_module_version": "^0.3.0-alpha.1",
       "_view_module_version": "^0.3.0-alpha.1",
       "axes": [
        "IPY_MODEL_d7d2e42fa9574b5d940536628dec7d55",
        "IPY_MODEL_a544eee4050c4b3e8ba466af1689c70d"
       ],
       "layout": "IPY_MODEL_21302b4427e84240abde7fc7407e58f9",
       "marks": [
        "IPY_MODEL_6507569729ab4e04bdf5f301229fe338",
        "IPY_MODEL_f4478239d5c942f587ee65a6fef608f4"
       ],
       "max_aspect_ratio": 6,
       "scale_x": "IPY_MODEL_64538758b98f416ca15e0a0e499ac7d8",
       "scale_y": "IPY_MODEL_67ac48ef5cce4dec873eb6dd652cfc17"
      }
     },
     "3d943690b8c94eab89fe8fc8a3c4e24c": {
      "model_module": "@jupyter-widgets/controls",
      "model_module_version": "3.0.0",
      "model_name": "HBoxModel",
      "state": {
       "children": [
        "IPY_MODEL_d92f80ea272d41ac8b462cafe951d79f",
        "IPY_MODEL_b1e590e8afa84639b6dae17de10ef270"
       ],
       "layout": "IPY_MODEL_ea8d643ee8124207b1a92d1fabda0d87"
      }
     },
     "3dbadc4d7f7546a2981daf6d97ff4f3c": {
      "model_module": "@jupyter-widgets/base",
      "model_module_version": "3.0.0",
      "model_name": "LayoutModel",
      "state": {}
     },
     "3dd650507fe1486892902e5385691e4e": {
      "model_module": "@jupyter-widgets/controls",
      "model_module_version": "3.0.0",
      "model_name": "VBoxModel",
      "state": {
       "children": [
        "IPY_MODEL_700a0e59811d4c46975672aa85045b32",
        "IPY_MODEL_6f95e791f943445ab92ffb6d98a889b6",
        "IPY_MODEL_a3f6a787c7004c8db9f1c7227dcbc97a",
        "IPY_MODEL_aac72547e1b34d99bb258befc95a0f1a",
        "IPY_MODEL_ed74fe9c0e5e4d62be10c5c021e45b91",
        "IPY_MODEL_6a9c7c7e9fc24d7e9bc603a46cbe7dd3",
        "IPY_MODEL_801a0d786baf4066b41ae3df9b052ccd",
        "IPY_MODEL_a9d49b60226c479db3c08f0119266207",
        "IPY_MODEL_fd6afb0939a94cc298a54f964210f724",
        "IPY_MODEL_b93e3c50ea334d8390ac6ef1e41f4ce4",
        "IPY_MODEL_6ff5ba789fa34f68a47d1fc45224f498",
        "IPY_MODEL_0d607bbe82f244c6a00dcf00fc95e896",
        "IPY_MODEL_feb0ad8a8c1249e88aad1802c4bf433d",
        "IPY_MODEL_2e0054e5975e460a91b811608c4dad52",
        "IPY_MODEL_8b6c344c70f14813a850ae30f1d4381b",
        "IPY_MODEL_671fd029407b46c69e1fea4dd0bdaa86"
       ],
       "layout": "IPY_MODEL_b92de9ecb4ea4172ab2755ce640469b6"
      }
     },
     "3e13b370aada4d8ca9502ecfe9ead1f3": {
      "model_module": "@jupyter-widgets/controls",
      "model_module_version": "3.0.0",
      "model_name": "DescriptionStyleModel",
      "state": {
       "description_width": "initial"
      }
     },
     "3e17b7ef86ae4eaf90e0c6256e646e13": {
      "model_module": "@jupyter-widgets/controls",
      "model_module_version": "3.0.0",
      "model_name": "DescriptionStyleModel",
      "state": {
       "description_width": "initial"
      }
     },
     "3e280c54b9a140adbc93fe2f2771df9c": {
      "model_module": "@jupyter-widgets/base",
      "model_module_version": "3.0.0",
      "model_name": "LayoutModel",
      "state": {}
     },
     "3e286d96a9e8452a84add105dba82683": {
      "model_module": "bqplot",
      "model_module_version": "^0.3.0-alpha.1",
      "model_name": "LinearScaleModel",
      "state": {
       "_model_module_version": "^0.3.0-alpha.1",
       "_view_module_version": "^0.3.0-alpha.1",
       "allow_padding": false,
       "max": 1,
       "min": 0,
       "stabilized": false
      }
     },
     "3e2f50df0f7d4db0a17f40dfa09e601c": {
      "model_module": "@jupyter-widgets/controls",
      "model_module_version": "3.0.0",
      "model_name": "CheckboxModel",
      "state": {
       "description": "Initial Status:",
       "disabled": false,
       "layout": "IPY_MODEL_1dbbde0d67b2413185df577114f43c97",
       "style": "IPY_MODEL_52b0d7b6d5f24be6bf1337a278ec00ac",
       "value": true
      }
     },
     "3e315c3dcff44fc7b0dd5e57843df368": {
      "model_module": "@jupyter-widgets/controls",
      "model_module_version": "3.0.0",
      "model_name": "DescriptionStyleModel",
      "state": {
       "description_width": "initial"
      }
     },
     "3e6fea8c46b6485292c572540f49d7c0": {
      "model_module": "@jupyter-widgets/controls",
      "model_module_version": "3.0.0",
      "model_name": "DropdownModel",
      "state": {
       "_options_labels": [
        "COAL",
        "NATURALGAS",
        "WIND"
       ],
       "description": "Generation Type:",
       "index": 0,
       "layout": "IPY_MODEL_b9157a7607814374915858cbb398bdbd",
       "style": "IPY_MODEL_cb15a4ca21384df7bd5df6340baca5f2"
      }
     },
     "3e75edb83a274c5387496b2248460823": {
      "model_module": "@jupyter-widgets/controls",
      "model_module_version": "3.0.0",
      "model_name": "DescriptionStyleModel",
      "state": {
       "description_width": "initial"
      }
     },
     "3e936f237ba148c18c05bf696d3ad845": {
      "model_module": "@jupyter-widgets/base",
      "model_module_version": "3.0.0",
      "model_name": "LayoutModel",
      "state": {}
     },
     "3ec14aa7f4d34043b1e570c01ec0821f": {
      "model_module": "@jupyter-widgets/controls",
      "model_module_version": "3.0.0",
      "model_name": "IntSliderModel",
      "state": {
       "description": "Number of Cost Curve Segments",
       "layout": "IPY_MODEL_5deecb08bda74a3783039a2daf051f39",
       "max": 50,
       "min": 2,
       "style": "IPY_MODEL_d69880ffadef45269789016cb03c5fd1",
       "value": 3
      }
     },
     "3ee365f7cf7a463bb3705de4fe433bb5": {
      "model_module": "@jupyter-widgets/controls",
      "model_module_version": "3.0.0",
      "model_name": "BoundedFloatTextModel",
      "state": {
       "description": "Ramp Down Rate (MW/hr):",
       "layout": "IPY_MODEL_2eed63979b7246589b5cbac00652cdb6",
       "style": "IPY_MODEL_e8b167f8566f4f8081e43ce5dce0efaf"
      }
     },
     "3ef227df61044597a5c1b198d6283480": {
      "model_module": "@jupyter-widgets/base",
      "model_module_version": "3.0.0",
      "model_name": "LayoutModel",
      "state": {}
     },
     "3ef9f176a52746ce919807a9523159af": {
      "model_module": "bqplot",
      "model_module_version": "^0.3.0-alpha.1",
      "model_name": "LinearScaleModel",
      "state": {
       "_model_module_version": "^0.3.0-alpha.1",
       "_view_module_version": "^0.3.0-alpha.1",
       "allow_padding": false,
       "max": 1,
       "min": 0,
       "stabilized": false
      }
     },
     "3f172ca5ae4b44639aeff343c008e1df": {
      "model_module": "@jupyter-widgets/controls",
      "model_module_version": "3.0.0",
      "model_name": "BoundedFloatTextModel",
      "state": {
       "description": "Initial Generation (MW):",
       "layout": "IPY_MODEL_0f1456c72cf74f22a6dda1b6f32ed3d7",
       "style": "IPY_MODEL_8076fd13f78c4aab812f189eda53bc4b"
      }
     },
     "3f2a6803094f4decbc45352352a20ed8": {
      "model_module": "@jupyter-widgets/controls",
      "model_module_version": "3.0.0",
      "model_name": "DropdownModel",
      "state": {
       "_options_labels": [
        "COAL",
        "NATURALGAS",
        "WIND"
       ],
       "description": "Generation Type:",
       "index": 0,
       "layout": "IPY_MODEL_f0d36fa36bcb407b8502269a8890ab8f",
       "style": "IPY_MODEL_0886d2dc7ce84eb8972157e587349075"
      }
     },
     "3f719dd1dbf64fbf949dc826847cf76f": {
      "model_module": "bqplot",
      "model_module_version": "^0.3.0-alpha.1",
      "model_name": "ScatterModel",
      "state": {
       "_model_module": "bqplot",
       "_model_module_version": "^0.3.0-alpha.1",
       "_view_count": null,
       "_view_module": "bqplot",
       "_view_module_version": "^0.3.0-alpha.1",
       "apply_clip": true,
       "color": {
        "type": null,
        "values": null
       },
       "colors": [
        "DeepSkyBlue"
       ],
       "display_legend": false,
       "enable_hover": true,
       "hovered_style": {},
       "interactions": {
        "hover": "tooltip"
       },
       "labels": [],
       "msg_throttle": 1,
       "names": {
        "type": null,
        "values": null
       },
       "opacity": {
        "type": null,
        "values": null
       },
       "preserve_domain": {},
       "rotation": {
        "type": null,
        "values": null
       },
       "scales": {
        "x": "IPY_MODEL_73967179ec6e4748aa8dc1cb86bc5dc9",
        "y": "IPY_MODEL_39a956bb13ca4ffbb8695463918df4f2"
       },
       "scales_metadata": {
        "color": {
         "dimension": "color"
        },
        "opacity": {
         "dimension": "opacity"
        },
        "size": {
         "dimension": "size"
        },
        "x": {
         "dimension": "x",
         "orientation": "horizontal"
        },
        "y": {
         "dimension": "y",
         "orientation": "vertical"
        }
       },
       "selected": [],
       "selected_style": {},
       "size": {
        "type": null,
        "values": null
       },
       "skew": {
        "type": null,
        "values": null
       },
       "tooltip": null,
       "tooltip_location": "mouse",
       "tooltip_style": {
        "opacity": 0.9
       },
       "unhovered_style": {},
       "unselected_style": {},
       "visible": true,
       "x": {
        "type": "float",
        "values": [
         0,
         33.333333333333336,
         66.66666666666667,
         100
        ]
       },
       "y": {
        "type": "float",
        "values": [
         0,
         3,
         10,
         20
        ]
       }
      }
     },
     "3f7931037d3843c5ade8cb6eb301c576": {
      "model_module": "@jupyter-widgets/base",
      "model_module_version": "3.0.0",
      "model_name": "LayoutModel",
      "state": {}
     },
     "3fd14554383a4198863a4f2c9ca72d22": {
      "model_module": "@jupyter-widgets/controls",
      "model_module_version": "3.0.0",
      "model_name": "BoundedFloatTextModel",
      "state": {
       "description": "No-Load Cost ($/hr):",
       "layout": "IPY_MODEL_d69e741755884404b6b6689ac325e073",
       "max": 10000000000,
       "style": "IPY_MODEL_b48616e437ed45cb9aa31f4f138b495b"
      }
     },
     "4006d55f900541188344e931ec80f3a2": {
      "model_module": "bqplot",
      "model_module_version": "^0.3.0-alpha.1",
      "model_name": "ScatterModel",
      "state": {
       "_model_module": "bqplot",
       "_model_module_version": "^0.3.0-alpha.1",
       "_view_count": null,
       "_view_module": "bqplot",
       "_view_module_version": "^0.3.0-alpha.1",
       "apply_clip": true,
       "color": {
        "type": null,
        "values": null
       },
       "colors": [
        "DeepSkyBlue"
       ],
       "display_legend": false,
       "enable_hover": true,
       "enable_move": true,
       "hovered_style": {},
       "interactions": {
        "click": null
       },
       "labels": [],
       "msg_throttle": 1,
       "names": {
        "type": null,
        "values": null
       },
       "opacity": {
        "type": null,
        "values": null
       },
       "preserve_domain": {},
       "rotation": {
        "type": null,
        "values": null
       },
       "scales": {
        "x": "IPY_MODEL_2e757b6141484a4c9e74035b2c3255c5",
        "y": "IPY_MODEL_e806d47d33c448b19cb6d2bc7768a25e"
       },
       "scales_metadata": {
        "color": {
         "dimension": "color"
        },
        "opacity": {
         "dimension": "opacity"
        },
        "size": {
         "dimension": "size"
        },
        "x": {
         "dimension": "x",
         "orientation": "horizontal"
        },
        "y": {
         "dimension": "y",
         "orientation": "vertical"
        }
       },
       "selected": [],
       "selected_style": {},
       "size": {
        "type": null,
        "values": null
       },
       "skew": {
        "type": null,
        "values": null
       },
       "tooltip": null,
       "tooltip_location": "mouse",
       "tooltip_style": {
        "opacity": 0.9
       },
       "unhovered_style": {},
       "unselected_style": {},
       "update_on_move": true,
       "visible": true,
       "x": {
        "type": "float",
        "values": [
         20,
         54.9969362745098,
         82.25183823529412
        ]
       },
       "y": {
        "type": "float",
        "values": [
         10,
         24.32699548192771,
         44.20651355421687
        ]
       }
      }
     },
     "4026410bd227414397284f36bc924235": {
      "model_module": "bqplot",
      "model_module_version": "^0.3.0-alpha.1",
      "model_name": "LinearScaleModel",
      "state": {
       "_model_module_version": "^0.3.0-alpha.1",
       "_view_module_version": "^0.3.0-alpha.1",
       "allow_padding": false,
       "max": 1,
       "min": 0,
       "stabilized": false
      }
     },
     "403983b84ba44f82bdede4696bb629b0": {
      "model_module": "@jupyter-widgets/controls",
      "model_module_version": "3.0.0",
      "model_name": "BoundedFloatTextModel",
      "state": {
       "description": "Initial Generation (MW):",
       "layout": "IPY_MODEL_c693f581d1e8439fb2c5ec5b868b1129",
       "style": "IPY_MODEL_d791a329f8284bb98f4bb82a0ca5fe1e"
      }
     },
     "4040d5456d9c4b82bd03ea6f1c3d726d": {
      "model_module": "@jupyter-widgets/base",
      "model_module_version": "3.0.0",
      "model_name": "LayoutModel",
      "state": {}
     },
     "4064d89aa9db4dfca406d9d803535a71": {
      "model_module": "@jupyter-widgets/controls",
      "model_module_version": "3.0.0",
      "model_name": "SliderStyleModel",
      "state": {
       "description_width": "initial"
      }
     },
     "409cf4a0b7da4c71a2cacb525eb82d49": {
      "model_module": "@jupyter-widgets/base",
      "model_module_version": "3.0.0",
      "model_name": "LayoutModel",
      "state": {}
     },
     "4144c0dadbea4dd8883beeb68e0ec25f": {
      "model_module": "@jupyter-widgets/controls",
      "model_module_version": "3.0.0",
      "model_name": "BoundedFloatTextModel",
      "state": {
       "description": "Initial Generation (MW):",
       "layout": "IPY_MODEL_8b22ffda25644d9ca6c2794c99843fed",
       "style": "IPY_MODEL_1b263fec7c854a23ab1b7756386f01db"
      }
     },
     "41e77328884e4847a497651a242efb50": {
      "model_module": "@jupyter-widgets/controls",
      "model_module_version": "3.0.0",
      "model_name": "SliderStyleModel",
      "state": {
       "description_width": "initial"
      }
     },
     "4212fdb9f9e3492ea2e9127b75fe209d": {
      "model_module": "@jupyter-widgets/base",
      "model_module_version": "3.0.0",
      "model_name": "LayoutModel",
      "state": {}
     },
     "42187540f67847af8efb3fd55d9fc171": {
      "model_module": "@jupyter-widgets/base",
      "model_module_version": "3.0.0",
      "model_name": "LayoutModel",
      "state": {}
     },
     "425119c8e02a4f9c846eebf970f1f0dd": {
      "model_module": "@jupyter-widgets/controls",
      "model_module_version": "3.0.0",
      "model_name": "BoundedFloatTextModel",
      "state": {
       "description": "Capacity (MW):",
       "layout": "IPY_MODEL_cc7f649e4d3b42b2bb25802f94705bfe",
       "max": 10000000000,
       "style": "IPY_MODEL_88df1a1b24ec4f299bee727c5a914e9d",
       "value": 100
      }
     },
     "4262601083b74c0894138f68b908f9a0": {
      "model_module": "@jupyter-widgets/base",
      "model_module_version": "3.0.0",
      "model_name": "LayoutModel",
      "state": {
       "min_width": "125px"
      }
     },
     "42b8bb599e4b463a9faf9237c2be75d7": {
      "model_module": "bqplot",
      "model_module_version": "^0.3.0-alpha.1",
      "model_name": "AxisModel",
      "state": {
       "_model_module_version": "^0.3.0-alpha.1",
       "_view_module_version": "^0.3.0-alpha.1",
       "orientation": "vertical",
       "scale": "IPY_MODEL_077a733d42644ff9927a34bd31daa71c",
       "side": "left",
       "tick_values": {
        "type": null,
        "values": null
       }
      }
     },
     "43096b221e034d94ae482428fb8884c9": {
      "model_module": "@jupyter-widgets/controls",
      "model_module_version": "3.0.0",
      "model_name": "DescriptionStyleModel",
      "state": {
       "description_width": "initial"
      }
     },
     "437205b6cf8c4edb9275f7a45d262c55": {
      "model_module": "@jupyter-widgets/controls",
      "model_module_version": "3.0.0",
      "model_name": "SliderStyleModel",
      "state": {
       "description_width": "initial"
      }
     },
     "4384c5a0ba81468384aed2eed844167e": {
      "model_module": "@jupyter-widgets/controls",
      "model_module_version": "3.0.0",
      "model_name": "DescriptionStyleModel",
      "state": {
       "description_width": "initial"
      }
     },
     "438ec67c47d34dc5aae4c0a50e63bc3e": {
      "model_module": "@jupyter-widgets/controls",
      "model_module_version": "3.0.0",
      "model_name": "DescriptionStyleModel",
      "state": {
       "description_width": "initial"
      }
     },
     "43a440b04c624d48ac09a9fa7e0f352d": {
      "model_module": "@jupyter-widgets/controls",
      "model_module_version": "3.0.0",
      "model_name": "BoundedFloatTextModel",
      "state": {
       "description": "Startup Time (hr):",
       "layout": "IPY_MODEL_60238dae23bf42cc9c81ccda24566e81",
       "max": 24,
       "style": "IPY_MODEL_d25700c3d51540e5b48701c002ddf4fc"
      }
     },
     "43c42ae70266416f97021762db4d13cc": {
      "model_module": "bqplot",
      "model_module_version": "^0.3.0-alpha.1",
      "model_name": "FigureModel",
      "state": {
       "_dom_classes": [],
       "_model_module_version": "^0.3.0-alpha.1",
       "_view_module_version": "^0.3.0-alpha.1",
       "axes": [
        "IPY_MODEL_63e0a90d44f54fd5bf95b1454671ffa9",
        "IPY_MODEL_dc56f3cc01e644f7bdeb58094ce20349"
       ],
       "layout": "IPY_MODEL_edc994938578411bab59740261d1e745",
       "marks": [
        "IPY_MODEL_852755522bb849df9ad9723dee1b0d6d",
        "IPY_MODEL_fde3c2db6f404a858ffe56e22a26a95b"
       ],
       "max_aspect_ratio": 6,
       "scale_x": "IPY_MODEL_128230b038784d4a9959e9e417d26f18",
       "scale_y": "IPY_MODEL_c39ecd1859a14d7e9bb0ba5948aa539c"
      }
     },
     "43ecc457350a42a9b84327f628998fd2": {
      "model_module": "@jupyter-widgets/controls",
      "model_module_version": "3.0.0",
      "model_name": "BoundedFloatTextModel",
      "state": {
       "description": "No-Load Cost ($/hr):",
       "layout": "IPY_MODEL_6a89427ecd024652b8481943e86a5603",
       "max": 10000000000,
       "style": "IPY_MODEL_4ad18a727c7c44c7aa088fd7c16068dd",
       "value": 10
      }
     },
     "43f2a94ecdb346f8ba8c5e9663ace122": {
      "model_module": "bqplot",
      "model_module_version": "^0.3.0-alpha.1",
      "model_name": "AxisModel",
      "state": {
       "_model_module_version": "^0.3.0-alpha.1",
       "_view_module_version": "^0.3.0-alpha.1",
       "scale": "IPY_MODEL_592999571cdf420c8c6f7b965611f98f",
       "side": "bottom",
       "tick_values": {
        "type": null,
        "values": null
       }
      }
     },
     "44275a34875d46c29a8eb12457875f9e": {
      "model_module": "@jupyter-widgets/controls",
      "model_module_version": "3.0.0",
      "model_name": "HBoxModel",
      "state": {
       "children": [
        "IPY_MODEL_49ca199808024db59162adab37e89a27",
        "IPY_MODEL_c92f3dba596b4f1a9f5639333cb010fb"
       ],
       "layout": "IPY_MODEL_ab569479504243b3a2db64487a0a976f"
      }
     },
     "4442700008ec49d5acb87319b9912660": {
      "model_module": "bqplot",
      "model_module_version": "^0.3.0-alpha.1",
      "model_name": "LinearScaleModel",
      "state": {
       "_model_module_version": "^0.3.0-alpha.1",
       "_view_module_version": "^0.3.0-alpha.1",
       "max": 0,
       "min": 0,
       "stabilized": false
      }
     },
     "445c9e94fdb14c9790586dc7d0f998bd": {
      "model_module": "@jupyter-widgets/base",
      "model_module_version": "3.0.0",
      "model_name": "LayoutModel",
      "state": {}
     },
     "44b1bdf0600c40a6892fe5ca176d0eca": {
      "model_module": "bqplot",
      "model_module_version": "^0.3.0-alpha.1",
      "model_name": "LinearScaleModel",
      "state": {
       "_model_module_version": "^0.3.0-alpha.1",
       "_view_module_version": "^0.3.0-alpha.1",
       "max": 0,
       "min": 0,
       "stabilized": false
      }
     },
     "4543ba011e3342ccbbb1ef3012ceec77": {
      "model_module": "@jupyter-widgets/controls",
      "model_module_version": "3.0.0",
      "model_name": "SliderStyleModel",
      "state": {
       "description_width": "initial"
      }
     },
     "4583a5a414f34bc98f15ee33bd3890cd": {
      "model_module": "bqplot",
      "model_module_version": "^0.3.0-alpha.1",
      "model_name": "AxisModel",
      "state": {
       "_model_module_version": "^0.3.0-alpha.1",
       "_view_module_version": "^0.3.0-alpha.1",
       "orientation": "vertical",
       "scale": "IPY_MODEL_077a733d42644ff9927a34bd31daa71c",
       "side": "left",
       "tick_values": {
        "type": null,
        "values": null
       }
      }
     },
     "459e6b0757f346f9bb91c826ac395887": {
      "model_module": "@jupyter-widgets/controls",
      "model_module_version": "3.0.0",
      "model_name": "DescriptionStyleModel",
      "state": {
       "description_width": "initial"
      }
     },
     "45d0455ba3d64a75b5e01026801c9de3": {
      "model_module": "@jupyter-widgets/controls",
      "model_module_version": "3.0.0",
      "model_name": "BoundedFloatTextModel",
      "state": {
       "description": "Initial Generation (MW):",
       "layout": "IPY_MODEL_efb0e74e83c94cb9b43205272198dfca",
       "style": "IPY_MODEL_7348808783f448fab79c314f30fd3bc8"
      }
     },
     "45d8608438f645e993c249bc3fe213cd": {
      "model_module": "@jupyter-widgets/controls",
      "model_module_version": "3.0.0",
      "model_name": "DropdownModel",
      "state": {
       "_options_labels": [
        "COAL",
        "NATURALGAS",
        "WIND"
       ],
       "description": "Generation Type:",
       "index": 0,
       "layout": "IPY_MODEL_5c4cb46a8bd244c8a2eb0107afc626bb",
       "style": "IPY_MODEL_363529ad3db24e819d5995d8c926ef88"
      }
     },
     "45e58c537e5c4ee19ec42b6010c475fd": {
      "model_module": "bqplot",
      "model_module_version": "^0.3.0-alpha.1",
      "model_name": "FigureModel",
      "state": {
       "_dom_classes": [],
       "_model_module_version": "^0.3.0-alpha.1",
       "_view_module_version": "^0.3.0-alpha.1",
       "axes": [
        "IPY_MODEL_fe48f095a8d14f72a364b905780c13ef",
        "IPY_MODEL_6fa44deca03e47bc968e138887d0800c"
       ],
       "layout": "IPY_MODEL_0c1f24cd682d4242bbd2d7afb5cbcec2",
       "marks": [
        "IPY_MODEL_2b5871877c804b7b8c55263d958ddb20",
        "IPY_MODEL_217a4dc858c34a87821fa12282a04e22"
       ],
       "max_aspect_ratio": 6,
       "scale_x": "IPY_MODEL_168d504a57014488a5b6c516c308570b",
       "scale_y": "IPY_MODEL_69814af0aba04f0d80aa5255e756dde6"
      }
     },
     "45fa62ca3f1e408cae899aa9096424eb": {
      "model_module": "@jupyter-widgets/base",
      "model_module_version": "3.0.0",
      "model_name": "LayoutModel",
      "state": {}
     },
     "466f089423284085813af5cc2961101b": {
      "model_module": "@jupyter-widgets/controls",
      "model_module_version": "3.0.0",
      "model_name": "DropdownModel",
      "state": {
       "_options_labels": [
        "COAL",
        "NATURALGAS",
        "WIND"
       ],
       "description": "Generation Type:",
       "index": 0,
       "layout": "IPY_MODEL_8fd6054eb31d4f0597a635e1166a9afc",
       "style": "IPY_MODEL_4cff382c0e2641a995ab37309cdc8558"
      }
     },
     "46795c73538249918f3d36311d6d7729": {
      "model_module": "@jupyter-widgets/controls",
      "model_module_version": "3.0.0",
      "model_name": "HTMLModel",
      "state": {
       "layout": "IPY_MODEL_216f079f7f63444ea7637640dc6690af",
       "style": "IPY_MODEL_887ee12cc17f4d8187e8c7516b872f61",
       "value": "Generator:"
      }
     },
     "467d709ba3594fdfbe9a0c551fd6d2f9": {
      "model_module": "bqplot",
      "model_module_version": "^0.3.0-alpha.1",
      "model_name": "LinearScaleModel",
      "state": {
       "_model_module_version": "^0.3.0-alpha.1",
       "_view_module_version": "^0.3.0-alpha.1",
       "allow_padding": false,
       "max": 1,
       "min": 0,
       "stabilized": false
      }
     },
     "46a8422d265045b0ad843772d80fd402": {
      "model_module": "@jupyter-widgets/base",
      "model_module_version": "3.0.0",
      "model_name": "LayoutModel",
      "state": {}
     },
     "46ad0ad09c984ebf9e227c9abe7b8e60": {
      "model_module": "bqplot",
      "model_module_version": "^0.3.0-alpha.1",
      "model_name": "AxisModel",
      "state": {
       "_model_module_version": "^0.3.0-alpha.1",
       "_view_module_version": "^0.3.0-alpha.1",
       "scale": "IPY_MODEL_e9d557d3065e42fcb94831bc2cc3b9dd",
       "side": "bottom",
       "tick_values": {
        "type": null,
        "values": null
       }
      }
     },
     "46b191ac18ae47f4b398031b110296a9": {
      "model_module": "@jupyter-widgets/base",
      "model_module_version": "3.0.0",
      "model_name": "LayoutModel",
      "state": {}
     },
     "46c71dbda2344652bd96614e8254b23a": {
      "model_module": "@jupyter-widgets/base",
      "model_module_version": "3.0.0",
      "model_name": "LayoutModel",
      "state": {}
     },
     "46dfebe73a044245a0be3dd99aadbc24": {
      "model_module": "@jupyter-widgets/base",
      "model_module_version": "3.0.0",
      "model_name": "LayoutModel",
      "state": {}
     },
     "47264276557b4d8393befd129f7f9a19": {
      "model_module": "@jupyter-widgets/base",
      "model_module_version": "3.0.0",
      "model_name": "LayoutModel",
      "state": {}
     },
     "47bbb51307b54f46892178ec3bc894d2": {
      "model_module": "@jupyter-widgets/base",
      "model_module_version": "3.0.0",
      "model_name": "LayoutModel",
      "state": {}
     },
     "4823d2078cde48029ed4528ae74fde1f": {
      "model_module": "bqplot",
      "model_module_version": "^0.3.0-alpha.1",
      "model_name": "LinearScaleModel",
      "state": {
       "_model_module_version": "^0.3.0-alpha.1",
       "_view_module_version": "^0.3.0-alpha.1",
       "allow_padding": false,
       "max": 1,
       "min": 0,
       "stabilized": false
      }
     },
     "482af2d303df491bb83ec6703ebbac5c": {
      "model_module": "@jupyter-widgets/base",
      "model_module_version": "3.0.0",
      "model_name": "LayoutModel",
      "state": {}
     },
     "485d986eebe2477ba726528ba1d0a201": {
      "model_module": "@jupyter-widgets/controls",
      "model_module_version": "3.0.0",
      "model_name": "DescriptionStyleModel",
      "state": {
       "description_width": "initial"
      }
     },
     "488574ade4c945028e7740cd6533663f": {
      "model_module": "@jupyter-widgets/controls",
      "model_module_version": "3.0.0",
      "model_name": "DescriptionStyleModel",
      "state": {
       "description_width": "initial"
      }
     },
     "4890682ef2b2436dab316c83f009652f": {
      "model_module": "@jupyter-widgets/base",
      "model_module_version": "3.0.0",
      "model_name": "LayoutModel",
      "state": {}
     },
     "48a37c7e28da45579c805db954dbbd40": {
      "model_module": "@jupyter-widgets/controls",
      "model_module_version": "3.0.0",
      "model_name": "DescriptionStyleModel",
      "state": {
       "description_width": "initial"
      }
     },
     "48f5684a22ea4b2d9cba02b9d0175354": {
      "model_module": "@jupyter-widgets/base",
      "model_module_version": "3.0.0",
      "model_name": "LayoutModel",
      "state": {}
     },
     "48ff0472c51545638769e5a86451f222": {
      "model_module": "@jupyter-widgets/controls",
      "model_module_version": "3.0.0",
      "model_name": "DescriptionStyleModel",
      "state": {
       "description_width": "initial"
      }
     },
     "4905f480d9c6461aab6a620ef853a7f5": {
      "model_module": "bqplot",
      "model_module_version": "^0.3.0-alpha.1",
      "model_name": "LinesModel",
      "state": {
       "_model_module_version": "^0.3.0-alpha.1",
       "_view_module_version": "^0.3.0-alpha.1",
       "color": {
        "type": null,
        "values": null
       },
       "display_legend": false,
       "fill_colors": [],
       "labels": [
        "C1"
       ],
       "scales": {
        "x": "IPY_MODEL_aecc75e1f08f426b8d67b1675473ec70",
        "y": "IPY_MODEL_f09290a400f946c29d43fc1c1cbe0e44"
       },
       "selected": [],
       "x": {
        "type": "float",
        "values": [
         0,
         33.333333333333336,
         66.66666666666667,
         100
        ]
       },
       "y": {
        "type": "float",
        "values": [
         0,
         0,
         0,
         0
        ]
       }
      }
     },
     "4926df5d9d374a378525e0f2203f211c": {
      "model_module": "@jupyter-widgets/base",
      "model_module_version": "3.0.0",
      "model_name": "LayoutModel",
      "state": {}
     },
     "495101eaa1e5470cbfaf91cffc36aa04": {
      "model_module": "@jupyter-widgets/controls",
      "model_module_version": "3.0.0",
      "model_name": "DescriptionStyleModel",
      "state": {
       "description_width": "initial"
      }
     },
     "4972ef7dbab040ecb27e2f9d0bd16ab7": {
      "model_module": "@jupyter-widgets/controls",
      "model_module_version": "3.0.0",
      "model_name": "BoundedFloatTextModel",
      "state": {
       "description": "Ramp Up Rate (MW/hr):",
       "layout": "IPY_MODEL_ac945e3782754ecabcc11c95321b4f7b",
       "style": "IPY_MODEL_ead7f82fbd194819ac841120096f3fc9"
      }
     },
     "497878ddae5d464f8619e2d760674e31": {
      "model_module": "@jupyter-widgets/base",
      "model_module_version": "3.0.0",
      "model_name": "LayoutModel",
      "state": {}
     },
     "499ed2dda2d241349a288f7453bd0f10": {
      "model_module": "@jupyter-widgets/base",
      "model_module_version": "3.0.0",
      "model_name": "LayoutModel",
      "state": {}
     },
     "49ca199808024db59162adab37e89a27": {
      "model_module": "@jupyter-widgets/controls",
      "model_module_version": "3.0.0",
      "model_name": "VBoxModel",
      "state": {
       "children": [
        "IPY_MODEL_8cdae4d933d14362a1aadae00a183eca",
        "IPY_MODEL_c7db45496f52495ea08e1def9193f32c",
        "IPY_MODEL_575f9eb3acff44508cef38a8a5f1ff16",
        "IPY_MODEL_a44d0943f4ae4896ab7881af66bb3c82",
        "IPY_MODEL_973f026258394af38684a3f9fb5b08c2",
        "IPY_MODEL_b3ea1b239b684f28a9a712c64c32a9f8",
        "IPY_MODEL_0175604c35aa4b80a736bb92b0afd003",
        "IPY_MODEL_6b5ba3481cf24698a8c495ee95cee24a",
        "IPY_MODEL_f4b7c0af664f4a26a757bc3d868ebabb",
        "IPY_MODEL_115a666081944b878e79a678d616540b",
        "IPY_MODEL_4972ef7dbab040ecb27e2f9d0bd16ab7",
        "IPY_MODEL_c224dcb5595449158384a85b5645fe90",
        "IPY_MODEL_d5bb3a424e4a426dada54eb820986161",
        "IPY_MODEL_15a0306785b24b3a89771974939e40f1",
        "IPY_MODEL_55f39805d3f84de5a85cbc22a2bc261e",
        "IPY_MODEL_76597730f558463a8f49dc233ce0a150"
       ],
       "layout": "IPY_MODEL_22d0174587ed4983bdcac37691b0ceb4"
      }
     },
     "49ca67089d864dc68a183d70ad7a43d2": {
      "model_module": "@jupyter-widgets/controls",
      "model_module_version": "3.0.0",
      "model_name": "VBoxModel",
      "state": {
       "children": [
        "IPY_MODEL_2461551ae4b14094bc99d5f8bca20e99"
       ],
       "layout": "IPY_MODEL_8c96332977f74e1797619749079c90af"
      }
     },
     "4a138292df7b4c9dbd6f3088b5e9f24c": {
      "model_module": "bqplot",
      "model_module_version": "^0.3.0-alpha.1",
      "model_name": "LinearScaleModel",
      "state": {
       "_model_module_version": "^0.3.0-alpha.1",
       "_view_module_version": "^0.3.0-alpha.1",
       "allow_padding": false,
       "max": 1,
       "min": 0,
       "stabilized": false
      }
     },
     "4ad18a727c7c44c7aa088fd7c16068dd": {
      "model_module": "@jupyter-widgets/controls",
      "model_module_version": "3.0.0",
      "model_name": "DescriptionStyleModel",
      "state": {
       "description_width": "initial"
      }
     },
     "4ae7f91d79434a0da4f5abeff71abe4b": {
      "model_module": "@jupyter-widgets/base",
      "model_module_version": "3.0.0",
      "model_name": "LayoutModel",
      "state": {}
     },
     "4af44f3197444e988927e58ce7117fda": {
      "model_module": "bqplot",
      "model_module_version": "^0.3.0-alpha.1",
      "model_name": "AxisModel",
      "state": {
       "_model_module_version": "^0.3.0-alpha.1",
       "_view_module_version": "^0.3.0-alpha.1",
       "orientation": "vertical",
       "scale": "IPY_MODEL_db2ad612640b49ad85555ca8a11a9001",
       "side": "left",
       "tick_values": {
        "type": null,
        "values": null
       }
      }
     },
     "4af824e1e70b49d590cefe91d23324cc": {
      "model_module": "@jupyter-widgets/base",
      "model_module_version": "3.0.0",
      "model_name": "LayoutModel",
      "state": {}
     },
     "4b0fe65a7091410ab7d2c4f924aeaf97": {
      "model_module": "bqplot",
      "model_module_version": "^0.3.0-alpha.1",
      "model_name": "LinearScaleModel",
      "state": {
       "_model_module_version": "^0.3.0-alpha.1",
       "_view_module_version": "^0.3.0-alpha.1",
       "allow_padding": false,
       "max": 1,
       "min": 0,
       "stabilized": false
      }
     },
     "4b16e38d008243419194a66686c3c478": {
      "model_module": "@jupyter-widgets/base",
      "model_module_version": "3.0.0",
      "model_name": "LayoutModel",
      "state": {}
     },
     "4b3ad61d32f049f2924af812e1359013": {
      "model_module": "@jupyter-widgets/controls",
      "model_module_version": "3.0.0",
      "model_name": "DescriptionStyleModel",
      "state": {
       "description_width": "initial"
      }
     },
     "4b3e7a0ba0874589b3f17387478a4dea": {
      "model_module": "@jupyter-widgets/controls",
      "model_module_version": "3.0.0",
      "model_name": "BoundedFloatTextModel",
      "state": {
       "description": "Ramp Down Rate (MW/hr):",
       "layout": "IPY_MODEL_71331f21c25843bb88f97635fce5ecab",
       "style": "IPY_MODEL_593679454eb34d9a9d001daeaa0e8ef9"
      }
     },
     "4b8710d369d64f9e94dbe71707e1847a": {
      "model_module": "@jupyter-widgets/base",
      "model_module_version": "3.0.0",
      "model_name": "LayoutModel",
      "state": {}
     },
     "4b9a22fd6baa46a7ad05eb1461456e2c": {
      "model_module": "@jupyter-widgets/base",
      "model_module_version": "3.0.0",
      "model_name": "LayoutModel",
      "state": {}
     },
     "4ba4e727e5ed4ea88abddfc109bca314": {
      "model_module": "@jupyter-widgets/base",
      "model_module_version": "3.0.0",
      "model_name": "LayoutModel",
      "state": {}
     },
     "4bb6ff8c4cb6416c8ea06dc34a592327": {
      "model_module": "bqplot",
      "model_module_version": "^0.3.0-alpha.1",
      "model_name": "LinearScaleModel",
      "state": {
       "_model_module_version": "^0.3.0-alpha.1",
       "_view_module_version": "^0.3.0-alpha.1",
       "allow_padding": false,
       "max": 1,
       "min": 0,
       "stabilized": false
      }
     },
     "4c242971953f43fc8283dd0676fa6695": {
      "model_module": "@jupyter-widgets/base",
      "model_module_version": "3.0.0",
      "model_name": "LayoutModel",
      "state": {}
     },
     "4c93bba4fbd0448284e80b63c021b36a": {
      "model_module": "@jupyter-widgets/controls",
      "model_module_version": "3.0.0",
      "model_name": "DescriptionStyleModel",
      "state": {
       "description_width": "initial"
      }
     },
     "4ca15f321ae84e74a5711a6e7f19905b": {
      "model_module": "@jupyter-widgets/controls",
      "model_module_version": "3.0.0",
      "model_name": "SliderStyleModel",
      "state": {
       "description_width": "initial"
      }
     },
     "4caba5ad163e450f912b8ba011906cc3": {
      "model_module": "@jupyter-widgets/controls",
      "model_module_version": "3.0.0",
      "model_name": "DescriptionStyleModel",
      "state": {
       "description_width": "initial"
      }
     },
     "4ce09b60173242b1a19ba902172d8fd5": {
      "model_module": "@jupyter-widgets/controls",
      "model_module_version": "3.0.0",
      "model_name": "VBoxModel",
      "state": {
       "children": [
        "IPY_MODEL_afa013b401b74ee1989d8bc8f0d3609c"
       ],
       "layout": "IPY_MODEL_0d4948f6320249c7abf074767ad6ec7a"
      }
     },
     "4cfd00e2a9634755a5f92ef43dd4ed37": {
      "model_module": "@jupyter-widgets/base",
      "model_module_version": "3.0.0",
      "model_name": "LayoutModel",
      "state": {}
     },
     "4cff382c0e2641a995ab37309cdc8558": {
      "model_module": "@jupyter-widgets/controls",
      "model_module_version": "3.0.0",
      "model_name": "DescriptionStyleModel",
      "state": {
       "description_width": "initial"
      }
     },
     "4d99a4f5d72945df99ac0577e4d1505f": {
      "model_module": "bqplot",
      "model_module_version": "^0.3.0-alpha.1",
      "model_name": "AxisModel",
      "state": {
       "_model_module_version": "^0.3.0-alpha.1",
       "_view_module_version": "^0.3.0-alpha.1",
       "orientation": "vertical",
       "scale": "IPY_MODEL_0fdfced2aa6244028d2d789f3377bbae",
       "side": "left",
       "tick_values": {
        "type": null,
        "values": null
       }
      }
     },
     "4d9ef73b7e5048f584515dfb265ffd1c": {
      "model_module": "@jupyter-widgets/base",
      "model_module_version": "3.0.0",
      "model_name": "LayoutModel",
      "state": {}
     },
     "4dd766382fd74ccaa563980a41d34872": {
      "model_module": "@jupyter-widgets/controls",
      "model_module_version": "3.0.0",
      "model_name": "TextModel",
      "state": {
       "description": "Name",
       "layout": "IPY_MODEL_ad5ff4aa81964517ad8594e378459efe",
       "style": "IPY_MODEL_7826cc6f08c4483f8e4221f8863b9841",
       "value": "GenCo0"
      }
     },
     "4ddc08a34ac642b39688b1af21e21df1": {
      "model_module": "@jupyter-widgets/controls",
      "model_module_version": "3.0.0",
      "model_name": "CheckboxModel",
      "state": {
       "description": "Initial Status:",
       "disabled": false,
       "layout": "IPY_MODEL_698844e2a6e943b9b3a72310fa8f6485",
       "style": "IPY_MODEL_6d6a90fa45714c8e914888c4c37fe724",
       "value": true
      }
     },
     "4dfd5e7d58dc4ab4b031bc2203b183c9": {
      "model_module": "@jupyter-widgets/base",
      "model_module_version": "3.0.0",
      "model_name": "LayoutModel",
      "state": {}
     },
     "4e0f9e7f3bda4dde99997452333dd5f5": {
      "model_module": "@jupyter-widgets/controls",
      "model_module_version": "3.0.0",
      "model_name": "BoundedFloatTextModel",
      "state": {
       "description": "Startup Cost ($/hr):",
       "layout": "IPY_MODEL_92b8165ed7ee491da58bd97d2954e58e",
       "max": 10000000000,
       "style": "IPY_MODEL_7ba33cee579245a4b9546fa09b942ec9"
      }
     },
     "4e76b0ac90804a87936bd65b754e59b4": {
      "model_module": "@jupyter-widgets/controls",
      "model_module_version": "3.0.0",
      "model_name": "SliderStyleModel",
      "state": {
       "description_width": "initial"
      }
     },
     "4e7f83bf1d434f4c9217d65eea1c8b13": {
      "model_module": "@jupyter-widgets/controls",
      "model_module_version": "3.0.0",
      "model_name": "VBoxModel",
      "state": {
       "children": [
        "IPY_MODEL_9848d530ca31452f9b15fce3e29da6f6",
        "IPY_MODEL_fb9142d36d0849ebb1fde9fa0fca3f04",
        "IPY_MODEL_77e2b98ef3fc47d5aa752778313e66df",
        "IPY_MODEL_693365889ee8400397481cb16b4f583d",
        "IPY_MODEL_fce32233b30a411e926cfcf53c5d5190",
        "IPY_MODEL_1a75084473064013ae36e7113c414d40",
        "IPY_MODEL_3f172ca5ae4b44639aeff343c008e1df",
        "IPY_MODEL_703264abbad0418dad4ea7ad3825c506",
        "IPY_MODEL_206402dec2f74dbfa23f2d8949309864",
        "IPY_MODEL_3437c49a3e2447ed9c4b1a56d7acdab8",
        "IPY_MODEL_2f7fe66da10f4061a2372a74502f8cc5",
        "IPY_MODEL_5ccae1f90e974dbebc30b3c7530a88d0",
        "IPY_MODEL_8feb312b2d1147f6aa9e1cb760853817",
        "IPY_MODEL_35a336d735d74da2be6c003c99224fa0",
        "IPY_MODEL_b7de0d0db6ea46fa99646567f15b85a3",
        "IPY_MODEL_17f95953b7634dadbbb5b18818b91e5e"
       ],
       "layout": "IPY_MODEL_47264276557b4d8393befd129f7f9a19"
      }
     },
     "4eef6396246e4619b71b960c401970d1": {
      "model_module": "@jupyter-widgets/base",
      "model_module_version": "3.0.0",
      "model_name": "LayoutModel",
      "state": {
       "min_width": "125px"
      }
     },
     "4ef24272b2164a9cb3c4550b17bf1520": {
      "model_module": "@jupyter-widgets/base",
      "model_module_version": "3.0.0",
      "model_name": "LayoutModel",
      "state": {}
     },
     "4f14ef111e74417d90dc728106d3c68c": {
      "model_module": "@jupyter-widgets/base",
      "model_module_version": "3.0.0",
      "model_name": "LayoutModel",
      "state": {}
     },
     "4f1b2ccb3c9a450ebd12ab0135eaf5c7": {
      "model_module": "bqplot",
      "model_module_version": "^0.3.0-alpha.1",
      "model_name": "AxisModel",
      "state": {
       "_model_module_version": "^0.3.0-alpha.1",
       "_view_module_version": "^0.3.0-alpha.1",
       "scale": "IPY_MODEL_9f9d0d28ab0a4c1689fa62894937bd89",
       "side": "bottom",
       "tick_values": {
        "type": null,
        "values": null
       }
      }
     },
     "4f3b6f4b68f64333b3b0bbc44e1cfb77": {
      "model_module": "@jupyter-widgets/controls",
      "model_module_version": "3.0.0",
      "model_name": "BoundedFloatTextModel",
      "state": {
       "description": "Startup Cost ($/hr):",
       "layout": "IPY_MODEL_2922fd0fbe7247fd8fe8035e2d4d309e",
       "max": 10000000000,
       "style": "IPY_MODEL_c131e71fcb2749cdbba7882703fe3f7c"
      }
     },
     "4f565f23429543ef96a02713f2762ac3": {
      "model_module": "@jupyter-widgets/base",
      "model_module_version": "3.0.0",
      "model_name": "LayoutModel",
      "state": {}
     },
     "4fdb6867d6854a7cbd0b3265c6ca7863": {
      "model_module": "@jupyter-widgets/base",
      "model_module_version": "3.0.0",
      "model_name": "LayoutModel",
      "state": {}
     },
     "4fecaa5fc5d04f518507afe24e1fed25": {
      "model_module": "@jupyter-widgets/controls",
      "model_module_version": "3.0.0",
      "model_name": "DescriptionStyleModel",
      "state": {
       "description_width": "initial"
      }
     },
     "4ffe474993b240f396701e22b27e337c": {
      "model_module": "bqplot",
      "model_module_version": "^0.3.0-alpha.1",
      "model_name": "LinearScaleModel",
      "state": {
       "_model_module_version": "^0.3.0-alpha.1",
       "_view_module_version": "^0.3.0-alpha.1",
       "max": 100,
       "min": 0,
       "stabilized": false
      }
     },
     "505823f77d5a4663bb38b684d17d598e": {
      "model_module": "@jupyter-widgets/controls",
      "model_module_version": "3.0.0",
      "model_name": "CheckboxModel",
      "state": {
       "description": "Initial Status:",
       "disabled": false,
       "layout": "IPY_MODEL_22a0ae001c0b4f92a7c49e1921baefa6",
       "style": "IPY_MODEL_c623ac4541d548788d692a3e63f18461",
       "value": true
      }
     },
     "50aecdc998b94956b5be07edc70aea64": {
      "model_module": "@jupyter-widgets/controls",
      "model_module_version": "3.0.0",
      "model_name": "DescriptionStyleModel",
      "state": {
       "description_width": "initial"
      }
     },
     "50dcfa60c0e54356b0d956144a51c586": {
      "model_module": "@jupyter-widgets/base",
      "model_module_version": "3.0.0",
      "model_name": "LayoutModel",
      "state": {}
     },
     "50e06abd694d4ca98726fd9b0c8abc93": {
      "model_module": "bqplot",
      "model_module_version": "^0.3.0-alpha.1",
      "model_name": "LinearScaleModel",
      "state": {
       "_model_module_version": "^0.3.0-alpha.1",
       "_view_module_version": "^0.3.0-alpha.1",
       "allow_padding": false,
       "max": 1,
       "min": 0,
       "stabilized": false
      }
     },
     "50e1f2d125354af0b437d43268b8ed0e": {
      "model_module": "@jupyter-widgets/controls",
      "model_module_version": "3.0.0",
      "model_name": "DescriptionStyleModel",
      "state": {
       "description_width": "initial"
      }
     },
     "51599a4e555a43c7aaf6532354dd3b68": {
      "model_module": "@jupyter-widgets/base",
      "model_module_version": "3.0.0",
      "model_name": "LayoutModel",
      "state": {}
     },
     "515af33ff1084aa4a8a2c773f16623fa": {
      "model_module": "@jupyter-widgets/controls",
      "model_module_version": "3.0.0",
      "model_name": "DescriptionStyleModel",
      "state": {
       "description_width": "initial"
      }
     },
     "51964fb2df8140bfa8349c843586ebb9": {
      "model_module": "@jupyter-widgets/base",
      "model_module_version": "3.0.0",
      "model_name": "LayoutModel",
      "state": {}
     },
     "5228a4ff80a84da0a6d1f3791346de7e": {
      "model_module": "@jupyter-widgets/base",
      "model_module_version": "3.0.0",
      "model_name": "LayoutModel",
      "state": {}
     },
     "52b0d7b6d5f24be6bf1337a278ec00ac": {
      "model_module": "@jupyter-widgets/controls",
      "model_module_version": "3.0.0",
      "model_name": "DescriptionStyleModel",
      "state": {
       "description_width": "initial"
      }
     },
     "52d584b98b9345f299360321e7452ff0": {
      "model_module": "@jupyter-widgets/controls",
      "model_module_version": "3.0.0",
      "model_name": "DescriptionStyleModel",
      "state": {
       "description_width": "initial"
      }
     },
     "52d79a5f1192488eb8a7a721f140b26f": {
      "model_module": "@jupyter-widgets/controls",
      "model_module_version": "3.0.0",
      "model_name": "BoundedFloatTextModel",
      "state": {
       "description": "Ramp Up Rate (MW/hr):",
       "layout": "IPY_MODEL_db0fda65e4314f5ab9411a40973eae42",
       "style": "IPY_MODEL_9cb6975f1d714919ac877dc1017aaf08"
      }
     },
     "52f1de03624645ed86f94d2fdf90c765": {
      "model_module": "@jupyter-widgets/base",
      "model_module_version": "3.0.0",
      "model_name": "LayoutModel",
      "state": {}
     },
     "5305e1f7f46a489d8e6d590fa38ba515": {
      "model_module": "@jupyter-widgets/controls",
      "model_module_version": "3.0.0",
      "model_name": "DescriptionStyleModel",
      "state": {
       "description_width": "initial"
      }
     },
     "531b4588c11541358b4d198426bd7de6": {
      "model_module": "bqplot",
      "model_module_version": "^0.3.0-alpha.1",
      "model_name": "AxisModel",
      "state": {
       "_model_module_version": "^0.3.0-alpha.1",
       "_view_module_version": "^0.3.0-alpha.1",
       "orientation": "vertical",
       "scale": "IPY_MODEL_eb64a7ae51c94bc68eb9f6190402574f",
       "side": "left",
       "tick_values": {
        "type": null,
        "values": null
       }
      }
     },
     "5325a194d1b04845b9ddd1fec667f146": {
      "model_module": "@jupyter-widgets/base",
      "model_module_version": "3.0.0",
      "model_name": "LayoutModel",
      "state": {}
     },
     "532836eeb6244ea7be5a4eddba3559b5": {
      "model_module": "@jupyter-widgets/base",
      "model_module_version": "3.0.0",
      "model_name": "LayoutModel",
      "state": {}
     },
     "534735bf15c34f9e9a69ca00a51de08e": {
      "model_module": "@jupyter-widgets/base",
      "model_module_version": "3.0.0",
      "model_name": "LayoutModel",
      "state": {}
     },
     "5355384f4a164fa69df31199256bd468": {
      "model_module": "@jupyter-widgets/base",
      "model_module_version": "3.0.0",
      "model_name": "LayoutModel",
      "state": {}
     },
     "539428d863a84de58ef7ba4c490ee21d": {
      "model_module": "bqplot",
      "model_module_version": "^0.3.0-alpha.1",
      "model_name": "LinearScaleModel",
      "state": {
       "_model_module_version": "^0.3.0-alpha.1",
       "_view_module_version": "^0.3.0-alpha.1",
       "allow_padding": false,
       "max": 1,
       "min": 0,
       "stabilized": false
      }
     },
     "53dcdc064c264ff5879b93393fd239c7": {
      "model_module": "@jupyter-widgets/controls",
      "model_module_version": "3.0.0",
      "model_name": "DescriptionStyleModel",
      "state": {
       "description_width": "initial"
      }
     },
     "53f9a872180c4a7b9fde372856269e7e": {
      "model_module": "@jupyter-widgets/base",
      "model_module_version": "3.0.0",
      "model_name": "LayoutModel",
      "state": {}
     },
     "543bb65bb190428997b1382bb59b7662": {
      "model_module": "bqplot",
      "model_module_version": "^0.3.0-alpha.1",
      "model_name": "LinesModel",
      "state": {
       "_model_module_version": "^0.3.0-alpha.1",
       "_view_module_version": "^0.3.0-alpha.1",
       "color": {
        "type": null,
        "values": null
       },
       "display_legend": false,
       "fill_colors": [],
       "labels": [
        "C1"
       ],
       "scales": {
        "x": "IPY_MODEL_ef7726c8b8354523805c131f7e49a24f",
        "y": "IPY_MODEL_c6cd9b2068774e688d2c66e9c147474d"
       },
       "selected": [],
       "x": {
        "type": "float",
        "values": [
         0,
         49.310661764705884,
         78.91850490196079
        ]
       },
       "y": {
        "type": "float",
        "values": [
         0,
         28.27089608433735,
         40.46969126506024
        ]
       }
      }
     },
     "54656ad93a8a4c9092829ffbe3079e48": {
      "model_module": "@jupyter-widgets/controls",
      "model_module_version": "3.0.0",
      "model_name": "IntSliderModel",
      "state": {
       "description": "Number of Cost Curve Segments",
       "layout": "IPY_MODEL_1da6d1b7e1154d2d9dc04f03a7306440",
       "max": 50,
       "min": 2,
       "style": "IPY_MODEL_4064d89aa9db4dfca406d9d803535a71",
       "value": 3
      }
     },
     "54874083dbcc4d588326627e0854499d": {
      "model_module": "@jupyter-widgets/controls",
      "model_module_version": "3.0.0",
      "model_name": "DescriptionStyleModel",
      "state": {
       "description_width": "initial"
      }
     },
     "54b24030dad34bc18a79bf472ebf2527": {
      "model_module": "@jupyter-widgets/controls",
      "model_module_version": "3.0.0",
      "model_name": "BoundedFloatTextModel",
      "state": {
       "description": "Shutdown Time (hr):",
       "layout": "IPY_MODEL_9229266a41d44c0ca0e090308cb61d26",
       "max": 24,
       "style": "IPY_MODEL_6edac0b27f234a6fb5db7204b2a55674"
      }
     },
     "54ed1d9ad3f8424dbfc5942445527d09": {
      "model_module": "bqplot",
      "model_module_version": "^0.3.0-alpha.1",
      "model_name": "LinearScaleModel",
      "state": {
       "_model_module_version": "^0.3.0-alpha.1",
       "_view_module_version": "^0.3.0-alpha.1",
       "max": 100,
       "min": 0,
       "stabilized": false
      }
     },
     "550fbc29d3a34f6890cf4d9bf3acc59e": {
      "model_module": "bqplot",
      "model_module_version": "^0.3.0-alpha.1",
      "model_name": "AxisModel",
      "state": {
       "_model_module_version": "^0.3.0-alpha.1",
       "_view_module_version": "^0.3.0-alpha.1",
       "orientation": "vertical",
       "scale": "IPY_MODEL_a3901f3d3db54db3940f4f05b8032a53",
       "side": "left",
       "tick_values": {
        "type": null,
        "values": null
       }
      }
     },
     "5523f42510ea459faf57a7ead4286c07": {
      "model_module": "@jupyter-widgets/controls",
      "model_module_version": "3.0.0",
      "model_name": "BoundedFloatTextModel",
      "state": {
       "description": "Capacity (MW):",
       "layout": "IPY_MODEL_1bf7138fa44c4986aea828a8a5a859aa",
       "max": 10000000000,
       "style": "IPY_MODEL_b537e74c20c945d98caf86b2b81297df",
       "value": 100
      }
     },
     "5526293ce59d422c8305ad2c762f16f4": {
      "model_module": "@jupyter-widgets/base",
      "model_module_version": "3.0.0",
      "model_name": "LayoutModel",
      "state": {}
     },
     "557bc0028c11431c9230ee3f59485a6c": {
      "model_module": "@jupyter-widgets/controls",
      "model_module_version": "3.0.0",
      "model_name": "DescriptionStyleModel",
      "state": {
       "description_width": "initial"
      }
     },
     "55f39805d3f84de5a85cbc22a2bc261e": {
      "model_module": "@jupyter-widgets/controls",
      "model_module_version": "3.0.0",
      "model_name": "BoundedFloatTextModel",
      "state": {
       "description": "Startup Cost ($/hr):",
       "layout": "IPY_MODEL_e47ecb2ecd3b43b2848f9b7c6e3e1682",
       "max": 10000000000,
       "style": "IPY_MODEL_a7d8bb77e3c44e1c886bdef4b9db6f5d"
      }
     },
     "55fe1a9190fa4a87bd01a230b61134af": {
      "model_module": "@jupyter-widgets/base",
      "model_module_version": "3.0.0",
      "model_name": "LayoutModel",
      "state": {
       "min_width": "125px"
      }
     },
     "56277e310b2148169f51b0d0a71ffdac": {
      "model_module": "@jupyter-widgets/controls",
      "model_module_version": "3.0.0",
      "model_name": "IntSliderModel",
      "state": {
       "description": "Number of Cost Curve Segments",
       "layout": "IPY_MODEL_80b101f9441940d7b596c1bc8e2383c0",
       "max": 50,
       "min": 2,
       "style": "IPY_MODEL_622b688572ff4ebfbc051597c85c3b42",
       "value": 2
      }
     },
     "56395ebbe68643de820163617c81ba77": {
      "model_module": "@jupyter-widgets/controls",
      "model_module_version": "3.0.0",
      "model_name": "BoundedFloatTextModel",
      "state": {
       "description": "Startup Cost ($/hr):",
       "layout": "IPY_MODEL_f9f73babdb7e487e8545bbd9e8c7b477",
       "max": 10000000000,
       "style": "IPY_MODEL_3e75edb83a274c5387496b2248460823"
      }
     },
     "5646689bacae4a3e83223754b668bb6c": {
      "model_module": "@jupyter-widgets/controls",
      "model_module_version": "3.0.0",
      "model_name": "BoundedFloatTextModel",
      "state": {
       "description": "Initial Generation (MW):",
       "layout": "IPY_MODEL_7be440dcedb2435b8a5dfde3cb525665",
       "style": "IPY_MODEL_a2ef4eec00fe4ea49b3a2f2fb9623a2b"
      }
     },
     "5687a700443c4d21a5dda3dce0574939": {
      "model_module": "@jupyter-widgets/controls",
      "model_module_version": "3.0.0",
      "model_name": "DescriptionStyleModel",
      "state": {
       "description_width": "initial"
      }
     },
     "568a7d18bd6e4b85b24c49d37b7a9080": {
      "model_module": "bqplot",
      "model_module_version": "^0.3.0-alpha.1",
      "model_name": "LinearScaleModel",
      "state": {
       "_model_module_version": "^0.3.0-alpha.1",
       "_view_module_version": "^0.3.0-alpha.1",
       "max": 100,
       "min": 0,
       "stabilized": false
      }
     },
     "568f191a77e04a9f8b4f65eeeb8bdfe7": {
      "model_module": "bqplot",
      "model_module_version": "^0.3.0-alpha.1",
      "model_name": "AxisModel",
      "state": {
       "_model_module_version": "^0.3.0-alpha.1",
       "_view_module_version": "^0.3.0-alpha.1",
       "orientation": "vertical",
       "scale": "IPY_MODEL_e806d47d33c448b19cb6d2bc7768a25e",
       "side": "left",
       "tick_values": {
        "type": null,
        "values": null
       }
      }
     },
     "56a100b5276341c2a30ecb79e1f188f7": {
      "model_module": "@jupyter-widgets/controls",
      "model_module_version": "3.0.0",
      "model_name": "BoundedFloatTextModel",
      "state": {
       "description": "No-Load Cost ($/hr):",
       "layout": "IPY_MODEL_2f3d723591514910a5b497cecd3d2dda",
       "max": 10000000000,
       "style": "IPY_MODEL_f4954570a5b9495d809c6da736715410"
      }
     },
     "56aa66052e35403fb5cee569f1c65876": {
      "model_module": "@jupyter-widgets/controls",
      "model_module_version": "3.0.0",
      "model_name": "DescriptionStyleModel",
      "state": {
       "description_width": "initial"
      }
     },
     "56b70acf1db54360acc1baa35503bb15": {
      "model_module": "@jupyter-widgets/base",
      "model_module_version": "3.0.0",
      "model_name": "LayoutModel",
      "state": {}
     },
     "56c2ebcce571472ca46146dfd41f5760": {
      "model_module": "@jupyter-widgets/controls",
      "model_module_version": "3.0.0",
      "model_name": "BoundedFloatTextModel",
      "state": {
       "description": "Initial Generation (MW):",
       "layout": "IPY_MODEL_48f5684a22ea4b2d9cba02b9d0175354",
       "style": "IPY_MODEL_87c391938673438faffcb16bd51a1778"
      }
     },
     "56dfaa8d5c434128a474c6a3edabe988": {
      "model_module": "@jupyter-widgets/base",
      "model_module_version": "3.0.0",
      "model_name": "LayoutModel",
      "state": {}
     },
     "56e7aa9b19174be6a80c16a6e5563a63": {
      "model_module": "@jupyter-widgets/base",
      "model_module_version": "3.0.0",
      "model_name": "LayoutModel",
      "state": {}
     },
     "56eba0a49deb41289bd4905e160439dc": {
      "model_module": "bqplot",
      "model_module_version": "^0.3.0-alpha.1",
      "model_name": "LinesModel",
      "state": {
       "_model_module_version": "^0.3.0-alpha.1",
       "_view_module_version": "^0.3.0-alpha.1",
       "color": {
        "type": null,
        "values": null
       },
       "display_legend": false,
       "fill_colors": [],
       "labels": [
        "C1"
       ],
       "scales": {
        "x": "IPY_MODEL_9c19421259844bb4969787764d1db61c",
        "y": "IPY_MODEL_12c7925170ba4a148869c6ce4e775647"
       },
       "selected": [],
       "x": {
        "type": "float",
        "values": [
         0,
         33.333333333333336,
         66.66666666666667,
         100
        ]
       },
       "y": {
        "type": "float",
        "values": [
         0,
         3,
         10,
         20
        ]
       }
      }
     },
     "5704a3a13d864dd49ccd950f3895bf24": {
      "model_module": "@jupyter-widgets/base",
      "model_module_version": "3.0.0",
      "model_name": "LayoutModel",
      "state": {}
     },
     "57096e8a3b294ea098e0f881ade84861": {
      "model_module": "@jupyter-widgets/controls",
      "model_module_version": "3.0.0",
      "model_name": "DescriptionStyleModel",
      "state": {
       "description_width": "initial"
      }
     },
     "57582d71399d46a08739d82b877687f1": {
      "model_module": "bqplot",
      "model_module_version": "^0.3.0-alpha.1",
      "model_name": "AxisModel",
      "state": {
       "_model_module_version": "^0.3.0-alpha.1",
       "_view_module_version": "^0.3.0-alpha.1",
       "scale": "IPY_MODEL_bd1a7a5cf588481eb695f38705bb4a79",
       "side": "bottom",
       "tick_values": {
        "type": null,
        "values": null
       }
      }
     },
     "575f9eb3acff44508cef38a8a5f1ff16": {
      "model_module": "@jupyter-widgets/controls",
      "model_module_version": "3.0.0",
      "model_name": "CheckboxModel",
      "state": {
       "description": "Initial Status:",
       "disabled": false,
       "layout": "IPY_MODEL_030dae2faf4c49e18e9963c38784ad17",
       "style": "IPY_MODEL_ee1abb8c4f184c60b87d06f345c59796",
       "value": true
      }
     },
     "57792242b5a3470785d5148cca05d6ef": {
      "model_module": "@jupyter-widgets/controls",
      "model_module_version": "3.0.0",
      "model_name": "BoundedFloatTextModel",
      "state": {
       "description": "Initial Generation (MW):",
       "layout": "IPY_MODEL_717a27f1dc854e1c9c53186b5e71073c",
       "style": "IPY_MODEL_73c3f88b07fb4bd2875b041a1f0cbcf0"
      }
     },
     "579e17a4d70a4ebfba29cc5454ade448": {
      "model_module": "@jupyter-widgets/base",
      "model_module_version": "3.0.0",
      "model_name": "LayoutModel",
      "state": {}
     },
     "5831a23209e9428899e12203224d1a40": {
      "model_module": "@jupyter-widgets/controls",
      "model_module_version": "3.0.0",
      "model_name": "VBoxModel",
      "state": {
       "children": [
        "IPY_MODEL_8a3ececc3aaf44e9adb39b991f3c4a89"
       ],
       "layout": "IPY_MODEL_e3d54603b3e34d1a839ad43b59cfb484"
      }
     },
     "584c798097824f1fa0ea8a5be817f9b4": {
      "model_module": "bqplot",
      "model_module_version": "^0.3.0-alpha.1",
      "model_name": "LinesModel",
      "state": {
       "_model_module_version": "^0.3.0-alpha.1",
       "_view_module_version": "^0.3.0-alpha.1",
       "color": {
        "type": null,
        "values": null
       },
       "display_legend": false,
       "fill_colors": [],
       "labels": [
        "C1"
       ],
       "scales": {
        "x": "IPY_MODEL_2157d13c506d4dab94cc5d1eb77817a4",
        "y": "IPY_MODEL_d48c96a265d44859856160dffb6d5ff1"
       },
       "selected": [],
       "x": {
        "type": "float",
        "values": [
         13.428308823529411,
         37.34987745098039,
         67.54595588235294,
         87.3498774509804
        ]
       },
       "y": {
        "type": "float",
        "values": [
         12.758847891566266,
         12.457643072289157,
         26.011859939759034,
         42.2769201807229
        ]
       }
      }
     },
     "585b137b4aa64b91b5c3085ed58b8c23": {
      "model_module": "@jupyter-widgets/base",
      "model_module_version": "3.0.0",
      "model_name": "LayoutModel",
      "state": {}
     },
     "58d4fdc2a0aa4ca395a5c44a7f1b9b40": {
      "model_module": "bqplot",
      "model_module_version": "^0.3.0-alpha.1",
      "model_name": "AxisModel",
      "state": {
       "_model_module_version": "^0.3.0-alpha.1",
       "_view_module_version": "^0.3.0-alpha.1",
       "scale": "IPY_MODEL_54ed1d9ad3f8424dbfc5942445527d09",
       "side": "bottom",
       "tick_values": {
        "type": null,
        "values": null
       }
      }
     },
     "5911342fba564c8c89a7b7eec0619430": {
      "model_module": "@jupyter-widgets/controls",
      "model_module_version": "3.0.0",
      "model_name": "DescriptionStyleModel",
      "state": {
       "description_width": "initial"
      }
     },
     "592999571cdf420c8c6f7b965611f98f": {
      "model_module": "bqplot",
      "model_module_version": "^0.3.0-alpha.1",
      "model_name": "LinearScaleModel",
      "state": {
       "_model_module_version": "^0.3.0-alpha.1",
       "_view_module_version": "^0.3.0-alpha.1",
       "max": 100,
       "min": 0,
       "stabilized": false
      }
     },
     "5929a1ca96ea4d6592c8fbfa7e8534fd": {
      "model_module": "@jupyter-widgets/base",
      "model_module_version": "3.0.0",
      "model_name": "LayoutModel",
      "state": {}
     },
     "593679454eb34d9a9d001daeaa0e8ef9": {
      "model_module": "@jupyter-widgets/controls",
      "model_module_version": "3.0.0",
      "model_name": "DescriptionStyleModel",
      "state": {
       "description_width": "initial"
      }
     },
     "593ba4da8efa4c8ca0fb6ebe844a43a0": {
      "model_module": "@jupyter-widgets/base",
      "model_module_version": "3.0.0",
      "model_name": "LayoutModel",
      "state": {}
     },
     "597ab14fe5904f85a427304da46fe2d2": {
      "model_module": "@jupyter-widgets/base",
      "model_module_version": "3.0.0",
      "model_name": "LayoutModel",
      "state": {}
     },
     "59b4753dad0648a99320c9d626754bfe": {
      "model_module": "@jupyter-widgets/controls",
      "model_module_version": "3.0.0",
      "model_name": "HTMLModel",
      "state": {
       "layout": "IPY_MODEL_172c55ba05404d58bc3a0d7849d1c578",
       "style": "IPY_MODEL_9aea6d65ecd842a08b6215b82608fc2d",
       "value": "Generator:"
      }
     },
     "59b607900e92488287edd5bda05305a2": {
      "model_module": "@jupyter-widgets/controls",
      "model_module_version": "3.0.0",
      "model_name": "DescriptionStyleModel",
      "state": {
       "description_width": "initial"
      }
     },
     "59c44a7d7d5742a589dace05ea5347d9": {
      "model_module": "bqplot",
      "model_module_version": "^0.3.0-alpha.1",
      "model_name": "LinesModel",
      "state": {
       "_model_module_version": "^0.3.0-alpha.1",
       "_view_module_version": "^0.3.0-alpha.1",
       "color": {
        "type": null,
        "values": null
       },
       "display_legend": false,
       "fill_colors": [],
       "labels": [
        "C1"
       ],
       "scales": {
        "x": "IPY_MODEL_eeca746e28f14b2485d0d6228fcf1e4f",
        "y": "IPY_MODEL_0fdfced2aa6244028d2d789f3377bbae"
       },
       "selected": [],
       "x": {
        "type": "float",
        "values": [
         0,
         33.333333333333336,
         66.66666666666667,
         100
        ]
       },
       "y": {
        "type": "float",
        "values": [
         0,
         3,
         10,
         20
        ]
       }
      }
     },
     "59e90c72940c45e3a5b3421a8183a197": {
      "model_module": "@jupyter-widgets/base",
      "model_module_version": "3.0.0",
      "model_name": "LayoutModel",
      "state": {}
     },
     "5ab4e511573b4e35b3bb0afcbc2693b1": {
      "model_module": "bqplot",
      "model_module_version": "^0.3.0-alpha.1",
      "model_name": "AxisModel",
      "state": {
       "_model_module_version": "^0.3.0-alpha.1",
       "_view_module_version": "^0.3.0-alpha.1",
       "scale": "IPY_MODEL_b97a8d2c94c94e579ed23a45ff79bd20",
       "side": "bottom",
       "tick_values": {
        "type": null,
        "values": null
       }
      }
     },
     "5af77600f1454c4ca50116285c758e91": {
      "model_module": "@jupyter-widgets/base",
      "model_module_version": "3.0.0",
      "model_name": "LayoutModel",
      "state": {}
     },
     "5b177f8f62184627a08173194be288a0": {
      "model_module": "bqplot",
      "model_module_version": "^0.3.0-alpha.1",
      "model_name": "LinearScaleModel",
      "state": {
       "_model_module_version": "^0.3.0-alpha.1",
       "_view_module_version": "^0.3.0-alpha.1",
       "allow_padding": false,
       "max": 1,
       "min": 0,
       "stabilized": false
      }
     },
     "5b30054eb0c449cc942892efe97f1c15": {
      "model_module": "@jupyter-widgets/controls",
      "model_module_version": "3.0.0",
      "model_name": "BoundedFloatTextModel",
      "state": {
       "description": "Minimum Down Time (hr):",
       "layout": "IPY_MODEL_a822b52fc87f4e85ba8e4e766f2343db",
       "max": 24,
       "style": "IPY_MODEL_b3d5f1b8ee6b40708550a7d136372ed1"
      }
     },
     "5b30138529da4a42a84e1d8c8b68a191": {
      "model_module": "@jupyter-widgets/base",
      "model_module_version": "3.0.0",
      "model_name": "LayoutModel",
      "state": {}
     },
     "5b6c3cd75c0f43b6a46b8d8dca77db74": {
      "model_module": "@jupyter-widgets/controls",
      "model_module_version": "3.0.0",
      "model_name": "HTMLModel",
      "state": {
       "layout": "IPY_MODEL_0368dbb12da648bb8dc4b60c08d979f0",
       "style": "IPY_MODEL_26f400d39a1344ea9b6ae4b2d68f8a34",
       "value": "Generator:"
      }
     },
     "5bb154b69bc641bcad086f3451173c74": {
      "model_module": "@jupyter-widgets/controls",
      "model_module_version": "3.0.0",
      "model_name": "SliderStyleModel",
      "state": {
       "description_width": "initial"
      }
     },
     "5bebd6081d794092a86a51cf305d6036": {
      "model_module": "@jupyter-widgets/base",
      "model_module_version": "3.0.0",
      "model_name": "LayoutModel",
      "state": {}
     },
     "5bee7d3e20b04f009898793f428a98f5": {
      "model_module": "@jupyter-widgets/controls",
      "model_module_version": "3.0.0",
      "model_name": "BoundedFloatTextModel",
      "state": {
       "description": "Ramp Up Rate (MW/hr):",
       "layout": "IPY_MODEL_fcf63297a007474a9e8dee1315e249cc",
       "style": "IPY_MODEL_9b0532fa07c34f6e958539af7562eefb"
      }
     },
     "5c4ca0701bae45cd91b1915a42c330be": {
      "model_module": "@jupyter-widgets/controls",
      "model_module_version": "3.0.0",
      "model_name": "DescriptionStyleModel",
      "state": {
       "description_width": "initial"
      }
     },
     "5c4cb46a8bd244c8a2eb0107afc626bb": {
      "model_module": "@jupyter-widgets/base",
      "model_module_version": "3.0.0",
      "model_name": "LayoutModel",
      "state": {}
     },
     "5c9d2729bcaf45419fba015afcac2649": {
      "model_module": "@jupyter-widgets/base",
      "model_module_version": "3.0.0",
      "model_name": "LayoutModel",
      "state": {}
     },
     "5c9e5c5415944fa3b247d0429b626a31": {
      "model_module": "@jupyter-widgets/controls",
      "model_module_version": "3.0.0",
      "model_name": "BoundedFloatTextModel",
      "state": {
       "description": "Capacity (MW):",
       "layout": "IPY_MODEL_ab807d5105a244119c6353e537fdefbd",
       "max": 10000000000,
       "style": "IPY_MODEL_a97c742ae5d548df820b46b654727d21",
       "value": 100
      }
     },
     "5cc29f272c034948ac9708a69ce33988": {
      "model_module": "@jupyter-widgets/base",
      "model_module_version": "3.0.0",
      "model_name": "LayoutModel",
      "state": {}
     },
     "5ccae1f90e974dbebc30b3c7530a88d0": {
      "model_module": "@jupyter-widgets/controls",
      "model_module_version": "3.0.0",
      "model_name": "BoundedFloatTextModel",
      "state": {
       "description": "Startup Time (hr):",
       "layout": "IPY_MODEL_497878ddae5d464f8619e2d760674e31",
       "max": 24,
       "style": "IPY_MODEL_b3daeefa3bf448dcb49b561f506d09eb"
      }
     },
     "5cd201201adf43f68a7b4c4489516c29": {
      "model_module": "@jupyter-widgets/controls",
      "model_module_version": "3.0.0",
      "model_name": "BoundedFloatTextModel",
      "state": {
       "description": "No-Load Cost ($/hr):",
       "layout": "IPY_MODEL_64f87aff996d4098a6d5d8c3bce4f6b6",
       "max": 10000000000,
       "style": "IPY_MODEL_6aa22e139e9f4a039c5eca89f3896a70"
      }
     },
     "5cd35a06c7b04354b8dc18d0c00ca5a0": {
      "model_module": "@jupyter-widgets/controls",
      "model_module_version": "3.0.0",
      "model_name": "BoundedFloatTextModel",
      "state": {
       "description": "Startup Cost ($/hr):",
       "layout": "IPY_MODEL_d2b02d389bd24829b872c634679eb57a",
       "max": 10000000000,
       "style": "IPY_MODEL_8d9f01062f3544818023a07001bea0a9"
      }
     },
     "5cfb9ca9733a4553a47666b83357e644": {
      "model_module": "@jupyter-widgets/controls",
      "model_module_version": "3.0.0",
      "model_name": "BoundedFloatTextModel",
      "state": {
       "description": "Ramp Up Rate (MW/hr):",
       "layout": "IPY_MODEL_3f7931037d3843c5ade8cb6eb301c576",
       "style": "IPY_MODEL_96a87a3ca1cf487189fda59aeb9ffbf6"
      }
     },
     "5d2a7e1b98f74310b3ff3daeefaad510": {
      "model_module": "@jupyter-widgets/base",
      "model_module_version": "3.0.0",
      "model_name": "LayoutModel",
      "state": {}
     },
     "5d2ef6ba0f7f42e3a468b4a42642a796": {
      "model_module": "@jupyter-widgets/controls",
      "model_module_version": "3.0.0",
      "model_name": "BoundedFloatTextModel",
      "state": {
       "description": "Capacity (MW):",
       "layout": "IPY_MODEL_5f0a7a904e1a402db3a395b65e56152e",
       "max": 10000000000,
       "style": "IPY_MODEL_4caba5ad163e450f912b8ba011906cc3",
       "value": 30
      }
     },
     "5d386a50bc03432680a10b4d3576b294": {
      "model_module": "@jupyter-widgets/controls",
      "model_module_version": "3.0.0",
      "model_name": "DescriptionStyleModel",
      "state": {
       "description_width": ""
      }
     },
     "5d3b198707944d2ca41e2e1e506b9d7d": {
      "model_module": "@jupyter-widgets/base",
      "model_module_version": "3.0.0",
      "model_name": "LayoutModel",
      "state": {
       "min_width": "125px"
      }
     },
     "5daaa7599edb4871b5e09bfca319b7df": {
      "model_module": "@jupyter-widgets/base",
      "model_module_version": "3.0.0",
      "model_name": "LayoutModel",
      "state": {}
     },
     "5deecb08bda74a3783039a2daf051f39": {
      "model_module": "@jupyter-widgets/base",
      "model_module_version": "3.0.0",
      "model_name": "LayoutModel",
      "state": {}
     },
     "5e0ce95a9ae647e9aa50e96c41bbc6f1": {
      "model_module": "@jupyter-widgets/controls",
      "model_module_version": "3.0.0",
      "model_name": "DescriptionStyleModel",
      "state": {
       "description_width": "initial"
      }
     },
     "5e2de92d4ca142dcbc59a075e31e120b": {
      "model_module": "@jupyter-widgets/base",
      "model_module_version": "3.0.0",
      "model_name": "LayoutModel",
      "state": {}
     },
     "5e69287809d240a298748841e42f15d7": {
      "model_module": "@jupyter-widgets/base",
      "model_module_version": "3.0.0",
      "model_name": "LayoutModel",
      "state": {}
     },
     "5e82c9a77d914d5bbd0661a08f9867c8": {
      "model_module": "@jupyter-widgets/base",
      "model_module_version": "3.0.0",
      "model_name": "LayoutModel",
      "state": {}
     },
     "5f09692aad1b4814a41bbb049f189110": {
      "model_module": "@jupyter-widgets/base",
      "model_module_version": "3.0.0",
      "model_name": "LayoutModel",
      "state": {}
     },
     "5f0a7a904e1a402db3a395b65e56152e": {
      "model_module": "@jupyter-widgets/base",
      "model_module_version": "3.0.0",
      "model_name": "LayoutModel",
      "state": {}
     },
     "5f225d5b20cb46f982bef6fb7b3a55c4": {
      "model_module": "@jupyter-widgets/base",
      "model_module_version": "3.0.0",
      "model_name": "LayoutModel",
      "state": {}
     },
     "5f4f76214db9442b9d2da785e47f1f74": {
      "model_module": "@jupyter-widgets/controls",
      "model_module_version": "3.0.0",
      "model_name": "BoundedFloatTextModel",
      "state": {
       "description": "Capacity (MW):",
       "layout": "IPY_MODEL_e2d4c3547e7447d88e86ff9338901080",
       "max": 10000000000,
       "style": "IPY_MODEL_0131ab3d341e44dab04edcfb30ab0a52",
       "value": 100
      }
     },
     "5f5f64879c5b400abf46dbd9d4e08244": {
      "model_module": "@jupyter-widgets/controls",
      "model_module_version": "3.0.0",
      "model_name": "BoundedFloatTextModel",
      "state": {
       "description": "Ramp Down Rate (MW/hr):",
       "layout": "IPY_MODEL_3828dd657ea44f1c9598d0a5cd150722",
       "style": "IPY_MODEL_cf666dfe428f4b8c81655c8650cbc81d"
      }
     },
     "5f7362538c7a4d87bafbef943717f0cb": {
      "model_module": "@jupyter-widgets/controls",
      "model_module_version": "3.0.0",
      "model_name": "BoundedFloatTextModel",
      "state": {
       "description": "Startup Cost ($/hr):",
       "layout": "IPY_MODEL_6b2e3e535b6e4c6daa0f8a1d9dd1abee",
       "max": 10000000000,
       "style": "IPY_MODEL_6d5c7541d2bd4bee941b15146b1896b7"
      }
     },
     "5f7b816e1bdb48b88b76e5003b867058": {
      "model_module": "bqplot",
      "model_module_version": "^0.3.0-alpha.1",
      "model_name": "LinesModel",
      "state": {
       "_model_module_version": "^0.3.0-alpha.1",
       "_view_module_version": "^0.3.0-alpha.1",
       "color": {
        "type": null,
        "values": null
       },
       "display_legend": false,
       "fill_colors": [],
       "labels": [
        "C1"
       ],
       "scales": {
        "x": "IPY_MODEL_2e757b6141484a4c9e74035b2c3255c5",
        "y": "IPY_MODEL_e806d47d33c448b19cb6d2bc7768a25e"
       },
       "selected": [],
       "x": {
        "type": "float",
        "values": [
         20,
         54.9969362745098,
         82.25183823529412
        ]
       },
       "y": {
        "type": "float",
        "values": [
         10,
         24.32699548192771,
         44.20651355421687
        ]
       }
      }
     },
     "5f89a2613cc84b7e9d12e326f849651f": {
      "model_module": "@jupyter-widgets/controls",
      "model_module_version": "3.0.0",
      "model_name": "DescriptionStyleModel",
      "state": {
       "description_width": ""
      }
     },
     "5f976dc6fdd240b081c78cb31f1d70dd": {
      "model_module": "@jupyter-widgets/controls",
      "model_module_version": "3.0.0",
      "model_name": "DropdownModel",
      "state": {
       "_options_labels": [
        "COAL",
        "NATURALGAS",
        "WIND"
       ],
       "description": "Generation Type:",
       "index": 0,
       "layout": "IPY_MODEL_1cb3bcf6ff3b462a8bae439a7eebb7e9",
       "style": "IPY_MODEL_df2e9fb56f754446be798d9dc30c86c2"
      }
     },
     "5f98d06c0f0a42658bdf1362eac59693": {
      "model_module": "@jupyter-widgets/controls",
      "model_module_version": "3.0.0",
      "model_name": "TextModel",
      "state": {
       "description": "Name",
       "layout": "IPY_MODEL_4ef24272b2164a9cb3c4550b17bf1520",
       "style": "IPY_MODEL_ba1df40fb5d646c0831d5d80e40f1e29",
       "value": "GenCo0"
      }
     },
     "5fbb898b7cfb49bfa1aa53c79786d524": {
      "model_module": "@jupyter-widgets/controls",
      "model_module_version": "3.0.0",
      "model_name": "TextModel",
      "state": {
       "description": "Name",
       "layout": "IPY_MODEL_cbbf7befd75f4d8498f1d762c78d7c11",
       "style": "IPY_MODEL_bd215a537dff47c09bdba6262327ba6b",
       "value": "GenCo0"
      }
     },
     "60238dae23bf42cc9c81ccda24566e81": {
      "model_module": "@jupyter-widgets/base",
      "model_module_version": "3.0.0",
      "model_name": "LayoutModel",
      "state": {}
     },
     "60364d341b00449dbd112dbec6b20a39": {
      "model_module": "bqplot",
      "model_module_version": "^0.3.0-alpha.1",
      "model_name": "LinearScaleModel",
      "state": {
       "_model_module_version": "^0.3.0-alpha.1",
       "_view_module_version": "^0.3.0-alpha.1",
       "allow_padding": false,
       "max": 1,
       "min": 0,
       "stabilized": false
      }
     },
     "60580813ee8741fbbec79f73da1de935": {
      "model_module": "@jupyter-widgets/base",
      "model_module_version": "3.0.0",
      "model_name": "LayoutModel",
      "state": {}
     },
     "6087fb02212d44d28d60cb910254d9cd": {
      "model_module": "@jupyter-widgets/controls",
      "model_module_version": "3.0.0",
      "model_name": "DropdownModel",
      "state": {
       "_options_labels": [
        "COAL",
        "NATURALGAS",
        "WIND"
       ],
       "description": "Generation Type:",
       "index": 0,
       "layout": "IPY_MODEL_b279333ddb144b8492cda56c2e4cb6a4",
       "style": "IPY_MODEL_9e63158e45634dcfba4f421e2f1a29e7"
      }
     },
     "608a45023d1d48008351ed2d3305ed6d": {
      "model_module": "@jupyter-widgets/base",
      "model_module_version": "3.0.0",
      "model_name": "LayoutModel",
      "state": {}
     },
     "60acce8966564f78a8f7829874c2166f": {
      "model_module": "@jupyter-widgets/controls",
      "model_module_version": "3.0.0",
      "model_name": "VBoxModel",
      "state": {
       "children": [
        "IPY_MODEL_24514de28dbc49c188f7a6af34a30a87",
        "IPY_MODEL_e2552b5320104ee3be2ffbeb6c871f27",
        "IPY_MODEL_d6d72850324345ac9405c2eb09ddbbc9",
        "IPY_MODEL_e7d9eae2c11c43f9a62e3bc6bab5cb33",
        "IPY_MODEL_5d2ef6ba0f7f42e3a468b4a42642a796",
        "IPY_MODEL_6ee8af3c4c6e4f6da36993b6de6a40f9",
        "IPY_MODEL_cb8952b6ae75456fbbb338bec51e31db",
        "IPY_MODEL_a23d0e168d504c78b07e70230352c9a9",
        "IPY_MODEL_9ce07d1e12aa40c8a2d0104e9cb4bfcf",
        "IPY_MODEL_30d5b3a07a8d41ca831d763c91e971ff",
        "IPY_MODEL_f0c0a8094c44417e8f3b6919b869455a",
        "IPY_MODEL_b7122422cd6b444fa671a666bc2ddf8a",
        "IPY_MODEL_cd7593de6a0b46d69d91dd0f1d5f895f",
        "IPY_MODEL_bb8322d927714577bf01db74e69f378b",
        "IPY_MODEL_36e4ae2b41a742e9a4eef3d28218c290",
        "IPY_MODEL_cc06f0d130924cce824afbffa4d644d1"
       ],
       "layout": "IPY_MODEL_b181c476cc2f4227bf7517d016ffadf1"
      }
     },
     "60b46598b5af4962bb9c919757dcf2b4": {
      "model_module": "@jupyter-widgets/base",
      "model_module_version": "3.0.0",
      "model_name": "LayoutModel",
      "state": {}
     },
     "610291b7cefa4f03a0d67cfe3d97865c": {
      "model_module": "bqplot",
      "model_module_version": "^0.3.0-alpha.1",
      "model_name": "LinearScaleModel",
      "state": {
       "_model_module_version": "^0.3.0-alpha.1",
       "_view_module_version": "^0.3.0-alpha.1",
       "max": 30,
       "min": 0,
       "stabilized": false
      }
     },
     "6106b77b7ec24c6fb179b95193d8b477": {
      "model_module": "@jupyter-widgets/controls",
      "model_module_version": "3.0.0",
      "model_name": "DescriptionStyleModel",
      "state": {
       "description_width": "initial"
      }
     },
     "6119a2b0b315415d8fb586e07bfea649": {
      "model_module": "@jupyter-widgets/controls",
      "model_module_version": "3.0.0",
      "model_name": "BoundedFloatTextModel",
      "state": {
       "description": "No-Load Cost ($/hr):",
       "layout": "IPY_MODEL_0cff897f93c24bb3bd5855378d1c8407",
       "max": 10000000000,
       "style": "IPY_MODEL_3e315c3dcff44fc7b0dd5e57843df368"
      }
     },
     "61479033087448bd977ef6bf1cf65baa": {
      "model_module": "@jupyter-widgets/controls",
      "model_module_version": "3.0.0",
      "model_name": "DescriptionStyleModel",
      "state": {
       "description_width": "initial"
      }
     },
     "61c191b1bc27484195f39923087500b1": {
      "model_module": "@jupyter-widgets/base",
      "model_module_version": "3.0.0",
      "model_name": "LayoutModel",
      "state": {}
     },
     "61cef8bf111c4d4ba50d270f7de19c71": {
      "model_module": "@jupyter-widgets/controls",
      "model_module_version": "3.0.0",
      "model_name": "DescriptionStyleModel",
      "state": {
       "description_width": "initial"
      }
     },
     "61d07a01515441a891c8941542d8d588": {
      "model_module": "@jupyter-widgets/controls",
      "model_module_version": "3.0.0",
      "model_name": "BoundedFloatTextModel",
      "state": {
       "description": "Initial Generation (MW):",
       "layout": "IPY_MODEL_b615dc6c490c4adbbc1044a3520ae4ba",
       "style": "IPY_MODEL_ad77f02cfbe141758078da2c4e17b6ba"
      }
     },
     "62133609c29049d7aff477b2cad86595": {
      "model_module": "@jupyter-widgets/controls",
      "model_module_version": "3.0.0",
      "model_name": "DescriptionStyleModel",
      "state": {
       "description_width": "initial"
      }
     },
     "622b688572ff4ebfbc051597c85c3b42": {
      "model_module": "@jupyter-widgets/controls",
      "model_module_version": "3.0.0",
      "model_name": "SliderStyleModel",
      "state": {
       "description_width": "initial"
      }
     },
     "627887da42a14050a97e8c1cfe32ad60": {
      "model_module": "@jupyter-widgets/base",
      "model_module_version": "3.0.0",
      "model_name": "LayoutModel",
      "state": {}
     },
     "6287848f9b7a488e80e54f1a17f04312": {
      "model_module": "@jupyter-widgets/base",
      "model_module_version": "3.0.0",
      "model_name": "LayoutModel",
      "state": {}
     },
     "633eab04918244499954144792ce5ad4": {
      "model_module": "@jupyter-widgets/base",
      "model_module_version": "3.0.0",
      "model_name": "LayoutModel",
      "state": {}
     },
     "634b167c74ea4cc0a5672305b3cfaa06": {
      "model_module": "@jupyter-widgets/controls",
      "model_module_version": "3.0.0",
      "model_name": "BoundedFloatTextModel",
      "state": {
       "description": "Startup Time (hr):",
       "layout": "IPY_MODEL_a0a1ad0b8a4a49a981e6af3b155178e6",
       "max": 24,
       "style": "IPY_MODEL_6d21a1b8e8b746c6a12005393a8284e6"
      }
     },
     "63dd304e90584e7facc16a7e7f85cc00": {
      "model_module": "@jupyter-widgets/controls",
      "model_module_version": "3.0.0",
      "model_name": "SliderStyleModel",
      "state": {
       "description_width": "initial"
      }
     },
     "63e0a90d44f54fd5bf95b1454671ffa9": {
      "model_module": "bqplot",
      "model_module_version": "^0.3.0-alpha.1",
      "model_name": "AxisModel",
      "state": {
       "_model_module_version": "^0.3.0-alpha.1",
       "_view_module_version": "^0.3.0-alpha.1",
       "scale": "IPY_MODEL_568a7d18bd6e4b85b24c49d37b7a9080",
       "side": "bottom",
       "tick_values": {
        "type": null,
        "values": null
       }
      }
     },
     "6443ef760e84441f990f85a637734576": {
      "model_module": "@jupyter-widgets/base",
      "model_module_version": "3.0.0",
      "model_name": "LayoutModel",
      "state": {}
     },
     "64538758b98f416ca15e0a0e499ac7d8": {
      "model_module": "bqplot",
      "model_module_version": "^0.3.0-alpha.1",
      "model_name": "LinearScaleModel",
      "state": {
       "_model_module_version": "^0.3.0-alpha.1",
       "_view_module_version": "^0.3.0-alpha.1",
       "allow_padding": false,
       "max": 1,
       "min": 0,
       "stabilized": false
      }
     },
     "64cc83ee8beb4bfaa4ae61109cd4cfb3": {
      "model_module": "@jupyter-widgets/base",
      "model_module_version": "3.0.0",
      "model_name": "LayoutModel",
      "state": {}
     },
     "64d09c1649184f32872e577ccb821f99": {
      "model_module": "@jupyter-widgets/base",
      "model_module_version": "3.0.0",
      "model_name": "LayoutModel",
      "state": {
       "min_width": "125px"
      }
     },
     "64f87aff996d4098a6d5d8c3bce4f6b6": {
      "model_module": "@jupyter-widgets/base",
      "model_module_version": "3.0.0",
      "model_name": "LayoutModel",
      "state": {}
     },
     "6503b9328eb84dd0a0a0dc3f09baed84": {
      "model_module": "@jupyter-widgets/controls",
      "model_module_version": "3.0.0",
      "model_name": "SliderStyleModel",
      "state": {
       "description_width": "initial"
      }
     },
     "6507569729ab4e04bdf5f301229fe338": {
      "model_module": "bqplot",
      "model_module_version": "^0.3.0-alpha.1",
      "model_name": "LinesModel",
      "state": {
       "_model_module_version": "^0.3.0-alpha.1",
       "_view_module_version": "^0.3.0-alpha.1",
       "color": {
        "type": null,
        "values": null
       },
       "display_legend": false,
       "fill_colors": [],
       "labels": [
        "C1"
       ],
       "scales": {
        "x": "IPY_MODEL_1e55e767fbb8484eaee2bd5b225c7e31",
        "y": "IPY_MODEL_a43829bc9e904e5286ff84bfc65df6a3"
       },
       "selected": [],
       "x": {
        "type": "float",
        "values": [
         0,
         33.333333333333336,
         66.66666666666667,
         100
        ]
       },
       "y": {
        "type": "float",
        "values": [
         0,
         0,
         0,
         0
        ]
       }
      }
     },
     "651e749412654152887f9ca7bc450568": {
      "model_module": "@jupyter-widgets/controls",
      "model_module_version": "3.0.0",
      "model_name": "DescriptionStyleModel",
      "state": {
       "description_width": "initial"
      }
     },
     "653d76eb0c5f4149a4352db6e02e6d18": {
      "model_module": "bqplot",
      "model_module_version": "^0.3.0-alpha.1",
      "model_name": "AxisModel",
      "state": {
       "_model_module_version": "^0.3.0-alpha.1",
       "_view_module_version": "^0.3.0-alpha.1",
       "orientation": "vertical",
       "scale": "IPY_MODEL_39a956bb13ca4ffbb8695463918df4f2",
       "side": "left",
       "tick_values": {
        "type": null,
        "values": null
       }
      }
     },
     "6549a6aa10d44d0cabd6370e89bc6c73": {
      "model_module": "@jupyter-widgets/controls",
      "model_module_version": "3.0.0",
      "model_name": "DescriptionStyleModel",
      "state": {
       "description_width": "initial"
      }
     },
     "657ed9cbda5f483f88e61c4137dc434d": {
      "model_module": "@jupyter-widgets/base",
      "model_module_version": "3.0.0",
      "model_name": "LayoutModel",
      "state": {}
     },
     "65ca0a0e2d0d437ba0b2d29a400f45ec": {
      "model_module": "@jupyter-widgets/base",
      "model_module_version": "3.0.0",
      "model_name": "LayoutModel",
      "state": {}
     },
     "660e73c1c12b4688ace1e04d8dcd2db0": {
      "model_module": "@jupyter-widgets/base",
      "model_module_version": "3.0.0",
      "model_name": "LayoutModel",
      "state": {}
     },
     "66571f1574eb4f85ab36ad69f7358fc8": {
      "model_module": "@jupyter-widgets/controls",
      "model_module_version": "3.0.0",
      "model_name": "DescriptionStyleModel",
      "state": {
       "description_width": "initial"
      }
     },
     "668b0f1491274253bacdc129da345f43": {
      "model_module": "bqplot",
      "model_module_version": "^0.3.0-alpha.1",
      "model_name": "AxisModel",
      "state": {
       "_model_module_version": "^0.3.0-alpha.1",
       "_view_module_version": "^0.3.0-alpha.1",
       "orientation": "vertical",
       "scale": "IPY_MODEL_983d937edf3348e79c7779a4f5391a6e",
       "side": "left",
       "tick_values": {
        "type": null,
        "values": null
       }
      }
     },
     "66902e2e6df44222a9b8eb5bb3ebbbab": {
      "model_module": "@jupyter-widgets/controls",
      "model_module_version": "3.0.0",
      "model_name": "DescriptionStyleModel",
      "state": {
       "description_width": "initial"
      }
     },
     "66af1fb46a2d40b4854bcd46fc27e37f": {
      "model_module": "@jupyter-widgets/base",
      "model_module_version": "3.0.0",
      "model_name": "LayoutModel",
      "state": {}
     },
     "66e51d7898744973bad85f37c5b2b014": {
      "model_module": "@jupyter-widgets/controls",
      "model_module_version": "3.0.0",
      "model_name": "BoundedFloatTextModel",
      "state": {
       "description": "No-Load Cost ($/hr):",
       "layout": "IPY_MODEL_d0b324b6f6384df384dbda5382f3df39",
       "max": 10000000000,
       "style": "IPY_MODEL_a81a5d1fdf4f4b749d209cb06708be78"
      }
     },
     "66ecf2c4a0da40e5ac33e97e73d753a8": {
      "model_module": "@jupyter-widgets/base",
      "model_module_version": "3.0.0",
      "model_name": "LayoutModel",
      "state": {}
     },
     "66fbacd27d3346eabf1d06303df579b1": {
      "model_module": "@jupyter-widgets/controls",
      "model_module_version": "3.0.0",
      "model_name": "SliderStyleModel",
      "state": {
       "description_width": "initial"
      }
     },
     "67170cbdc44c4e2aa8abae4342b7bde5": {
      "model_module": "bqplot",
      "model_module_version": "^0.3.0-alpha.1",
      "model_name": "FigureModel",
      "state": {
       "_dom_classes": [],
       "_model_module_version": "^0.3.0-alpha.1",
       "_view_module_version": "^0.3.0-alpha.1",
       "axes": [
        "IPY_MODEL_f730946e974a4714be1d789cec12b2be",
        "IPY_MODEL_367ffc38e3d64988801df6ff65e73915"
       ],
       "layout": "IPY_MODEL_fb4a9cf8695f477187d7e3cb8ce82845",
       "marks": [
        "IPY_MODEL_fc4cee59a73444818f8056e6cc36c7e2"
       ],
       "max_aspect_ratio": 6,
       "scale_x": "IPY_MODEL_32ef37ec3fdd49109ddd24fb91a309e2",
       "scale_y": "IPY_MODEL_50e06abd694d4ca98726fd9b0c8abc93"
      }
     },
     "671bc9b328cd4fdaa59b8c0c8f6e3f53": {
      "model_module": "@jupyter-widgets/controls",
      "model_module_version": "3.0.0",
      "model_name": "DescriptionStyleModel",
      "state": {
       "description_width": "initial"
      }
     },
     "671fd029407b46c69e1fea4dd0bdaa86": {
      "model_module": "@jupyter-widgets/controls",
      "model_module_version": "3.0.0",
      "model_name": "IntSliderModel",
      "state": {
       "description": "Number of Cost Curve Segments",
       "layout": "IPY_MODEL_f382633ca2df4901a5fbef4db19571aa",
       "max": 50,
       "min": 2,
       "style": "IPY_MODEL_e6f7cf2527f5402cbdde06f1b7fb3ab1",
       "value": 3
      }
     },
     "67353e6c89254d009aa1594744760f93": {
      "model_module": "@jupyter-widgets/base",
      "model_module_version": "3.0.0",
      "model_name": "LayoutModel",
      "state": {}
     },
     "673e07b9e7a5464a807e6c1f2396adbc": {
      "model_module": "@jupyter-widgets/controls",
      "model_module_version": "3.0.0",
      "model_name": "BoundedFloatTextModel",
      "state": {
       "description": "Initial Generation (MW):",
       "layout": "IPY_MODEL_7e7b70f0e7e14209b21692000c0fbdc3",
       "style": "IPY_MODEL_50e1f2d125354af0b437d43268b8ed0e"
      }
     },
     "67512e0c79e04e53b529e54c0ad07cab": {
      "model_module": "@jupyter-widgets/base",
      "model_module_version": "3.0.0",
      "model_name": "LayoutModel",
      "state": {}
     },
     "6797c3893f3e4d90a344f302cb23d563": {
      "model_module": "@jupyter-widgets/controls",
      "model_module_version": "3.0.0",
      "model_name": "DescriptionStyleModel",
      "state": {
       "description_width": "initial"
      }
     },
     "679a7b2caccd4ac49f4b34e7ad853dd7": {
      "model_module": "@jupyter-widgets/controls",
      "model_module_version": "3.0.0",
      "model_name": "DescriptionStyleModel",
      "state": {
       "description_width": ""
      }
     },
     "67a44f396f69463bbb96a23165e6b289": {
      "model_module": "bqplot",
      "model_module_version": "^0.3.0-alpha.1",
      "model_name": "FigureModel",
      "state": {
       "_dom_classes": [],
       "_model_module_version": "^0.3.0-alpha.1",
       "_view_module_version": "^0.3.0-alpha.1",
       "axes": [
        "IPY_MODEL_d5988d63496143efb1c5fcfad72d0966",
        "IPY_MODEL_0ae37935b3344fcfb1bf528ed6ac7820"
       ],
       "layout": "IPY_MODEL_c98ec83b021b44f4af974b9b7c9bfd65",
       "marks": [
        "IPY_MODEL_2ba8f389ae2a44f8bdd9348a7270dd41"
       ],
       "max_aspect_ratio": 6,
       "scale_x": "IPY_MODEL_99e64f66b03746af93ffad37f654137d",
       "scale_y": "IPY_MODEL_abf8113333b84b5f9131cb6299f01d4c"
      }
     },
     "67ac48ef5cce4dec873eb6dd652cfc17": {
      "model_module": "bqplot",
      "model_module_version": "^0.3.0-alpha.1",
      "model_name": "LinearScaleModel",
      "state": {
       "_model_module_version": "^0.3.0-alpha.1",
       "_view_module_version": "^0.3.0-alpha.1",
       "allow_padding": false,
       "max": 1,
       "min": 0,
       "stabilized": false
      }
     },
     "67b520756810487ba5dbdbdbadd3d853": {
      "model_module": "@jupyter-widgets/controls",
      "model_module_version": "3.0.0",
      "model_name": "BoundedFloatTextModel",
      "state": {
       "description": "Ramp Up Rate (MW/hr):",
       "layout": "IPY_MODEL_d3f4f0b77f354fb8ad5400bac39282aa",
       "style": "IPY_MODEL_c197cae59ae642cda2d2416b6eb7a90b"
      }
     },
     "6810476c784a4ca4bec0f80418c27317": {
      "model_module": "@jupyter-widgets/controls",
      "model_module_version": "3.0.0",
      "model_name": "IntSliderModel",
      "state": {
       "description": "Number of Cost Curve Segments",
       "layout": "IPY_MODEL_1d0b1749c01d4db583ef4c8e7bb3fcd1",
       "max": 50,
       "min": 2,
       "style": "IPY_MODEL_db0d0428d18c484aac8e30a75673d491",
       "value": 3
      }
     },
     "683d0c8aab1e4a06a0e45778ffe4b8af": {
      "model_module": "@jupyter-widgets/controls",
      "model_module_version": "3.0.0",
      "model_name": "DescriptionStyleModel",
      "state": {
       "description_width": "initial"
      }
     },
     "684d789ac9e24bcd910d9be32071df72": {
      "model_module": "@jupyter-widgets/base",
      "model_module_version": "3.0.0",
      "model_name": "LayoutModel",
      "state": {}
     },
     "685caccb02234e1aa2d30eeaed55713b": {
      "model_module": "@jupyter-widgets/controls",
      "model_module_version": "3.0.0",
      "model_name": "BoundedFloatTextModel",
      "state": {
       "description": "Capacity (MW):",
       "layout": "IPY_MODEL_b8a1572a27c54b74817a2a109b2ea4db",
       "max": 10000000000,
       "style": "IPY_MODEL_b9a509d46d0642af9ee43fb1387dc15e",
       "value": 100
      }
     },
     "685d8ab7ca5f4653abc9a95abed9f826": {
      "model_module": "@jupyter-widgets/controls",
      "model_module_version": "3.0.0",
      "model_name": "CheckboxModel",
      "state": {
       "description": "Initial Status:",
       "disabled": false,
       "layout": "IPY_MODEL_9a66f1c134ec46eaa81add44146730b6",
       "style": "IPY_MODEL_851c442084c24e4e92f7e1f9942fe827",
       "value": true
      }
     },
     "685e68ef66054e6695fc6dc6d0f456d2": {
      "model_module": "@jupyter-widgets/base",
      "model_module_version": "3.0.0",
      "model_name": "LayoutModel",
      "state": {}
     },
     "6869412b74ba4f9f98250af7998f221c": {
      "model_module": "@jupyter-widgets/controls",
      "model_module_version": "3.0.0",
      "model_name": "DescriptionStyleModel",
      "state": {
       "description_width": "initial"
      }
     },
     "6911486f68124919b518f9834fde64e7": {
      "model_module": "@jupyter-widgets/base",
      "model_module_version": "3.0.0",
      "model_name": "LayoutModel",
      "state": {}
     },
     "691e018439c641de9ead34e79a9affd5": {
      "model_module": "@jupyter-widgets/controls",
      "model_module_version": "3.0.0",
      "model_name": "DescriptionStyleModel",
      "state": {
       "description_width": "initial"
      }
     },
     "693365889ee8400397481cb16b4f583d": {
      "model_module": "@jupyter-widgets/controls",
      "model_module_version": "3.0.0",
      "model_name": "DropdownModel",
      "state": {
       "_options_labels": [
        "COAL",
        "NATURALGAS",
        "WIND"
       ],
       "description": "Generation Type:",
       "index": 0,
       "layout": "IPY_MODEL_07d5386325954ffcb45d7d8baf90f25e",
       "style": "IPY_MODEL_8b5d3186d68146e9858f459cd48ad44b"
      }
     },
     "6975ba5f911949cda0c0acf40d7a97db": {
      "model_module": "@jupyter-widgets/controls",
      "model_module_version": "3.0.0",
      "model_name": "BoundedFloatTextModel",
      "state": {
       "description": "Minimum Down Time (hr):",
       "layout": "IPY_MODEL_c946c92e59b94efb8fba4d864ef839e1",
       "max": 24,
       "style": "IPY_MODEL_faf4511a15d7402c8e224dd7ebea10dd"
      }
     },
     "69814af0aba04f0d80aa5255e756dde6": {
      "model_module": "bqplot",
      "model_module_version": "^0.3.0-alpha.1",
      "model_name": "LinearScaleModel",
      "state": {
       "_model_module_version": "^0.3.0-alpha.1",
       "_view_module_version": "^0.3.0-alpha.1",
       "allow_padding": false,
       "max": 1,
       "min": 0,
       "stabilized": false
      }
     },
     "698844e2a6e943b9b3a72310fa8f6485": {
      "model_module": "@jupyter-widgets/base",
      "model_module_version": "3.0.0",
      "model_name": "LayoutModel",
      "state": {}
     },
     "69ff2547f3e84d2098d8ae3a3772c7a1": {
      "model_module": "@jupyter-widgets/controls",
      "model_module_version": "3.0.0",
      "model_name": "HTMLModel",
      "state": {
       "layout": "IPY_MODEL_c8f432cf325043be9319de0557f1b09b",
       "style": "IPY_MODEL_c393a6d617f44ab9b998ec55ad0d1b9c",
       "value": "Generator:"
      }
     },
     "6a696b17263a4858b97d1509351da49c": {
      "model_module": "@jupyter-widgets/controls",
      "model_module_version": "3.0.0",
      "model_name": "DescriptionStyleModel",
      "state": {
       "description_width": "initial"
      }
     },
     "6a7bc40b9304494483ffaf3d1c64b2fc": {
      "model_module": "bqplot",
      "model_module_version": "^0.3.0-alpha.1",
      "model_name": "LinearScaleModel",
      "state": {
       "_model_module_version": "^0.3.0-alpha.1",
       "_view_module_version": "^0.3.0-alpha.1",
       "allow_padding": false,
       "max": 1,
       "min": 0,
       "stabilized": false
      }
     },
     "6a7c41243b434ca7a1df517ac5aaba97": {
      "model_module": "@jupyter-widgets/base",
      "model_module_version": "3.0.0",
      "model_name": "LayoutModel",
      "state": {}
     },
     "6a830d9828424196bcf9a5f711c49fa7": {
      "model_module": "@jupyter-widgets/controls",
      "model_module_version": "3.0.0",
      "model_name": "DescriptionStyleModel",
      "state": {
       "description_width": "initial"
      }
     },
     "6a89427ecd024652b8481943e86a5603": {
      "model_module": "@jupyter-widgets/base",
      "model_module_version": "3.0.0",
      "model_name": "LayoutModel",
      "state": {}
     },
     "6a9c7c7e9fc24d7e9bc603a46cbe7dd3": {
      "model_module": "@jupyter-widgets/controls",
      "model_module_version": "3.0.0",
      "model_name": "BoundedFloatTextModel",
      "state": {
       "description": "Minimum Generation (MW):",
       "layout": "IPY_MODEL_7002e7c44ad94bce9f484e3280503af5",
       "style": "IPY_MODEL_f0077fa1ca374937878d0d35b16c410a"
      }
     },
     "6aa22e139e9f4a039c5eca89f3896a70": {
      "model_module": "@jupyter-widgets/controls",
      "model_module_version": "3.0.0",
      "model_name": "DescriptionStyleModel",
      "state": {
       "description_width": "initial"
      }
     },
     "6abaac687f8e4cc990cf61526fe1300a": {
      "model_module": "@jupyter-widgets/controls",
      "model_module_version": "3.0.0",
      "model_name": "BoundedFloatTextModel",
      "state": {
       "description": "Ramp Down Rate (MW/hr):",
       "layout": "IPY_MODEL_24b2d902488c4b189875d2bd9bc00805",
       "max": 200,
       "style": "IPY_MODEL_e0fcb38076ef495e8738625105e19e6b"
      }
     },
     "6ac071e332134df896627b59c4bcf42b": {
      "model_module": "bqplot",
      "model_module_version": "^0.3.0-alpha.1",
      "model_name": "AxisModel",
      "state": {
       "_model_module_version": "^0.3.0-alpha.1",
       "_view_module_version": "^0.3.0-alpha.1",
       "orientation": "vertical",
       "scale": "IPY_MODEL_d7e09a2591594dbaa8f17bc0393e1e6c",
       "side": "left",
       "tick_values": {
        "type": null,
        "values": null
       }
      }
     },
     "6b092eb643364d5e8a78b109836d6db8": {
      "model_module": "@jupyter-widgets/controls",
      "model_module_version": "3.0.0",
      "model_name": "BoundedFloatTextModel",
      "state": {
       "description": "Minimum Up Time (hr):",
       "layout": "IPY_MODEL_0651aeaa11544cca94287937d4d1b46d",
       "max": 24,
       "style": "IPY_MODEL_916caf7e6ae94cd99ea415bbc64af721"
      }
     },
     "6b0de53e737e479684527c8260d31f45": {
      "model_module": "@jupyter-widgets/controls",
      "model_module_version": "3.0.0",
      "model_name": "DescriptionStyleModel",
      "state": {
       "description_width": "initial"
      }
     },
     "6b169fe3c7af479dbba7c36b1c5cf406": {
      "model_module": "@jupyter-widgets/controls",
      "model_module_version": "3.0.0",
      "model_name": "BoundedFloatTextModel",
      "state": {
       "description": "Startup Time (hr):",
       "layout": "IPY_MODEL_ef4bdecffc4b47b9b245074005e3440a",
       "max": 24,
       "style": "IPY_MODEL_57096e8a3b294ea098e0f881ade84861"
      }
     },
     "6b2e3e535b6e4c6daa0f8a1d9dd1abee": {
      "model_module": "@jupyter-widgets/base",
      "model_module_version": "3.0.0",
      "model_name": "LayoutModel",
      "state": {}
     },
     "6b39f5a66a624a09af5620bf7411e6ba": {
      "model_module": "@jupyter-widgets/base",
      "model_module_version": "3.0.0",
      "model_name": "LayoutModel",
      "state": {}
     },
     "6b5ba3481cf24698a8c495ee95cee24a": {
      "model_module": "@jupyter-widgets/controls",
      "model_module_version": "3.0.0",
      "model_name": "BoundedFloatTextModel",
      "state": {
       "description": "Minimum Up Time (hr):",
       "layout": "IPY_MODEL_fefb84e7e68d4cada627fe3710faedd1",
       "max": 24,
       "style": "IPY_MODEL_d0f83545a0e5471b817d1838156feb77"
      }
     },
     "6b70bfc3308c485bbe8a22abd7c79632": {
      "model_module": "@jupyter-widgets/base",
      "model_module_version": "3.0.0",
      "model_name": "LayoutModel",
      "state": {}
     },
     "6b9f269fd1d54bb0aa0de5dd6bbd6016": {
      "model_module": "@jupyter-widgets/base",
      "model_module_version": "3.0.0",
      "model_name": "LayoutModel",
      "state": {}
     },
     "6bab101f820f409399faaa40d987dada": {
      "model_module": "@jupyter-widgets/controls",
      "model_module_version": "3.0.0",
      "model_name": "BoundedFloatTextModel",
      "state": {
       "description": "Capacity (MW):",
       "layout": "IPY_MODEL_f923f9fb8124469996491ce841977df2",
       "max": 10000000000,
       "style": "IPY_MODEL_8b87db0dad90465395889cc5912426ec",
       "value": 100
      }
     },
     "6c065a90685147399ac55ea858e2525f": {
      "model_module": "@jupyter-widgets/controls",
      "model_module_version": "3.0.0",
      "model_name": "DescriptionStyleModel",
      "state": {
       "description_width": "initial"
      }
     },
     "6c3d47bad461414a87b350b2cf83359e": {
      "model_module": "@jupyter-widgets/base",
      "model_module_version": "3.0.0",
      "model_name": "LayoutModel",
      "state": {}
     },
     "6c47fa2867e0476b890e1ad622e94b84": {
      "model_module": "@jupyter-widgets/controls",
      "model_module_version": "3.0.0",
      "model_name": "DescriptionStyleModel",
      "state": {
       "description_width": "initial"
      }
     },
     "6c8c19faf8cb43f79375aadb3d1404c6": {
      "model_module": "@jupyter-widgets/base",
      "model_module_version": "3.0.0",
      "model_name": "LayoutModel",
      "state": {}
     },
     "6cc937e3ca7f41ad99b732e19c3a68dc": {
      "model_module": "bqplot",
      "model_module_version": "^0.3.0-alpha.1",
      "model_name": "FigureModel",
      "state": {
       "_dom_classes": [],
       "_model_module_version": "^0.3.0-alpha.1",
       "_view_module_version": "^0.3.0-alpha.1",
       "axes": [
        "IPY_MODEL_d8582334245b45e394cb58d18b85c31e",
        "IPY_MODEL_346b0071366340ff968baf5bbba5b4c0"
       ],
       "layout": "IPY_MODEL_9986f6a916c34c148f70555923071027",
       "marks": [
        "IPY_MODEL_965644faf2014eac94719555752d7eed",
        "IPY_MODEL_d9fa4591efe74f27b26ee41ae5241e79"
       ],
       "max_aspect_ratio": 6,
       "scale_x": "IPY_MODEL_0e411fd745184d2dab2560fae41d4894",
       "scale_y": "IPY_MODEL_1d29ddac4c1c4492a05e5791ab13e1e4"
      }
     },
     "6ce8d6893465442b995241774d5bb3eb": {
      "model_module": "@jupyter-widgets/base",
      "model_module_version": "3.0.0",
      "model_name": "LayoutModel",
      "state": {}
     },
     "6cf2bfb114684836a125c005240019b6": {
      "model_module": "@jupyter-widgets/controls",
      "model_module_version": "3.0.0",
      "model_name": "DescriptionStyleModel",
      "state": {
       "description_width": "initial"
      }
     },
     "6d041950f7844b7faefa82b597e8e7eb": {
      "model_module": "@jupyter-widgets/controls",
      "model_module_version": "3.0.0",
      "model_name": "BoundedFloatTextModel",
      "state": {
       "description": "Startup Cost ($/hr):",
       "layout": "IPY_MODEL_b6f42c65ec4b4c6c81289494b1d2b6f0",
       "max": 10000000000,
       "style": "IPY_MODEL_233398ae20564bf88afbfc777568517d"
      }
     },
     "6d21a1b8e8b746c6a12005393a8284e6": {
      "model_module": "@jupyter-widgets/controls",
      "model_module_version": "3.0.0",
      "model_name": "DescriptionStyleModel",
      "state": {
       "description_width": "initial"
      }
     },
     "6d5c7541d2bd4bee941b15146b1896b7": {
      "model_module": "@jupyter-widgets/controls",
      "model_module_version": "3.0.0",
      "model_name": "DescriptionStyleModel",
      "state": {
       "description_width": "initial"
      }
     },
     "6d6a90fa45714c8e914888c4c37fe724": {
      "model_module": "@jupyter-widgets/controls",
      "model_module_version": "3.0.0",
      "model_name": "DescriptionStyleModel",
      "state": {
       "description_width": "initial"
      }
     },
     "6d91778645c841f5880deeba8973b4cc": {
      "model_module": "bqplot",
      "model_module_version": "^0.3.0-alpha.1",
      "model_name": "ScatterModel",
      "state": {
       "_model_module": "bqplot",
       "_model_module_version": "^0.3.0-alpha.1",
       "_view_count": null,
       "_view_module": "bqplot",
       "_view_module_version": "^0.3.0-alpha.1",
       "apply_clip": true,
       "color": {
        "type": null,
        "values": null
       },
       "colors": [
        "DeepSkyBlue"
       ],
       "display_legend": false,
       "enable_hover": true,
       "hovered_style": {},
       "interactions": {
        "hover": "tooltip"
       },
       "labels": [],
       "msg_throttle": 1,
       "names": {
        "type": null,
        "values": null
       },
       "opacity": {
        "type": null,
        "values": null
       },
       "preserve_domain": {},
       "rotation": {
        "type": null,
        "values": null
       },
       "scales": {
        "x": "IPY_MODEL_9c19421259844bb4969787764d1db61c",
        "y": "IPY_MODEL_12c7925170ba4a148869c6ce4e775647"
       },
       "scales_metadata": {
        "color": {
         "dimension": "color"
        },
        "opacity": {
         "dimension": "opacity"
        },
        "size": {
         "dimension": "size"
        },
        "x": {
         "dimension": "x",
         "orientation": "horizontal"
        },
        "y": {
         "dimension": "y",
         "orientation": "vertical"
        }
       },
       "selected": [],
       "selected_style": {},
       "size": {
        "type": null,
        "values": null
       },
       "skew": {
        "type": null,
        "values": null
       },
       "tooltip": null,
       "tooltip_location": "mouse",
       "tooltip_style": {
        "opacity": 0.9
       },
       "unhovered_style": {},
       "unselected_style": {},
       "visible": true,
       "x": {
        "type": "float",
        "values": [
         0,
         33.333333333333336,
         66.66666666666667,
         100
        ]
       },
       "y": {
        "type": "float",
        "values": [
         0,
         3,
         10,
         20
        ]
       }
      }
     },
     "6de3ebd8834d4b9f84ebe24aaaa7b7fe": {
      "model_module": "@jupyter-widgets/base",
      "model_module_version": "3.0.0",
      "model_name": "LayoutModel",
      "state": {}
     },
     "6de50a32db5346cb84b2d8e66e1f7ded": {
      "model_module": "@jupyter-widgets/controls",
      "model_module_version": "3.0.0",
      "model_name": "IntSliderModel",
      "state": {
       "description": "Number of Cost Curve Segments",
       "layout": "IPY_MODEL_ff3a927de37344888b56b1b53a2c1fdf",
       "max": 50,
       "min": 2,
       "style": "IPY_MODEL_7881b835d2bb4518830cdb1798c7ee9b",
       "value": 3
      }
     },
     "6dedfab01a124f8b9fd4b7f1c917acba": {
      "model_module": "@jupyter-widgets/controls",
      "model_module_version": "3.0.0",
      "model_name": "DescriptionStyleModel",
      "state": {
       "description_width": "initial"
      }
     },
     "6deee781bbf949a6bbaac615227762da": {
      "model_module": "@jupyter-widgets/base",
      "model_module_version": "3.0.0",
      "model_name": "LayoutModel",
      "state": {}
     },
     "6e3a8d42e20a470f83d6ba5929bbad7f": {
      "model_module": "@jupyter-widgets/base",
      "model_module_version": "3.0.0",
      "model_name": "LayoutModel",
      "state": {}
     },
     "6e9f4f481dd14d3e84b26a0d3ee220c1": {
      "model_module": "@jupyter-widgets/base",
      "model_module_version": "3.0.0",
      "model_name": "LayoutModel",
      "state": {}
     },
     "6ea584f9107144acb342dc014be6e544": {
      "model_module": "bqplot",
      "model_module_version": "^0.3.0-alpha.1",
      "model_name": "FigureModel",
      "state": {
       "_dom_classes": [],
       "_model_module_version": "^0.3.0-alpha.1",
       "_view_module_version": "^0.3.0-alpha.1",
       "axes": [
        "IPY_MODEL_16d66eb0596e4e84ab7aa09c1966e380",
        "IPY_MODEL_568f191a77e04a9f8b4f65eeeb8bdfe7"
       ],
       "layout": "IPY_MODEL_a8723a5835c84cc5b73ef363794da686",
       "marks": [
        "IPY_MODEL_5f7b816e1bdb48b88b76e5003b867058",
        "IPY_MODEL_4006d55f900541188344e931ec80f3a2"
       ],
       "max_aspect_ratio": 6,
       "scale_x": "IPY_MODEL_8b839f071eff480387f97577fa27b330",
       "scale_y": "IPY_MODEL_75fded31dd704b46a4a5315d1766ea73"
      }
     },
     "6eafe137138d4e8082c3bcf84816bb7f": {
      "model_module": "@jupyter-widgets/controls",
      "model_module_version": "3.0.0",
      "model_name": "BoundedFloatTextModel",
      "state": {
       "description": "Startup Time (hr):",
       "layout": "IPY_MODEL_8f47f0a5fa3440c29706980d4e6c1ca5",
       "max": 24,
       "style": "IPY_MODEL_bb3b1608b4f54a75bbe97f61b7f45f32"
      }
     },
     "6eb5902f97dd494e9baf645e07f72960": {
      "model_module": "@jupyter-widgets/controls",
      "model_module_version": "3.0.0",
      "model_name": "BoundedFloatTextModel",
      "state": {
       "description": "Startup Cost ($/hr):",
       "layout": "IPY_MODEL_c84cc777498d4ea680491366371d479d",
       "max": 10000000000,
       "style": "IPY_MODEL_cc10c8d1c662434d8a22e2ee9d5b6238"
      }
     },
     "6ecfb158b4c445a69523c803598dd245": {
      "model_module": "bqplot",
      "model_module_version": "^0.3.0-alpha.1",
      "model_name": "AxisModel",
      "state": {
       "_model_module_version": "^0.3.0-alpha.1",
       "_view_module_version": "^0.3.0-alpha.1",
       "scale": "IPY_MODEL_aecc75e1f08f426b8d67b1675473ec70",
       "side": "bottom",
       "tick_values": {
        "type": null,
        "values": null
       }
      }
     },
     "6edac0b27f234a6fb5db7204b2a55674": {
      "model_module": "@jupyter-widgets/controls",
      "model_module_version": "3.0.0",
      "model_name": "DescriptionStyleModel",
      "state": {
       "description_width": "initial"
      }
     },
     "6ee4706ea42f44efa38a73a756747ebe": {
      "model_module": "bqplot",
      "model_module_version": "^0.3.0-alpha.1",
      "model_name": "FigureModel",
      "state": {
       "_dom_classes": [],
       "_model_module_version": "^0.3.0-alpha.1",
       "_view_module_version": "^0.3.0-alpha.1",
       "axes": [
        "IPY_MODEL_9a72142eb9be4311a79f9e7741256748",
        "IPY_MODEL_c94e1cf133394e038de92e4bdaa85c9d"
       ],
       "layout": "IPY_MODEL_e00eb5ccffea4374a3a754e84b7bbd47",
       "marks": [
        "IPY_MODEL_04629fa93bf64fa38f67d311a0332472"
       ],
       "max_aspect_ratio": 6,
       "scale_x": "IPY_MODEL_d155767183bc411aa459c6b6caec741c",
       "scale_y": "IPY_MODEL_5b177f8f62184627a08173194be288a0"
      }
     },
     "6ee8af3c4c6e4f6da36993b6de6a40f9": {
      "model_module": "@jupyter-widgets/controls",
      "model_module_version": "3.0.0",
      "model_name": "BoundedFloatTextModel",
      "state": {
       "description": "Minimum Generation (MW):",
       "layout": "IPY_MODEL_c3bfa7188b3c4b0b901be6a171f6b150",
       "max": 30,
       "style": "IPY_MODEL_7d0ca60cb10943229f824d542a4c5046"
      }
     },
     "6f264eaac5c145808a24f4a01e690909": {
      "model_module": "@jupyter-widgets/base",
      "model_module_version": "3.0.0",
      "model_name": "LayoutModel",
      "state": {}
     },
     "6f55df11e19b4227a36ed3bcd613dca4": {
      "model_module": "@jupyter-widgets/base",
      "model_module_version": "3.0.0",
      "model_name": "LayoutModel",
      "state": {}
     },
     "6f95e791f943445ab92ffb6d98a889b6": {
      "model_module": "@jupyter-widgets/controls",
      "model_module_version": "3.0.0",
      "model_name": "TextModel",
      "state": {
       "description": "Name",
       "layout": "IPY_MODEL_7fa6bb64562d4e9281a094adbc00e34d",
       "style": "IPY_MODEL_b8f0edcd980845c5af3f9150db31d51c",
       "value": "GenCo0"
      }
     },
     "6fa44deca03e47bc968e138887d0800c": {
      "model_module": "bqplot",
      "model_module_version": "^0.3.0-alpha.1",
      "model_name": "AxisModel",
      "state": {
       "_model_module_version": "^0.3.0-alpha.1",
       "_view_module_version": "^0.3.0-alpha.1",
       "orientation": "vertical",
       "scale": "IPY_MODEL_c0e0a4eb621549619e6993418471c5e7",
       "side": "left",
       "tick_values": {
        "type": null,
        "values": null
       }
      }
     },
     "6fb17efff5f645c094b08f55de25d820": {
      "model_module": "@jupyter-widgets/controls",
      "model_module_version": "3.0.0",
      "model_name": "DescriptionStyleModel",
      "state": {
       "description_width": "initial"
      }
     },
     "6ff5ba789fa34f68a47d1fc45224f498": {
      "model_module": "@jupyter-widgets/controls",
      "model_module_version": "3.0.0",
      "model_name": "BoundedFloatTextModel",
      "state": {
       "description": "Ramp Up Rate (MW/hr):",
       "layout": "IPY_MODEL_085fc66f0e3c46fbbacb259e5b1e006f",
       "style": "IPY_MODEL_4b3ad61d32f049f2924af812e1359013"
      }
     },
     "7002e7c44ad94bce9f484e3280503af5": {
      "model_module": "@jupyter-widgets/base",
      "model_module_version": "3.0.0",
      "model_name": "LayoutModel",
      "state": {}
     },
     "70038f2185b5465e8b3afdc79270ea52": {
      "model_module": "@jupyter-widgets/base",
      "model_module_version": "3.0.0",
      "model_name": "LayoutModel",
      "state": {}
     },
     "700a0e59811d4c46975672aa85045b32": {
      "model_module": "@jupyter-widgets/controls",
      "model_module_version": "3.0.0",
      "model_name": "HTMLModel",
      "state": {
       "layout": "IPY_MODEL_d92c56cb48f24bfa9da2041c20c2accc",
       "style": "IPY_MODEL_245bd6b94e1546359b3d89435264df68",
       "value": "Generator:"
      }
     },
     "703264abbad0418dad4ea7ad3825c506": {
      "model_module": "@jupyter-widgets/controls",
      "model_module_version": "3.0.0",
      "model_name": "BoundedFloatTextModel",
      "state": {
       "description": "Minimum Up Time (hr):",
       "layout": "IPY_MODEL_08190ff3e33f4085a413efd7a1c030a7",
       "max": 24,
       "style": "IPY_MODEL_0410f163dd5a412db7fa5c1e1728ed34"
      }
     },
     "70749f6f56b7481ab44358f3f7b69a06": {
      "model_module": "@jupyter-widgets/controls",
      "model_module_version": "3.0.0",
      "model_name": "VBoxModel",
      "state": {
       "children": [
        "IPY_MODEL_7ffce68c436b41d98c0f68c5de60639a",
        "IPY_MODEL_8b8db000cb5d40e0969358d779802d4e",
        "IPY_MODEL_f92b7c7a464443a7a3ad9e57de94b3d7",
        "IPY_MODEL_ae35454a115244238a13d9396ae2a014",
        "IPY_MODEL_f70c404620634ce5b5bc213094f63a57",
        "IPY_MODEL_1809f84112db41348ceca185c6ea60c5",
        "IPY_MODEL_45d0455ba3d64a75b5e01026801c9de3",
        "IPY_MODEL_2b3266160c7b4ceebe0ccd3e0cb3cc57",
        "IPY_MODEL_100849a3a694452ab3c0524413287c22",
        "IPY_MODEL_f4bc2174441f4f0caea1a44755a39209",
        "IPY_MODEL_7d398d3ef8e44a848e805f768d5c55f0",
        "IPY_MODEL_7dd97caa747b4a05be8630d1caf4dcfd",
        "IPY_MODEL_d9990c0b71c1415f9e6a6a10942750db",
        "IPY_MODEL_b90a70500da947cbb6f0f8d25f38989c",
        "IPY_MODEL_343c69d7435b42d1b5d53ced1105dcc7",
        "IPY_MODEL_3ec14aa7f4d34043b1e570c01ec0821f"
       ],
       "layout": "IPY_MODEL_5704a3a13d864dd49ccd950f3895bf24"
      }
     },
     "71331f21c25843bb88f97635fce5ecab": {
      "model_module": "@jupyter-widgets/base",
      "model_module_version": "3.0.0",
      "model_name": "LayoutModel",
      "state": {}
     },
     "713e34c536a9463dab370495b75da83e": {
      "model_module": "bqplot",
      "model_module_version": "^0.3.0-alpha.1",
      "model_name": "AxisModel",
      "state": {
       "_model_module_version": "^0.3.0-alpha.1",
       "_view_module_version": "^0.3.0-alpha.1",
       "scale": "IPY_MODEL_ef7726c8b8354523805c131f7e49a24f",
       "side": "bottom",
       "tick_values": {
        "type": null,
        "values": null
       }
      }
     },
     "717a27f1dc854e1c9c53186b5e71073c": {
      "model_module": "@jupyter-widgets/base",
      "model_module_version": "3.0.0",
      "model_name": "LayoutModel",
      "state": {}
     },
     "71817fc3351e45d8b4f8c5f6f5869479": {
      "model_module": "@jupyter-widgets/base",
      "model_module_version": "3.0.0",
      "model_name": "LayoutModel",
      "state": {}
     },
     "719d27c022684ba8a538bec1998d92cd": {
      "model_module": "@jupyter-widgets/base",
      "model_module_version": "3.0.0",
      "model_name": "LayoutModel",
      "state": {}
     },
     "71d03fb809ee40f0b64bf4fe5cea3974": {
      "model_module": "@jupyter-widgets/controls",
      "model_module_version": "3.0.0",
      "model_name": "DescriptionStyleModel",
      "state": {
       "description_width": ""
      }
     },
     "71e845faa15a4cce849a6de915436c50": {
      "model_module": "@jupyter-widgets/base",
      "model_module_version": "3.0.0",
      "model_name": "LayoutModel",
      "state": {}
     },
     "71ee6dab20334d1586da7c94f0ccc336": {
      "model_module": "@jupyter-widgets/controls",
      "model_module_version": "3.0.0",
      "model_name": "DescriptionStyleModel",
      "state": {
       "description_width": "initial"
      }
     },
     "72140c9aa8c745e8bf22fcf4f0dac4a5": {
      "model_module": "bqplot",
      "model_module_version": "^0.3.0-alpha.1",
      "model_name": "LinesModel",
      "state": {
       "_model_module_version": "^0.3.0-alpha.1",
       "_view_module_version": "^0.3.0-alpha.1",
       "color": {
        "type": null,
        "values": null
       },
       "display_legend": false,
       "fill_colors": [],
       "labels": [
        "C1"
       ],
       "scales": {
        "x": "IPY_MODEL_bd1a7a5cf588481eb695f38705bb4a79",
        "y": "IPY_MODEL_c1fa9cc511ec40608eb792aa09b4731c"
       },
       "selected": [],
       "x": {
        "type": "float",
        "values": [
         0,
         33.333333333333336,
         66.66666666666667,
         100
        ]
       },
       "y": {
        "type": "float",
        "values": [
         0,
         0,
         0,
         0
        ]
       }
      }
     },
     "7217cd7a3e354eeea3f0be4f8a074129": {
      "model_module": "@jupyter-widgets/controls",
      "model_module_version": "3.0.0",
      "model_name": "BoundedFloatTextModel",
      "state": {
       "description": "Initial Generation (MW):",
       "layout": "IPY_MODEL_7fadec1eef964c7d95b626bcebb6593f",
       "style": "IPY_MODEL_05905ba72f3f418a8011b24e177d6963"
      }
     },
     "722750a1b357471b9eaca7c2d26a6478": {
      "model_module": "@jupyter-widgets/controls",
      "model_module_version": "3.0.0",
      "model_name": "DescriptionStyleModel",
      "state": {
       "description_width": "initial"
      }
     },
     "7264f9e2c43e479db5e14f17fd352fe7": {
      "model_module": "@jupyter-widgets/controls",
      "model_module_version": "3.0.0",
      "model_name": "DescriptionStyleModel",
      "state": {
       "description_width": "initial"
      }
     },
     "727eb91f32864c1b925a264090383a16": {
      "model_module": "@jupyter-widgets/controls",
      "model_module_version": "3.0.0",
      "model_name": "VBoxModel",
      "state": {
       "children": [
        "IPY_MODEL_efdffff9967444f7a786b3e086ca7f06"
       ],
       "layout": "IPY_MODEL_4b8710d369d64f9e94dbe71707e1847a"
      }
     },
     "733a7338fe234b699fd85ff6ae5e6ae3": {
      "model_module": "@jupyter-widgets/base",
      "model_module_version": "3.0.0",
      "model_name": "LayoutModel",
      "state": {}
     },
     "7348808783f448fab79c314f30fd3bc8": {
      "model_module": "@jupyter-widgets/controls",
      "model_module_version": "3.0.0",
      "model_name": "DescriptionStyleModel",
      "state": {
       "description_width": "initial"
      }
     },
     "73967179ec6e4748aa8dc1cb86bc5dc9": {
      "model_module": "bqplot",
      "model_module_version": "^0.3.0-alpha.1",
      "model_name": "LinearScaleModel",
      "state": {
       "_model_module_version": "^0.3.0-alpha.1",
       "_view_module_version": "^0.3.0-alpha.1",
       "max": 100,
       "min": 0,
       "stabilized": false
      }
     },
     "739fbcc1318c4787adb1c42c813c5773": {
      "model_module": "@jupyter-widgets/controls",
      "model_module_version": "3.0.0",
      "model_name": "HBoxModel",
      "state": {
       "children": [
        "IPY_MODEL_9c5981edebbe4737b2edd4876b366bce",
        "IPY_MODEL_ca1223095da54fd682c4a3b422708655"
       ],
       "layout": "IPY_MODEL_3abf7f3bae2f4f2da4bd66a681d89521"
      }
     },
     "73aff4749db447c9840f6c57356b2ca1": {
      "model_module": "@jupyter-widgets/controls",
      "model_module_version": "3.0.0",
      "model_name": "DescriptionStyleModel",
      "state": {
       "description_width": "initial"
      }
     },
     "73c3f88b07fb4bd2875b041a1f0cbcf0": {
      "model_module": "@jupyter-widgets/controls",
      "model_module_version": "3.0.0",
      "model_name": "DescriptionStyleModel",
      "state": {
       "description_width": "initial"
      }
     },
     "73cedc78f2a14b33b34724f348ca68a5": {
      "model_module": "@jupyter-widgets/base",
      "model_module_version": "3.0.0",
      "model_name": "LayoutModel",
      "state": {}
     },
     "740de7364c814df58e34878f4df635b4": {
      "model_module": "@jupyter-widgets/controls",
      "model_module_version": "3.0.0",
      "model_name": "DescriptionStyleModel",
      "state": {
       "description_width": "initial"
      }
     },
     "7414f8074dd145c7bcfd57c4f59108d8": {
      "model_module": "@jupyter-widgets/controls",
      "model_module_version": "3.0.0",
      "model_name": "DescriptionStyleModel",
      "state": {
       "description_width": "initial"
      }
     },
     "74227edf5b8042c0af8ab7672c4bbb25": {
      "model_module": "@jupyter-widgets/controls",
      "model_module_version": "3.0.0",
      "model_name": "BoundedFloatTextModel",
      "state": {
       "description": "Minimum Generation (MW):",
       "layout": "IPY_MODEL_29ec4833586f4e4d96dc8bc5088a5794",
       "style": "IPY_MODEL_81c056f7c70f48a6ae4f80d4919d47b7"
      }
     },
     "74ba9876cc174c7a835463c4b213c9f5": {
      "model_module": "@jupyter-widgets/controls",
      "model_module_version": "3.0.0",
      "model_name": "DescriptionStyleModel",
      "state": {
       "description_width": "initial"
      }
     },
     "74d3326bf8d24a059cea6a61a246b166": {
      "model_module": "@jupyter-widgets/controls",
      "model_module_version": "3.0.0",
      "model_name": "BoundedFloatTextModel",
      "state": {
       "description": "Startup Time (hr):",
       "layout": "IPY_MODEL_eaf5cc23a56f45c198978da50f0002e4",
       "max": 24,
       "style": "IPY_MODEL_0c76ee62665e496b852eadf95087ca28"
      }
     },
     "74eb9c7013224b178bd479219376d26b": {
      "model_module": "@jupyter-widgets/controls",
      "model_module_version": "3.0.0",
      "model_name": "BoundedFloatTextModel",
      "state": {
       "description": "Initial Generation (MW):",
       "layout": "IPY_MODEL_d3182cb84dfd4be2b19b2518b67ec92d",
       "style": "IPY_MODEL_52d584b98b9345f299360321e7452ff0"
      }
     },
     "75420883c4a9452f877ad4a2b809567e": {
      "model_module": "bqplot",
      "model_module_version": "^0.3.0-alpha.1",
      "model_name": "AxisModel",
      "state": {
       "_model_module_version": "^0.3.0-alpha.1",
       "_view_module_version": "^0.3.0-alpha.1",
       "scale": "IPY_MODEL_d509457317e94e3caba7e7823dcaad15",
       "side": "bottom",
       "tick_values": {
        "type": null,
        "values": null
       }
      }
     },
     "754a8a7de53b4ad48052f26b22f55be7": {
      "model_module": "@jupyter-widgets/base",
      "model_module_version": "3.0.0",
      "model_name": "LayoutModel",
      "state": {}
     },
     "757a46dfbb844742a900d54d79698d38": {
      "model_module": "@jupyter-widgets/controls",
      "model_module_version": "3.0.0",
      "model_name": "DescriptionStyleModel",
      "state": {
       "description_width": ""
      }
     },
     "7590e08df46e4f158f00e9b28d1a24a5": {
      "model_module": "@jupyter-widgets/controls",
      "model_module_version": "3.0.0",
      "model_name": "DescriptionStyleModel",
      "state": {
       "description_width": "initial"
      }
     },
     "75fded31dd704b46a4a5315d1766ea73": {
      "model_module": "bqplot",
      "model_module_version": "^0.3.0-alpha.1",
      "model_name": "LinearScaleModel",
      "state": {
       "_model_module_version": "^0.3.0-alpha.1",
       "_view_module_version": "^0.3.0-alpha.1",
       "allow_padding": false,
       "max": 1,
       "min": 0,
       "stabilized": false
      }
     },
     "760b1aa503f643209bf6e62e7f054da1": {
      "model_module": "@jupyter-widgets/controls",
      "model_module_version": "3.0.0",
      "model_name": "DescriptionStyleModel",
      "state": {
       "description_width": "initial"
      }
     },
     "764d3c016a08457dbdec326fbfbd3fe7": {
      "model_module": "@jupyter-widgets/base",
      "model_module_version": "3.0.0",
      "model_name": "LayoutModel",
      "state": {}
     },
     "76597730f558463a8f49dc233ce0a150": {
      "model_module": "@jupyter-widgets/controls",
      "model_module_version": "3.0.0",
      "model_name": "IntSliderModel",
      "state": {
       "description": "Number of Cost Curve Segments",
       "layout": "IPY_MODEL_ef306ac66b424a848385ec8c1546944f",
       "max": 50,
       "min": 2,
       "style": "IPY_MODEL_4543ba011e3342ccbbb1ef3012ceec77",
       "value": 3
      }
     },
     "7681a2c07cbe46178e54558cba056d70": {
      "model_module": "bqplot",
      "model_module_version": "^0.3.0-alpha.1",
      "model_name": "AxisModel",
      "state": {
       "_model_module_version": "^0.3.0-alpha.1",
       "_view_module_version": "^0.3.0-alpha.1",
       "orientation": "vertical",
       "scale": "IPY_MODEL_07b3622f0ff74a2c982a17fbe40818ed",
       "side": "left",
       "tick_values": {
        "type": null,
        "values": null
       }
      }
     },
     "7723fd1d215a4ce8a988b58c1e24dd30": {
      "model_module": "@jupyter-widgets/controls",
      "model_module_version": "3.0.0",
      "model_name": "DescriptionStyleModel",
      "state": {
       "description_width": "initial"
      }
     },
     "772c21875a3344be8e512ca1aa37c080": {
      "model_module": "@jupyter-widgets/controls",
      "model_module_version": "3.0.0",
      "model_name": "BoundedFloatTextModel",
      "state": {
       "description": "Startup Time (hr):",
       "layout": "IPY_MODEL_d90b9d038fdc4399b02d522f6a26da9a",
       "max": 24,
       "style": "IPY_MODEL_fc1fcc0b4af7481abb020ceeba780753"
      }
     },
     "7755d3253d5341f9b7e5c0366c69fe7b": {
      "model_module": "@jupyter-widgets/controls",
      "model_module_version": "3.0.0",
      "model_name": "DescriptionStyleModel",
      "state": {
       "description_width": "initial"
      }
     },
     "778c7748c24c41deb4dad1fc716a42b2": {
      "model_module": "@jupyter-widgets/controls",
      "model_module_version": "3.0.0",
      "model_name": "DescriptionStyleModel",
      "state": {
       "description_width": ""
      }
     },
     "77e2b98ef3fc47d5aa752778313e66df": {
      "model_module": "@jupyter-widgets/controls",
      "model_module_version": "3.0.0",
      "model_name": "CheckboxModel",
      "state": {
       "description": "Initial Status:",
       "disabled": false,
       "layout": "IPY_MODEL_93c5bf9db70d4acab95218118cd2533a",
       "style": "IPY_MODEL_35d7e9d99a614bf9aad763625edff03d",
       "value": true
      }
     },
     "77f20726d8bd4af696ecec54c12d4265": {
      "model_module": "bqplot",
      "model_module_version": "^0.3.0-alpha.1",
      "model_name": "FigureModel",
      "state": {
       "_dom_classes": [],
       "_model_module_version": "^0.3.0-alpha.1",
       "_view_module_version": "^0.3.0-alpha.1",
       "axes": [
        "IPY_MODEL_cafef22e552845689acbafe91e45206a",
        "IPY_MODEL_4583a5a414f34bc98f15ee33bd3890cd"
       ],
       "layout": "IPY_MODEL_1dac29d1d52244d7a9473ac43450a51d",
       "marks": [
        "IPY_MODEL_b3e934a974734e05a6ef50cd2882c74b"
       ],
       "max_aspect_ratio": 6,
       "scale_x": "IPY_MODEL_6a7bc40b9304494483ffaf3d1c64b2fc",
       "scale_y": "IPY_MODEL_9821bf33aa884677a358c73b9950b075"
      }
     },
     "77f25416230d46a18fc616b2e6e33532": {
      "model_module": "@jupyter-widgets/base",
      "model_module_version": "3.0.0",
      "model_name": "LayoutModel",
      "state": {}
     },
     "7826cc6f08c4483f8e4221f8863b9841": {
      "model_module": "@jupyter-widgets/controls",
      "model_module_version": "3.0.0",
      "model_name": "DescriptionStyleModel",
      "state": {
       "description_width": "initial"
      }
     },
     "78382b2827d7451f9f378f15676d6e16": {
      "model_module": "@jupyter-widgets/controls",
      "model_module_version": "3.0.0",
      "model_name": "DescriptionStyleModel",
      "state": {
       "description_width": "initial"
      }
     },
     "785fe5521b9e4d4594bec9e40a9cd854": {
      "model_module": "@jupyter-widgets/controls",
      "model_module_version": "3.0.0",
      "model_name": "BoundedFloatTextModel",
      "state": {
       "description": "Minimum Down Time (hr):",
       "layout": "IPY_MODEL_c51c3c57ad764a4ea48c90e8a5a01eaa",
       "max": 24,
       "style": "IPY_MODEL_c42957e005bb43329267eef4e0ba6031"
      }
     },
     "7881b835d2bb4518830cdb1798c7ee9b": {
      "model_module": "@jupyter-widgets/controls",
      "model_module_version": "3.0.0",
      "model_name": "SliderStyleModel",
      "state": {
       "description_width": "initial"
      }
     },
     "78aa4825c21d4ec287b5cc5b45e06339": {
      "model_module": "@jupyter-widgets/controls",
      "model_module_version": "3.0.0",
      "model_name": "BoundedFloatTextModel",
      "state": {
       "description": "Ramp Up Rate (MW/hr):",
       "layout": "IPY_MODEL_1fb26378435646b2b519f7123c67b840",
       "style": "IPY_MODEL_32a7564b2596463099bed95ba6bab6c3"
      }
     },
     "7916208cc6474875a11463245a570f02": {
      "model_module": "@jupyter-widgets/base",
      "model_module_version": "3.0.0",
      "model_name": "LayoutModel",
      "state": {}
     },
     "7934b1f538244168ad1d06faf3a977c5": {
      "model_module": "@jupyter-widgets/controls",
      "model_module_version": "3.0.0",
      "model_name": "BoundedFloatTextModel",
      "state": {
       "description": "Minimum Generation (MW):",
       "layout": "IPY_MODEL_efbd3600d096469985b7cb7901345f8c",
       "style": "IPY_MODEL_ed49f4667df749f29947157fdc052f9d"
      }
     },
     "7952914ca79b4c7dbc5c22a5247fa299": {
      "model_module": "@jupyter-widgets/controls",
      "model_module_version": "3.0.0",
      "model_name": "DescriptionStyleModel",
      "state": {
       "description_width": "initial"
      }
     },
     "798304dcf50c466788c4303f94a4a9a6": {
      "model_module": "@jupyter-widgets/controls",
      "model_module_version": "3.0.0",
      "model_name": "DescriptionStyleModel",
      "state": {
       "description_width": "initial"
      }
     },
     "79f3b6942ffb4b6db05c3130291c0c6a": {
      "model_module": "@jupyter-widgets/controls",
      "model_module_version": "3.0.0",
      "model_name": "DescriptionStyleModel",
      "state": {
       "description_width": "initial"
      }
     },
     "7a492df06e444dffaadb561e8ff1d257": {
      "model_module": "@jupyter-widgets/controls",
      "model_module_version": "3.0.0",
      "model_name": "IntSliderModel",
      "state": {
       "description": "Number of Cost Curve Segments",
       "layout": "IPY_MODEL_6b9f269fd1d54bb0aa0de5dd6bbd6016",
       "max": 50,
       "min": 2,
       "style": "IPY_MODEL_66fbacd27d3346eabf1d06303df579b1",
       "value": 3
      }
     },
     "7a51c038dc3748c988833e98dfb08a33": {
      "model_module": "@jupyter-widgets/controls",
      "model_module_version": "3.0.0",
      "model_name": "CheckboxModel",
      "state": {
       "description": "Initial Status:",
       "disabled": false,
       "layout": "IPY_MODEL_c36d494cdf1c477d8e8285a32b50b8fa",
       "style": "IPY_MODEL_8c0bcf6ba2a342b1b7dd5e7c7f83c61f",
       "value": true
      }
     },
     "7ac13a38d4ee448cace7ad508821a624": {
      "model_module": "@jupyter-widgets/base",
      "model_module_version": "3.0.0",
      "model_name": "LayoutModel",
      "state": {}
     },
     "7af0c2f7760b438680eb1bc3243cb9eb": {
      "model_module": "@jupyter-widgets/base",
      "model_module_version": "3.0.0",
      "model_name": "LayoutModel",
      "state": {}
     },
     "7afccfa20e4f4fe1aef16c4721a4257e": {
      "model_module": "@jupyter-widgets/controls",
      "model_module_version": "3.0.0",
      "model_name": "BoundedFloatTextModel",
      "state": {
       "description": "Initial Generation (MW):",
       "layout": "IPY_MODEL_c605871c07a34d1fbef3adc2f2fdc934",
       "style": "IPY_MODEL_34c6c67609b04e149c6ea09bf9beeb85"
      }
     },
     "7b47df5065cb499f957fae98b5c06efe": {
      "model_module": "bqplot",
      "model_module_version": "^0.3.0-alpha.1",
      "model_name": "FigureModel",
      "state": {
       "_dom_classes": [],
       "_model_module_version": "^0.3.0-alpha.1",
       "_view_module_version": "^0.3.0-alpha.1",
       "axes": [
        "IPY_MODEL_713e34c536a9463dab370495b75da83e",
        "IPY_MODEL_a0eedb2486d04a2fb844834769aee47f"
       ],
       "layout": "IPY_MODEL_f6472d5253324396b42cda357ad789b8",
       "marks": [
        "IPY_MODEL_543bb65bb190428997b1382bb59b7662",
        "IPY_MODEL_fda031701b664d36a5a866efc58460ba"
       ],
       "max_aspect_ratio": 6,
       "scale_x": "IPY_MODEL_8ebab9ff1ed3440393624558dacdac8c",
       "scale_y": "IPY_MODEL_4b0fe65a7091410ab7d2c4f924aeaf97"
      }
     },
     "7b93a7845de9480e87ba988ed909cc48": {
      "model_module": "@jupyter-widgets/base",
      "model_module_version": "3.0.0",
      "model_name": "LayoutModel",
      "state": {}
     },
     "7b97983f52a44ee5a310fd3a63c75a34": {
      "model_module": "@jupyter-widgets/base",
      "model_module_version": "3.0.0",
      "model_name": "LayoutModel",
      "state": {}
     },
     "7ba33cee579245a4b9546fa09b942ec9": {
      "model_module": "@jupyter-widgets/controls",
      "model_module_version": "3.0.0",
      "model_name": "DescriptionStyleModel",
      "state": {
       "description_width": "initial"
      }
     },
     "7bbdbbab19fb4f0caa4377316d184bd0": {
      "model_module": "@jupyter-widgets/base",
      "model_module_version": "3.0.0",
      "model_name": "LayoutModel",
      "state": {}
     },
     "7be440dcedb2435b8a5dfde3cb525665": {
      "model_module": "@jupyter-widgets/base",
      "model_module_version": "3.0.0",
      "model_name": "LayoutModel",
      "state": {}
     },
     "7bff91556ef24e1bb1b97832555e3e78": {
      "model_module": "@jupyter-widgets/controls",
      "model_module_version": "3.0.0",
      "model_name": "BoundedFloatTextModel",
      "state": {
       "description": "Shutdown Time (hr):",
       "layout": "IPY_MODEL_2a5764bc53c24366afc9dce8eace9031",
       "max": 24,
       "style": "IPY_MODEL_a21462113f7e442a84a2242520fb4f35"
      }
     },
     "7c261db8ad794fcea8364fb22bc9a229": {
      "model_module": "bqplot",
      "model_module_version": "^0.3.0-alpha.1",
      "model_name": "FigureModel",
      "state": {
       "_dom_classes": [],
       "_model_module_version": "^0.3.0-alpha.1",
       "_view_module_version": "^0.3.0-alpha.1",
       "axes": [
        "IPY_MODEL_806bbd7f524d4e8b911dc8dcf19a29ae",
        "IPY_MODEL_af10bb36dc214427832bd34bbd07c914"
       ],
       "layout": "IPY_MODEL_4262601083b74c0894138f68b908f9a0",
       "marks": [
        "IPY_MODEL_56eba0a49deb41289bd4905e160439dc",
        "IPY_MODEL_6d91778645c841f5880deeba8973b4cc"
       ],
       "max_aspect_ratio": 6,
       "scale_x": "IPY_MODEL_4823d2078cde48029ed4528ae74fde1f",
       "scale_y": "IPY_MODEL_98bc6890f33442c88eda249c211aeed5"
      }
     },
     "7c4487ecb4a3421da50639626bdaa8e5": {
      "model_module": "bqplot",
      "model_module_version": "^0.3.0-alpha.1",
      "model_name": "AxisModel",
      "state": {
       "_model_module_version": "^0.3.0-alpha.1",
       "_view_module_version": "^0.3.0-alpha.1",
       "orientation": "vertical",
       "scale": "IPY_MODEL_cc960a04f92f4f65898c4f04c17e8f1a",
       "side": "left",
       "tick_values": {
        "type": null,
        "values": null
       }
      }
     },
     "7c6c7e1a4aad497bbecf06065a2ae2b2": {
      "model_module": "@jupyter-widgets/controls",
      "model_module_version": "3.0.0",
      "model_name": "DescriptionStyleModel",
      "state": {
       "description_width": "initial"
      }
     },
     "7d00017ca9c74bb1a0b1a090707e06c2": {
      "model_module": "@jupyter-widgets/base",
      "model_module_version": "3.0.0",
      "model_name": "LayoutModel",
      "state": {
       "min_width": "125px"
      }
     },
     "7d0531c2207d443ebad34267c33467ff": {
      "model_module": "@jupyter-widgets/controls",
      "model_module_version": "3.0.0",
      "model_name": "DescriptionStyleModel",
      "state": {
       "description_width": "initial"
      }
     },
     "7d0ca60cb10943229f824d542a4c5046": {
      "model_module": "@jupyter-widgets/controls",
      "model_module_version": "3.0.0",
      "model_name": "DescriptionStyleModel",
      "state": {
       "description_width": "initial"
      }
     },
     "7d159d0eb0a44eb08f0486bd1a9c8829": {
      "model_module": "@jupyter-widgets/controls",
      "model_module_version": "3.0.0",
      "model_name": "DescriptionStyleModel",
      "state": {
       "description_width": "initial"
      }
     },
     "7d398d3ef8e44a848e805f768d5c55f0": {
      "model_module": "@jupyter-widgets/controls",
      "model_module_version": "3.0.0",
      "model_name": "BoundedFloatTextModel",
      "state": {
       "description": "Ramp Up Rate (MW/hr):",
       "layout": "IPY_MODEL_d0674ee268b343a39cbd6cf88dca315b",
       "style": "IPY_MODEL_6a830d9828424196bcf9a5f711c49fa7"
      }
     },
     "7d643c4448564e63b37586efa09b3c0b": {
      "model_module": "@jupyter-widgets/base",
      "model_module_version": "3.0.0",
      "model_name": "LayoutModel",
      "state": {}
     },
     "7d8562737f8748fab1649a76fff7714b": {
      "model_module": "@jupyter-widgets/controls",
      "model_module_version": "3.0.0",
      "model_name": "BoundedFloatTextModel",
      "state": {
       "description": "Startup Cost ($/hr):",
       "layout": "IPY_MODEL_a3d6a92107cf40aaa93ebe5bba15bab1",
       "max": 10000000000,
       "style": "IPY_MODEL_343968fd4b03454b932aac28317443d5"
      }
     },
     "7d8a1dd753104b84bba2bdd7618ff3de": {
      "model_module": "@jupyter-widgets/base",
      "model_module_version": "3.0.0",
      "model_name": "LayoutModel",
      "state": {}
     },
     "7d9e1bf716754bb29548e10c91a19fd1": {
      "model_module": "@jupyter-widgets/base",
      "model_module_version": "3.0.0",
      "model_name": "LayoutModel",
      "state": {}
     },
     "7dd97caa747b4a05be8630d1caf4dcfd": {
      "model_module": "@jupyter-widgets/controls",
      "model_module_version": "3.0.0",
      "model_name": "BoundedFloatTextModel",
      "state": {
       "description": "Startup Time (hr):",
       "layout": "IPY_MODEL_719d27c022684ba8a538bec1998d92cd",
       "max": 24,
       "style": "IPY_MODEL_2098b1536800455cb4822f5d8b257118"
      }
     },
     "7e2acc78851c42078ef1bcc4191c6d1c": {
      "model_module": "@jupyter-widgets/base",
      "model_module_version": "3.0.0",
      "model_name": "LayoutModel",
      "state": {}
     },
     "7e4f40b36e664baca55023b6d2f1aa0b": {
      "model_module": "@jupyter-widgets/controls",
      "model_module_version": "3.0.0",
      "model_name": "VBoxModel",
      "state": {
       "children": [
        "IPY_MODEL_46795c73538249918f3d36311d6d7729",
        "IPY_MODEL_d66b7d1715e34ec0a71b8ca2229636e2",
        "IPY_MODEL_33490ac29b3d4eb9b7a09a702064aafe",
        "IPY_MODEL_e691ac8fb83242f9b1fa41235dacba62",
        "IPY_MODEL_3194a57e5f184731b5646791693268f0",
        "IPY_MODEL_db2382eef53f4637b7824a5e271770d2",
        "IPY_MODEL_ced01be53a0e43af87c7e8019696aa93",
        "IPY_MODEL_d1f39a8976014758b09e8ea8b0370b13",
        "IPY_MODEL_bd9a4e6919854849b849da6f52f1e8e3",
        "IPY_MODEL_ade90249aee148729e4df2730d0c7e26",
        "IPY_MODEL_be141564a06c46d1b0ffd315375ba4b5",
        "IPY_MODEL_19e621a927ac4691a2febde8bbebd5b0",
        "IPY_MODEL_c9cf9d44abc44b5da47dbe67af84457f",
        "IPY_MODEL_f732fa2f31b0413b9cec48ee2f709690",
        "IPY_MODEL_df8c44f35806451cb25082c91e487f13",
        "IPY_MODEL_ab70aadc579b409987c204518be0b4c3"
       ],
       "layout": "IPY_MODEL_18a60c7f429a4eee81f18d92b92393c9"
      }
     },
     "7e7b70f0e7e14209b21692000c0fbdc3": {
      "model_module": "@jupyter-widgets/base",
      "model_module_version": "3.0.0",
      "model_name": "LayoutModel",
      "state": {}
     },
     "7ebb946c3b5d4c8ab856b930a9aa5ae3": {
      "model_module": "@jupyter-widgets/controls",
      "model_module_version": "3.0.0",
      "model_name": "DescriptionStyleModel",
      "state": {
       "description_width": "initial"
      }
     },
     "7ec44034063a41969a55791ab57c1da5": {
      "model_module": "@jupyter-widgets/controls",
      "model_module_version": "3.0.0",
      "model_name": "SliderStyleModel",
      "state": {
       "description_width": "initial"
      }
     },
     "7f438e998fb1414ba5dc7bb182e759b1": {
      "model_module": "@jupyter-widgets/base",
      "model_module_version": "3.0.0",
      "model_name": "LayoutModel",
      "state": {
       "min_width": "125px"
      }
     },
     "7f6517dbcadb472eab7768adf6f3be5f": {
      "model_module": "@jupyter-widgets/base",
      "model_module_version": "3.0.0",
      "model_name": "LayoutModel",
      "state": {}
     },
     "7f9cec8a97bb414a8b9ae0ccdbee6c90": {
      "model_module": "@jupyter-widgets/controls",
      "model_module_version": "3.0.0",
      "model_name": "DescriptionStyleModel",
      "state": {
       "description_width": "initial"
      }
     },
     "7fa6bb64562d4e9281a094adbc00e34d": {
      "model_module": "@jupyter-widgets/base",
      "model_module_version": "3.0.0",
      "model_name": "LayoutModel",
      "state": {}
     },
     "7fa81c8e28294228b04a3ed3866a68d9": {
      "model_module": "@jupyter-widgets/controls",
      "model_module_version": "3.0.0",
      "model_name": "DescriptionStyleModel",
      "state": {
       "description_width": "initial"
      }
     },
     "7fadec1eef964c7d95b626bcebb6593f": {
      "model_module": "@jupyter-widgets/base",
      "model_module_version": "3.0.0",
      "model_name": "LayoutModel",
      "state": {}
     },
     "7fe6c76a4b354ffa966d8a7066f71847": {
      "model_module": "@jupyter-widgets/controls",
      "model_module_version": "3.0.0",
      "model_name": "BoundedFloatTextModel",
      "state": {
       "description": "Minimum Up Time (hr):",
       "layout": "IPY_MODEL_09a289c9840b47f19c8a7c5d67cda2b0",
       "max": 24,
       "style": "IPY_MODEL_e0ef3d7d0b4b4132a649572a3e5ac4c8"
      }
     },
     "7ffce68c436b41d98c0f68c5de60639a": {
      "model_module": "@jupyter-widgets/controls",
      "model_module_version": "3.0.0",
      "model_name": "HTMLModel",
      "state": {
       "layout": "IPY_MODEL_3e280c54b9a140adbc93fe2f2771df9c",
       "style": "IPY_MODEL_8cb88fe6b9824fa58361d7aca36c2289",
       "value": "Generator:"
      }
     },
     "801a0d786baf4066b41ae3df9b052ccd": {
      "model_module": "@jupyter-widgets/controls",
      "model_module_version": "3.0.0",
      "model_name": "BoundedFloatTextModel",
      "state": {
       "description": "Initial Generation (MW):",
       "layout": "IPY_MODEL_f1a262df5d4048378c4ebc89788e5d39",
       "style": "IPY_MODEL_de391ff5fc2b40bea7c8868089a39628"
      }
     },
     "802ab6ba0f4b46ceb039565f00b37449": {
      "model_module": "@jupyter-widgets/base",
      "model_module_version": "3.0.0",
      "model_name": "LayoutModel",
      "state": {
       "min_width": "125px"
      }
     },
     "803f3ee4d0d14e198e096cab77287b29": {
      "model_module": "@jupyter-widgets/base",
      "model_module_version": "3.0.0",
      "model_name": "LayoutModel",
      "state": {}
     },
     "806bbd7f524d4e8b911dc8dcf19a29ae": {
      "model_module": "bqplot",
      "model_module_version": "^0.3.0-alpha.1",
      "model_name": "AxisModel",
      "state": {
       "_model_module_version": "^0.3.0-alpha.1",
       "_view_module_version": "^0.3.0-alpha.1",
       "scale": "IPY_MODEL_9c19421259844bb4969787764d1db61c",
       "side": "bottom",
       "tick_values": {
        "type": null,
        "values": null
       }
      }
     },
     "806edcd2991f47a28ab9bf127ffddda0": {
      "model_module": "@jupyter-widgets/base",
      "model_module_version": "3.0.0",
      "model_name": "LayoutModel",
      "state": {}
     },
     "8076fd13f78c4aab812f189eda53bc4b": {
      "model_module": "@jupyter-widgets/controls",
      "model_module_version": "3.0.0",
      "model_name": "DescriptionStyleModel",
      "state": {
       "description_width": "initial"
      }
     },
     "80b101f9441940d7b596c1bc8e2383c0": {
      "model_module": "@jupyter-widgets/base",
      "model_module_version": "3.0.0",
      "model_name": "LayoutModel",
      "state": {}
     },
     "811ba3d24bd04700ab8541ef9a22d00a": {
      "model_module": "@jupyter-widgets/base",
      "model_module_version": "3.0.0",
      "model_name": "LayoutModel",
      "state": {}
     },
     "8123cfdded3844cebd07d63e3943caea": {
      "model_module": "@jupyter-widgets/controls",
      "model_module_version": "3.0.0",
      "model_name": "BoundedFloatTextModel",
      "state": {
       "description": "No-Load Cost ($/hr):",
       "layout": "IPY_MODEL_b7df8487f0c3437f84c82052068789c7",
       "max": 10000000000,
       "style": "IPY_MODEL_9575e5625c644b59a9e9628a751bae15"
      }
     },
     "816acb5c5fca40b481f0b41a06abcb8c": {
      "model_module": "@jupyter-widgets/controls",
      "model_module_version": "3.0.0",
      "model_name": "BoundedFloatTextModel",
      "state": {
       "description": "Minimum Down Time (hr):",
       "layout": "IPY_MODEL_963277ba2d814f49ac327d45891e6fb1",
       "max": 24,
       "style": "IPY_MODEL_c7bb38731ad246899bd4ceecca2993c4"
      }
     },
     "8186c4e38e6e4b3cb373cdf1bf434b8e": {
      "model_module": "@jupyter-widgets/controls",
      "model_module_version": "3.0.0",
      "model_name": "DescriptionStyleModel",
      "state": {
       "description_width": ""
      }
     },
     "81c056f7c70f48a6ae4f80d4919d47b7": {
      "model_module": "@jupyter-widgets/controls",
      "model_module_version": "3.0.0",
      "model_name": "DescriptionStyleModel",
      "state": {
       "description_width": "initial"
      }
     },
     "81cab602685a40129c9c8301bc27ca9d": {
      "model_module": "@jupyter-widgets/base",
      "model_module_version": "3.0.0",
      "model_name": "LayoutModel",
      "state": {}
     },
     "81d730c1b7224c3dbfee9cb4aa366ec8": {
      "model_module": "@jupyter-widgets/base",
      "model_module_version": "3.0.0",
      "model_name": "LayoutModel",
      "state": {}
     },
     "81e85d467b0a4ca0963750739965414a": {
      "model_module": "@jupyter-widgets/base",
      "model_module_version": "3.0.0",
      "model_name": "LayoutModel",
      "state": {}
     },
     "821cfe83221b4c9aa50543734c66ca2c": {
      "model_module": "bqplot",
      "model_module_version": "^0.3.0-alpha.1",
      "model_name": "ScatterModel",
      "state": {
       "_model_module": "bqplot",
       "_model_module_version": "^0.3.0-alpha.1",
       "_view_count": null,
       "_view_module": "bqplot",
       "_view_module_version": "^0.3.0-alpha.1",
       "apply_clip": true,
       "color": {
        "type": null,
        "values": null
       },
       "colors": [
        "DeepSkyBlue"
       ],
       "display_legend": false,
       "enable_hover": true,
       "hovered_style": {},
       "interactions": {
        "hover": "tooltip"
       },
       "labels": [],
       "msg_throttle": 1,
       "names": {
        "type": null,
        "values": null
       },
       "opacity": {
        "type": null,
        "values": null
       },
       "preserve_domain": {},
       "rotation": {
        "type": null,
        "values": null
       },
       "scales": {
        "x": "IPY_MODEL_f3a05d84dab841bba9ff96fa071825c6",
        "y": "IPY_MODEL_fa50d25ebd83407d80b1dabc0419f64e"
       },
       "scales_metadata": {
        "color": {
         "dimension": "color"
        },
        "opacity": {
         "dimension": "opacity"
        },
        "size": {
         "dimension": "size"
        },
        "x": {
         "dimension": "x",
         "orientation": "horizontal"
        },
        "y": {
         "dimension": "y",
         "orientation": "vertical"
        }
       },
       "selected": [],
       "selected_style": {},
       "size": {
        "type": null,
        "values": null
       },
       "skew": {
        "type": null,
        "values": null
       },
       "tooltip": null,
       "tooltip_location": "mouse",
       "tooltip_style": {
        "opacity": 0.9
       },
       "unhovered_style": {},
       "unselected_style": {},
       "visible": true,
       "x": {
        "type": "float",
        "values": [
         0,
         33.333333333333336,
         66.66666666666667,
         100
        ]
       },
       "y": {
        "type": "float",
        "values": [
         0,
         0,
         0,
         0
        ]
       }
      }
     },
     "82338323154a434b87a31ab4662b861c": {
      "model_module": "@jupyter-widgets/controls",
      "model_module_version": "3.0.0",
      "model_name": "HTMLModel",
      "state": {
       "layout": "IPY_MODEL_12c67771934142018466e19af4c5209b",
       "style": "IPY_MODEL_8186c4e38e6e4b3cb373cdf1bf434b8e",
       "value": "Generator:"
      }
     },
     "8265144f9cff4f8385ff120e4871a937": {
      "model_module": "@jupyter-widgets/controls",
      "model_module_version": "3.0.0",
      "model_name": "DescriptionStyleModel",
      "state": {
       "description_width": "initial"
      }
     },
     "829cb28efcb845a48444926f05d169a5": {
      "model_module": "bqplot",
      "model_module_version": "^0.3.0-alpha.1",
      "model_name": "LinearScaleModel",
      "state": {
       "_model_module_version": "^0.3.0-alpha.1",
       "_view_module_version": "^0.3.0-alpha.1",
       "max": 100,
       "min": 0,
       "stabilized": false
      }
     },
     "82a975d6b3ce45229b0a042a743fbe78": {
      "model_module": "@jupyter-widgets/controls",
      "model_module_version": "3.0.0",
      "model_name": "HTMLModel",
      "state": {
       "layout": "IPY_MODEL_10b69524aece4696957127abc0e72fd4",
       "style": "IPY_MODEL_c57b61357fac4d5da3968a170dba0116",
       "value": "Generator:"
      }
     },
     "82b8d2f0516d403a8708e7dcf205c2b2": {
      "model_module": "@jupyter-widgets/controls",
      "model_module_version": "3.0.0",
      "model_name": "HBoxModel",
      "state": {
       "children": [
        "IPY_MODEL_af108fb5c0394540840eec1af4e52748",
        "IPY_MODEL_a52b198e9b8945cbb1391c44d9afb3cd"
       ],
       "layout": "IPY_MODEL_eeafe5861cdc47d3b19de1950db469c5"
      }
     },
     "82e326846da8450aaabcc6eb8f596f67": {
      "model_module": "@jupyter-widgets/base",
      "model_module_version": "3.0.0",
      "model_name": "LayoutModel",
      "state": {}
     },
     "8333db11b16948f7a899efbb6688629b": {
      "model_module": "bqplot",
      "model_module_version": "^0.3.0-alpha.1",
      "model_name": "LinearScaleModel",
      "state": {
       "_model_module_version": "^0.3.0-alpha.1",
       "_view_module_version": "^0.3.0-alpha.1",
       "allow_padding": false,
       "max": 1,
       "min": 0,
       "stabilized": false
      }
     },
     "835e58e4fb65413085eb8610d7215b64": {
      "model_module": "@jupyter-widgets/controls",
      "model_module_version": "3.0.0",
      "model_name": "DropdownModel",
      "state": {
       "_options_labels": [
        "COAL",
        "NATURALGAS",
        "WIND"
       ],
       "description": "Generation Type:",
       "index": 0,
       "layout": "IPY_MODEL_627887da42a14050a97e8c1cfe32ad60",
       "style": "IPY_MODEL_c1295568b0a449f7be985ba3b7d4d8ac"
      }
     },
     "83688f772e104c6a90890d1dc2760f8c": {
      "model_module": "@jupyter-widgets/controls",
      "model_module_version": "3.0.0",
      "model_name": "DescriptionStyleModel",
      "state": {
       "description_width": "initial"
      }
     },
     "837e3960a47849d699d6f7402855bc06": {
      "model_module": "@jupyter-widgets/controls",
      "model_module_version": "3.0.0",
      "model_name": "DescriptionStyleModel",
      "state": {
       "description_width": "initial"
      }
     },
     "840935d172d148c9b417db42f98bb152": {
      "model_module": "@jupyter-widgets/controls",
      "model_module_version": "3.0.0",
      "model_name": "HTMLModel",
      "state": {
       "layout": "IPY_MODEL_b82e5c33735842deb9d5f9d7ad18e6b3",
       "style": "IPY_MODEL_98173e957d134dd2aee676182aa6a83b",
       "value": "Generator:"
      }
     },
     "84187af096b14ec58ebc9db35a00150a": {
      "model_module": "@jupyter-widgets/controls",
      "model_module_version": "3.0.0",
      "model_name": "DescriptionStyleModel",
      "state": {
       "description_width": "initial"
      }
     },
     "84388dfe629347b0bf6546e4db102587": {
      "model_module": "bqplot",
      "model_module_version": "^0.3.0-alpha.1",
      "model_name": "ScatterModel",
      "state": {
       "_model_module": "bqplot",
       "_model_module_version": "^0.3.0-alpha.1",
       "_view_count": null,
       "_view_module": "bqplot",
       "_view_module_version": "^0.3.0-alpha.1",
       "apply_clip": true,
       "color": {
        "type": null,
        "values": null
       },
       "colors": [
        "DeepSkyBlue"
       ],
       "display_legend": false,
       "enable_hover": true,
       "hovered_style": {},
       "interactions": {
        "hover": "tooltip"
       },
       "labels": [],
       "msg_throttle": 1,
       "names": {
        "type": null,
        "values": null
       },
       "opacity": {
        "type": null,
        "values": null
       },
       "preserve_domain": {},
       "rotation": {
        "type": null,
        "values": null
       },
       "scales": {
        "x": "IPY_MODEL_18bda9665e73411582b58a77575003ed",
        "y": "IPY_MODEL_1a14ab562fcd4dd08dc124092912e6da"
       },
       "scales_metadata": {
        "color": {
         "dimension": "color"
        },
        "opacity": {
         "dimension": "opacity"
        },
        "size": {
         "dimension": "size"
        },
        "x": {
         "dimension": "x",
         "orientation": "horizontal"
        },
        "y": {
         "dimension": "y",
         "orientation": "vertical"
        }
       },
       "selected": [],
       "selected_style": {},
       "size": {
        "type": null,
        "values": null
       },
       "skew": {
        "type": null,
        "values": null
       },
       "tooltip": null,
       "tooltip_location": "mouse",
       "tooltip_style": {
        "opacity": 0.9
       },
       "unhovered_style": {},
       "unselected_style": {},
       "visible": true,
       "x": {
        "type": "float",
        "values": [
         0,
         33.333333333333336,
         66.66666666666667,
         100
        ]
       },
       "y": {
        "type": "float",
        "values": [
         0,
         0,
         0,
         0
        ]
       }
      }
     },
     "846074d3e1e54cf584b32d47c62c0a91": {
      "model_module": "@jupyter-widgets/controls",
      "model_module_version": "3.0.0",
      "model_name": "BoundedFloatTextModel",
      "state": {
       "description": "No-Load Cost ($/hr):",
       "layout": "IPY_MODEL_61c191b1bc27484195f39923087500b1",
       "max": 10000000000,
       "style": "IPY_MODEL_6c065a90685147399ac55ea858e2525f"
      }
     },
     "846f6a2101104d75b9f086ec60b4e6b1": {
      "model_module": "@jupyter-widgets/base",
      "model_module_version": "3.0.0",
      "model_name": "LayoutModel",
      "state": {}
     },
     "84a075c625194aa99edcfbf7115d70b1": {
      "model_module": "@jupyter-widgets/controls",
      "model_module_version": "3.0.0",
      "model_name": "DescriptionStyleModel",
      "state": {
       "description_width": "initial"
      }
     },
     "84b808eaab3e4cc3a1f8deda8d5e243b": {
      "model_module": "@jupyter-widgets/base",
      "model_module_version": "3.0.0",
      "model_name": "LayoutModel",
      "state": {}
     },
     "84be6eccff70427199969b99b39a5b0f": {
      "model_module": "@jupyter-widgets/controls",
      "model_module_version": "3.0.0",
      "model_name": "BoundedFloatTextModel",
      "state": {
       "description": "Minimum Generation (MW):",
       "layout": "IPY_MODEL_2f451e071c494b118aeb6aff1e1b812e",
       "style": "IPY_MODEL_e8621d49c1a44c49905c1fa3aa9696e9"
      }
     },
     "84ec5cacb6294a42ad6082cbe846aa03": {
      "model_module": "@jupyter-widgets/base",
      "model_module_version": "3.0.0",
      "model_name": "LayoutModel",
      "state": {}
     },
     "851c442084c24e4e92f7e1f9942fe827": {
      "model_module": "@jupyter-widgets/controls",
      "model_module_version": "3.0.0",
      "model_name": "DescriptionStyleModel",
      "state": {
       "description_width": "initial"
      }
     },
     "852755522bb849df9ad9723dee1b0d6d": {
      "model_module": "bqplot",
      "model_module_version": "^0.3.0-alpha.1",
      "model_name": "LinesModel",
      "state": {
       "_model_module_version": "^0.3.0-alpha.1",
       "_view_module_version": "^0.3.0-alpha.1",
       "color": {
        "type": null,
        "values": null
       },
       "display_legend": false,
       "fill_colors": [],
       "labels": [
        "C1"
       ],
       "scales": {
        "x": "IPY_MODEL_568a7d18bd6e4b85b24c49d37b7a9080",
        "y": "IPY_MODEL_44b1bdf0600c40a6892fe5ca176d0eca"
       },
       "selected": [],
       "x": {
        "type": "float",
        "values": [
         0,
         33.333333333333336,
         66.66666666666667,
         100
        ]
       },
       "y": {
        "type": "float",
        "values": [
         0,
         0,
         0,
         0
        ]
       }
      }
     },
     "85815efb6fe040428c6b378573972cf7": {
      "model_module": "@jupyter-widgets/controls",
      "model_module_version": "3.0.0",
      "model_name": "HTMLModel",
      "state": {
       "layout": "IPY_MODEL_3e936f237ba148c18c05bf696d3ad845",
       "style": "IPY_MODEL_5f89a2613cc84b7e9d12e326f849651f",
       "value": "Generator:"
      }
     },
     "863455df543145819ca7e129e712a6be": {
      "model_module": "@jupyter-widgets/controls",
      "model_module_version": "3.0.0",
      "model_name": "BoundedFloatTextModel",
      "state": {
       "description": "Startup Time (hr):",
       "layout": "IPY_MODEL_3ab46a6adc754fa0b472769b0d91901e",
       "max": 24,
       "style": "IPY_MODEL_722750a1b357471b9eaca7c2d26a6478"
      }
     },
     "86714e09b47f4825ab0cfa818c65ab53": {
      "model_module": "@jupyter-widgets/controls",
      "model_module_version": "3.0.0",
      "model_name": "DropdownModel",
      "state": {
       "_options_labels": [
        "COAL",
        "NATURALGAS",
        "WIND"
       ],
       "description": "Generation Type:",
       "index": 0,
       "layout": "IPY_MODEL_94c3c80d40094305a1c3b56a4741e26e",
       "style": "IPY_MODEL_2b5c43d81a034de1b20e83b179f76d7b"
      }
     },
     "86ab9f99c77543469c79a8570af9a655": {
      "model_module": "bqplot",
      "model_module_version": "^0.3.0-alpha.1",
      "model_name": "FigureModel",
      "state": {
       "_dom_classes": [],
       "_model_module_version": "^0.3.0-alpha.1",
       "_view_module_version": "^0.3.0-alpha.1",
       "axes": [
        "IPY_MODEL_d1a14a23c3a343cbb121b2bb55d0190c",
        "IPY_MODEL_550fbc29d3a34f6890cf4d9bf3acc59e"
       ],
       "layout": "IPY_MODEL_dc4c1eb36b84424dafdf6818909e0ae3",
       "marks": [
        "IPY_MODEL_0936d66ce5bb49088d46997ebca4e534",
        "IPY_MODEL_2fc4fa1918884fceb7b82115ca0089ca"
       ],
       "max_aspect_ratio": 6,
       "scale_x": "IPY_MODEL_a87a32b6ccff40399bd1bc007f3044c8",
       "scale_y": "IPY_MODEL_3ef9f176a52746ce919807a9523159af"
      }
     },
     "873af382e5d64b3b860aa2c0dc9d5d13": {
      "model_module": "@jupyter-widgets/controls",
      "model_module_version": "3.0.0",
      "model_name": "BoundedFloatTextModel",
      "state": {
       "description": "Ramp Up Rate (MW/hr):",
       "layout": "IPY_MODEL_d7e8b2fd0b85406fbafb189bbaa67332",
       "style": "IPY_MODEL_0f44c34df2404654bbb6e3afc8b0f78c"
      }
     },
     "87abf2b184fd42b7915f731099893c7d": {
      "model_module": "@jupyter-widgets/controls",
      "model_module_version": "3.0.0",
      "model_name": "DescriptionStyleModel",
      "state": {
       "description_width": "initial"
      }
     },
     "87c391938673438faffcb16bd51a1778": {
      "model_module": "@jupyter-widgets/controls",
      "model_module_version": "3.0.0",
      "model_name": "DescriptionStyleModel",
      "state": {
       "description_width": "initial"
      }
     },
     "87ff6e0ba3de42a3bb220f7d32afa2ec": {
      "model_module": "@jupyter-widgets/controls",
      "model_module_version": "3.0.0",
      "model_name": "DescriptionStyleModel",
      "state": {
       "description_width": "initial"
      }
     },
     "881dcbc4dc6d46c28576da9d42932a69": {
      "model_module": "@jupyter-widgets/controls",
      "model_module_version": "3.0.0",
      "model_name": "DescriptionStyleModel",
      "state": {
       "description_width": "initial"
      }
     },
     "882b6b9ef547438eb0bc9da497302947": {
      "model_module": "@jupyter-widgets/controls",
      "model_module_version": "3.0.0",
      "model_name": "BoundedFloatTextModel",
      "state": {
       "description": "Ramp Down Rate (MW/hr):",
       "layout": "IPY_MODEL_1490a7b8918a46b3b4a4409334f52ab7",
       "style": "IPY_MODEL_21cd1a23ee7b4ec49aa479aab094ec68"
      }
     },
     "8867e57d6e4645ccabde40a1f0d0c03b": {
      "model_module": "@jupyter-widgets/controls",
      "model_module_version": "3.0.0",
      "model_name": "DropdownModel",
      "state": {
       "_options_labels": [
        "COAL",
        "NATURALGAS",
        "WIND"
       ],
       "description": "Generation Type:",
       "index": 0,
       "layout": "IPY_MODEL_5e82c9a77d914d5bbd0661a08f9867c8",
       "style": "IPY_MODEL_d52f8f3d341e485584a5ef771966ce9e"
      }
     },
     "88798e33cebd4417819619564c27f0be": {
      "model_module": "@jupyter-widgets/controls",
      "model_module_version": "3.0.0",
      "model_name": "DescriptionStyleModel",
      "state": {
       "description_width": "initial"
      }
     },
     "887ee12cc17f4d8187e8c7516b872f61": {
      "model_module": "@jupyter-widgets/controls",
      "model_module_version": "3.0.0",
      "model_name": "DescriptionStyleModel",
      "state": {
       "description_width": ""
      }
     },
     "88a1f7af611b4915ac3a2ed8da6204de": {
      "model_module": "@jupyter-widgets/controls",
      "model_module_version": "3.0.0",
      "model_name": "DescriptionStyleModel",
      "state": {
       "description_width": "initial"
      }
     },
     "88d0b5aed8ab4ca69b01864943df54f7": {
      "model_module": "@jupyter-widgets/controls",
      "model_module_version": "3.0.0",
      "model_name": "HBoxModel",
      "state": {
       "children": [
        "IPY_MODEL_7e4f40b36e664baca55023b6d2f1aa0b",
        "IPY_MODEL_727eb91f32864c1b925a264090383a16"
       ],
       "layout": "IPY_MODEL_7e2acc78851c42078ef1bcc4191c6d1c"
      }
     },
     "88df1a1b24ec4f299bee727c5a914e9d": {
      "model_module": "@jupyter-widgets/controls",
      "model_module_version": "3.0.0",
      "model_name": "DescriptionStyleModel",
      "state": {
       "description_width": "initial"
      }
     },
     "88e088c76f9549f6a247c0d6b60eaa4a": {
      "model_module": "@jupyter-widgets/controls",
      "model_module_version": "3.0.0",
      "model_name": "BoundedFloatTextModel",
      "state": {
       "description": "Ramp Up Rate (MW/hr):",
       "layout": "IPY_MODEL_e8a13496c3d04fd898fcd2df98e91839",
       "style": "IPY_MODEL_ebe29f9751fe47d0b6a6aa7c984f8085"
      }
     },
     "89036066658c4cac8f68827dfc5b3566": {
      "model_module": "@jupyter-widgets/controls",
      "model_module_version": "3.0.0",
      "model_name": "BoundedFloatTextModel",
      "state": {
       "description": "Ramp Down Rate (MW/hr):",
       "layout": "IPY_MODEL_4b9a22fd6baa46a7ad05eb1461456e2c",
       "style": "IPY_MODEL_5911342fba564c8c89a7b7eec0619430"
      }
     },
     "8953405fa0794efaa6050f8adc7b0647": {
      "model_module": "@jupyter-widgets/controls",
      "model_module_version": "3.0.0",
      "model_name": "HBoxModel",
      "state": {
       "children": [
        "IPY_MODEL_f188c22710a046f8a44d85005261459d",
        "IPY_MODEL_a0a002ae9d8b4b298a50b2ca50b0dc9d"
       ],
       "layout": "IPY_MODEL_d9a0e37d089f43ccb056195dc1407df2"
      }
     },
     "89a18bd2e8524bf9a45b2311bda811c2": {
      "model_module": "@jupyter-widgets/base",
      "model_module_version": "3.0.0",
      "model_name": "LayoutModel",
      "state": {}
     },
     "89ef64468603496a8bc289aee87dead4": {
      "model_module": "@jupyter-widgets/controls",
      "model_module_version": "3.0.0",
      "model_name": "DescriptionStyleModel",
      "state": {
       "description_width": "initial"
      }
     },
     "8a1a489f311f438b852eab40a2ba28cb": {
      "model_module": "bqplot",
      "model_module_version": "^0.3.0-alpha.1",
      "model_name": "LinearScaleModel",
      "state": {
       "_model_module_version": "^0.3.0-alpha.1",
       "_view_module_version": "^0.3.0-alpha.1",
       "allow_padding": false,
       "max": 1,
       "min": 0,
       "stabilized": false
      }
     },
     "8a3ececc3aaf44e9adb39b991f3c4a89": {
      "model_module": "bqplot",
      "model_module_version": "^0.3.0-alpha.1",
      "model_name": "FigureModel",
      "state": {
       "_dom_classes": [],
       "_model_module_version": "^0.3.0-alpha.1",
       "_view_module_version": "^0.3.0-alpha.1",
       "axes": [
        "IPY_MODEL_e3d155e4c518419e9c03bddc89963bef",
        "IPY_MODEL_4d99a4f5d72945df99ac0577e4d1505f"
       ],
       "layout": "IPY_MODEL_33fa03989d1a4a4db62551d81510b0cc",
       "marks": [
        "IPY_MODEL_59c44a7d7d5742a589dace05ea5347d9",
        "IPY_MODEL_e0ad33c09f574e65ac5425f60f894907"
       ],
       "max_aspect_ratio": 6,
       "scale_x": "IPY_MODEL_d7d97cf40b614539a555c24d4de34273",
       "scale_y": "IPY_MODEL_c71be4271270440b85717fc372409fb8"
      }
     },
     "8a48a57f92da40da83ab2b6378d275c4": {
      "model_module": "bqplot",
      "model_module_version": "^0.3.0-alpha.1",
      "model_name": "ScatterModel",
      "state": {
       "_model_module": "bqplot",
       "_model_module_version": "^0.3.0-alpha.1",
       "_view_count": null,
       "_view_module": "bqplot",
       "_view_module_version": "^0.3.0-alpha.1",
       "apply_clip": true,
       "color": {
        "type": null,
        "values": null
       },
       "colors": [
        "DeepSkyBlue"
       ],
       "display_legend": false,
       "enable_hover": true,
       "enable_move": true,
       "hovered_style": {},
       "interactions": {
        "click": null
       },
       "labels": [],
       "msg_throttle": 1,
       "names": {
        "type": null,
        "values": null
       },
       "opacity": {
        "type": null,
        "values": null
       },
       "preserve_domain": {},
       "rotation": {
        "type": null,
        "values": null
       },
       "scales": {
        "x": "IPY_MODEL_d509457317e94e3caba7e7823dcaad15",
        "y": "IPY_MODEL_1eb03e3628364d04b4b4dffeca8949d4"
       },
       "scales_metadata": {
        "color": {
         "dimension": "color"
        },
        "opacity": {
         "dimension": "opacity"
        },
        "size": {
         "dimension": "size"
        },
        "x": {
         "dimension": "x",
         "orientation": "horizontal"
        },
        "y": {
         "dimension": "y",
         "orientation": "vertical"
        }
       },
       "selected": [],
       "selected_style": {},
       "size": {
        "type": null,
        "values": null
       },
       "skew": {
        "type": null,
        "values": null
       },
       "tooltip": null,
       "tooltip_location": "mouse",
       "tooltip_style": {
        "opacity": 0.9
       },
       "unhovered_style": {},
       "unselected_style": {},
       "update_on_move": true,
       "visible": true,
       "x": {
        "type": "float",
        "values": [
         0,
         50,
         94.80085784313725
        ]
       },
       "y": {
        "type": "float",
        "values": [
         0,
         0,
         0
        ]
       }
      }
     },
     "8a75ff2d51d842fc8861673f46bec13a": {
      "model_module": "@jupyter-widgets/base",
      "model_module_version": "3.0.0",
      "model_name": "LayoutModel",
      "state": {}
     },
     "8a91ca528ced4c459756fe2118c4d1be": {
      "model_module": "@jupyter-widgets/base",
      "model_module_version": "3.0.0",
      "model_name": "LayoutModel",
      "state": {}
     },
     "8ab1e055751e4aefb7212b81afafa618": {
      "model_module": "@jupyter-widgets/base",
      "model_module_version": "3.0.0",
      "model_name": "LayoutModel",
      "state": {}
     },
     "8aea25b6d83646b2880f0c879577b2b7": {
      "model_module": "@jupyter-widgets/controls",
      "model_module_version": "3.0.0",
      "model_name": "BoundedFloatTextModel",
      "state": {
       "description": "Ramp Up Rate (MW/hr):",
       "layout": "IPY_MODEL_3dbadc4d7f7546a2981daf6d97ff4f3c",
       "style": "IPY_MODEL_ce425f6f28eb447f8d5c7a83afb063d2"
      }
     },
     "8b22ffda25644d9ca6c2794c99843fed": {
      "model_module": "@jupyter-widgets/base",
      "model_module_version": "3.0.0",
      "model_name": "LayoutModel",
      "state": {}
     },
     "8b5d3186d68146e9858f459cd48ad44b": {
      "model_module": "@jupyter-widgets/controls",
      "model_module_version": "3.0.0",
      "model_name": "DescriptionStyleModel",
      "state": {
       "description_width": "initial"
      }
     },
     "8b64ea2969694912abab6dc4c324439a": {
      "model_module": "bqplot",
      "model_module_version": "^0.3.0-alpha.1",
      "model_name": "LinearScaleModel",
      "state": {
       "_model_module_version": "^0.3.0-alpha.1",
       "_view_module_version": "^0.3.0-alpha.1",
       "max": 50,
       "min": 0,
       "stabilized": false
      }
     },
     "8b656058a0564587b3e55221e530ed74": {
      "model_module": "bqplot",
      "model_module_version": "^0.3.0-alpha.1",
      "model_name": "AxisModel",
      "state": {
       "_model_module_version": "^0.3.0-alpha.1",
       "_view_module_version": "^0.3.0-alpha.1",
       "scale": "IPY_MODEL_2f82b65bc39542579fee99b7568a3b11",
       "side": "bottom",
       "tick_values": {
        "type": null,
        "values": null
       }
      }
     },
     "8b6c344c70f14813a850ae30f1d4381b": {
      "model_module": "@jupyter-widgets/controls",
      "model_module_version": "3.0.0",
      "model_name": "BoundedFloatTextModel",
      "state": {
       "description": "Startup Cost ($/hr):",
       "layout": "IPY_MODEL_7d8a1dd753104b84bba2bdd7618ff3de",
       "max": 10000000000,
       "style": "IPY_MODEL_cd069d25dbee493780460a60a822173a"
      }
     },
     "8b839f071eff480387f97577fa27b330": {
      "model_module": "bqplot",
      "model_module_version": "^0.3.0-alpha.1",
      "model_name": "LinearScaleModel",
      "state": {
       "_model_module_version": "^0.3.0-alpha.1",
       "_view_module_version": "^0.3.0-alpha.1",
       "allow_padding": false,
       "max": 1,
       "min": 0,
       "stabilized": false
      }
     },
     "8b87db0dad90465395889cc5912426ec": {
      "model_module": "@jupyter-widgets/controls",
      "model_module_version": "3.0.0",
      "model_name": "DescriptionStyleModel",
      "state": {
       "description_width": "initial"
      }
     },
     "8b8db000cb5d40e0969358d779802d4e": {
      "model_module": "@jupyter-widgets/controls",
      "model_module_version": "3.0.0",
      "model_name": "TextModel",
      "state": {
       "description": "Name",
       "layout": "IPY_MODEL_754a8a7de53b4ad48052f26b22f55be7",
       "style": "IPY_MODEL_983f4d7f09b245d694dab3bd7004b385",
       "value": "GenCo0"
      }
     },
     "8ba8a78517c5437684f07f294af221fa": {
      "model_module": "@jupyter-widgets/controls",
      "model_module_version": "3.0.0",
      "model_name": "BoundedFloatTextModel",
      "state": {
       "description": "Initial Generation (MW):",
       "layout": "IPY_MODEL_dad73639923c4d8590f9125f66754d2b",
       "max": 200,
       "style": "IPY_MODEL_de9a47f6e33b42fdb4ed0b9563dd6fc5"
      }
     },
     "8c0bcf6ba2a342b1b7dd5e7c7f83c61f": {
      "model_module": "@jupyter-widgets/controls",
      "model_module_version": "3.0.0",
      "model_name": "DescriptionStyleModel",
      "state": {
       "description_width": "initial"
      }
     },
     "8c5084047830416d99cc58f38c4f76fa": {
      "model_module": "@jupyter-widgets/base",
      "model_module_version": "3.0.0",
      "model_name": "LayoutModel",
      "state": {}
     },
     "8c5f4dbe5eb04d938b83f642687f4bc6": {
      "model_module": "@jupyter-widgets/controls",
      "model_module_version": "3.0.0",
      "model_name": "DescriptionStyleModel",
      "state": {
       "description_width": ""
      }
     },
     "8c96332977f74e1797619749079c90af": {
      "model_module": "@jupyter-widgets/base",
      "model_module_version": "3.0.0",
      "model_name": "LayoutModel",
      "state": {}
     },
     "8cb88fe6b9824fa58361d7aca36c2289": {
      "model_module": "@jupyter-widgets/controls",
      "model_module_version": "3.0.0",
      "model_name": "DescriptionStyleModel",
      "state": {
       "description_width": ""
      }
     },
     "8ccb6eea3e394d338596dc02cd30e699": {
      "model_module": "@jupyter-widgets/controls",
      "model_module_version": "3.0.0",
      "model_name": "DescriptionStyleModel",
      "state": {
       "description_width": "initial"
      }
     },
     "8cdae4d933d14362a1aadae00a183eca": {
      "model_module": "@jupyter-widgets/controls",
      "model_module_version": "3.0.0",
      "model_name": "HTMLModel",
      "state": {
       "layout": "IPY_MODEL_131a918c31f74230960117b217416bc9",
       "style": "IPY_MODEL_ce2a346f3f624fd4b77d7d55bbd424e8",
       "value": "Generator:"
      }
     },
     "8cee5b3c9e4d4b468876fe9901eec59e": {
      "model_module": "@jupyter-widgets/controls",
      "model_module_version": "3.0.0",
      "model_name": "SliderStyleModel",
      "state": {
       "description_width": "initial"
      }
     },
     "8cf3c62136a14540aca22e5c05110d89": {
      "model_module": "@jupyter-widgets/controls",
      "model_module_version": "3.0.0",
      "model_name": "BoundedFloatTextModel",
      "state": {
       "description": "Shutdown Time (hr):",
       "layout": "IPY_MODEL_e4ee7cd05bbb49bfb287df6675f69ddb",
       "max": 24,
       "style": "IPY_MODEL_84187af096b14ec58ebc9db35a00150a"
      }
     },
     "8d1b26c365474ac3a92dc0184249344e": {
      "model_module": "@jupyter-widgets/controls",
      "model_module_version": "3.0.0",
      "model_name": "VBoxModel",
      "state": {
       "children": [
        "IPY_MODEL_ae94ea3cf65c44d28f4daa215a58a5f1"
       ],
       "layout": "IPY_MODEL_04d938b81b474c09ada9b658b7f76205"
      }
     },
     "8d9f01062f3544818023a07001bea0a9": {
      "model_module": "@jupyter-widgets/controls",
      "model_module_version": "3.0.0",
      "model_name": "DescriptionStyleModel",
      "state": {
       "description_width": "initial"
      }
     },
     "8da717c4b4624d0dad3a578646c8e5e0": {
      "model_module": "@jupyter-widgets/controls",
      "model_module_version": "3.0.0",
      "model_name": "BoundedFloatTextModel",
      "state": {
       "description": "Minimum Up Time (hr):",
       "layout": "IPY_MODEL_9999eba0485b4b31b103e48724816c2e",
       "max": 24,
       "style": "IPY_MODEL_e4756216daa046a680ef1a5e414f8b33"
      }
     },
     "8dd7cc7df3fb4668971567965d942418": {
      "model_module": "@jupyter-widgets/base",
      "model_module_version": "3.0.0",
      "model_name": "LayoutModel",
      "state": {}
     },
     "8de08c8de4404e67a3b378bbe4e19e4d": {
      "model_module": "bqplot",
      "model_module_version": "^0.3.0-alpha.1",
      "model_name": "LinearScaleModel",
      "state": {
       "_model_module_version": "^0.3.0-alpha.1",
       "_view_module_version": "^0.3.0-alpha.1",
       "allow_padding": false,
       "max": 1,
       "min": 0,
       "stabilized": false
      }
     },
     "8de3095aa2c645afb7413f7e3f538c82": {
      "model_module": "@jupyter-widgets/base",
      "model_module_version": "3.0.0",
      "model_name": "LayoutModel",
      "state": {}
     },
     "8dec810052e94e07a043251c9faf0871": {
      "model_module": "@jupyter-widgets/controls",
      "model_module_version": "3.0.0",
      "model_name": "BoundedFloatTextModel",
      "state": {
       "description": "Ramp Up Rate (MW/hr):",
       "layout": "IPY_MODEL_97373e82f1ed46e880d4b6b21ba8c1a2",
       "style": "IPY_MODEL_0956b75b056b41888d17923f3c7f09c3"
      }
     },
     "8e3576327b50422ba6d3e57c1610ad6f": {
      "model_module": "@jupyter-widgets/base",
      "model_module_version": "3.0.0",
      "model_name": "LayoutModel",
      "state": {}
     },
     "8e5e7ae089cd4b95864affbe0b6d79f8": {
      "model_module": "@jupyter-widgets/controls",
      "model_module_version": "3.0.0",
      "model_name": "DescriptionStyleModel",
      "state": {
       "description_width": "initial"
      }
     },
     "8ebab9ff1ed3440393624558dacdac8c": {
      "model_module": "bqplot",
      "model_module_version": "^0.3.0-alpha.1",
      "model_name": "LinearScaleModel",
      "state": {
       "_model_module_version": "^0.3.0-alpha.1",
       "_view_module_version": "^0.3.0-alpha.1",
       "allow_padding": false,
       "max": 1,
       "min": 0,
       "stabilized": false
      }
     },
     "8ebf8044783948b38d02070b0d4f55b3": {
      "model_module": "@jupyter-widgets/base",
      "model_module_version": "3.0.0",
      "model_name": "LayoutModel",
      "state": {}
     },
     "8ec1d90717e64dd38240bed7699771f2": {
      "model_module": "@jupyter-widgets/controls",
      "model_module_version": "3.0.0",
      "model_name": "BoundedFloatTextModel",
      "state": {
       "description": "Startup Cost ($/hr):",
       "layout": "IPY_MODEL_27824c0eb03246ed80f7836b11858133",
       "max": 10000000000,
       "style": "IPY_MODEL_881dcbc4dc6d46c28576da9d42932a69"
      }
     },
     "8f098e303ae94c0484433b6f231cda7e": {
      "model_module": "@jupyter-widgets/controls",
      "model_module_version": "3.0.0",
      "model_name": "IntSliderModel",
      "state": {
       "description": "Number of Cost Curve Segments",
       "layout": "IPY_MODEL_96d250e004004a85a5559bc0f56dda9b",
       "max": 50,
       "min": 2,
       "style": "IPY_MODEL_8cee5b3c9e4d4b468876fe9901eec59e",
       "value": 3
      }
     },
     "8f1e31caa75a42f4bc4ea3424c854a82": {
      "model_module": "@jupyter-widgets/controls",
      "model_module_version": "3.0.0",
      "model_name": "DescriptionStyleModel",
      "state": {
       "description_width": "initial"
      }
     },
     "8f47f0a5fa3440c29706980d4e6c1ca5": {
      "model_module": "@jupyter-widgets/base",
      "model_module_version": "3.0.0",
      "model_name": "LayoutModel",
      "state": {}
     },
     "8f744c19f3be40ea93b639dea3155794": {
      "model_module": "@jupyter-widgets/base",
      "model_module_version": "3.0.0",
      "model_name": "LayoutModel",
      "state": {}
     },
     "8f913c8be3964a9eb9f523293df06a01": {
      "model_module": "@jupyter-widgets/base",
      "model_module_version": "3.0.0",
      "model_name": "LayoutModel",
      "state": {}
     },
     "8fbd49ba31314bdfb1db141e4bc488e7": {
      "model_module": "@jupyter-widgets/controls",
      "model_module_version": "3.0.0",
      "model_name": "BoundedFloatTextModel",
      "state": {
       "description": "Ramp Down Rate (MW/hr):",
       "layout": "IPY_MODEL_5325a194d1b04845b9ddd1fec667f146",
       "style": "IPY_MODEL_b9b23c575e264784883fdc3ee8ccb972"
      }
     },
     "8fd6054eb31d4f0597a635e1166a9afc": {
      "model_module": "@jupyter-widgets/base",
      "model_module_version": "3.0.0",
      "model_name": "LayoutModel",
      "state": {}
     },
     "8feb312b2d1147f6aa9e1cb760853817": {
      "model_module": "@jupyter-widgets/controls",
      "model_module_version": "3.0.0",
      "model_name": "BoundedFloatTextModel",
      "state": {
       "description": "Shutdown Time (hr):",
       "layout": "IPY_MODEL_8ebf8044783948b38d02070b0d4f55b3",
       "max": 24,
       "style": "IPY_MODEL_f5c97511db794dfdaa6178531a7df3b4"
      }
     },
     "9017789282b54cddaf049e20db1c99f6": {
      "model_module": "@jupyter-widgets/controls",
      "model_module_version": "3.0.0",
      "model_name": "TextModel",
      "state": {
       "description": "Name",
       "layout": "IPY_MODEL_84b808eaab3e4cc3a1f8deda8d5e243b",
       "style": "IPY_MODEL_66902e2e6df44222a9b8eb5bb3ebbbab",
       "value": "GenCo0"
      }
     },
     "90181003afb5433187d12eb7284e2de5": {
      "model_module": "@jupyter-widgets/controls",
      "model_module_version": "3.0.0",
      "model_name": "TextModel",
      "state": {
       "description": "Name",
       "layout": "IPY_MODEL_253af76075f74c898b1bf7ac30cabc01",
       "style": "IPY_MODEL_459e6b0757f346f9bb91c826ac395887",
       "value": "GenCo0"
      }
     },
     "901949114f33455d98d6ff3535ce3710": {
      "model_module": "@jupyter-widgets/controls",
      "model_module_version": "3.0.0",
      "model_name": "BoundedFloatTextModel",
      "state": {
       "description": "Minimum Generation (MW):",
       "layout": "IPY_MODEL_318c35aded5546fa8bc5432d992de664",
       "style": "IPY_MODEL_3c4a67b4c90842d4b33f7ee4050deffa",
       "value": 20
      }
     },
     "903186b064414988b6360385c92758c1": {
      "model_module": "bqplot",
      "model_module_version": "^0.3.0-alpha.1",
      "model_name": "LinearScaleModel",
      "state": {
       "_model_module_version": "^0.3.0-alpha.1",
       "_view_module_version": "^0.3.0-alpha.1",
       "allow_padding": false,
       "max": 1,
       "min": 0,
       "stabilized": false
      }
     },
     "90330d0dda8642a7b4e24c20a19aca34": {
      "model_module": "@jupyter-widgets/controls",
      "model_module_version": "3.0.0",
      "model_name": "DescriptionStyleModel",
      "state": {
       "description_width": "initial"
      }
     },
     "9091ec62917141ea8d74a3bc8a3c8be0": {
      "model_module": "@jupyter-widgets/base",
      "model_module_version": "3.0.0",
      "model_name": "LayoutModel",
      "state": {}
     },
     "90a23979a112406797059a167e4463d5": {
      "model_module": "@jupyter-widgets/controls",
      "model_module_version": "3.0.0",
      "model_name": "DescriptionStyleModel",
      "state": {
       "description_width": "initial"
      }
     },
     "90c6aee10e6345bfb8097a2000fdf438": {
      "model_module": "@jupyter-widgets/base",
      "model_module_version": "3.0.0",
      "model_name": "LayoutModel",
      "state": {}
     },
     "910571b4f2574e1eab1203568952a862": {
      "model_module": "@jupyter-widgets/controls",
      "model_module_version": "3.0.0",
      "model_name": "DescriptionStyleModel",
      "state": {
       "description_width": "initial"
      }
     },
     "9116c831177b4d50b146d6ae5a35c930": {
      "model_module": "bqplot",
      "model_module_version": "^0.3.0-alpha.1",
      "model_name": "LinearScaleModel",
      "state": {
       "_model_module_version": "^0.3.0-alpha.1",
       "_view_module_version": "^0.3.0-alpha.1",
       "allow_padding": false,
       "max": 1,
       "min": 0,
       "stabilized": false
      }
     },
     "916caf7e6ae94cd99ea415bbc64af721": {
      "model_module": "@jupyter-widgets/controls",
      "model_module_version": "3.0.0",
      "model_name": "DescriptionStyleModel",
      "state": {
       "description_width": "initial"
      }
     },
     "91903255ecc9491297369166c65c9519": {
      "model_module": "@jupyter-widgets/controls",
      "model_module_version": "3.0.0",
      "model_name": "IntSliderModel",
      "state": {
       "description": "Number of Cost Curve Segments",
       "layout": "IPY_MODEL_bc47eb40fa9a4e72a7d608d49befdba5",
       "max": 50,
       "min": 2,
       "style": "IPY_MODEL_1a3faba18f384af7b50dde067a975010",
       "value": 3
      }
     },
     "91f70ec6bdd54100ab6abaf7dc567c16": {
      "model_module": "@jupyter-widgets/controls",
      "model_module_version": "3.0.0",
      "model_name": "DescriptionStyleModel",
      "state": {
       "description_width": "initial"
      }
     },
     "91fad65c15f44d1cb218260d0414343e": {
      "model_module": "@jupyter-widgets/base",
      "model_module_version": "3.0.0",
      "model_name": "LayoutModel",
      "state": {}
     },
     "9219f2742ea84d53bcf13c4852c0656e": {
      "model_module": "@jupyter-widgets/controls",
      "model_module_version": "3.0.0",
      "model_name": "DescriptionStyleModel",
      "state": {
       "description_width": "initial"
      }
     },
     "9229266a41d44c0ca0e090308cb61d26": {
      "model_module": "@jupyter-widgets/base",
      "model_module_version": "3.0.0",
      "model_name": "LayoutModel",
      "state": {}
     },
     "922e11e619204b6daa44f9e4352d2096": {
      "model_module": "@jupyter-widgets/controls",
      "model_module_version": "3.0.0",
      "model_name": "BoundedFloatTextModel",
      "state": {
       "description": "Shutdown Time (hr):",
       "layout": "IPY_MODEL_6e9f4f481dd14d3e84b26a0d3ee220c1",
       "max": 24,
       "style": "IPY_MODEL_9cf0de1f37ca4a218655b46e3fe7ede8"
      }
     },
     "9270da77a66042918a6a5a9d3b9322fe": {
      "model_module": "@jupyter-widgets/controls",
      "model_module_version": "3.0.0",
      "model_name": "DescriptionStyleModel",
      "state": {
       "description_width": "initial"
      }
     },
     "928667b5e51f4c0bbb3fabed8eed355a": {
      "model_module": "@jupyter-widgets/controls",
      "model_module_version": "3.0.0",
      "model_name": "DescriptionStyleModel",
      "state": {
       "description_width": "initial"
      }
     },
     "92b8165ed7ee491da58bd97d2954e58e": {
      "model_module": "@jupyter-widgets/base",
      "model_module_version": "3.0.0",
      "model_name": "LayoutModel",
      "state": {}
     },
     "92d550127064484cad949312153760d1": {
      "model_module": "bqplot",
      "model_module_version": "^0.3.0-alpha.1",
      "model_name": "AxisModel",
      "state": {
       "_model_module_version": "^0.3.0-alpha.1",
       "_view_module_version": "^0.3.0-alpha.1",
       "orientation": "vertical",
       "scale": "IPY_MODEL_f09290a400f946c29d43fc1c1cbe0e44",
       "side": "left",
       "tick_values": {
        "type": null,
        "values": null
       }
      }
     },
     "93208697a78b447db2eda65a8fb2dd73": {
      "model_module": "@jupyter-widgets/controls",
      "model_module_version": "3.0.0",
      "model_name": "HBoxModel",
      "state": {
       "children": [
        "IPY_MODEL_f45e01159ea045e19052f17a408d9d48",
        "IPY_MODEL_001486efa385488abaf8821020b50002"
       ],
       "layout": "IPY_MODEL_076f80745b5d426a8ddde2b7f2692b79"
      }
     },
     "935235444bf64fbc80bae3c233dafda5": {
      "model_module": "@jupyter-widgets/controls",
      "model_module_version": "3.0.0",
      "model_name": "DescriptionStyleModel",
      "state": {
       "description_width": "initial"
      }
     },
     "93b9a2876e55454db173039d05812ece": {
      "model_module": "@jupyter-widgets/base",
      "model_module_version": "3.0.0",
      "model_name": "LayoutModel",
      "state": {}
     },
     "93c5bf9db70d4acab95218118cd2533a": {
      "model_module": "@jupyter-widgets/base",
      "model_module_version": "3.0.0",
      "model_name": "LayoutModel",
      "state": {}
     },
     "93f2d7e390ad47e5a9fa9681ccc03264": {
      "model_module": "@jupyter-widgets/controls",
      "model_module_version": "3.0.0",
      "model_name": "BoundedFloatTextModel",
      "state": {
       "description": "Shutdown Time (hr):",
       "layout": "IPY_MODEL_7b97983f52a44ee5a310fd3a63c75a34",
       "max": 24,
       "style": "IPY_MODEL_7414f8074dd145c7bcfd57c4f59108d8"
      }
     },
     "9408f445ae2d4f77b6bd70e0dc3f64c6": {
      "model_module": "bqplot",
      "model_module_version": "^0.3.0-alpha.1",
      "model_name": "AxisModel",
      "state": {
       "_model_module_version": "^0.3.0-alpha.1",
       "_view_module_version": "^0.3.0-alpha.1",
       "orientation": "vertical",
       "scale": "IPY_MODEL_1eb03e3628364d04b4b4dffeca8949d4",
       "side": "left",
       "tick_values": {
        "type": null,
        "values": null
       }
      }
     },
     "94170613198049cf9e3fc3b49bfb2d8f": {
      "model_module": "@jupyter-widgets/controls",
      "model_module_version": "3.0.0",
      "model_name": "BoundedFloatTextModel",
      "state": {
       "description": "Startup Cost ($/hr):",
       "layout": "IPY_MODEL_60b46598b5af4962bb9c919757dcf2b4",
       "max": 10000000000,
       "style": "IPY_MODEL_6fb17efff5f645c094b08f55de25d820"
      }
     },
     "94c3323234614d46adf9c5fe6e0c9c05": {
      "model_module": "@jupyter-widgets/controls",
      "model_module_version": "3.0.0",
      "model_name": "BoundedFloatTextModel",
      "state": {
       "description": "Ramp Up Rate (MW/hr):",
       "layout": "IPY_MODEL_d9548c4373cd4396a2702ffdb6cbd4ca",
       "style": "IPY_MODEL_fcfda4df68c64e1d92c18b747279fcf2"
      }
     },
     "94c3c80d40094305a1c3b56a4741e26e": {
      "model_module": "@jupyter-widgets/base",
      "model_module_version": "3.0.0",
      "model_name": "LayoutModel",
      "state": {}
     },
     "94cdf2438cf94fb78e3fe9f11fccf212": {
      "model_module": "@jupyter-widgets/base",
      "model_module_version": "3.0.0",
      "model_name": "LayoutModel",
      "state": {}
     },
     "94fb7e625a4941408bee142c715a22fa": {
      "model_module": "@jupyter-widgets/controls",
      "model_module_version": "3.0.0",
      "model_name": "VBoxModel",
      "state": {
       "children": [
        "IPY_MODEL_d147adf03218475c826979e3d2cbf99e",
        "IPY_MODEL_1744157bf50746508761e2ee1ee573ae",
        "IPY_MODEL_39ea99a87ede4db2b4e7ca9697ae2e34",
        "IPY_MODEL_ef892329fb0442b78ac8c0f87ab66b60",
        "IPY_MODEL_dd889bb2f62e4feebd3c4ac6ad3ea33c",
        "IPY_MODEL_2a5274c486ee4997b95ea10cc8e494f6",
        "IPY_MODEL_7217cd7a3e354eeea3f0be4f8a074129",
        "IPY_MODEL_f581ccf32ecc4f168eec831468428ad2",
        "IPY_MODEL_c1c33308f43e4391aaac03381119a9c1",
        "IPY_MODEL_d23bf3408bfe426a972360dd1b452a84",
        "IPY_MODEL_c9e8795519bb4eeabbc4a0a5720233b0",
        "IPY_MODEL_43a440b04c624d48ac09a9fa7e0f352d",
        "IPY_MODEL_d86078b5cde54d4e9872baba61d7354e",
        "IPY_MODEL_9a2e6bf6a4f74cb3a5b0c9238e6adb2f",
        "IPY_MODEL_56395ebbe68643de820163617c81ba77",
        "IPY_MODEL_6810476c784a4ca4bec0f80418c27317"
       ],
       "layout": "IPY_MODEL_71817fc3351e45d8b4f8c5f6f5869479"
      }
     },
     "951ef373da734b3aa537ef1e51cace6b": {
      "model_module": "@jupyter-widgets/controls",
      "model_module_version": "3.0.0",
      "model_name": "BoundedFloatTextModel",
      "state": {
       "description": "Ramp Up Rate (MW/hr):",
       "layout": "IPY_MODEL_bce05b99064b4c85bc6c6fa01160a9f0",
       "style": "IPY_MODEL_370091cebdcd4c99a09a16f2b568fabe"
      }
     },
     "9575e5625c644b59a9e9628a751bae15": {
      "model_module": "@jupyter-widgets/controls",
      "model_module_version": "3.0.0",
      "model_name": "DescriptionStyleModel",
      "state": {
       "description_width": "initial"
      }
     },
     "95c9070e87bb4faf8720423cd4364ea3": {
      "model_module": "@jupyter-widgets/base",
      "model_module_version": "3.0.0",
      "model_name": "LayoutModel",
      "state": {}
     },
     "95f1b6bdee1d461c80613a597083a9f0": {
      "model_module": "@jupyter-widgets/controls",
      "model_module_version": "3.0.0",
      "model_name": "IntSliderModel",
      "state": {
       "description": "Number of Cost Curve Segments",
       "layout": "IPY_MODEL_53f9a872180c4a7b9fde372856269e7e",
       "max": 50,
       "min": 2,
       "style": "IPY_MODEL_7ec44034063a41969a55791ab57c1da5",
       "value": 3
      }
     },
     "963277ba2d814f49ac327d45891e6fb1": {
      "model_module": "@jupyter-widgets/base",
      "model_module_version": "3.0.0",
      "model_name": "LayoutModel",
      "state": {}
     },
     "9647cb3cc4914ccda81dbf9e505c2c78": {
      "model_module": "@jupyter-widgets/base",
      "model_module_version": "3.0.0",
      "model_name": "LayoutModel",
      "state": {}
     },
     "965644faf2014eac94719555752d7eed": {
      "model_module": "bqplot",
      "model_module_version": "^0.3.0-alpha.1",
      "model_name": "LinesModel",
      "state": {
       "_model_module_version": "^0.3.0-alpha.1",
       "_view_module_version": "^0.3.0-alpha.1",
       "color": {
        "type": null,
        "values": null
       },
       "display_legend": false,
       "fill_colors": [],
       "labels": [
        "C1"
       ],
       "scales": {
        "x": "IPY_MODEL_bdccccd8cd0d4d61b41114540b39133e",
        "y": "IPY_MODEL_97e44cfa906140e68e9500b87876215c"
       },
       "selected": [],
       "x": {
        "type": "float",
        "values": [
         0,
         33.333333333333336,
         66.66666666666667,
         100
        ]
       },
       "y": {
        "type": "float",
        "values": [
         0,
         0,
         0,
         0
        ]
       }
      }
     },
     "9676f0cca1dd47c0a9e31fa532443b23": {
      "model_module": "@jupyter-widgets/base",
      "model_module_version": "3.0.0",
      "model_name": "LayoutModel",
      "state": {}
     },
     "96a87a3ca1cf487189fda59aeb9ffbf6": {
      "model_module": "@jupyter-widgets/controls",
      "model_module_version": "3.0.0",
      "model_name": "DescriptionStyleModel",
      "state": {
       "description_width": "initial"
      }
     },
     "96d250e004004a85a5559bc0f56dda9b": {
      "model_module": "@jupyter-widgets/base",
      "model_module_version": "3.0.0",
      "model_name": "LayoutModel",
      "state": {}
     },
     "96f88c1eca8c41c28c8efb511208acab": {
      "model_module": "@jupyter-widgets/controls",
      "model_module_version": "3.0.0",
      "model_name": "BoundedFloatTextModel",
      "state": {
       "description": "Ramp Down Rate (MW/hr):",
       "layout": "IPY_MODEL_597ab14fe5904f85a427304da46fe2d2",
       "style": "IPY_MODEL_cbfa9eda6fef44e5b7c11a0534206670"
      }
     },
     "9713aa385b3a4affaf9b7bfdb4a440cb": {
      "model_module": "bqplot",
      "model_module_version": "^0.3.0-alpha.1",
      "model_name": "LinearScaleModel",
      "state": {
       "_model_module_version": "^0.3.0-alpha.1",
       "_view_module_version": "^0.3.0-alpha.1",
       "allow_padding": false,
       "max": 1,
       "min": 0,
       "stabilized": false
      }
     },
     "97373e82f1ed46e880d4b6b21ba8c1a2": {
      "model_module": "@jupyter-widgets/base",
      "model_module_version": "3.0.0",
      "model_name": "LayoutModel",
      "state": {}
     },
     "973e3113b67842109b06969a00723a85": {
      "model_module": "@jupyter-widgets/controls",
      "model_module_version": "3.0.0",
      "model_name": "BoundedFloatTextModel",
      "state": {
       "description": "Minimum Up Time (hr):",
       "layout": "IPY_MODEL_50dcfa60c0e54356b0d956144a51c586",
       "max": 24,
       "style": "IPY_MODEL_74ba9876cc174c7a835463c4b213c9f5"
      }
     },
     "973f026258394af38684a3f9fb5b08c2": {
      "model_module": "@jupyter-widgets/controls",
      "model_module_version": "3.0.0",
      "model_name": "BoundedFloatTextModel",
      "state": {
       "description": "Capacity (MW):",
       "layout": "IPY_MODEL_32a0180bb6bc4e67a730d17bf712dd4c",
       "max": 10000000000,
       "style": "IPY_MODEL_c49c11e00be44f3c8d07841ee574f185",
       "value": 100
      }
     },
     "97599b7363fe4ed3a1b1b906219d3055": {
      "model_module": "@jupyter-widgets/controls",
      "model_module_version": "3.0.0",
      "model_name": "DescriptionStyleModel",
      "state": {
       "description_width": "initial"
      }
     },
     "975fec67feb4431da594e6c5149a4839": {
      "model_module": "@jupyter-widgets/controls",
      "model_module_version": "3.0.0",
      "model_name": "DropdownModel",
      "state": {
       "_options_labels": [
        "COAL",
        "NATURALGAS",
        "WIND"
       ],
       "description": "Generation Type:",
       "index": 0,
       "layout": "IPY_MODEL_3afa1be8983d45f3a4dfe40792d168e1",
       "style": "IPY_MODEL_040ddf6aa59348048ac12beee3149456"
      }
     },
     "976c7f36e8f04147b9ebc7a77ce21507": {
      "model_module": "@jupyter-widgets/base",
      "model_module_version": "3.0.0",
      "model_name": "LayoutModel",
      "state": {}
     },
     "977be4aaf8434868b3defad397fc55cf": {
      "model_module": "@jupyter-widgets/controls",
      "model_module_version": "3.0.0",
      "model_name": "DescriptionStyleModel",
      "state": {
       "description_width": "initial"
      }
     },
     "97a1df66336f4582926e20f0138c9acb": {
      "model_module": "@jupyter-widgets/base",
      "model_module_version": "3.0.0",
      "model_name": "LayoutModel",
      "state": {}
     },
     "97a86d11d0c245b4be59af0424feb457": {
      "model_module": "@jupyter-widgets/base",
      "model_module_version": "3.0.0",
      "model_name": "LayoutModel",
      "state": {}
     },
     "97d252e3833a4f9196af00a4313ff667": {
      "model_module": "@jupyter-widgets/controls",
      "model_module_version": "3.0.0",
      "model_name": "VBoxModel",
      "state": {
       "children": [
        "IPY_MODEL_0c6238e4ccc841e2b1082b20331f910c"
       ],
       "layout": "IPY_MODEL_39c94304101e4864bf9550386b731ef1"
      }
     },
     "97e44cfa906140e68e9500b87876215c": {
      "model_module": "bqplot",
      "model_module_version": "^0.3.0-alpha.1",
      "model_name": "LinearScaleModel",
      "state": {
       "_model_module_version": "^0.3.0-alpha.1",
       "_view_module_version": "^0.3.0-alpha.1",
       "max": 0,
       "min": 0,
       "stabilized": false
      }
     },
     "97e4ec0212714803bcc4e543fb07fb95": {
      "model_module": "@jupyter-widgets/base",
      "model_module_version": "3.0.0",
      "model_name": "LayoutModel",
      "state": {}
     },
     "98173e957d134dd2aee676182aa6a83b": {
      "model_module": "@jupyter-widgets/controls",
      "model_module_version": "3.0.0",
      "model_name": "DescriptionStyleModel",
      "state": {
       "description_width": ""
      }
     },
     "9821bf33aa884677a358c73b9950b075": {
      "model_module": "bqplot",
      "model_module_version": "^0.3.0-alpha.1",
      "model_name": "LinearScaleModel",
      "state": {
       "_model_module_version": "^0.3.0-alpha.1",
       "_view_module_version": "^0.3.0-alpha.1",
       "allow_padding": false,
       "max": 1,
       "min": 0,
       "stabilized": false
      }
     },
     "983c94148bee4213a29e5cdcf198a4ba": {
      "model_module": "@jupyter-widgets/controls",
      "model_module_version": "3.0.0",
      "model_name": "SliderStyleModel",
      "state": {
       "description_width": "initial"
      }
     },
     "983d937edf3348e79c7779a4f5391a6e": {
      "model_module": "bqplot",
      "model_module_version": "^0.3.0-alpha.1",
      "model_name": "LinearScaleModel",
      "state": {
       "_model_module_version": "^0.3.0-alpha.1",
       "_view_module_version": "^0.3.0-alpha.1",
       "max": 50,
       "min": 0,
       "stabilized": false
      }
     },
     "983f4d7f09b245d694dab3bd7004b385": {
      "model_module": "@jupyter-widgets/controls",
      "model_module_version": "3.0.0",
      "model_name": "DescriptionStyleModel",
      "state": {
       "description_width": "initial"
      }
     },
     "984376559ddb44508d5fd3184bf86cd2": {
      "model_module": "bqplot",
      "model_module_version": "^0.3.0-alpha.1",
      "model_name": "ScatterModel",
      "state": {
       "_model_module": "bqplot",
       "_model_module_version": "^0.3.0-alpha.1",
       "_view_count": null,
       "_view_module": "bqplot",
       "_view_module_version": "^0.3.0-alpha.1",
       "apply_clip": true,
       "color": {
        "type": null,
        "values": null
       },
       "colors": [
        "DeepSkyBlue"
       ],
       "display_legend": false,
       "enable_hover": true,
       "hovered_style": {},
       "interactions": {
        "hover": "tooltip"
       },
       "labels": [],
       "msg_throttle": 1,
       "names": {
        "type": null,
        "values": null
       },
       "opacity": {
        "type": null,
        "values": null
       },
       "preserve_domain": {},
       "rotation": {
        "type": null,
        "values": null
       },
       "scales": {
        "x": "IPY_MODEL_bd1a7a5cf588481eb695f38705bb4a79",
        "y": "IPY_MODEL_c1fa9cc511ec40608eb792aa09b4731c"
       },
       "scales_metadata": {
        "color": {
         "dimension": "color"
        },
        "opacity": {
         "dimension": "opacity"
        },
        "size": {
         "dimension": "size"
        },
        "x": {
         "dimension": "x",
         "orientation": "horizontal"
        },
        "y": {
         "dimension": "y",
         "orientation": "vertical"
        }
       },
       "selected": [],
       "selected_style": {},
       "size": {
        "type": null,
        "values": null
       },
       "skew": {
        "type": null,
        "values": null
       },
       "tooltip": null,
       "tooltip_location": "mouse",
       "tooltip_style": {
        "opacity": 0.9
       },
       "unhovered_style": {},
       "unselected_style": {},
       "visible": true,
       "x": {
        "type": "float",
        "values": [
         0,
         33.333333333333336,
         66.66666666666667,
         100
        ]
       },
       "y": {
        "type": "float",
        "values": [
         0,
         0,
         0,
         0
        ]
       }
      }
     },
     "9848d530ca31452f9b15fce3e29da6f6": {
      "model_module": "@jupyter-widgets/controls",
      "model_module_version": "3.0.0",
      "model_name": "HTMLModel",
      "state": {
       "layout": "IPY_MODEL_33c0e499c77c4d138d11f0db06419e78",
       "style": "IPY_MODEL_679a7b2caccd4ac49f4b34e7ad853dd7",
       "value": "Generator:"
      }
     },
     "9854d4c5311c4e4081c2794d8d2f9e9d": {
      "model_module": "@jupyter-widgets/base",
      "model_module_version": "3.0.0",
      "model_name": "LayoutModel",
      "state": {}
     },
     "989c17b532344c4a891a64536b04e1ec": {
      "model_module": "bqplot",
      "model_module_version": "^0.3.0-alpha.1",
      "model_name": "LinearScaleModel",
      "state": {
       "_model_module_version": "^0.3.0-alpha.1",
       "_view_module_version": "^0.3.0-alpha.1",
       "allow_padding": false,
       "max": 1,
       "min": 0,
       "stabilized": false
      }
     },
     "98bc6890f33442c88eda249c211aeed5": {
      "model_module": "bqplot",
      "model_module_version": "^0.3.0-alpha.1",
      "model_name": "LinearScaleModel",
      "state": {
       "_model_module_version": "^0.3.0-alpha.1",
       "_view_module_version": "^0.3.0-alpha.1",
       "allow_padding": false,
       "max": 1,
       "min": 0,
       "stabilized": false
      }
     },
     "990e457dd3b744dc983b21937b8225b9": {
      "model_module": "bqplot",
      "model_module_version": "^0.3.0-alpha.1",
      "model_name": "ScatterModel",
      "state": {
       "_model_module": "bqplot",
       "_model_module_version": "^0.3.0-alpha.1",
       "_view_count": null,
       "_view_module": "bqplot",
       "_view_module_version": "^0.3.0-alpha.1",
       "apply_clip": true,
       "color": {
        "type": null,
        "values": null
       },
       "colors": [
        "DeepSkyBlue"
       ],
       "display_legend": false,
       "enable_hover": true,
       "hovered_style": {},
       "interactions": {
        "hover": "tooltip"
       },
       "labels": [],
       "msg_throttle": 1,
       "names": {
        "type": null,
        "values": null
       },
       "opacity": {
        "type": null,
        "values": null
       },
       "preserve_domain": {},
       "rotation": {
        "type": null,
        "values": null
       },
       "scales": {},
       "scales_metadata": {
        "color": {
         "dimension": "color"
        },
        "opacity": {
         "dimension": "opacity"
        },
        "size": {
         "dimension": "size"
        },
        "x": {
         "dimension": "x",
         "orientation": "horizontal"
        },
        "y": {
         "dimension": "y",
         "orientation": "vertical"
        }
       },
       "selected": [],
       "selected_style": {},
       "size": {
        "type": null,
        "values": null
       },
       "skew": {
        "type": null,
        "values": null
       },
       "tooltip": null,
       "tooltip_location": "mouse",
       "tooltip_style": {
        "opacity": 0.9
       },
       "unhovered_style": {},
       "unselected_style": {},
       "visible": true,
       "x": {
        "type": "float",
        "values": [
         0,
         33.333333333333336,
         66.66666666666667,
         100
        ]
       },
       "y": {
        "type": "float",
        "values": [
         0,
         10,
         20,
         30
        ]
       }
      }
     },
     "990ffd11207c48069548e9e1524b165c": {
      "model_module": "bqplot",
      "model_module_version": "^0.3.0-alpha.1",
      "model_name": "FigureModel",
      "state": {
       "_dom_classes": [],
       "_model_module_version": "^0.3.0-alpha.1",
       "_view_module_version": "^0.3.0-alpha.1",
       "axes": [
        "IPY_MODEL_d5988d63496143efb1c5fcfad72d0966",
        "IPY_MODEL_0ae37935b3344fcfb1bf528ed6ac7820"
       ],
       "layout": "IPY_MODEL_2f7e759514b64e65bbc5a4bfc2453a0a",
       "marks": [
        "IPY_MODEL_2ba8f389ae2a44f8bdd9348a7270dd41"
       ],
       "max_aspect_ratio": 6,
       "scale_x": "IPY_MODEL_4bb6ff8c4cb6416c8ea06dc34a592327",
       "scale_y": "IPY_MODEL_1230cc57cf0b40febb789b02de587f85"
      }
     },
     "9986f6a916c34c148f70555923071027": {
      "model_module": "@jupyter-widgets/base",
      "model_module_version": "3.0.0",
      "model_name": "LayoutModel",
      "state": {
       "min_width": "125px"
      }
     },
     "99904e1c91144dd3bd514af52325c14c": {
      "model_module": "@jupyter-widgets/base",
      "model_module_version": "3.0.0",
      "model_name": "LayoutModel",
      "state": {}
     },
     "9999eba0485b4b31b103e48724816c2e": {
      "model_module": "@jupyter-widgets/base",
      "model_module_version": "3.0.0",
      "model_name": "LayoutModel",
      "state": {}
     },
     "99e64f66b03746af93ffad37f654137d": {
      "model_module": "bqplot",
      "model_module_version": "^0.3.0-alpha.1",
      "model_name": "LinearScaleModel",
      "state": {
       "_model_module_version": "^0.3.0-alpha.1",
       "_view_module_version": "^0.3.0-alpha.1",
       "allow_padding": false,
       "max": 1,
       "min": 0,
       "stabilized": false
      }
     },
     "99f41ef2b80844a598e8eba82ab6c24e": {
      "model_module": "@jupyter-widgets/controls",
      "model_module_version": "3.0.0",
      "model_name": "BoundedFloatTextModel",
      "state": {
       "description": "Minimum Up Time (hr):",
       "layout": "IPY_MODEL_ebe8f1f68a3b4278a6089124a63dc387",
       "max": 24,
       "style": "IPY_MODEL_234628fae08e496ea0c28759c83bc032"
      }
     },
     "9a2e6bf6a4f74cb3a5b0c9238e6adb2f": {
      "model_module": "@jupyter-widgets/controls",
      "model_module_version": "3.0.0",
      "model_name": "BoundedFloatTextModel",
      "state": {
       "description": "No-Load Cost ($/hr):",
       "layout": "IPY_MODEL_b8d13f749a2749cabe1b5fdc655ea98a",
       "max": 10000000000,
       "style": "IPY_MODEL_89ef64468603496a8bc289aee87dead4"
      }
     },
     "9a4021f18bc3482a8e75712163788f0e": {
      "model_module": "@jupyter-widgets/controls",
      "model_module_version": "3.0.0",
      "model_name": "DescriptionStyleModel",
      "state": {
       "description_width": "initial"
      }
     },
     "9a66f1c134ec46eaa81add44146730b6": {
      "model_module": "@jupyter-widgets/base",
      "model_module_version": "3.0.0",
      "model_name": "LayoutModel",
      "state": {}
     },
     "9a72142eb9be4311a79f9e7741256748": {
      "model_module": "bqplot",
      "model_module_version": "^0.3.0-alpha.1",
      "model_name": "AxisModel",
      "state": {
       "_model_module_version": "^0.3.0-alpha.1",
       "_view_module_version": "^0.3.0-alpha.1",
       "scale": "IPY_MODEL_4ffe474993b240f396701e22b27e337c",
       "side": "bottom",
       "tick_values": {
        "type": null,
        "values": null
       }
      }
     },
     "9aea6d65ecd842a08b6215b82608fc2d": {
      "model_module": "@jupyter-widgets/controls",
      "model_module_version": "3.0.0",
      "model_name": "DescriptionStyleModel",
      "state": {
       "description_width": ""
      }
     },
     "9affb8cf6de442c4b7cc177d49046b5a": {
      "model_module": "@jupyter-widgets/controls",
      "model_module_version": "3.0.0",
      "model_name": "TextModel",
      "state": {
       "description": "Name",
       "layout": "IPY_MODEL_976c7f36e8f04147b9ebc7a77ce21507",
       "style": "IPY_MODEL_53dcdc064c264ff5879b93393fd239c7",
       "value": "GenCo0"
      }
     },
     "9b0532fa07c34f6e958539af7562eefb": {
      "model_module": "@jupyter-widgets/controls",
      "model_module_version": "3.0.0",
      "model_name": "DescriptionStyleModel",
      "state": {
       "description_width": "initial"
      }
     },
     "9b31d1a88f7f4115bb05a566f7e4ec1c": {
      "model_module": "@jupyter-widgets/controls",
      "model_module_version": "3.0.0",
      "model_name": "CheckboxModel",
      "state": {
       "description": "Initial Status:",
       "disabled": false,
       "layout": "IPY_MODEL_02e85227f3a44fa0ac240388800ba5ad",
       "style": "IPY_MODEL_2991dfeeca8340aaad4cdd430b4c22d0",
       "value": true
      }
     },
     "9b41050c614a44e4a1ee4e2a6b3f6b34": {
      "model_module": "@jupyter-widgets/controls",
      "model_module_version": "3.0.0",
      "model_name": "BoundedFloatTextModel",
      "state": {
       "description": "Startup Cost ($/hr):",
       "layout": "IPY_MODEL_5bebd6081d794092a86a51cf305d6036",
       "max": 10000000000,
       "style": "IPY_MODEL_928667b5e51f4c0bbb3fabed8eed355a"
      }
     },
     "9b508ed27a824f119a169fe322573112": {
      "model_module": "@jupyter-widgets/controls",
      "model_module_version": "3.0.0",
      "model_name": "BoundedFloatTextModel",
      "state": {
       "description": "Startup Cost ($/hr):",
       "layout": "IPY_MODEL_7ac13a38d4ee448cace7ad508821a624",
       "max": 10000000000,
       "style": "IPY_MODEL_03bdd7261a544c83820f400f05c69dc4"
      }
     },
     "9b96bbce4cca4d169ce1d6bbd110860d": {
      "model_module": "bqplot",
      "model_module_version": "^0.3.0-alpha.1",
      "model_name": "LinearScaleModel",
      "state": {
       "_model_module_version": "^0.3.0-alpha.1",
       "_view_module_version": "^0.3.0-alpha.1",
       "allow_padding": false,
       "max": 1,
       "min": 0,
       "stabilized": false
      }
     },
     "9bf672bb3cd94daab8a8043c019f7108": {
      "model_module": "@jupyter-widgets/controls",
      "model_module_version": "3.0.0",
      "model_name": "BoundedFloatTextModel",
      "state": {
       "description": "Startup Time (hr):",
       "layout": "IPY_MODEL_1d022c7e45974221a24a0b71ce6c6ae9",
       "max": 24,
       "style": "IPY_MODEL_04adf7690a4c434c80884a306937c7bf"
      }
     },
     "9bfe1963e40f48feb89b248ce37deaf9": {
      "model_module": "bqplot",
      "model_module_version": "^0.3.0-alpha.1",
      "model_name": "FigureModel",
      "state": {
       "_dom_classes": [],
       "_model_module_version": "^0.3.0-alpha.1",
       "_view_module_version": "^0.3.0-alpha.1",
       "axes": [
        "IPY_MODEL_57582d71399d46a08739d82b877687f1",
        "IPY_MODEL_3566ab9f7f0f47969f1efb6c16b4a2f8"
       ],
       "layout": "IPY_MODEL_debc3b49f6d848229084c00a63389f85",
       "marks": [
        "IPY_MODEL_72140c9aa8c745e8bf22fcf4f0dac4a5",
        "IPY_MODEL_984376559ddb44508d5fd3184bf86cd2"
       ],
       "max_aspect_ratio": 6,
       "scale_x": "IPY_MODEL_d22fcf5c38654928b4eba7c32c7fb1e5",
       "scale_y": "IPY_MODEL_c26e0d0e0b86431195f8c1e15aec453d"
      }
     },
     "9c19421259844bb4969787764d1db61c": {
      "model_module": "bqplot",
      "model_module_version": "^0.3.0-alpha.1",
      "model_name": "LinearScaleModel",
      "state": {
       "_model_module_version": "^0.3.0-alpha.1",
       "_view_module_version": "^0.3.0-alpha.1",
       "max": 100,
       "min": 0,
       "stabilized": false
      }
     },
     "9c1fdf0bfc66458e9993a2d09416ef99": {
      "model_module": "bqplot",
      "model_module_version": "^0.3.0-alpha.1",
      "model_name": "ScatterModel",
      "state": {
       "_model_module": "bqplot",
       "_model_module_version": "^0.3.0-alpha.1",
       "_view_count": null,
       "_view_module": "bqplot",
       "_view_module_version": "^0.3.0-alpha.1",
       "apply_clip": true,
       "color": {
        "type": null,
        "values": null
       },
       "colors": [
        "DeepSkyBlue"
       ],
       "display_legend": false,
       "enable_hover": true,
       "hovered_style": {},
       "interactions": {
        "hover": "tooltip"
       },
       "labels": [],
       "msg_throttle": 1,
       "names": {
        "type": null,
        "values": null
       },
       "opacity": {
        "type": null,
        "values": null
       },
       "preserve_domain": {},
       "rotation": {
        "type": null,
        "values": null
       },
       "scales": {
        "x": "IPY_MODEL_2a52a21d1537474eaa5755071443b43f",
        "y": "IPY_MODEL_4442700008ec49d5acb87319b9912660"
       },
       "scales_metadata": {
        "color": {
         "dimension": "color"
        },
        "opacity": {
         "dimension": "opacity"
        },
        "size": {
         "dimension": "size"
        },
        "x": {
         "dimension": "x",
         "orientation": "horizontal"
        },
        "y": {
         "dimension": "y",
         "orientation": "vertical"
        }
       },
       "selected": [],
       "selected_style": {},
       "size": {
        "type": null,
        "values": null
       },
       "skew": {
        "type": null,
        "values": null
       },
       "tooltip": null,
       "tooltip_location": "mouse",
       "tooltip_style": {
        "opacity": 0.9
       },
       "unhovered_style": {},
       "unselected_style": {},
       "visible": true,
       "x": {
        "type": "float",
        "values": [
         0,
         33.333333333333336,
         66.66666666666667,
         100
        ]
       },
       "y": {
        "type": "float",
        "values": [
         0,
         0,
         0,
         0
        ]
       }
      }
     },
     "9c5981edebbe4737b2edd4876b366bce": {
      "model_module": "@jupyter-widgets/controls",
      "model_module_version": "3.0.0",
      "model_name": "VBoxModel",
      "state": {
       "children": [
        "IPY_MODEL_09e5a57afac444a79c4795da838d5d03",
        "IPY_MODEL_d69dbbf294a74eaf901aa2bfeb50d57d",
        "IPY_MODEL_ab7ba0aefb12496598b2e511b11c73eb",
        "IPY_MODEL_86714e09b47f4825ab0cfa818c65ab53",
        "IPY_MODEL_f0f4aa1ed1a24b8494c646d7adc4fba7",
        "IPY_MODEL_a6b5c164984d4834acd140e832b1f045",
        "IPY_MODEL_138c38fcf17f49089e69d6aef82c8edf",
        "IPY_MODEL_f8404ae392f14188a71327096f364358",
        "IPY_MODEL_5b30054eb0c449cc942892efe97f1c15",
        "IPY_MODEL_2be2b3e3f58e437da5d3ebf0e364cbd0",
        "IPY_MODEL_88e088c76f9549f6a247c0d6b60eaa4a",
        "IPY_MODEL_ee180f23ccc248098b65365512e52b21",
        "IPY_MODEL_32c81212c21941b0ab8eee822bf0aaa9",
        "IPY_MODEL_56a100b5276341c2a30ecb79e1f188f7",
        "IPY_MODEL_6d041950f7844b7faefa82b597e8e7eb",
        "IPY_MODEL_95f1b6bdee1d461c80613a597083a9f0"
       ],
       "layout": "IPY_MODEL_5355384f4a164fa69df31199256bd468"
      }
     },
     "9c629add943d4cfbba7c8d893df89eb0": {
      "model_module": "@jupyter-widgets/controls",
      "model_module_version": "3.0.0",
      "model_name": "BoundedFloatTextModel",
      "state": {
       "description": "No-Load Cost ($/hr):",
       "layout": "IPY_MODEL_6c8c19faf8cb43f79375aadb3d1404c6",
       "max": 10000000000,
       "style": "IPY_MODEL_485d986eebe2477ba726528ba1d0a201"
      }
     },
     "9c752a8c72e440148e644b0a92ddf841": {
      "model_module": "@jupyter-widgets/base",
      "model_module_version": "3.0.0",
      "model_name": "LayoutModel",
      "state": {}
     },
     "9cb6975f1d714919ac877dc1017aaf08": {
      "model_module": "@jupyter-widgets/controls",
      "model_module_version": "3.0.0",
      "model_name": "DescriptionStyleModel",
      "state": {
       "description_width": "initial"
      }
     },
     "9cbe744cbf49411e94910f7c21f8dbd8": {
      "model_module": "@jupyter-widgets/controls",
      "model_module_version": "3.0.0",
      "model_name": "BoundedFloatTextModel",
      "state": {
       "description": "Shutdown Time (hr):",
       "layout": "IPY_MODEL_99904e1c91144dd3bd514af52325c14c",
       "max": 24,
       "style": "IPY_MODEL_2ff2c7a5d919433a9a944c329d00e2b8"
      }
     },
     "9cd15a50d6b5405f88f40a7c86488ac2": {
      "model_module": "@jupyter-widgets/controls",
      "model_module_version": "3.0.0",
      "model_name": "DescriptionStyleModel",
      "state": {
       "description_width": "initial"
      }
     },
     "9ce07d1e12aa40c8a2d0104e9cb4bfcf": {
      "model_module": "@jupyter-widgets/controls",
      "model_module_version": "3.0.0",
      "model_name": "BoundedFloatTextModel",
      "state": {
       "description": "Minimum Down Time (hr):",
       "layout": "IPY_MODEL_b598516e886d45f5bb6d5a40fdbd6ff5",
       "max": 24,
       "style": "IPY_MODEL_8e5e7ae089cd4b95864affbe0b6d79f8"
      }
     },
     "9cec44c6ed23400d81e602af96250e11": {
      "model_module": "@jupyter-widgets/controls",
      "model_module_version": "3.0.0",
      "model_name": "IntSliderModel",
      "state": {
       "description": "Number of Cost Curve Segments",
       "layout": "IPY_MODEL_b981806f4acb4afa941da6740fc3ad85",
       "max": 50,
       "min": 2,
       "style": "IPY_MODEL_437205b6cf8c4edb9275f7a45d262c55",
       "value": 3
      }
     },
     "9cf0de1f37ca4a218655b46e3fe7ede8": {
      "model_module": "@jupyter-widgets/controls",
      "model_module_version": "3.0.0",
      "model_name": "DescriptionStyleModel",
      "state": {
       "description_width": "initial"
      }
     },
     "9d3d82bd60004ac0ae4187db34ac2d66": {
      "model_module": "@jupyter-widgets/controls",
      "model_module_version": "3.0.0",
      "model_name": "DescriptionStyleModel",
      "state": {
       "description_width": "initial"
      }
     },
     "9d3ddd63dff2457b8d439485c06f2e1c": {
      "model_module": "@jupyter-widgets/base",
      "model_module_version": "3.0.0",
      "model_name": "LayoutModel",
      "state": {}
     },
     "9d577f1cb6754b62a1f92df72aa9ef1b": {
      "model_module": "@jupyter-widgets/controls",
      "model_module_version": "3.0.0",
      "model_name": "DescriptionStyleModel",
      "state": {
       "description_width": "initial"
      }
     },
     "9da17105bcde478fa989820bad9960aa": {
      "model_module": "@jupyter-widgets/base",
      "model_module_version": "3.0.0",
      "model_name": "LayoutModel",
      "state": {}
     },
     "9de54f062c2d452abf28ed528dc97680": {
      "model_module": "@jupyter-widgets/controls",
      "model_module_version": "3.0.0",
      "model_name": "BoundedFloatTextModel",
      "state": {
       "description": "Shutdown Time (hr):",
       "layout": "IPY_MODEL_56dfaa8d5c434128a474c6a3edabe988",
       "max": 24,
       "style": "IPY_MODEL_9d3d82bd60004ac0ae4187db34ac2d66"
      }
     },
     "9dfa1b73f82542e5b4fd4ce2cbe3669b": {
      "model_module": "@jupyter-widgets/controls",
      "model_module_version": "3.0.0",
      "model_name": "IntSliderModel",
      "state": {
       "description": "Number of Cost Curve Segments",
       "layout": "IPY_MODEL_4b16e38d008243419194a66686c3c478",
       "max": 50,
       "min": 2,
       "style": "IPY_MODEL_63dd304e90584e7facc16a7e7f85cc00",
       "value": 3
      }
     },
     "9e16a5ceec924b1c8b07740a602c1fbb": {
      "model_module": "bqplot",
      "model_module_version": "^0.3.0-alpha.1",
      "model_name": "AxisModel",
      "state": {
       "_model_module_version": "^0.3.0-alpha.1",
       "_view_module_version": "^0.3.0-alpha.1",
       "scale": "IPY_MODEL_9f9d0d28ab0a4c1689fa62894937bd89",
       "side": "bottom",
       "tick_values": {
        "type": null,
        "values": null
       }
      }
     },
     "9e392657b2b34928ac938dadd486a84e": {
      "model_module": "@jupyter-widgets/controls",
      "model_module_version": "3.0.0",
      "model_name": "DescriptionStyleModel",
      "state": {
       "description_width": "initial"
      }
     },
     "9e42bd6b2cf44e4a91ce79630907de11": {
      "model_module": "@jupyter-widgets/base",
      "model_module_version": "3.0.0",
      "model_name": "LayoutModel",
      "state": {}
     },
     "9e56fa0d01af455a9afdc288ff06e742": {
      "model_module": "@jupyter-widgets/base",
      "model_module_version": "3.0.0",
      "model_name": "LayoutModel",
      "state": {}
     },
     "9e63158e45634dcfba4f421e2f1a29e7": {
      "model_module": "@jupyter-widgets/controls",
      "model_module_version": "3.0.0",
      "model_name": "DescriptionStyleModel",
      "state": {
       "description_width": "initial"
      }
     },
     "9e90f3cc8e3747f68cfb9093976d161f": {
      "model_module": "@jupyter-widgets/controls",
      "model_module_version": "3.0.0",
      "model_name": "DescriptionStyleModel",
      "state": {
       "description_width": "initial"
      }
     },
     "9ea6f48f43a84fefb8ea13f4e3cddc39": {
      "model_module": "@jupyter-widgets/controls",
      "model_module_version": "3.0.0",
      "model_name": "IntSliderModel",
      "state": {
       "description": "Number of Cost Curve Segments",
       "layout": "IPY_MODEL_a9fb2ce6cfd1473fa83e1d26ea74a3eb",
       "max": 50,
       "min": 2,
       "style": "IPY_MODEL_41e77328884e4847a497651a242efb50",
       "value": 3
      }
     },
     "9eab69baefe744a5802d71a27e527aa3": {
      "model_module": "@jupyter-widgets/base",
      "model_module_version": "3.0.0",
      "model_name": "LayoutModel",
      "state": {}
     },
     "9eabca5225ea47dd88151352e0261e30": {
      "model_module": "@jupyter-widgets/controls",
      "model_module_version": "3.0.0",
      "model_name": "HTMLModel",
      "state": {
       "layout": "IPY_MODEL_65ca0a0e2d0d437ba0b2d29a400f45ec",
       "style": "IPY_MODEL_152dca967ce7413ea5d09b09a52bd4e8",
       "value": "Generator:"
      }
     },
     "9eba1018038d4b84935f095ae12787d1": {
      "model_module": "@jupyter-widgets/controls",
      "model_module_version": "3.0.0",
      "model_name": "BoundedFloatTextModel",
      "state": {
       "description": "No-Load Cost ($/hr):",
       "layout": "IPY_MODEL_5e2de92d4ca142dcbc59a075e31e120b",
       "max": 10000000000,
       "style": "IPY_MODEL_935235444bf64fbc80bae3c233dafda5"
      }
     },
     "9ebd6944868a4a3c99b33360e1e7e938": {
      "model_module": "bqplot",
      "model_module_version": "^0.3.0-alpha.1",
      "model_name": "LinearScaleModel",
      "state": {
       "_model_module_version": "^0.3.0-alpha.1",
       "_view_module_version": "^0.3.0-alpha.1",
       "allow_padding": false,
       "max": 1,
       "min": 0,
       "stabilized": false
      }
     },
     "9f2e8aa314ae475786216f58f5dbe1a7": {
      "model_module": "@jupyter-widgets/controls",
      "model_module_version": "3.0.0",
      "model_name": "HBoxModel",
      "state": {
       "children": [
        "IPY_MODEL_60acce8966564f78a8f7829874c2166f",
        "IPY_MODEL_aa6ad5e0c3d6435192b99595c758eaee"
       ],
       "layout": "IPY_MODEL_0ba6ffdffb3b4617a384b53e9ed41f3a"
      }
     },
     "9f376ea865d0481eb283839de0f26a2d": {
      "model_module": "@jupyter-widgets/base",
      "model_module_version": "3.0.0",
      "model_name": "LayoutModel",
      "state": {}
     },
     "9f9119aea1a549e4bfc3dcc564e46ea4": {
      "model_module": "@jupyter-widgets/controls",
      "model_module_version": "3.0.0",
      "model_name": "BoundedFloatTextModel",
      "state": {
       "description": "No-Load Cost ($/hr):",
       "layout": "IPY_MODEL_d13f7b109cc5460ca1ddb7398f6e2964",
       "max": 10000000000,
       "style": "IPY_MODEL_59b607900e92488287edd5bda05305a2"
      }
     },
     "9f9d0d28ab0a4c1689fa62894937bd89": {
      "model_module": "bqplot",
      "model_module_version": "^0.3.0-alpha.1",
      "model_name": "LinearScaleModel",
      "state": {
       "_model_module_version": "^0.3.0-alpha.1",
       "_view_module_version": "^0.3.0-alpha.1",
       "max": 100,
       "min": 0,
       "stabilized": false
      }
     },
     "a02d19d9f7784fb0966eccd835c05991": {
      "model_module": "@jupyter-widgets/base",
      "model_module_version": "3.0.0",
      "model_name": "LayoutModel",
      "state": {
       "min_width": "125px"
      }
     },
     "a04ef99a59994ebc9aaaeeccdb9b443b": {
      "model_module": "@jupyter-widgets/controls",
      "model_module_version": "3.0.0",
      "model_name": "TextModel",
      "state": {
       "description": "Name",
       "layout": "IPY_MODEL_71e845faa15a4cce849a6de915436c50",
       "style": "IPY_MODEL_5e0ce95a9ae647e9aa50e96c41bbc6f1",
       "value": "GenCo0"
      }
     },
     "a078496192b24c3d8013c10e2cdff90d": {
      "model_module": "@jupyter-widgets/base",
      "model_module_version": "3.0.0",
      "model_name": "LayoutModel",
      "state": {
       "min_width": "125px"
      }
     },
     "a0953a5ca0744f3e9c30f5b1e10d38de": {
      "model_module": "@jupyter-widgets/base",
      "model_module_version": "3.0.0",
      "model_name": "LayoutModel",
      "state": {}
     },
     "a0a002ae9d8b4b298a50b2ca50b0dc9d": {
      "model_module": "@jupyter-widgets/controls",
      "model_module_version": "3.0.0",
      "model_name": "VBoxModel",
      "state": {
       "children": [
        "IPY_MODEL_0b6f12e798db477399d453971928a540"
       ],
       "layout": "IPY_MODEL_1924699d3b5e43c3b8c9c0dee113677c"
      }
     },
     "a0a1ad0b8a4a49a981e6af3b155178e6": {
      "model_module": "@jupyter-widgets/base",
      "model_module_version": "3.0.0",
      "model_name": "LayoutModel",
      "state": {}
     },
     "a0c5131d6f7e4167bbb8c9bcbb4c76d4": {
      "model_module": "@jupyter-widgets/controls",
      "model_module_version": "3.0.0",
      "model_name": "DescriptionStyleModel",
      "state": {
       "description_width": "initial"
      }
     },
     "a0ca3fbfe40649a699c3b03d30f2639c": {
      "model_module": "@jupyter-widgets/base",
      "model_module_version": "3.0.0",
      "model_name": "LayoutModel",
      "state": {}
     },
     "a0eedb2486d04a2fb844834769aee47f": {
      "model_module": "bqplot",
      "model_module_version": "^0.3.0-alpha.1",
      "model_name": "AxisModel",
      "state": {
       "_model_module_version": "^0.3.0-alpha.1",
       "_view_module_version": "^0.3.0-alpha.1",
       "orientation": "vertical",
       "scale": "IPY_MODEL_c6cd9b2068774e688d2c66e9c147474d",
       "side": "left",
       "tick_values": {
        "type": null,
        "values": null
       }
      }
     },
     "a1a36e5266ac4fef99b3af9bed5d2fd2": {
      "model_module": "@jupyter-widgets/controls",
      "model_module_version": "3.0.0",
      "model_name": "HTMLModel",
      "state": {
       "layout": "IPY_MODEL_fb8ddaedf0df40c2b477356d0302cc9b",
       "style": "IPY_MODEL_a3f28c42e5dd4fc6807eb29e1c735b63",
       "value": "Generator:"
      }
     },
     "a1e1d25e4de74125b49ccb0d5d9944a2": {
      "model_module": "@jupyter-widgets/base",
      "model_module_version": "3.0.0",
      "model_name": "LayoutModel",
      "state": {}
     },
     "a21462113f7e442a84a2242520fb4f35": {
      "model_module": "@jupyter-widgets/controls",
      "model_module_version": "3.0.0",
      "model_name": "DescriptionStyleModel",
      "state": {
       "description_width": "initial"
      }
     },
     "a23d0e168d504c78b07e70230352c9a9": {
      "model_module": "@jupyter-widgets/controls",
      "model_module_version": "3.0.0",
      "model_name": "BoundedFloatTextModel",
      "state": {
       "description": "Minimum Up Time (hr):",
       "layout": "IPY_MODEL_6c3d47bad461414a87b350b2cf83359e",
       "max": 24,
       "style": "IPY_MODEL_b5dc2dcbd5f849b090df743f953f43d4"
      }
     },
     "a24e8558953a463ea47d7d10975cedc9": {
      "model_module": "@jupyter-widgets/base",
      "model_module_version": "3.0.0",
      "model_name": "LayoutModel",
      "state": {}
     },
     "a26d3b910727430ea3511777d3d0906f": {
      "model_module": "@jupyter-widgets/controls",
      "model_module_version": "3.0.0",
      "model_name": "BoundedFloatTextModel",
      "state": {
       "description": "Minimum Down Time (hr):",
       "layout": "IPY_MODEL_00c2a6ebbc664348bd8918aeba4d9d57",
       "max": 24,
       "style": "IPY_MODEL_54874083dbcc4d588326627e0854499d"
      }
     },
     "a2afa4ca51244b049d9b828e8dbf3c7b": {
      "model_module": "@jupyter-widgets/controls",
      "model_module_version": "3.0.0",
      "model_name": "DescriptionStyleModel",
      "state": {
       "description_width": "initial"
      }
     },
     "a2ef4eec00fe4ea49b3a2f2fb9623a2b": {
      "model_module": "@jupyter-widgets/controls",
      "model_module_version": "3.0.0",
      "model_name": "DescriptionStyleModel",
      "state": {
       "description_width": "initial"
      }
     },
     "a3093eb03d834b9ca882a4b284407d1a": {
      "model_module": "@jupyter-widgets/controls",
      "model_module_version": "3.0.0",
      "model_name": "DescriptionStyleModel",
      "state": {
       "description_width": "initial"
      }
     },
     "a38ac38e8abf4f5694e749ce7ea42ca1": {
      "model_module": "@jupyter-widgets/base",
      "model_module_version": "3.0.0",
      "model_name": "LayoutModel",
      "state": {}
     },
     "a3901f3d3db54db3940f4f05b8032a53": {
      "model_module": "bqplot",
      "model_module_version": "^0.3.0-alpha.1",
      "model_name": "LinearScaleModel",
      "state": {
       "_model_module_version": "^0.3.0-alpha.1",
       "_view_module_version": "^0.3.0-alpha.1",
       "max": 50,
       "min": 0,
       "stabilized": false
      }
     },
     "a3d6a92107cf40aaa93ebe5bba15bab1": {
      "model_module": "@jupyter-widgets/base",
      "model_module_version": "3.0.0",
      "model_name": "LayoutModel",
      "state": {}
     },
     "a3eede763af74dce8518d83a3d12c562": {
      "model_module": "@jupyter-widgets/controls",
      "model_module_version": "3.0.0",
      "model_name": "BoundedFloatTextModel",
      "state": {
       "description": "Minimum Generation (MW):",
       "layout": "IPY_MODEL_de4f15a807284658918f7aa1a9694024",
       "max": 200,
       "style": "IPY_MODEL_91f70ec6bdd54100ab6abaf7dc567c16"
      }
     },
     "a3f28c42e5dd4fc6807eb29e1c735b63": {
      "model_module": "@jupyter-widgets/controls",
      "model_module_version": "3.0.0",
      "model_name": "DescriptionStyleModel",
      "state": {
       "description_width": ""
      }
     },
     "a3f6a787c7004c8db9f1c7227dcbc97a": {
      "model_module": "@jupyter-widgets/controls",
      "model_module_version": "3.0.0",
      "model_name": "CheckboxModel",
      "state": {
       "description": "Initial Status:",
       "disabled": false,
       "layout": "IPY_MODEL_56e7aa9b19174be6a80c16a6e5563a63",
       "style": "IPY_MODEL_aa33bdda36d04ce4a8b808ad8e790e70",
       "value": true
      }
     },
     "a43829bc9e904e5286ff84bfc65df6a3": {
      "model_module": "bqplot",
      "model_module_version": "^0.3.0-alpha.1",
      "model_name": "LinearScaleModel",
      "state": {
       "_model_module_version": "^0.3.0-alpha.1",
       "_view_module_version": "^0.3.0-alpha.1",
       "max": 50,
       "min": 0,
       "stabilized": false
      }
     },
     "a44d0943f4ae4896ab7881af66bb3c82": {
      "model_module": "@jupyter-widgets/controls",
      "model_module_version": "3.0.0",
      "model_name": "DropdownModel",
      "state": {
       "_options_labels": [
        "COAL",
        "NATURALGAS",
        "WIND"
       ],
       "description": "Generation Type:",
       "index": 0,
       "layout": "IPY_MODEL_cdbc6cef4ea74942abe6dfb14f5119f6",
       "style": "IPY_MODEL_a8771bdc5b144f448eab7739a96b416a"
      }
     },
     "a4c6926395a945a88a788b763fcfd2e3": {
      "model_module": "@jupyter-widgets/controls",
      "model_module_version": "3.0.0",
      "model_name": "BoundedFloatTextModel",
      "state": {
       "description": "Minimum Down Time (hr):",
       "layout": "IPY_MODEL_684d789ac9e24bcd910d9be32071df72",
       "max": 24,
       "style": "IPY_MODEL_7755d3253d5341f9b7e5c0366c69fe7b"
      }
     },
     "a5204b68a11d4e3e9afd9934e88fa1a8": {
      "model_module": "@jupyter-widgets/controls",
      "model_module_version": "3.0.0",
      "model_name": "BoundedFloatTextModel",
      "state": {
       "description": "Startup Time (hr):",
       "layout": "IPY_MODEL_d733135671c04ed990f2991572f61b65",
       "max": 24,
       "style": "IPY_MODEL_6b0de53e737e479684527c8260d31f45"
      }
     },
     "a52b198e9b8945cbb1391c44d9afb3cd": {
      "model_module": "@jupyter-widgets/controls",
      "model_module_version": "3.0.0",
      "model_name": "VBoxModel",
      "state": {
       "children": [
        "IPY_MODEL_45e58c537e5c4ee19ec42b6010c475fd"
       ],
       "layout": "IPY_MODEL_5929a1ca96ea4d6592c8fbfa7e8534fd"
      }
     },
     "a544eee4050c4b3e8ba466af1689c70d": {
      "model_module": "bqplot",
      "model_module_version": "^0.3.0-alpha.1",
      "model_name": "AxisModel",
      "state": {
       "_model_module_version": "^0.3.0-alpha.1",
       "_view_module_version": "^0.3.0-alpha.1",
       "orientation": "vertical",
       "scale": "IPY_MODEL_a43829bc9e904e5286ff84bfc65df6a3",
       "side": "left",
       "tick_values": {
        "type": null,
        "values": null
       }
      }
     },
     "a59bdee82eef488db71baa9daf6f9497": {
      "model_module": "@jupyter-widgets/controls",
      "model_module_version": "3.0.0",
      "model_name": "DescriptionStyleModel",
      "state": {
       "description_width": "initial"
      }
     },
     "a626db38aaaa4dee8e8cfb586f3e1a98": {
      "model_module": "@jupyter-widgets/controls",
      "model_module_version": "3.0.0",
      "model_name": "BoundedFloatTextModel",
      "state": {
       "description": "Ramp Down Rate (MW/hr):",
       "layout": "IPY_MODEL_89a18bd2e8524bf9a45b2311bda811c2",
       "style": "IPY_MODEL_9e392657b2b34928ac938dadd486a84e"
      }
     },
     "a6368936e7be4f2abba776658d7a0bae": {
      "model_module": "@jupyter-widgets/base",
      "model_module_version": "3.0.0",
      "model_name": "LayoutModel",
      "state": {}
     },
     "a6478b880e474b00bdab71c8602d1b65": {
      "model_module": "@jupyter-widgets/controls",
      "model_module_version": "3.0.0",
      "model_name": "DescriptionStyleModel",
      "state": {
       "description_width": "initial"
      }
     },
     "a6b5c164984d4834acd140e832b1f045": {
      "model_module": "@jupyter-widgets/controls",
      "model_module_version": "3.0.0",
      "model_name": "BoundedFloatTextModel",
      "state": {
       "description": "Minimum Generation (MW):",
       "layout": "IPY_MODEL_2acd5c86d64f4e7f95f2f2ddb4ef3be4",
       "style": "IPY_MODEL_61479033087448bd977ef6bf1cf65baa"
      }
     },
     "a6e889c5111a48bca6abc8de77193603": {
      "model_module": "@jupyter-widgets/controls",
      "model_module_version": "3.0.0",
      "model_name": "DescriptionStyleModel",
      "state": {
       "description_width": ""
      }
     },
     "a7450d971da84c8b8972a8239068cbef": {
      "model_module": "@jupyter-widgets/base",
      "model_module_version": "3.0.0",
      "model_name": "LayoutModel",
      "state": {}
     },
     "a79c72cd8ac646cbbd63b5d323701961": {
      "model_module": "@jupyter-widgets/controls",
      "model_module_version": "3.0.0",
      "model_name": "BoundedFloatTextModel",
      "state": {
       "description": "Minimum Up Time (hr):",
       "layout": "IPY_MODEL_8c5084047830416d99cc58f38c4f76fa",
       "max": 24,
       "style": "IPY_MODEL_760b1aa503f643209bf6e62e7f054da1"
      }
     },
     "a7a7909331e44e9ca69f2c4ff643991f": {
      "model_module": "@jupyter-widgets/base",
      "model_module_version": "3.0.0",
      "model_name": "LayoutModel",
      "state": {}
     },
     "a7d8bb77e3c44e1c886bdef4b9db6f5d": {
      "model_module": "@jupyter-widgets/controls",
      "model_module_version": "3.0.0",
      "model_name": "DescriptionStyleModel",
      "state": {
       "description_width": "initial"
      }
     },
     "a81a5d1fdf4f4b749d209cb06708be78": {
      "model_module": "@jupyter-widgets/controls",
      "model_module_version": "3.0.0",
      "model_name": "DescriptionStyleModel",
      "state": {
       "description_width": "initial"
      }
     },
     "a822b52fc87f4e85ba8e4e766f2343db": {
      "model_module": "@jupyter-widgets/base",
      "model_module_version": "3.0.0",
      "model_name": "LayoutModel",
      "state": {}
     },
     "a83d5cdf1a214073b30aac89d9275053": {
      "model_module": "bqplot",
      "model_module_version": "^0.3.0-alpha.1",
      "model_name": "ScatterModel",
      "state": {
       "_model_module": "bqplot",
       "_model_module_version": "^0.3.0-alpha.1",
       "_view_count": null,
       "_view_module": "bqplot",
       "_view_module_version": "^0.3.0-alpha.1",
       "apply_clip": true,
       "color": {
        "type": null,
        "values": null
       },
       "colors": [
        "DeepSkyBlue"
       ],
       "display_legend": false,
       "enable_hover": true,
       "hovered_style": {},
       "interactions": {
        "hover": "tooltip"
       },
       "labels": [],
       "msg_throttle": 1,
       "names": {
        "type": null,
        "values": null
       },
       "opacity": {
        "type": null,
        "values": null
       },
       "preserve_domain": {},
       "rotation": {
        "type": null,
        "values": null
       },
       "scales": {
        "x": "IPY_MODEL_2f82b65bc39542579fee99b7568a3b11",
        "y": "IPY_MODEL_cc960a04f92f4f65898c4f04c17e8f1a"
       },
       "scales_metadata": {
        "color": {
         "dimension": "color"
        },
        "opacity": {
         "dimension": "opacity"
        },
        "size": {
         "dimension": "size"
        },
        "x": {
         "dimension": "x",
         "orientation": "horizontal"
        },
        "y": {
         "dimension": "y",
         "orientation": "vertical"
        }
       },
       "selected": [],
       "selected_style": {},
       "size": {
        "type": null,
        "values": null
       },
       "skew": {
        "type": null,
        "values": null
       },
       "tooltip": null,
       "tooltip_location": "mouse",
       "tooltip_style": {
        "opacity": 0.9
       },
       "unhovered_style": {},
       "unselected_style": {},
       "visible": true,
       "x": {
        "type": "float",
        "values": [
         0,
         33.333333333333336,
         66.66666666666667,
         100
        ]
       },
       "y": {
        "type": "float",
        "values": [
         0,
         3,
         10,
         20
        ]
       }
      }
     },
     "a8723a5835c84cc5b73ef363794da686": {
      "model_module": "@jupyter-widgets/base",
      "model_module_version": "3.0.0",
      "model_name": "LayoutModel",
      "state": {
       "min_width": "125px"
      }
     },
     "a8771bdc5b144f448eab7739a96b416a": {
      "model_module": "@jupyter-widgets/controls",
      "model_module_version": "3.0.0",
      "model_name": "DescriptionStyleModel",
      "state": {
       "description_width": "initial"
      }
     },
     "a87a32b6ccff40399bd1bc007f3044c8": {
      "model_module": "bqplot",
      "model_module_version": "^0.3.0-alpha.1",
      "model_name": "LinearScaleModel",
      "state": {
       "_model_module_version": "^0.3.0-alpha.1",
       "_view_module_version": "^0.3.0-alpha.1",
       "allow_padding": false,
       "max": 1,
       "min": 0,
       "stabilized": false
      }
     },
     "a8fab5bacb464b7ea9be7f915fa82c9d": {
      "model_module": "@jupyter-widgets/base",
      "model_module_version": "3.0.0",
      "model_name": "LayoutModel",
      "state": {}
     },
     "a97c742ae5d548df820b46b654727d21": {
      "model_module": "@jupyter-widgets/controls",
      "model_module_version": "3.0.0",
      "model_name": "DescriptionStyleModel",
      "state": {
       "description_width": "initial"
      }
     },
     "a9c656a00970406da41f9d1039329750": {
      "model_module": "@jupyter-widgets/controls",
      "model_module_version": "3.0.0",
      "model_name": "DescriptionStyleModel",
      "state": {
       "description_width": "initial"
      }
     },
     "a9d49b60226c479db3c08f0119266207": {
      "model_module": "@jupyter-widgets/controls",
      "model_module_version": "3.0.0",
      "model_name": "BoundedFloatTextModel",
      "state": {
       "description": "Minimum Up Time (hr):",
       "layout": "IPY_MODEL_cc2c8ec0e88e4c96b57d2e4889d90b98",
       "max": 24,
       "style": "IPY_MODEL_2b7459573bad4a15bd523bd93e891679"
      }
     },
     "a9f38b88ccb14dd2b9ae61a1f4bbd133": {
      "model_module": "bqplot",
      "model_module_version": "^0.3.0-alpha.1",
      "model_name": "FigureModel",
      "state": {
       "_dom_classes": [],
       "_model_module_version": "^0.3.0-alpha.1",
       "_view_module_version": "^0.3.0-alpha.1",
       "axes": [
        "IPY_MODEL_03206a6103bb4a7ea134cd359ea94fd3",
        "IPY_MODEL_653d76eb0c5f4149a4352db6e02e6d18"
       ],
       "layout": "IPY_MODEL_a078496192b24c3d8013c10e2cdff90d",
       "marks": [
        "IPY_MODEL_b6ce020f7b5c4653871826fd560a05bd",
        "IPY_MODEL_3f719dd1dbf64fbf949dc826847cf76f"
       ],
       "max_aspect_ratio": 6,
       "scale_x": "IPY_MODEL_d414ec409fd14516a1c38c3bc68ffed3",
       "scale_y": "IPY_MODEL_9b96bbce4cca4d169ce1d6bbd110860d"
      }
     },
     "a9f795df27f74a2e9ecdd43717f2eea5": {
      "model_module": "@jupyter-widgets/base",
      "model_module_version": "3.0.0",
      "model_name": "LayoutModel",
      "state": {}
     },
     "a9fb2ce6cfd1473fa83e1d26ea74a3eb": {
      "model_module": "@jupyter-widgets/base",
      "model_module_version": "3.0.0",
      "model_name": "LayoutModel",
      "state": {}
     },
     "aa33bdda36d04ce4a8b808ad8e790e70": {
      "model_module": "@jupyter-widgets/controls",
      "model_module_version": "3.0.0",
      "model_name": "DescriptionStyleModel",
      "state": {
       "description_width": "initial"
      }
     },
     "aa6ad5e0c3d6435192b99595c758eaee": {
      "model_module": "@jupyter-widgets/controls",
      "model_module_version": "3.0.0",
      "model_name": "VBoxModel",
      "state": {
       "children": [
        "IPY_MODEL_7b47df5065cb499f957fae98b5c06efe"
       ],
       "layout": "IPY_MODEL_df877082ebdf4cc3b974076371f44f63"
      }
     },
     "aac72547e1b34d99bb258befc95a0f1a": {
      "model_module": "@jupyter-widgets/controls",
      "model_module_version": "3.0.0",
      "model_name": "DropdownModel",
      "state": {
       "_options_labels": [
        "COAL",
        "NATURALGAS",
        "WIND"
       ],
       "description": "Generation Type:",
       "index": 0,
       "layout": "IPY_MODEL_bf1fae80e30b46598673db175901dc7e",
       "style": "IPY_MODEL_efe093257f114a4480ebdb3aaf1fe9e5"
      }
     },
     "ab280a86d43247d692b32280c5a79ce8": {
      "model_module": "@jupyter-widgets/base",
      "model_module_version": "3.0.0",
      "model_name": "LayoutModel",
      "state": {
       "min_width": "125px"
      }
     },
     "ab569479504243b3a2db64487a0a976f": {
      "model_module": "@jupyter-widgets/base",
      "model_module_version": "3.0.0",
      "model_name": "LayoutModel",
      "state": {}
     },
     "ab6162f751914206be54de32b52543ab": {
      "model_module": "@jupyter-widgets/controls",
      "model_module_version": "3.0.0",
      "model_name": "IntSliderModel",
      "state": {
       "description": "Number of Cost Curve Segments",
       "layout": "IPY_MODEL_803f3ee4d0d14e198e096cab77287b29",
       "max": 50,
       "min": 2,
       "style": "IPY_MODEL_4e76b0ac90804a87936bd65b754e59b4",
       "value": 3
      }
     },
     "ab70aadc579b409987c204518be0b4c3": {
      "model_module": "@jupyter-widgets/controls",
      "model_module_version": "3.0.0",
      "model_name": "IntSliderModel",
      "state": {
       "description": "Number of Cost Curve Segments",
       "layout": "IPY_MODEL_07b462525a524eccbea0c1efc8fab61d",
       "max": 50,
       "min": 2,
       "style": "IPY_MODEL_6503b9328eb84dd0a0a0dc3f09baed84",
       "value": 3
      }
     },
     "ab7b26c1a05940e4b49cbc85960c26e8": {
      "model_module": "@jupyter-widgets/controls",
      "model_module_version": "3.0.0",
      "model_name": "VBoxModel",
      "state": {
       "children": [
        "IPY_MODEL_9eabca5225ea47dd88151352e0261e30",
        "IPY_MODEL_238c0b0746ee4fe6940fbcaa0650af82",
        "IPY_MODEL_4ddc08a34ac642b39688b1af21e21df1",
        "IPY_MODEL_835e58e4fb65413085eb8610d7215b64",
        "IPY_MODEL_b4de2d2130f44340b8bd7cfba9f8a254",
        "IPY_MODEL_901949114f33455d98d6ff3535ce3710",
        "IPY_MODEL_57792242b5a3470785d5148cca05d6ef",
        "IPY_MODEL_e60c1d6b9b6847edbdefb2ceb5368977",
        "IPY_MODEL_273a3876ceae4a11925dc6711f50af40",
        "IPY_MODEL_56277e310b2148169f51b0d0a71ffdac",
        "IPY_MODEL_951ef373da734b3aa537ef1e51cace6b",
        "IPY_MODEL_230dceaae16f4790a3b804dee3dfbe6f",
        "IPY_MODEL_c974c635526843f695aefea718ee8d22",
        "IPY_MODEL_9cbe744cbf49411e94910f7c21f8dbd8",
        "IPY_MODEL_b90c0687d53247bd974b3db577b71ee6",
        "IPY_MODEL_151021cb6386415eae1bfd74a6e28cb4"
       ],
       "layout": "IPY_MODEL_97a1df66336f4582926e20f0138c9acb"
      }
     },
     "ab7ba0aefb12496598b2e511b11c73eb": {
      "model_module": "@jupyter-widgets/controls",
      "model_module_version": "3.0.0",
      "model_name": "CheckboxModel",
      "state": {
       "description": "Initial Status:",
       "disabled": false,
       "layout": "IPY_MODEL_7bbdbbab19fb4f0caa4377316d184bd0",
       "style": "IPY_MODEL_fcd2b463913044648b4baa22286111c7",
       "value": true
      }
     },
     "ab807d5105a244119c6353e537fdefbd": {
      "model_module": "@jupyter-widgets/base",
      "model_module_version": "3.0.0",
      "model_name": "LayoutModel",
      "state": {}
     },
     "ab9b7a7c5bd747aab5d48755dca69085": {
      "model_module": "@jupyter-widgets/base",
      "model_module_version": "3.0.0",
      "model_name": "LayoutModel",
      "state": {}
     },
     "ab9c92e3e1cd439ebcfc3a40a13568ac": {
      "model_module": "@jupyter-widgets/controls",
      "model_module_version": "3.0.0",
      "model_name": "DescriptionStyleModel",
      "state": {
       "description_width": "initial"
      }
     },
     "abc253f6dcb5413795985dd0c81ff2e1": {
      "model_module": "@jupyter-widgets/base",
      "model_module_version": "3.0.0",
      "model_name": "LayoutModel",
      "state": {}
     },
     "abf8113333b84b5f9131cb6299f01d4c": {
      "model_module": "bqplot",
      "model_module_version": "^0.3.0-alpha.1",
      "model_name": "LinearScaleModel",
      "state": {
       "_model_module_version": "^0.3.0-alpha.1",
       "_view_module_version": "^0.3.0-alpha.1",
       "allow_padding": false,
       "max": 1,
       "min": 0,
       "stabilized": false
      }
     },
     "abfb5d27dd484137a06b449f6c817260": {
      "model_module": "@jupyter-widgets/controls",
      "model_module_version": "3.0.0",
      "model_name": "BoundedFloatTextModel",
      "state": {
       "description": "No-Load Cost ($/hr):",
       "layout": "IPY_MODEL_d32061fdc9a040e48d6a5029782f8dc2",
       "max": 10000000000,
       "style": "IPY_MODEL_a9c656a00970406da41f9d1039329750"
      }
     },
     "ac2864d8939348638c688b081aa43227": {
      "model_module": "@jupyter-widgets/controls",
      "model_module_version": "3.0.0",
      "model_name": "VBoxModel",
      "state": {
       "children": [
        "IPY_MODEL_5b6c3cd75c0f43b6a46b8d8dca77db74",
        "IPY_MODEL_5f98d06c0f0a42658bdf1362eac59693",
        "IPY_MODEL_505823f77d5a4663bb38b684d17d598e",
        "IPY_MODEL_d18e74a7c62a44e59ab03b68bf7b2725",
        "IPY_MODEL_685caccb02234e1aa2d30eeaed55713b",
        "IPY_MODEL_22455a7c70934f079355c319ef553ca4",
        "IPY_MODEL_56c2ebcce571472ca46146dfd41f5760",
        "IPY_MODEL_b7801817ffee4400b6f58b4ac963c217",
        "IPY_MODEL_ebb5cfa1290640b4af9d8539d06a98b9",
        "IPY_MODEL_5f5f64879c5b400abf46dbd9d4e08244",
        "IPY_MODEL_67b520756810487ba5dbdbdbadd3d853",
        "IPY_MODEL_6b169fe3c7af479dbba7c36b1c5cf406",
        "IPY_MODEL_54b24030dad34bc18a79bf472ebf2527",
        "IPY_MODEL_9f9119aea1a549e4bfc3dcc564e46ea4",
        "IPY_MODEL_c89ad28e86624747bcd77c2bc5dd5f34",
        "IPY_MODEL_9cec44c6ed23400d81e602af96250e11"
       ],
       "layout": "IPY_MODEL_51964fb2df8140bfa8349c843586ebb9"
      }
     },
     "ac945e3782754ecabcc11c95321b4f7b": {
      "model_module": "@jupyter-widgets/base",
      "model_module_version": "3.0.0",
      "model_name": "LayoutModel",
      "state": {}
     },
     "acb1adfcdf39487e9e5aeb13b44d9427": {
      "model_module": "@jupyter-widgets/base",
      "model_module_version": "3.0.0",
      "model_name": "LayoutModel",
      "state": {
       "min_width": "125px"
      }
     },
     "ad3a1c130c1d433c89dabdcc685bc3be": {
      "model_module": "bqplot",
      "model_module_version": "^0.3.0-alpha.1",
      "model_name": "AxisModel",
      "state": {
       "_model_module_version": "^0.3.0-alpha.1",
       "_view_module_version": "^0.3.0-alpha.1",
       "orientation": "vertical",
       "scale": "IPY_MODEL_1a14ab562fcd4dd08dc124092912e6da",
       "side": "left",
       "tick_values": {
        "type": null,
        "values": null
       }
      }
     },
     "ad5ff4aa81964517ad8594e378459efe": {
      "model_module": "@jupyter-widgets/base",
      "model_module_version": "3.0.0",
      "model_name": "LayoutModel",
      "state": {}
     },
     "ad77f02cfbe141758078da2c4e17b6ba": {
      "model_module": "@jupyter-widgets/controls",
      "model_module_version": "3.0.0",
      "model_name": "DescriptionStyleModel",
      "state": {
       "description_width": "initial"
      }
     },
     "adab96e14b0a481a9ee42b9d45469a93": {
      "model_module": "@jupyter-widgets/controls",
      "model_module_version": "3.0.0",
      "model_name": "DescriptionStyleModel",
      "state": {
       "description_width": "initial"
      }
     },
     "ade494a17047439da1fb2a1101166ba3": {
      "model_module": "@jupyter-widgets/controls",
      "model_module_version": "3.0.0",
      "model_name": "BoundedFloatTextModel",
      "state": {
       "description": "Minimum Up Time (hr):",
       "layout": "IPY_MODEL_8a91ca528ced4c459756fe2118c4d1be",
       "max": 24,
       "style": "IPY_MODEL_e78eebdbed4a4fd1b400f78d86e4df4f"
      }
     },
     "ade90249aee148729e4df2730d0c7e26": {
      "model_module": "@jupyter-widgets/controls",
      "model_module_version": "3.0.0",
      "model_name": "BoundedFloatTextModel",
      "state": {
       "description": "Ramp Down Rate (MW/hr):",
       "layout": "IPY_MODEL_a6368936e7be4f2abba776658d7a0bae",
       "style": "IPY_MODEL_6dedfab01a124f8b9fd4b7f1c917acba"
      }
     },
     "adf46a93e1a5465ab58f84528b671744": {
      "model_module": "@jupyter-widgets/controls",
      "model_module_version": "3.0.0",
      "model_name": "SliderStyleModel",
      "state": {
       "description_width": "initial"
      }
     },
     "ae35454a115244238a13d9396ae2a014": {
      "model_module": "@jupyter-widgets/controls",
      "model_module_version": "3.0.0",
      "model_name": "DropdownModel",
      "state": {
       "_options_labels": [
        "COAL",
        "NATURALGAS",
        "WIND"
       ],
       "description": "Generation Type:",
       "index": 0,
       "layout": "IPY_MODEL_6de3ebd8834d4b9f84ebe24aaaa7b7fe",
       "style": "IPY_MODEL_495101eaa1e5470cbfaf91cffc36aa04"
      }
     },
     "ae94ea3cf65c44d28f4daa215a58a5f1": {
      "model_module": "bqplot",
      "model_module_version": "^0.3.0-alpha.1",
      "model_name": "FigureModel",
      "state": {
       "_dom_classes": [],
       "_model_module_version": "^0.3.0-alpha.1",
       "_view_module_version": "^0.3.0-alpha.1",
       "axes": [
        "IPY_MODEL_d3b08cd34c0f4ab08ff03f4cd1d9bb59",
        "IPY_MODEL_b8c149be46124b59b92f7e4516d656e4"
       ],
       "layout": "IPY_MODEL_5d3b198707944d2ca41e2e1e506b9d7d",
       "marks": [
        "IPY_MODEL_f62b3e918b29471faae9c9bf5850ea08",
        "IPY_MODEL_821cfe83221b4c9aa50543734c66ca2c"
       ],
       "max_aspect_ratio": 6,
       "scale_x": "IPY_MODEL_067b0112a385415bb84beb4ee07f2943",
       "scale_y": "IPY_MODEL_2dc1c5b3ac3043e989094d47c65da26f"
      }
     },
     "aecc75e1f08f426b8d67b1675473ec70": {
      "model_module": "bqplot",
      "model_module_version": "^0.3.0-alpha.1",
      "model_name": "LinearScaleModel",
      "state": {
       "_model_module_version": "^0.3.0-alpha.1",
       "_view_module_version": "^0.3.0-alpha.1",
       "max": 100,
       "min": 0,
       "stabilized": false
      }
     },
     "af108fb5c0394540840eec1af4e52748": {
      "model_module": "@jupyter-widgets/controls",
      "model_module_version": "3.0.0",
      "model_name": "VBoxModel",
      "state": {
       "children": [
        "IPY_MODEL_82338323154a434b87a31ab4662b861c",
        "IPY_MODEL_b538fd10394d49df9ad75fcc42843ce7",
        "IPY_MODEL_f3e4d4aadd8f4e64a263c4f085ec4718",
        "IPY_MODEL_211a0cf1347f442fabe010c15ccf5d14",
        "IPY_MODEL_425119c8e02a4f9c846eebf970f1f0dd",
        "IPY_MODEL_dc2b5b21f3884743a927e74be7a6425d",
        "IPY_MODEL_61d07a01515441a891c8941542d8d588",
        "IPY_MODEL_a79c72cd8ac646cbbd63b5d323701961",
        "IPY_MODEL_1188ca929c1444258174aa8529279b03",
        "IPY_MODEL_d909334205ef4e988b991b1d51c840a4",
        "IPY_MODEL_e05028c488e240129299e527b7c2fb6f",
        "IPY_MODEL_f39dd288811d483786e739747c04f4ff",
        "IPY_MODEL_7bff91556ef24e1bb1b97832555e3e78",
        "IPY_MODEL_8123cfdded3844cebd07d63e3943caea",
        "IPY_MODEL_9b41050c614a44e4a1ee4e2a6b3f6b34",
        "IPY_MODEL_03641057f5964ee2acc4901ca22738e2"
       ],
       "layout": "IPY_MODEL_608a45023d1d48008351ed2d3305ed6d"
      }
     },
     "af10bb36dc214427832bd34bbd07c914": {
      "model_module": "bqplot",
      "model_module_version": "^0.3.0-alpha.1",
      "model_name": "AxisModel",
      "state": {
       "_model_module_version": "^0.3.0-alpha.1",
       "_view_module_version": "^0.3.0-alpha.1",
       "orientation": "vertical",
       "scale": "IPY_MODEL_12c7925170ba4a148869c6ce4e775647",
       "side": "left",
       "tick_values": {
        "type": null,
        "values": null
       }
      }
     },
     "afa013b401b74ee1989d8bc8f0d3609c": {
      "model_module": "bqplot",
      "model_module_version": "^0.3.0-alpha.1",
      "model_name": "FigureModel",
      "state": {
       "_dom_classes": [],
       "_model_module_version": "^0.3.0-alpha.1",
       "_view_module_version": "^0.3.0-alpha.1",
       "axes": [
        "IPY_MODEL_6ecfb158b4c445a69523c803598dd245",
        "IPY_MODEL_92d550127064484cad949312153760d1"
       ],
       "layout": "IPY_MODEL_7d00017ca9c74bb1a0b1a090707e06c2",
       "marks": [
        "IPY_MODEL_4905f480d9c6461aab6a620ef853a7f5",
        "IPY_MODEL_3a63be70be5c4cf6aeb260b2c9dfcf27"
       ],
       "max_aspect_ratio": 6,
       "scale_x": "IPY_MODEL_c53d559baae74671ad4264b4b88f9713",
       "scale_y": "IPY_MODEL_4a138292df7b4c9dbd6f3088b5e9f24c"
      }
     },
     "b04d62441eb540419941c6ec97587acd": {
      "model_module": "bqplot",
      "model_module_version": "^0.3.0-alpha.1",
      "model_name": "LinearScaleModel",
      "state": {
       "_model_module_version": "^0.3.0-alpha.1",
       "_view_module_version": "^0.3.0-alpha.1",
       "max": 100,
       "min": 0,
       "stabilized": false
      }
     },
     "b088b2ddd86044579f9a1c378c1a850f": {
      "model_module": "@jupyter-widgets/controls",
      "model_module_version": "3.0.0",
      "model_name": "VBoxModel",
      "state": {
       "children": [
        "IPY_MODEL_b4f83e9a910949188cd01b32f26c67dc",
        "IPY_MODEL_21b7b9d914614dffacdece6991c3e74f"
       ],
       "layout": "IPY_MODEL_811ba3d24bd04700ab8541ef9a22d00a"
      }
     },
     "b08945f7399c4a1d90af61f5068c6e90": {
      "model_module": "bqplot",
      "model_module_version": "^0.3.0-alpha.1",
      "model_name": "FigureModel",
      "state": {
       "_dom_classes": [],
       "_model_module_version": "^0.3.0-alpha.1",
       "_view_module_version": "^0.3.0-alpha.1",
       "axes": [
        "IPY_MODEL_5ab4e511573b4e35b3bb0afcbc2693b1",
        "IPY_MODEL_531b4588c11541358b4d198426bd7de6"
       ],
       "layout": "IPY_MODEL_34499b8bacfd43a58042abde0d8bac2b",
       "marks": [
        "IPY_MODEL_c3e3733440ee4f9e8b66878b1294566a",
        "IPY_MODEL_0b5e4ce3e12d4a70a87a38b01eb8e716"
       ],
       "max_aspect_ratio": 6,
       "scale_x": "IPY_MODEL_8de08c8de4404e67a3b378bbe4e19e4d",
       "scale_y": "IPY_MODEL_efeacb1619bd4a76b0dd0be7bd11cf33"
      }
     },
     "b0b04944061f4deba102da6c8748ea19": {
      "model_module": "@jupyter-widgets/controls",
      "model_module_version": "3.0.0",
      "model_name": "BoundedFloatTextModel",
      "state": {
       "description": "Ramp Down Rate (MW/hr):",
       "layout": "IPY_MODEL_e8f4dc9e0beb402180482e4e0f8f640b",
       "style": "IPY_MODEL_5c4ca0701bae45cd91b1915a42c330be"
      }
     },
     "b11d0fae8f894d62a843611543d41e26": {
      "model_module": "@jupyter-widgets/controls",
      "model_module_version": "3.0.0",
      "model_name": "VBoxModel",
      "state": {
       "children": [
        "IPY_MODEL_c2b8d119ae9f44679149808d15982db3"
       ],
       "layout": "IPY_MODEL_4ae7f91d79434a0da4f5abeff71abe4b"
      }
     },
     "b14d5304138d477181bf90f3478af2f1": {
      "model_module": "@jupyter-widgets/controls",
      "model_module_version": "3.0.0",
      "model_name": "DescriptionStyleModel",
      "state": {
       "description_width": ""
      }
     },
     "b181c476cc2f4227bf7517d016ffadf1": {
      "model_module": "@jupyter-widgets/base",
      "model_module_version": "3.0.0",
      "model_name": "LayoutModel",
      "state": {}
     },
     "b1b7e022c4be4f7d853524f88b0feac7": {
      "model_module": "@jupyter-widgets/controls",
      "model_module_version": "3.0.0",
      "model_name": "DescriptionStyleModel",
      "state": {
       "description_width": "initial"
      }
     },
     "b1e590e8afa84639b6dae17de10ef270": {
      "model_module": "@jupyter-widgets/controls",
      "model_module_version": "3.0.0",
      "model_name": "VBoxModel",
      "state": {
       "children": [
        "IPY_MODEL_1b71e31b501040b1b1f6367b20089a8f"
       ],
       "layout": "IPY_MODEL_56b70acf1db54360acc1baa35503bb15"
      }
     },
     "b224aba63e814077ad99c6dbc5878d8f": {
      "model_module": "@jupyter-widgets/base",
      "model_module_version": "3.0.0",
      "model_name": "LayoutModel",
      "state": {}
     },
     "b279333ddb144b8492cda56c2e4cb6a4": {
      "model_module": "@jupyter-widgets/base",
      "model_module_version": "3.0.0",
      "model_name": "LayoutModel",
      "state": {}
     },
     "b2c4d88272af453da4eb1561b35ae296": {
      "model_module": "@jupyter-widgets/controls",
      "model_module_version": "3.0.0",
      "model_name": "DescriptionStyleModel",
      "state": {
       "description_width": "initial"
      }
     },
     "b300ee665c494897b14c524148e14f28": {
      "model_module": "@jupyter-widgets/base",
      "model_module_version": "3.0.0",
      "model_name": "LayoutModel",
      "state": {}
     },
     "b30d5942a09a4e619cd3e553659564cd": {
      "model_module": "@jupyter-widgets/controls",
      "model_module_version": "3.0.0",
      "model_name": "DescriptionStyleModel",
      "state": {
       "description_width": "initial"
      }
     },
     "b31c9505903844019e527c8bceba9162": {
      "model_module": "@jupyter-widgets/controls",
      "model_module_version": "3.0.0",
      "model_name": "DescriptionStyleModel",
      "state": {
       "description_width": "initial"
      }
     },
     "b3c7529741c5461eaa89a1d8133cc9d3": {
      "model_module": "@jupyter-widgets/controls",
      "model_module_version": "3.0.0",
      "model_name": "BoundedFloatTextModel",
      "state": {
       "description": "Minimum Down Time (hr):",
       "layout": "IPY_MODEL_c90b0d515e6349bc9718c0c89acdac8f",
       "max": 24,
       "style": "IPY_MODEL_66571f1574eb4f85ab36ad69f7358fc8"
      }
     },
     "b3d5f1b8ee6b40708550a7d136372ed1": {
      "model_module": "@jupyter-widgets/controls",
      "model_module_version": "3.0.0",
      "model_name": "DescriptionStyleModel",
      "state": {
       "description_width": "initial"
      }
     },
     "b3d76b1e5dab40dfb4fe088c7855840a": {
      "model_module": "@jupyter-widgets/base",
      "model_module_version": "3.0.0",
      "model_name": "LayoutModel",
      "state": {}
     },
     "b3daeefa3bf448dcb49b561f506d09eb": {
      "model_module": "@jupyter-widgets/controls",
      "model_module_version": "3.0.0",
      "model_name": "DescriptionStyleModel",
      "state": {
       "description_width": "initial"
      }
     },
     "b3e934a974734e05a6ef50cd2882c74b": {
      "model_module": "bqplot",
      "model_module_version": "^0.3.0-alpha.1",
      "model_name": "ScatterModel",
      "state": {
       "_model_module": "bqplot",
       "_model_module_version": "^0.3.0-alpha.1",
       "_view_count": null,
       "_view_module": "bqplot",
       "_view_module_version": "^0.3.0-alpha.1",
       "apply_clip": true,
       "color": {
        "type": null,
        "values": null
       },
       "colors": [
        "DeepSkyBlue"
       ],
       "display_legend": false,
       "enable_hover": true,
       "hovered_style": {},
       "interactions": {
        "hover": "tooltip"
       },
       "labels": [],
       "msg_throttle": 1,
       "names": {
        "type": null,
        "values": null
       },
       "opacity": {
        "type": null,
        "values": null
       },
       "preserve_domain": {},
       "rotation": {
        "type": null,
        "values": null
       },
       "scales": {
        "x": "IPY_MODEL_9f9d0d28ab0a4c1689fa62894937bd89",
        "y": "IPY_MODEL_077a733d42644ff9927a34bd31daa71c"
       },
       "scales_metadata": {
        "color": {
         "dimension": "color"
        },
        "opacity": {
         "dimension": "opacity"
        },
        "size": {
         "dimension": "size"
        },
        "x": {
         "dimension": "x",
         "orientation": "horizontal"
        },
        "y": {
         "dimension": "y",
         "orientation": "vertical"
        }
       },
       "selected": [],
       "selected_style": {},
       "size": {
        "type": null,
        "values": null
       },
       "skew": {
        "type": null,
        "values": null
       },
       "tooltip": null,
       "tooltip_location": "mouse",
       "tooltip_style": {
        "opacity": 0.9
       },
       "unhovered_style": {},
       "unselected_style": {},
       "visible": true,
       "x": {
        "type": "float",
        "values": [
         0,
         33.333333333333336,
         66.66666666666667,
         100
        ]
       },
       "y": {
        "type": "float",
        "values": [
         0,
         0,
         0,
         0
        ]
       }
      }
     },
     "b3ea1b239b684f28a9a712c64c32a9f8": {
      "model_module": "@jupyter-widgets/controls",
      "model_module_version": "3.0.0",
      "model_name": "BoundedFloatTextModel",
      "state": {
       "description": "Minimum Generation (MW):",
       "layout": "IPY_MODEL_ffde82de43ec4efcb1ee6777b34e5eab",
       "style": "IPY_MODEL_0bea56166e4b4058b3aafd8cd7abc352"
      }
     },
     "b446200591a14badb646dc8eb7c23f1d": {
      "model_module": "@jupyter-widgets/controls",
      "model_module_version": "3.0.0",
      "model_name": "TextModel",
      "state": {
       "description": "Name",
       "layout": "IPY_MODEL_3af2e0fd8d0a41b688576c541054a86a",
       "style": "IPY_MODEL_977be4aaf8434868b3defad397fc55cf",
       "value": "GenCo0"
      }
     },
     "b48176d485ba448f80911e4aae6f8f7c": {
      "model_module": "@jupyter-widgets/controls",
      "model_module_version": "3.0.0",
      "model_name": "BoundedFloatTextModel",
      "state": {
       "description": "Minimum Generation (MW):",
       "layout": "IPY_MODEL_10c3d9871e5e4a359e12c812a894bc96",
       "style": "IPY_MODEL_facae1d0dfbd4a07bd4cb286d0bcf626"
      }
     },
     "b48616e437ed45cb9aa31f4f138b495b": {
      "model_module": "@jupyter-widgets/controls",
      "model_module_version": "3.0.0",
      "model_name": "DescriptionStyleModel",
      "state": {
       "description_width": "initial"
      }
     },
     "b4de2d2130f44340b8bd7cfba9f8a254": {
      "model_module": "@jupyter-widgets/controls",
      "model_module_version": "3.0.0",
      "model_name": "BoundedFloatTextModel",
      "state": {
       "description": "Capacity (MW):",
       "layout": "IPY_MODEL_bffb1c9498604a55bfdf2232931984a5",
       "max": 10000000000,
       "style": "IPY_MODEL_1429caa32386420aaff1828303e387d3",
       "value": 100
      }
     },
     "b4f83e9a910949188cd01b32f26c67dc": {
      "model_module": "@jupyter-widgets/controls",
      "model_module_version": "3.0.0",
      "model_name": "VBoxModel",
      "state": {
       "children": [
        "IPY_MODEL_17f7866026a049a186638ed3af8c0a25",
        "IPY_MODEL_0295c08896e34033948fd2baf41d2a30",
        "IPY_MODEL_7a51c038dc3748c988833e98dfb08a33",
        "IPY_MODEL_6087fb02212d44d28d60cb910254d9cd",
        "IPY_MODEL_0452cbbf839746009d9b0fef2787b53c",
        "IPY_MODEL_ed3b62c56ee143eaa7e7adcafbd03ca1",
        "IPY_MODEL_74eb9c7013224b178bd479219376d26b",
        "IPY_MODEL_018a6f4e4f7f49e492c4a1cf8014d042",
        "IPY_MODEL_cac524a2fc464d86b7f500de134b159f",
        "IPY_MODEL_d262009f6fc04f6d87d0aabb57a22184",
        "IPY_MODEL_52d79a5f1192488eb8a7a721f140b26f",
        "IPY_MODEL_9bf672bb3cd94daab8a8043c019f7108",
        "IPY_MODEL_169f5a800edb4befb563b428019a1615",
        "IPY_MODEL_3fd14554383a4198863a4f2c9ca72d22",
        "IPY_MODEL_4e0f9e7f3bda4dde99997452333dd5f5",
        "IPY_MODEL_0c486b61a0054866afae82b2cec881f9"
       ],
       "layout": "IPY_MODEL_fc2c7fc97378434e9c9bd9fc13a77c2e"
      }
     },
     "b51fb884f5b4469d8fe58fb82fc66fa0": {
      "model_module": "bqplot",
      "model_module_version": "^0.3.0-alpha.1",
      "model_name": "AxisModel",
      "state": {
       "_model_module_version": "^0.3.0-alpha.1",
       "_view_module_version": "^0.3.0-alpha.1",
       "orientation": "vertical",
       "scale": "IPY_MODEL_610291b7cefa4f03a0d67cfe3d97865c",
       "side": "left",
       "tick_values": {
        "type": null,
        "values": null
       }
      }
     },
     "b537e74c20c945d98caf86b2b81297df": {
      "model_module": "@jupyter-widgets/controls",
      "model_module_version": "3.0.0",
      "model_name": "DescriptionStyleModel",
      "state": {
       "description_width": "initial"
      }
     },
     "b538fd10394d49df9ad75fcc42843ce7": {
      "model_module": "@jupyter-widgets/controls",
      "model_module_version": "3.0.0",
      "model_name": "TextModel",
      "state": {
       "description": "Name",
       "layout": "IPY_MODEL_2ca0a41e4aa14d46a7f229688104b96c",
       "style": "IPY_MODEL_b1b7e022c4be4f7d853524f88b0feac7",
       "value": "GenCo0"
      }
     },
     "b598516e886d45f5bb6d5a40fdbd6ff5": {
      "model_module": "@jupyter-widgets/base",
      "model_module_version": "3.0.0",
      "model_name": "LayoutModel",
      "state": {}
     },
     "b5dc2dcbd5f849b090df743f953f43d4": {
      "model_module": "@jupyter-widgets/controls",
      "model_module_version": "3.0.0",
      "model_name": "DescriptionStyleModel",
      "state": {
       "description_width": "initial"
      }
     },
     "b615dc6c490c4adbbc1044a3520ae4ba": {
      "model_module": "@jupyter-widgets/base",
      "model_module_version": "3.0.0",
      "model_name": "LayoutModel",
      "state": {}
     },
     "b6274cb2b76d48e188558392dd28dcde": {
      "model_module": "@jupyter-widgets/base",
      "model_module_version": "3.0.0",
      "model_name": "LayoutModel",
      "state": {}
     },
     "b699c300767f4aea850bdbdf2a17608a": {
      "model_module": "@jupyter-widgets/controls",
      "model_module_version": "3.0.0",
      "model_name": "HBoxModel",
      "state": {
       "children": [
        "IPY_MODEL_ab7b26c1a05940e4b49cbc85960c26e8",
        "IPY_MODEL_397c5f30508c44718197585878b77dfb"
       ],
       "layout": "IPY_MODEL_c60ba3dad49a4aaa982efb0b905ce083"
      }
     },
     "b6ce020f7b5c4653871826fd560a05bd": {
      "model_module": "bqplot",
      "model_module_version": "^0.3.0-alpha.1",
      "model_name": "LinesModel",
      "state": {
       "_model_module_version": "^0.3.0-alpha.1",
       "_view_module_version": "^0.3.0-alpha.1",
       "color": {
        "type": null,
        "values": null
       },
       "display_legend": false,
       "fill_colors": [],
       "labels": [
        "C1"
       ],
       "scales": {
        "x": "IPY_MODEL_73967179ec6e4748aa8dc1cb86bc5dc9",
        "y": "IPY_MODEL_39a956bb13ca4ffbb8695463918df4f2"
       },
       "selected": [],
       "x": {
        "type": "float",
        "values": [
         0,
         33.333333333333336,
         66.66666666666667,
         100
        ]
       },
       "y": {
        "type": "float",
        "values": [
         0,
         3,
         10,
         20
        ]
       }
      }
     },
     "b6ec9da8986d43c9b4a79c56291623a7": {
      "model_module": "@jupyter-widgets/base",
      "model_module_version": "3.0.0",
      "model_name": "LayoutModel",
      "state": {}
     },
     "b6f42c65ec4b4c6c81289494b1d2b6f0": {
      "model_module": "@jupyter-widgets/base",
      "model_module_version": "3.0.0",
      "model_name": "LayoutModel",
      "state": {}
     },
     "b7122422cd6b444fa671a666bc2ddf8a": {
      "model_module": "@jupyter-widgets/controls",
      "model_module_version": "3.0.0",
      "model_name": "BoundedFloatTextModel",
      "state": {
       "description": "Startup Time (hr):",
       "layout": "IPY_MODEL_07213d403ed842b2a6c779140b6d7802",
       "max": 24,
       "style": "IPY_MODEL_0341fd06b2d34b59baa86d07fac6f768"
      }
     },
     "b716eda086964591bf6ed5df1e177999": {
      "model_module": "@jupyter-widgets/base",
      "model_module_version": "3.0.0",
      "model_name": "LayoutModel",
      "state": {}
     },
     "b759497d585640bda99e6635ad63c23c": {
      "model_module": "@jupyter-widgets/controls",
      "model_module_version": "3.0.0",
      "model_name": "BoundedFloatTextModel",
      "state": {
       "description": "Minimum Up Time (hr):",
       "layout": "IPY_MODEL_e7a23a63f279496f8e7ac4e6f040cf9c",
       "max": 24,
       "style": "IPY_MODEL_683d0c8aab1e4a06a0e45778ffe4b8af"
      }
     },
     "b7801817ffee4400b6f58b4ac963c217": {
      "model_module": "@jupyter-widgets/controls",
      "model_module_version": "3.0.0",
      "model_name": "BoundedFloatTextModel",
      "state": {
       "description": "Minimum Up Time (hr):",
       "layout": "IPY_MODEL_6443ef760e84441f990f85a637734576",
       "max": 24,
       "style": "IPY_MODEL_ca205e899ca0415d8ef6b0ebcf43e35d"
      }
     },
     "b7c8ee7b21674dfa8829d1278e16518b": {
      "model_module": "@jupyter-widgets/base",
      "model_module_version": "3.0.0",
      "model_name": "LayoutModel",
      "state": {
       "min_width": "125px"
      }
     },
     "b7cdf89b300a46479f4e60b8565fe194": {
      "model_module": "@jupyter-widgets/controls",
      "model_module_version": "3.0.0",
      "model_name": "BoundedFloatTextModel",
      "state": {
       "description": "Minimum Generation (MW):",
       "layout": "IPY_MODEL_e560c4b7e80348d88afc192ff74c5285",
       "style": "IPY_MODEL_c9862582436245f49b207de67e2f6fee"
      }
     },
     "b7de0d0db6ea46fa99646567f15b85a3": {
      "model_module": "@jupyter-widgets/controls",
      "model_module_version": "3.0.0",
      "model_name": "BoundedFloatTextModel",
      "state": {
       "description": "Startup Cost ($/hr):",
       "layout": "IPY_MODEL_579e17a4d70a4ebfba29cc5454ade448",
       "max": 10000000000,
       "style": "IPY_MODEL_adab96e14b0a481a9ee42b9d45469a93"
      }
     },
     "b7df8487f0c3437f84c82052068789c7": {
      "model_module": "@jupyter-widgets/base",
      "model_module_version": "3.0.0",
      "model_name": "LayoutModel",
      "state": {}
     },
     "b82e5c33735842deb9d5f9d7ad18e6b3": {
      "model_module": "@jupyter-widgets/base",
      "model_module_version": "3.0.0",
      "model_name": "LayoutModel",
      "state": {}
     },
     "b8a1572a27c54b74817a2a109b2ea4db": {
      "model_module": "@jupyter-widgets/base",
      "model_module_version": "3.0.0",
      "model_name": "LayoutModel",
      "state": {}
     },
     "b8acd853859d410fac0c81e36cb8e28a": {
      "model_module": "@jupyter-widgets/base",
      "model_module_version": "3.0.0",
      "model_name": "LayoutModel",
      "state": {}
     },
     "b8c149be46124b59b92f7e4516d656e4": {
      "model_module": "bqplot",
      "model_module_version": "^0.3.0-alpha.1",
      "model_name": "AxisModel",
      "state": {
       "_model_module_version": "^0.3.0-alpha.1",
       "_view_module_version": "^0.3.0-alpha.1",
       "orientation": "vertical",
       "scale": "IPY_MODEL_fa50d25ebd83407d80b1dabc0419f64e",
       "side": "left",
       "tick_values": {
        "type": null,
        "values": null
       }
      }
     },
     "b8d13f749a2749cabe1b5fdc655ea98a": {
      "model_module": "@jupyter-widgets/base",
      "model_module_version": "3.0.0",
      "model_name": "LayoutModel",
      "state": {}
     },
     "b8f0edcd980845c5af3f9150db31d51c": {
      "model_module": "@jupyter-widgets/controls",
      "model_module_version": "3.0.0",
      "model_name": "DescriptionStyleModel",
      "state": {
       "description_width": "initial"
      }
     },
     "b90a70500da947cbb6f0f8d25f38989c": {
      "model_module": "@jupyter-widgets/controls",
      "model_module_version": "3.0.0",
      "model_name": "BoundedFloatTextModel",
      "state": {
       "description": "No-Load Cost ($/hr):",
       "layout": "IPY_MODEL_46b191ac18ae47f4b398031b110296a9",
       "max": 10000000000,
       "style": "IPY_MODEL_06aebffecfa244fab9e81eed4ec9ae7f"
      }
     },
     "b90c0687d53247bd974b3db577b71ee6": {
      "model_module": "@jupyter-widgets/controls",
      "model_module_version": "3.0.0",
      "model_name": "BoundedFloatTextModel",
      "state": {
       "description": "No-Load Cost ($/hr):",
       "layout": "IPY_MODEL_d09e68d7448d4f03a623c0ac0485f059",
       "max": 10000000000,
       "style": "IPY_MODEL_de67d58f54504968bef10e2df1e3f21c",
       "value": 10
      }
     },
     "b9157a7607814374915858cbb398bdbd": {
      "model_module": "@jupyter-widgets/base",
      "model_module_version": "3.0.0",
      "model_name": "LayoutModel",
      "state": {}
     },
     "b92de9ecb4ea4172ab2755ce640469b6": {
      "model_module": "@jupyter-widgets/base",
      "model_module_version": "3.0.0",
      "model_name": "LayoutModel",
      "state": {}
     },
     "b93187475506478db7efb782d6a344f4": {
      "model_module": "@jupyter-widgets/controls",
      "model_module_version": "3.0.0",
      "model_name": "BoundedFloatTextModel",
      "state": {
       "description": "Capacity (MW):",
       "layout": "IPY_MODEL_5b30138529da4a42a84e1d8c8b68a191",
       "max": 10000000000,
       "style": "IPY_MODEL_88a1f7af611b4915ac3a2ed8da6204de",
       "value": 100
      }
     },
     "b9333f1f8ff94a438b5c4ac835448b2a": {
      "model_module": "@jupyter-widgets/base",
      "model_module_version": "3.0.0",
      "model_name": "LayoutModel",
      "state": {}
     },
     "b93e3c50ea334d8390ac6ef1e41f4ce4": {
      "model_module": "@jupyter-widgets/controls",
      "model_module_version": "3.0.0",
      "model_name": "BoundedFloatTextModel",
      "state": {
       "description": "Ramp Down Rate (MW/hr):",
       "layout": "IPY_MODEL_037a8fae392746c9aec777f8494880ec",
       "style": "IPY_MODEL_bb46fb5ae0584c9c8add370c6bd103af"
      }
     },
     "b943f084efc048dc8b0bf53641fb9537": {
      "model_module": "@jupyter-widgets/base",
      "model_module_version": "3.0.0",
      "model_name": "LayoutModel",
      "state": {}
     },
     "b95c7f0b2d2647e08189ef0587df33ae": {
      "model_module": "@jupyter-widgets/base",
      "model_module_version": "3.0.0",
      "model_name": "LayoutModel",
      "state": {}
     },
     "b97a8d2c94c94e579ed23a45ff79bd20": {
      "model_module": "bqplot",
      "model_module_version": "^0.3.0-alpha.1",
      "model_name": "LinearScaleModel",
      "state": {
       "_model_module_version": "^0.3.0-alpha.1",
       "_view_module_version": "^0.3.0-alpha.1",
       "max": 100,
       "min": 0,
       "stabilized": false
      }
     },
     "b981806f4acb4afa941da6740fc3ad85": {
      "model_module": "@jupyter-widgets/base",
      "model_module_version": "3.0.0",
      "model_name": "LayoutModel",
      "state": {}
     },
     "b98223e9b677472d960f8bb8307f7cac": {
      "model_module": "@jupyter-widgets/base",
      "model_module_version": "3.0.0",
      "model_name": "LayoutModel",
      "state": {}
     },
     "b98b667df9f24a899c7f19e6ed48313f": {
      "model_module": "@jupyter-widgets/controls",
      "model_module_version": "3.0.0",
      "model_name": "BoundedFloatTextModel",
      "state": {
       "description": "No-Load Cost ($/hr):",
       "layout": "IPY_MODEL_ece570315eb548a39c64a0f0ff9d1933",
       "max": 10000000000,
       "style": "IPY_MODEL_9219f2742ea84d53bcf13c4852c0656e"
      }
     },
     "b9a509d46d0642af9ee43fb1387dc15e": {
      "model_module": "@jupyter-widgets/controls",
      "model_module_version": "3.0.0",
      "model_name": "DescriptionStyleModel",
      "state": {
       "description_width": "initial"
      }
     },
     "b9b23c575e264784883fdc3ee8ccb972": {
      "model_module": "@jupyter-widgets/controls",
      "model_module_version": "3.0.0",
      "model_name": "DescriptionStyleModel",
      "state": {
       "description_width": "initial"
      }
     },
     "b9f5c01c79f94cce8643b2e23268991a": {
      "model_module": "@jupyter-widgets/controls",
      "model_module_version": "3.0.0",
      "model_name": "DescriptionStyleModel",
      "state": {
       "description_width": "initial"
      }
     },
     "ba1df40fb5d646c0831d5d80e40f1e29": {
      "model_module": "@jupyter-widgets/controls",
      "model_module_version": "3.0.0",
      "model_name": "DescriptionStyleModel",
      "state": {
       "description_width": "initial"
      }
     },
     "baa22098c29442fd82352a714115b840": {
      "model_module": "bqplot",
      "model_module_version": "^0.3.0-alpha.1",
      "model_name": "LinearScaleModel",
      "state": {
       "_model_module_version": "^0.3.0-alpha.1",
       "_view_module_version": "^0.3.0-alpha.1",
       "allow_padding": false,
       "max": 1,
       "min": 0,
       "stabilized": false
      }
     },
     "baa621f3a76d4e91a31df3650dc44719": {
      "model_module": "bqplot",
      "model_module_version": "^0.3.0-alpha.1",
      "model_name": "ScatterModel",
      "state": {
       "_model_module": "bqplot",
       "_model_module_version": "^0.3.0-alpha.1",
       "_view_count": null,
       "_view_module": "bqplot",
       "_view_module_version": "^0.3.0-alpha.1",
       "apply_clip": true,
       "color": {
        "type": null,
        "values": null
       },
       "colors": [
        "DeepSkyBlue"
       ],
       "display_legend": false,
       "enable_hover": true,
       "hovered_style": {},
       "interactions": {
        "hover": "tooltip"
       },
       "labels": [],
       "msg_throttle": 1,
       "names": {
        "type": null,
        "values": null
       },
       "opacity": {
        "type": null,
        "values": null
       },
       "preserve_domain": {},
       "rotation": {
        "type": null,
        "values": null
       },
       "scales": {
        "x": "IPY_MODEL_592999571cdf420c8c6f7b965611f98f",
        "y": "IPY_MODEL_03bd932e93af4b0889142701a6110910"
       },
       "scales_metadata": {
        "color": {
         "dimension": "color"
        },
        "opacity": {
         "dimension": "opacity"
        },
        "size": {
         "dimension": "size"
        },
        "x": {
         "dimension": "x",
         "orientation": "horizontal"
        },
        "y": {
         "dimension": "y",
         "orientation": "vertical"
        }
       },
       "selected": [],
       "selected_style": {},
       "size": {
        "type": null,
        "values": null
       },
       "skew": {
        "type": null,
        "values": null
       },
       "tooltip": null,
       "tooltip_location": "mouse",
       "tooltip_style": {
        "opacity": 0.9
       },
       "unhovered_style": {},
       "unselected_style": {},
       "visible": true,
       "x": {
        "type": "float",
        "values": [
         0,
         33.333333333333336,
         66.66666666666667,
         100
        ]
       },
       "y": {
        "type": "float",
        "values": [
         0,
         10,
         20,
         30
        ]
       }
      }
     },
     "bb3b1608b4f54a75bbe97f61b7f45f32": {
      "model_module": "@jupyter-widgets/controls",
      "model_module_version": "3.0.0",
      "model_name": "DescriptionStyleModel",
      "state": {
       "description_width": "initial"
      }
     },
     "bb4028b84bdc4f459fe097eb82da2dfe": {
      "model_module": "@jupyter-widgets/controls",
      "model_module_version": "3.0.0",
      "model_name": "DescriptionStyleModel",
      "state": {
       "description_width": "initial"
      }
     },
     "bb46fb5ae0584c9c8add370c6bd103af": {
      "model_module": "@jupyter-widgets/controls",
      "model_module_version": "3.0.0",
      "model_name": "DescriptionStyleModel",
      "state": {
       "description_width": "initial"
      }
     },
     "bb774383698a4f6793ca7c834331f66c": {
      "model_module": "@jupyter-widgets/base",
      "model_module_version": "3.0.0",
      "model_name": "LayoutModel",
      "state": {}
     },
     "bb8322d927714577bf01db74e69f378b": {
      "model_module": "@jupyter-widgets/controls",
      "model_module_version": "3.0.0",
      "model_name": "BoundedFloatTextModel",
      "state": {
       "description": "No-Load Cost ($/hr):",
       "layout": "IPY_MODEL_d4fb41ca85b446a7867accf2fe48bb7e",
       "max": 10000000000,
       "style": "IPY_MODEL_01c5d0cca28e4e66823afa9f60a1f35e"
      }
     },
     "bbacaa35b4f84a9493944957efeb5a59": {
      "model_module": "@jupyter-widgets/controls",
      "model_module_version": "3.0.0",
      "model_name": "BoundedFloatTextModel",
      "state": {
       "description": "Initial Generation (MW):",
       "layout": "IPY_MODEL_355e0005dd6640e4955206a35e172361",
       "style": "IPY_MODEL_11b0919d1e314f0ebfe4b24e9942d524"
      }
     },
     "bbe2a87d115141078d933d63a67826b4": {
      "model_module": "@jupyter-widgets/base",
      "model_module_version": "3.0.0",
      "model_name": "LayoutModel",
      "state": {}
     },
     "bc47eb40fa9a4e72a7d608d49befdba5": {
      "model_module": "@jupyter-widgets/base",
      "model_module_version": "3.0.0",
      "model_name": "LayoutModel",
      "state": {}
     },
     "bc883a6eb1c84189a32dae34c310ba61": {
      "model_module": "@jupyter-widgets/base",
      "model_module_version": "3.0.0",
      "model_name": "LayoutModel",
      "state": {}
     },
     "bcbff9711feb48fb9c49b7255f7af314": {
      "model_module": "@jupyter-widgets/controls",
      "model_module_version": "3.0.0",
      "model_name": "DescriptionStyleModel",
      "state": {
       "description_width": "initial"
      }
     },
     "bce05b99064b4c85bc6c6fa01160a9f0": {
      "model_module": "@jupyter-widgets/base",
      "model_module_version": "3.0.0",
      "model_name": "LayoutModel",
      "state": {}
     },
     "bd1a7a5cf588481eb695f38705bb4a79": {
      "model_module": "bqplot",
      "model_module_version": "^0.3.0-alpha.1",
      "model_name": "LinearScaleModel",
      "state": {
       "_model_module_version": "^0.3.0-alpha.1",
       "_view_module_version": "^0.3.0-alpha.1",
       "max": 100,
       "min": 0,
       "stabilized": false
      }
     },
     "bd215a537dff47c09bdba6262327ba6b": {
      "model_module": "@jupyter-widgets/controls",
      "model_module_version": "3.0.0",
      "model_name": "DescriptionStyleModel",
      "state": {
       "description_width": "initial"
      }
     },
     "bd967dd8f4204b7a91b392f4f1cea6e7": {
      "model_module": "@jupyter-widgets/controls",
      "model_module_version": "3.0.0",
      "model_name": "BoundedFloatTextModel",
      "state": {
       "description": "Minimum Up Time (hr):",
       "layout": "IPY_MODEL_eb78ea7f62a64697ba66a6f7dbd6ef24",
       "max": 24,
       "style": "IPY_MODEL_ed05f82583344a2fa711a4bfea82e0c5"
      }
     },
     "bd9a4e6919854849b849da6f52f1e8e3": {
      "model_module": "@jupyter-widgets/controls",
      "model_module_version": "3.0.0",
      "model_name": "BoundedFloatTextModel",
      "state": {
       "description": "Minimum Down Time (hr):",
       "layout": "IPY_MODEL_13b73a9d19a746b3ae643d3a8eff4708",
       "max": 24,
       "style": "IPY_MODEL_f513a586f55d48e8a74839583973f9af"
      }
     },
     "bdccccd8cd0d4d61b41114540b39133e": {
      "model_module": "bqplot",
      "model_module_version": "^0.3.0-alpha.1",
      "model_name": "LinearScaleModel",
      "state": {
       "_model_module_version": "^0.3.0-alpha.1",
       "_view_module_version": "^0.3.0-alpha.1",
       "max": 100,
       "min": 0,
       "stabilized": false
      }
     },
     "be100a9c93d94935babd6949127dc2be": {
      "model_module": "@jupyter-widgets/controls",
      "model_module_version": "3.0.0",
      "model_name": "TextModel",
      "state": {
       "description": "Name",
       "layout": "IPY_MODEL_7d643c4448564e63b37586efa09b3c0b",
       "style": "IPY_MODEL_7c6c7e1a4aad497bbecf06065a2ae2b2",
       "value": "GenCo0"
      }
     },
     "be141564a06c46d1b0ffd315375ba4b5": {
      "model_module": "@jupyter-widgets/controls",
      "model_module_version": "3.0.0",
      "model_name": "BoundedFloatTextModel",
      "state": {
       "description": "Ramp Up Rate (MW/hr):",
       "layout": "IPY_MODEL_bff2628259b941e8b755bc35b7f32639",
       "style": "IPY_MODEL_d748dbee832047958c4e81c667184e71"
      }
     },
     "be627014b19f4c44907d1277e6af638e": {
      "model_module": "@jupyter-widgets/base",
      "model_module_version": "3.0.0",
      "model_name": "LayoutModel",
      "state": {}
     },
     "bf1fae80e30b46598673db175901dc7e": {
      "model_module": "@jupyter-widgets/base",
      "model_module_version": "3.0.0",
      "model_name": "LayoutModel",
      "state": {}
     },
     "bf2dab6814454cc0873c8df727154883": {
      "model_module": "bqplot",
      "model_module_version": "^0.3.0-alpha.1",
      "model_name": "FigureModel",
      "state": {
       "_dom_classes": [],
       "_model_module_version": "^0.3.0-alpha.1",
       "_view_module_version": "^0.3.0-alpha.1",
       "layout": "IPY_MODEL_e88beddcc021449996b8f72bee38185b",
       "marks": [
        "IPY_MODEL_990e457dd3b744dc983b21937b8225b9"
       ],
       "max_aspect_ratio": 6,
       "scale_x": "IPY_MODEL_12d304efb85f4d308ea7de28bafb2e2b",
       "scale_y": "IPY_MODEL_1cd1b552288e49cca03e721dbeeef9e3"
      }
     },
     "bf9340fc52164b24b1827c6b9d5ad01c": {
      "model_module": "bqplot",
      "model_module_version": "^0.3.0-alpha.1",
      "model_name": "AxisModel",
      "state": {
       "_model_module_version": "^0.3.0-alpha.1",
       "_view_module_version": "^0.3.0-alpha.1",
       "orientation": "vertical",
       "scale": "IPY_MODEL_4442700008ec49d5acb87319b9912660",
       "side": "left",
       "tick_values": {
        "type": null,
        "values": null
       }
      }
     },
     "bfc828f0954144c5b0183eff50029256": {
      "model_module": "@jupyter-widgets/base",
      "model_module_version": "3.0.0",
      "model_name": "LayoutModel",
      "state": {}
     },
     "bff2628259b941e8b755bc35b7f32639": {
      "model_module": "@jupyter-widgets/base",
      "model_module_version": "3.0.0",
      "model_name": "LayoutModel",
      "state": {}
     },
     "bffb1c9498604a55bfdf2232931984a5": {
      "model_module": "@jupyter-widgets/base",
      "model_module_version": "3.0.0",
      "model_name": "LayoutModel",
      "state": {}
     },
     "c09c33f30ec846e18afc6a5cbcc61dc7": {
      "model_module": "@jupyter-widgets/base",
      "model_module_version": "3.0.0",
      "model_name": "LayoutModel",
      "state": {}
     },
     "c0e0a4eb621549619e6993418471c5e7": {
      "model_module": "bqplot",
      "model_module_version": "^0.3.0-alpha.1",
      "model_name": "LinearScaleModel",
      "state": {
       "_model_module_version": "^0.3.0-alpha.1",
       "_view_module_version": "^0.3.0-alpha.1",
       "max": 30,
       "min": 0,
       "stabilized": false
      }
     },
     "c0f012faf820448699f69b72d82f0258": {
      "model_module": "@jupyter-widgets/controls",
      "model_module_version": "3.0.0",
      "model_name": "CheckboxModel",
      "state": {
       "description": "Initial Status:",
       "disabled": false,
       "layout": "IPY_MODEL_45fa62ca3f1e408cae899aa9096424eb",
       "style": "IPY_MODEL_efa8e66650734ac7a4f7de08c7db25cc",
       "value": true
      }
     },
     "c119d142dff44bac808b40b00d183cfd": {
      "model_module": "@jupyter-widgets/controls",
      "model_module_version": "3.0.0",
      "model_name": "BoundedFloatTextModel",
      "state": {
       "description": "Shutdown Time (hr):",
       "layout": "IPY_MODEL_cf4c2028a9e041cd89c6e9489ab9aa4a",
       "max": 24,
       "style": "IPY_MODEL_0a5f3d905f274c33924d5adb4f99836b"
      }
     },
     "c1295568b0a449f7be985ba3b7d4d8ac": {
      "model_module": "@jupyter-widgets/controls",
      "model_module_version": "3.0.0",
      "model_name": "DescriptionStyleModel",
      "state": {
       "description_width": "initial"
      }
     },
     "c131e71fcb2749cdbba7882703fe3f7c": {
      "model_module": "@jupyter-widgets/controls",
      "model_module_version": "3.0.0",
      "model_name": "DescriptionStyleModel",
      "state": {
       "description_width": "initial"
      }
     },
     "c13630111f594931b88582f7fc40254f": {
      "model_module": "@jupyter-widgets/controls",
      "model_module_version": "3.0.0",
      "model_name": "VBoxModel",
      "state": {
       "children": [
        "IPY_MODEL_c84a1e1836914ea6a75d4b5fd43a38fd"
       ],
       "layout": "IPY_MODEL_42187540f67847af8efb3fd55d9fc171"
      }
     },
     "c141a3b60afe4314ad596eddba93da9c": {
      "model_module": "@jupyter-widgets/controls",
      "model_module_version": "3.0.0",
      "model_name": "BoundedFloatTextModel",
      "state": {
       "description": "Minimum Down Time (hr):",
       "layout": "IPY_MODEL_5f225d5b20cb46f982bef6fb7b3a55c4",
       "max": 24,
       "style": "IPY_MODEL_6c47fa2867e0476b890e1ad622e94b84"
      }
     },
     "c173d0395d314635a94ab114fd8e7d7e": {
      "model_module": "@jupyter-widgets/controls",
      "model_module_version": "3.0.0",
      "model_name": "DescriptionStyleModel",
      "state": {
       "description_width": "initial"
      }
     },
     "c189959b24b14ee996579ceb0fee134e": {
      "model_module": "@jupyter-widgets/controls",
      "model_module_version": "3.0.0",
      "model_name": "BoundedFloatTextModel",
      "state": {
       "description": "Startup Time (hr):",
       "layout": "IPY_MODEL_c63737dc692e4205934ed7dce4d9703b",
       "max": 24,
       "style": "IPY_MODEL_eb46769745f545fb86f89ed6fa424012"
      }
     },
     "c1959c8e609a4cb4ac41a4ceb020be95": {
      "model_module": "bqplot",
      "model_module_version": "^0.3.0-alpha.1",
      "model_name": "LinearScaleModel",
      "state": {
       "_model_module_version": "^0.3.0-alpha.1",
       "_view_module_version": "^0.3.0-alpha.1",
       "max": 100,
       "min": 0,
       "stabilized": false
      }
     },
     "c197cae59ae642cda2d2416b6eb7a90b": {
      "model_module": "@jupyter-widgets/controls",
      "model_module_version": "3.0.0",
      "model_name": "DescriptionStyleModel",
      "state": {
       "description_width": "initial"
      }
     },
     "c1997f4659e043f8a2f051c1196adbb9": {
      "model_module": "@jupyter-widgets/controls",
      "model_module_version": "3.0.0",
      "model_name": "DescriptionStyleModel",
      "state": {
       "description_width": "initial"
      }
     },
     "c1a0657ea4e340afae8f68e87dfd631a": {
      "model_module": "@jupyter-widgets/controls",
      "model_module_version": "3.0.0",
      "model_name": "VBoxModel",
      "state": {
       "children": [
        "IPY_MODEL_69ff2547f3e84d2098d8ae3a3772c7a1",
        "IPY_MODEL_4dd766382fd74ccaa563980a41d34872",
        "IPY_MODEL_3e2f50df0f7d4db0a17f40dfa09e601c",
        "IPY_MODEL_3f2a6803094f4decbc45352352a20ed8",
        "IPY_MODEL_5c9e5c5415944fa3b247d0429b626a31",
        "IPY_MODEL_74227edf5b8042c0af8ab7672c4bbb25",
        "IPY_MODEL_4144c0dadbea4dd8883beeb68e0ec25f",
        "IPY_MODEL_ade494a17047439da1fb2a1101166ba3",
        "IPY_MODEL_785fe5521b9e4d4594bec9e40a9cd854",
        "IPY_MODEL_4b3e7a0ba0874589b3f17387478a4dea",
        "IPY_MODEL_94c3323234614d46adf9c5fe6e0c9c05",
        "IPY_MODEL_353dbca143304b24958d252ba6869d9c",
        "IPY_MODEL_de0010f4908d4329bf789aecd758f914",
        "IPY_MODEL_abfb5d27dd484137a06b449f6c817260",
        "IPY_MODEL_08e155d9222841908178b2f8c5e7516e",
        "IPY_MODEL_7a492df06e444dffaadb561e8ff1d257"
       ],
       "layout": "IPY_MODEL_34ade02769ba457cb152a71b5d255e48"
      }
     },
     "c1a91c7e517d47ada70991c53f8ca762": {
      "model_module": "@jupyter-widgets/base",
      "model_module_version": "3.0.0",
      "model_name": "LayoutModel",
      "state": {}
     },
     "c1c33308f43e4391aaac03381119a9c1": {
      "model_module": "@jupyter-widgets/controls",
      "model_module_version": "3.0.0",
      "model_name": "BoundedFloatTextModel",
      "state": {
       "description": "Minimum Down Time (hr):",
       "layout": "IPY_MODEL_b95c7f0b2d2647e08189ef0587df33ae",
       "max": 24,
       "style": "IPY_MODEL_1df5d90bbd294651a690b57be9dc56ab"
      }
     },
     "c1e588438f0d4f2a94b8c24f1082e908": {
      "model_module": "@jupyter-widgets/controls",
      "model_module_version": "3.0.0",
      "model_name": "DescriptionStyleModel",
      "state": {
       "description_width": "initial"
      }
     },
     "c1fa9cc511ec40608eb792aa09b4731c": {
      "model_module": "bqplot",
      "model_module_version": "^0.3.0-alpha.1",
      "model_name": "LinearScaleModel",
      "state": {
       "_model_module_version": "^0.3.0-alpha.1",
       "_view_module_version": "^0.3.0-alpha.1",
       "max": 0,
       "min": 0,
       "stabilized": false
      }
     },
     "c224dcb5595449158384a85b5645fe90": {
      "model_module": "@jupyter-widgets/controls",
      "model_module_version": "3.0.0",
      "model_name": "BoundedFloatTextModel",
      "state": {
       "description": "Startup Time (hr):",
       "layout": "IPY_MODEL_a7450d971da84c8b8972a8239068cbef",
       "max": 24,
       "style": "IPY_MODEL_cbe27a34df674c8597a861fef9c489af"
      }
     },
     "c26e0d0e0b86431195f8c1e15aec453d": {
      "model_module": "bqplot",
      "model_module_version": "^0.3.0-alpha.1",
      "model_name": "LinearScaleModel",
      "state": {
       "_model_module_version": "^0.3.0-alpha.1",
       "_view_module_version": "^0.3.0-alpha.1",
       "allow_padding": false,
       "max": 1,
       "min": 0,
       "stabilized": false
      }
     },
     "c277c97712094d2f911cdd17df72f482": {
      "model_module": "bqplot",
      "model_module_version": "^0.3.0-alpha.1",
      "model_name": "FigureModel",
      "state": {
       "_dom_classes": [],
       "_model_module_version": "^0.3.0-alpha.1",
       "_view_module_version": "^0.3.0-alpha.1",
       "axes": [
        "IPY_MODEL_e6a49eb5a0814dc0913bb31836f4da53",
        "IPY_MODEL_4af44f3197444e988927e58ce7117fda"
       ],
       "layout": "IPY_MODEL_7f438e998fb1414ba5dc7bb182e759b1",
       "marks": [
        "IPY_MODEL_1ab562b7c82d4544b898c0c6b64629ba"
       ],
       "max_aspect_ratio": 6,
       "scale_x": "IPY_MODEL_903186b064414988b6360385c92758c1",
       "scale_y": "IPY_MODEL_539428d863a84de58ef7ba4c490ee21d"
      }
     },
     "c2b2976193c34788a93e3a5993c52460": {
      "model_module": "@jupyter-widgets/controls",
      "model_module_version": "3.0.0",
      "model_name": "BoundedFloatTextModel",
      "state": {
       "description": "Minimum Generation (MW):",
       "layout": "IPY_MODEL_3297f7053a4b481089538168e64e7577",
       "style": "IPY_MODEL_7590e08df46e4f158f00e9b28d1a24a5"
      }
     },
     "c2b8b57f79b64b1da8078abb7c03f6ef": {
      "model_module": "bqplot",
      "model_module_version": "^0.3.0-alpha.1",
      "model_name": "LinearScaleModel",
      "state": {
       "_model_module_version": "^0.3.0-alpha.1",
       "_view_module_version": "^0.3.0-alpha.1",
       "allow_padding": false,
       "max": 1,
       "min": 0,
       "stabilized": false
      }
     },
     "c2b8d119ae9f44679149808d15982db3": {
      "model_module": "bqplot",
      "model_module_version": "^0.3.0-alpha.1",
      "model_name": "FigureModel",
      "state": {
       "_dom_classes": [],
       "_model_module_version": "^0.3.0-alpha.1",
       "_view_module_version": "^0.3.0-alpha.1",
       "axes": [
        "IPY_MODEL_e61c5640e80043c2a05d85af95ccdb40",
        "IPY_MODEL_03fcbe9a3e284968a5aeb7e14d2f1cee"
       ],
       "layout": "IPY_MODEL_55fe1a9190fa4a87bd01a230b61134af",
       "marks": [
        "IPY_MODEL_f9e79433942b4af5b8c3705cee8d9a5c",
        "IPY_MODEL_1b12b39d38bd4878b7d05ad6fb845d82"
       ],
       "max_aspect_ratio": 6,
       "scale_x": "IPY_MODEL_204bdd299925478c9f45ae30955e70dc",
       "scale_y": "IPY_MODEL_21e4c3eeb9b84cd492077a25520aab17"
      }
     },
     "c2cdccc28a224d13baaeac6cb63750d1": {
      "model_module": "@jupyter-widgets/base",
      "model_module_version": "3.0.0",
      "model_name": "LayoutModel",
      "state": {}
     },
     "c308d233bfd74993a4316065eda7cb92": {
      "model_module": "@jupyter-widgets/base",
      "model_module_version": "3.0.0",
      "model_name": "LayoutModel",
      "state": {}
     },
     "c332afe4293e43f2a1cbc8fe38ee588b": {
      "model_module": "@jupyter-widgets/controls",
      "model_module_version": "3.0.0",
      "model_name": "DescriptionStyleModel",
      "state": {
       "description_width": "initial"
      }
     },
     "c36d494cdf1c477d8e8285a32b50b8fa": {
      "model_module": "@jupyter-widgets/base",
      "model_module_version": "3.0.0",
      "model_name": "LayoutModel",
      "state": {}
     },
     "c393a6d617f44ab9b998ec55ad0d1b9c": {
      "model_module": "@jupyter-widgets/controls",
      "model_module_version": "3.0.0",
      "model_name": "DescriptionStyleModel",
      "state": {
       "description_width": ""
      }
     },
     "c39ecd1859a14d7e9bb0ba5948aa539c": {
      "model_module": "bqplot",
      "model_module_version": "^0.3.0-alpha.1",
      "model_name": "LinearScaleModel",
      "state": {
       "_model_module_version": "^0.3.0-alpha.1",
       "_view_module_version": "^0.3.0-alpha.1",
       "allow_padding": false,
       "max": 1,
       "min": 0,
       "stabilized": false
      }
     },
     "c3bfa7188b3c4b0b901be6a171f6b150": {
      "model_module": "@jupyter-widgets/base",
      "model_module_version": "3.0.0",
      "model_name": "LayoutModel",
      "state": {}
     },
     "c3e3733440ee4f9e8b66878b1294566a": {
      "model_module": "bqplot",
      "model_module_version": "^0.3.0-alpha.1",
      "model_name": "LinesModel",
      "state": {
       "_model_module_version": "^0.3.0-alpha.1",
       "_view_module_version": "^0.3.0-alpha.1",
       "color": {
        "type": null,
        "values": null
       },
       "display_legend": false,
       "fill_colors": [],
       "labels": [
        "C1"
       ],
       "scales": {
        "x": "IPY_MODEL_b97a8d2c94c94e579ed23a45ff79bd20",
        "y": "IPY_MODEL_eb64a7ae51c94bc68eb9f6190402574f"
       },
       "selected": [],
       "x": {
        "type": "float",
        "values": [
         0,
         30.09497549019608,
         64.9969362745098,
         100
        ]
       },
       "y": {
        "type": "float",
        "values": [
         0,
         0,
         0,
         0
        ]
       }
      }
     },
     "c408539229f947959bc08ff89f174fcc": {
      "model_module": "@jupyter-widgets/controls",
      "model_module_version": "3.0.0",
      "model_name": "DescriptionStyleModel",
      "state": {
       "description_width": "initial"
      }
     },
     "c40e60c2d9564fea8b3b489c24effd90": {
      "model_module": "bqplot",
      "model_module_version": "^0.3.0-alpha.1",
      "model_name": "LinesModel",
      "state": {
       "_model_module_version": "^0.3.0-alpha.1",
       "_view_module_version": "^0.3.0-alpha.1",
       "color": {
        "type": null,
        "values": null
       },
       "display_legend": false,
       "fill_colors": [],
       "labels": [
        "C1"
       ],
       "scales": {
        "x": "IPY_MODEL_c1959c8e609a4cb4ac41a4ceb020be95",
        "y": "IPY_MODEL_983d937edf3348e79c7779a4f5391a6e"
       },
       "selected": [],
       "x": {
        "type": "float",
        "values": [
         0,
         33.333333333333336,
         66.66666666666667,
         100
        ]
       },
       "y": {
        "type": "float",
        "values": [
         0,
         0,
         0,
         0
        ]
       }
      }
     },
     "c42957e005bb43329267eef4e0ba6031": {
      "model_module": "@jupyter-widgets/controls",
      "model_module_version": "3.0.0",
      "model_name": "DescriptionStyleModel",
      "state": {
       "description_width": "initial"
      }
     },
     "c436e947cb1f47469affe6a82e8b2ccb": {
      "model_module": "@jupyter-widgets/controls",
      "model_module_version": "3.0.0",
      "model_name": "DescriptionStyleModel",
      "state": {
       "description_width": "initial"
      }
     },
     "c49c11e00be44f3c8d07841ee574f185": {
      "model_module": "@jupyter-widgets/controls",
      "model_module_version": "3.0.0",
      "model_name": "DescriptionStyleModel",
      "state": {
       "description_width": "initial"
      }
     },
     "c51c3c57ad764a4ea48c90e8a5a01eaa": {
      "model_module": "@jupyter-widgets/base",
      "model_module_version": "3.0.0",
      "model_name": "LayoutModel",
      "state": {}
     },
     "c53d559baae74671ad4264b4b88f9713": {
      "model_module": "bqplot",
      "model_module_version": "^0.3.0-alpha.1",
      "model_name": "LinearScaleModel",
      "state": {
       "_model_module_version": "^0.3.0-alpha.1",
       "_view_module_version": "^0.3.0-alpha.1",
       "allow_padding": false,
       "max": 1,
       "min": 0,
       "stabilized": false
      }
     },
     "c57a36aec71a46ef9a15f4b6824b39b3": {
      "model_module": "@jupyter-widgets/controls",
      "model_module_version": "3.0.0",
      "model_name": "DescriptionStyleModel",
      "state": {
       "description_width": "initial"
      }
     },
     "c57b61357fac4d5da3968a170dba0116": {
      "model_module": "@jupyter-widgets/controls",
      "model_module_version": "3.0.0",
      "model_name": "DescriptionStyleModel",
      "state": {
       "description_width": ""
      }
     },
     "c58c14ac55ce4352866f612629b50f65": {
      "model_module": "@jupyter-widgets/controls",
      "model_module_version": "3.0.0",
      "model_name": "DropdownModel",
      "state": {
       "_options_labels": [
        "COAL",
        "NATURALGAS",
        "WIND"
       ],
       "description": "Generation Type:",
       "index": 0,
       "layout": "IPY_MODEL_6e3a8d42e20a470f83d6ba5929bbad7f",
       "style": "IPY_MODEL_d2d810e423cb4151963a1e38edda0624"
      }
     },
     "c58cd3d5ecec402ba94c3b1c18b6f863": {
      "model_module": "@jupyter-widgets/controls",
      "model_module_version": "3.0.0",
      "model_name": "DescriptionStyleModel",
      "state": {
       "description_width": "initial"
      }
     },
     "c605871c07a34d1fbef3adc2f2fdc934": {
      "model_module": "@jupyter-widgets/base",
      "model_module_version": "3.0.0",
      "model_name": "LayoutModel",
      "state": {}
     },
     "c60ba3dad49a4aaa982efb0b905ce083": {
      "model_module": "@jupyter-widgets/base",
      "model_module_version": "3.0.0",
      "model_name": "LayoutModel",
      "state": {}
     },
     "c623ac4541d548788d692a3e63f18461": {
      "model_module": "@jupyter-widgets/controls",
      "model_module_version": "3.0.0",
      "model_name": "DescriptionStyleModel",
      "state": {
       "description_width": "initial"
      }
     },
     "c63737dc692e4205934ed7dce4d9703b": {
      "model_module": "@jupyter-widgets/base",
      "model_module_version": "3.0.0",
      "model_name": "LayoutModel",
      "state": {}
     },
     "c653164bef904435b88ff5cccff73e5c": {
      "model_module": "@jupyter-widgets/controls",
      "model_module_version": "3.0.0",
      "model_name": "HBoxModel",
      "state": {
       "children": [
        "IPY_MODEL_ccbcb4bc53184856b7a9dd264672c3f7",
        "IPY_MODEL_97d252e3833a4f9196af00a4313ff667"
       ],
       "layout": "IPY_MODEL_47bbb51307b54f46892178ec3bc894d2"
      }
     },
     "c6893bd990374eb5b550388cc27c0a51": {
      "model_module": "@jupyter-widgets/controls",
      "model_module_version": "3.0.0",
      "model_name": "BoundedFloatTextModel",
      "state": {
       "description": "Initial Generation (MW):",
       "layout": "IPY_MODEL_ee9de471af484661976fa91601118f9c",
       "style": "IPY_MODEL_ec909e8a312a456eb634b58d3011116f"
      }
     },
     "c690b88c254f478d8f4f78a143716143": {
      "model_module": "@jupyter-widgets/controls",
      "model_module_version": "3.0.0",
      "model_name": "DescriptionStyleModel",
      "state": {
       "description_width": "initial"
      }
     },
     "c693f581d1e8439fb2c5ec5b868b1129": {
      "model_module": "@jupyter-widgets/base",
      "model_module_version": "3.0.0",
      "model_name": "LayoutModel",
      "state": {}
     },
     "c6b40c68f1494c2195fde3dd21183d74": {
      "model_module": "@jupyter-widgets/base",
      "model_module_version": "3.0.0",
      "model_name": "LayoutModel",
      "state": {}
     },
     "c6cd9b2068774e688d2c66e9c147474d": {
      "model_module": "bqplot",
      "model_module_version": "^0.3.0-alpha.1",
      "model_name": "LinearScaleModel",
      "state": {
       "_model_module_version": "^0.3.0-alpha.1",
       "_view_module_version": "^0.3.0-alpha.1",
       "max": 50,
       "min": 0,
       "stabilized": false
      }
     },
     "c6d33c9a05e54fc29619c34e14bba40b": {
      "model_module": "@jupyter-widgets/controls",
      "model_module_version": "3.0.0",
      "model_name": "DescriptionStyleModel",
      "state": {
       "description_width": "initial"
      }
     },
     "c71be4271270440b85717fc372409fb8": {
      "model_module": "bqplot",
      "model_module_version": "^0.3.0-alpha.1",
      "model_name": "LinearScaleModel",
      "state": {
       "_model_module_version": "^0.3.0-alpha.1",
       "_view_module_version": "^0.3.0-alpha.1",
       "allow_padding": false,
       "max": 1,
       "min": 0,
       "stabilized": false
      }
     },
     "c77c4b624b8a440fa302886c71467bfa": {
      "model_module": "@jupyter-widgets/controls",
      "model_module_version": "3.0.0",
      "model_name": "DescriptionStyleModel",
      "state": {
       "description_width": "initial"
      }
     },
     "c7bb38731ad246899bd4ceecca2993c4": {
      "model_module": "@jupyter-widgets/controls",
      "model_module_version": "3.0.0",
      "model_name": "DescriptionStyleModel",
      "state": {
       "description_width": "initial"
      }
     },
     "c7c542d52b6f41b1a8d54b581ca9d8fa": {
      "model_module": "@jupyter-widgets/base",
      "model_module_version": "3.0.0",
      "model_name": "LayoutModel",
      "state": {}
     },
     "c7db45496f52495ea08e1def9193f32c": {
      "model_module": "@jupyter-widgets/controls",
      "model_module_version": "3.0.0",
      "model_name": "TextModel",
      "state": {
       "description": "Name",
       "layout": "IPY_MODEL_4f14ef111e74417d90dc728106d3c68c",
       "style": "IPY_MODEL_6cf2bfb114684836a125c005240019b6",
       "value": "GenCo0"
      }
     },
     "c7e31cc90fc741558b1d8736c163dea6": {
      "model_module": "@jupyter-widgets/controls",
      "model_module_version": "3.0.0",
      "model_name": "BoundedFloatTextModel",
      "state": {
       "description": "Minimum Generation (MW):",
       "layout": "IPY_MODEL_b9333f1f8ff94a438b5c4ac835448b2a",
       "style": "IPY_MODEL_910571b4f2574e1eab1203568952a862"
      }
     },
     "c7ffe221f4f84fb880953967399b54ab": {
      "model_module": "@jupyter-widgets/controls",
      "model_module_version": "3.0.0",
      "model_name": "BoundedFloatTextModel",
      "state": {
       "description": "Shutdown Time (hr):",
       "layout": "IPY_MODEL_f3fb521a8cf141bcaf92bccd2215fb4f",
       "max": 24,
       "style": "IPY_MODEL_e31cb40c9ce54994b346cf9745b83555"
      }
     },
     "c8196c51e1274e0db67080f248599f16": {
      "model_module": "bqplot",
      "model_module_version": "^0.3.0-alpha.1",
      "model_name": "LinearScaleModel",
      "state": {
       "_model_module_version": "^0.3.0-alpha.1",
       "_view_module_version": "^0.3.0-alpha.1",
       "max": 0,
       "min": 0,
       "stabilized": false
      }
     },
     "c83b976e92e44f4993583c750378ff3e": {
      "model_module": "@jupyter-widgets/controls",
      "model_module_version": "3.0.0",
      "model_name": "DescriptionStyleModel",
      "state": {
       "description_width": "initial"
      }
     },
     "c84a1e1836914ea6a75d4b5fd43a38fd": {
      "model_module": "bqplot",
      "model_module_version": "^0.3.0-alpha.1",
      "model_name": "FigureModel",
      "state": {
       "_dom_classes": [],
       "_model_module_version": "^0.3.0-alpha.1",
       "_view_module_version": "^0.3.0-alpha.1",
       "axes": [
        "IPY_MODEL_e59b4c8df4dd429196335c13327df0f9",
        "IPY_MODEL_668b0f1491274253bacdc129da345f43"
       ],
       "layout": "IPY_MODEL_acb1adfcdf39487e9e5aeb13b44d9427",
       "marks": [
        "IPY_MODEL_c40e60c2d9564fea8b3b489c24effd90",
        "IPY_MODEL_efe983753cb34fe4a6c7c79a0095d3a4"
       ],
       "max_aspect_ratio": 6,
       "scale_x": "IPY_MODEL_9116c831177b4d50b146d6ae5a35c930",
       "scale_y": "IPY_MODEL_e308058998aa44c9b70bb292bf7dc5da"
      }
     },
     "c84cc777498d4ea680491366371d479d": {
      "model_module": "@jupyter-widgets/base",
      "model_module_version": "3.0.0",
      "model_name": "LayoutModel",
      "state": {}
     },
     "c85a05928b93440da00f7429740ad3b4": {
      "model_module": "@jupyter-widgets/base",
      "model_module_version": "3.0.0",
      "model_name": "LayoutModel",
      "state": {}
     },
     "c88b95bb346f47fa9113e2b1abe31b7d": {
      "model_module": "@jupyter-widgets/base",
      "model_module_version": "3.0.0",
      "model_name": "LayoutModel",
      "state": {}
     },
     "c88e756aa7d0454190304cb95bdbe934": {
      "model_module": "@jupyter-widgets/base",
      "model_module_version": "3.0.0",
      "model_name": "LayoutModel",
      "state": {}
     },
     "c89ad28e86624747bcd77c2bc5dd5f34": {
      "model_module": "@jupyter-widgets/controls",
      "model_module_version": "3.0.0",
      "model_name": "BoundedFloatTextModel",
      "state": {
       "description": "Startup Cost ($/hr):",
       "layout": "IPY_MODEL_3a9e0e385d93487da636f54fddd36d96",
       "max": 10000000000,
       "style": "IPY_MODEL_fea12911e9204bf882982aa6569fc6ec"
      }
     },
     "c8f432cf325043be9319de0557f1b09b": {
      "model_module": "@jupyter-widgets/base",
      "model_module_version": "3.0.0",
      "model_name": "LayoutModel",
      "state": {}
     },
     "c905f21c8f374a0da1f124105e0dc196": {
      "model_module": "bqplot",
      "model_module_version": "^0.3.0-alpha.1",
      "model_name": "AxisModel",
      "state": {
       "_model_module_version": "^0.3.0-alpha.1",
       "_view_module_version": "^0.3.0-alpha.1",
       "scale": "IPY_MODEL_829cb28efcb845a48444926f05d169a5",
       "side": "bottom",
       "tick_values": {
        "type": null,
        "values": null
       }
      }
     },
     "c90b0d515e6349bc9718c0c89acdac8f": {
      "model_module": "@jupyter-widgets/base",
      "model_module_version": "3.0.0",
      "model_name": "LayoutModel",
      "state": {}
     },
     "c922fbe72edd429ebba2b4f483104883": {
      "model_module": "bqplot",
      "model_module_version": "^0.3.0-alpha.1",
      "model_name": "LinearScaleModel",
      "state": {
       "_model_module_version": "^0.3.0-alpha.1",
       "_view_module_version": "^0.3.0-alpha.1",
       "max": 100,
       "min": 0,
       "stabilized": false
      }
     },
     "c92f3dba596b4f1a9f5639333cb010fb": {
      "model_module": "@jupyter-widgets/controls",
      "model_module_version": "3.0.0",
      "model_name": "VBoxModel",
      "state": {
       "children": [
        "IPY_MODEL_b08945f7399c4a1d90af61f5068c6e90"
       ],
       "layout": "IPY_MODEL_4ba4e727e5ed4ea88abddfc109bca314"
      }
     },
     "c94250ba3ae1491f817da8cae44642db": {
      "model_module": "@jupyter-widgets/base",
      "model_module_version": "3.0.0",
      "model_name": "LayoutModel",
      "state": {}
     },
     "c946c92e59b94efb8fba4d864ef839e1": {
      "model_module": "@jupyter-widgets/base",
      "model_module_version": "3.0.0",
      "model_name": "LayoutModel",
      "state": {}
     },
     "c94e1cf133394e038de92e4bdaa85c9d": {
      "model_module": "bqplot",
      "model_module_version": "^0.3.0-alpha.1",
      "model_name": "AxisModel",
      "state": {
       "_model_module_version": "^0.3.0-alpha.1",
       "_view_module_version": "^0.3.0-alpha.1",
       "orientation": "vertical",
       "scale": "IPY_MODEL_8b64ea2969694912abab6dc4c324439a",
       "side": "left",
       "tick_values": {
        "type": null,
        "values": null
       }
      }
     },
     "c95e08edd60b4fb4826de958ee31e0d4": {
      "model_module": "@jupyter-widgets/controls",
      "model_module_version": "3.0.0",
      "model_name": "CheckboxModel",
      "state": {
       "description": "Initial Status:",
       "disabled": false,
       "layout": "IPY_MODEL_82e326846da8450aaabcc6eb8f596f67",
       "style": "IPY_MODEL_3e17b7ef86ae4eaf90e0c6256e646e13",
       "value": true
      }
     },
     "c974c635526843f695aefea718ee8d22": {
      "model_module": "@jupyter-widgets/controls",
      "model_module_version": "3.0.0",
      "model_name": "BoundedFloatTextModel",
      "state": {
       "description": "Startup Time (hr):",
       "layout": "IPY_MODEL_c308d233bfd74993a4316065eda7cb92",
       "max": 24,
       "style": "IPY_MODEL_83688f772e104c6a90890d1dc2760f8c"
      }
     },
     "c9862582436245f49b207de67e2f6fee": {
      "model_module": "@jupyter-widgets/controls",
      "model_module_version": "3.0.0",
      "model_name": "DescriptionStyleModel",
      "state": {
       "description_width": "initial"
      }
     },
     "c98ec83b021b44f4af974b9b7c9bfd65": {
      "model_module": "@jupyter-widgets/base",
      "model_module_version": "3.0.0",
      "model_name": "LayoutModel",
      "state": {
       "min_width": "125px"
      }
     },
     "c99db5dcf3e5496ba5e69dc962b35d55": {
      "model_module": "@jupyter-widgets/controls",
      "model_module_version": "3.0.0",
      "model_name": "VBoxModel",
      "state": {
       "children": [
        "IPY_MODEL_024ecb58fd914eb49e81cc5cddbf9156"
       ],
       "layout": "IPY_MODEL_2bcd24920f1f411a8999ee2059cf7a4b"
      }
     },
     "c9cf9d44abc44b5da47dbe67af84457f": {
      "model_module": "@jupyter-widgets/controls",
      "model_module_version": "3.0.0",
      "model_name": "BoundedFloatTextModel",
      "state": {
       "description": "Shutdown Time (hr):",
       "layout": "IPY_MODEL_39b2c8c5c17e406197a9ad09e7cacdcd",
       "max": 24,
       "style": "IPY_MODEL_48ff0472c51545638769e5a86451f222"
      }
     },
     "c9e8795519bb4eeabbc4a0a5720233b0": {
      "model_module": "@jupyter-widgets/controls",
      "model_module_version": "3.0.0",
      "model_name": "BoundedFloatTextModel",
      "state": {
       "description": "Ramp Up Rate (MW/hr):",
       "layout": "IPY_MODEL_30033aaa0832433f9dfab5742211721b",
       "style": "IPY_MODEL_e55f8453befc42a181bbea078f2f4751"
      }
     },
     "ca1223095da54fd682c4a3b422708655": {
      "model_module": "@jupyter-widgets/controls",
      "model_module_version": "3.0.0",
      "model_name": "VBoxModel",
      "state": {
       "children": [
        "IPY_MODEL_43c42ae70266416f97021762db4d13cc"
       ],
       "layout": "IPY_MODEL_9eab69baefe744a5802d71a27e527aa3"
      }
     },
     "ca205e899ca0415d8ef6b0ebcf43e35d": {
      "model_module": "@jupyter-widgets/controls",
      "model_module_version": "3.0.0",
      "model_name": "DescriptionStyleModel",
      "state": {
       "description_width": "initial"
      }
     },
     "ca35b3b387fe419098f009b96491dfa5": {
      "model_module": "bqplot",
      "model_module_version": "^0.3.0-alpha.1",
      "model_name": "AxisModel",
      "state": {
       "_model_module_version": "^0.3.0-alpha.1",
       "_view_module_version": "^0.3.0-alpha.1",
       "scale": "IPY_MODEL_18bda9665e73411582b58a77575003ed",
       "side": "bottom",
       "tick_values": {
        "type": null,
        "values": null
       }
      }
     },
     "ca4511076fcf4ff89243be665a3a3b2f": {
      "model_module": "@jupyter-widgets/controls",
      "model_module_version": "3.0.0",
      "model_name": "SliderStyleModel",
      "state": {
       "description_width": "initial"
      }
     },
     "ca5b9f61686d4108a9423e0a8e64ef5f": {
      "model_module": "@jupyter-widgets/base",
      "model_module_version": "3.0.0",
      "model_name": "LayoutModel",
      "state": {}
     },
     "ca61a250a02d40b8a9446a4a09121fea": {
      "model_module": "@jupyter-widgets/controls",
      "model_module_version": "3.0.0",
      "model_name": "BoundedFloatTextModel",
      "state": {
       "description": "Initial Generation (MW):",
       "layout": "IPY_MODEL_5c9d2729bcaf45419fba015afcac2649",
       "style": "IPY_MODEL_ab9c92e3e1cd439ebcfc3a40a13568ac"
      }
     },
     "cac524a2fc464d86b7f500de134b159f": {
      "model_module": "@jupyter-widgets/controls",
      "model_module_version": "3.0.0",
      "model_name": "BoundedFloatTextModel",
      "state": {
       "description": "Minimum Down Time (hr):",
       "layout": "IPY_MODEL_93b9a2876e55454db173039d05812ece",
       "max": 24,
       "style": "IPY_MODEL_557bc0028c11431c9230ee3f59485a6c"
      }
     },
     "cad64d547c68496e980cbb367dc0f237": {
      "model_module": "@jupyter-widgets/controls",
      "model_module_version": "3.0.0",
      "model_name": "DescriptionStyleModel",
      "state": {
       "description_width": "initial"
      }
     },
     "cafef22e552845689acbafe91e45206a": {
      "model_module": "bqplot",
      "model_module_version": "^0.3.0-alpha.1",
      "model_name": "AxisModel",
      "state": {
       "_model_module_version": "^0.3.0-alpha.1",
       "_view_module_version": "^0.3.0-alpha.1",
       "scale": "IPY_MODEL_9f9d0d28ab0a4c1689fa62894937bd89",
       "side": "bottom",
       "tick_values": {
        "type": null,
        "values": null
       }
      }
     },
     "cb0914c6cb9042d889dfdd09c2542b69": {
      "model_module": "@jupyter-widgets/controls",
      "model_module_version": "3.0.0",
      "model_name": "CheckboxModel",
      "state": {
       "description": "Initial Status:",
       "disabled": false,
       "layout": "IPY_MODEL_129d2845257d4cffa27b5da7ccf96e13",
       "style": "IPY_MODEL_2f9b5cc4b0f4411d832e28843613a2d1",
       "value": true
      }
     },
     "cb15a4ca21384df7bd5df6340baca5f2": {
      "model_module": "@jupyter-widgets/controls",
      "model_module_version": "3.0.0",
      "model_name": "DescriptionStyleModel",
      "state": {
       "description_width": "initial"
      }
     },
     "cb4ac25bf781473a848360b0de7a6c58": {
      "model_module": "@jupyter-widgets/base",
      "model_module_version": "3.0.0",
      "model_name": "LayoutModel",
      "state": {}
     },
     "cb8952b6ae75456fbbb338bec51e31db": {
      "model_module": "@jupyter-widgets/controls",
      "model_module_version": "3.0.0",
      "model_name": "BoundedFloatTextModel",
      "state": {
       "description": "Initial Generation (MW):",
       "layout": "IPY_MODEL_46dfebe73a044245a0be3dd99aadbc24",
       "max": 30,
       "style": "IPY_MODEL_0ecfe891438443518921ae594c931b75"
      }
     },
     "cb8c710357c54f35be123b0a4bd6fb83": {
      "model_module": "@jupyter-widgets/controls",
      "model_module_version": "3.0.0",
      "model_name": "BoundedFloatTextModel",
      "state": {
       "description": "Shutdown Time (hr):",
       "layout": "IPY_MODEL_9854d4c5311c4e4081c2794d8d2f9e9d",
       "max": 24,
       "style": "IPY_MODEL_7d0531c2207d443ebad34267c33467ff"
      }
     },
     "cbbf7befd75f4d8498f1d762c78d7c11": {
      "model_module": "@jupyter-widgets/base",
      "model_module_version": "3.0.0",
      "model_name": "LayoutModel",
      "state": {}
     },
     "cbe27a34df674c8597a861fef9c489af": {
      "model_module": "@jupyter-widgets/controls",
      "model_module_version": "3.0.0",
      "model_name": "DescriptionStyleModel",
      "state": {
       "description_width": "initial"
      }
     },
     "cbe9ef23e7e74000928e0dedbea323b6": {
      "model_module": "bqplot",
      "model_module_version": "^0.3.0-alpha.1",
      "model_name": "FigureModel",
      "state": {
       "_dom_classes": [],
       "_model_module_version": "^0.3.0-alpha.1",
       "_view_module_version": "^0.3.0-alpha.1",
       "axes": [
        "IPY_MODEL_4f1b2ccb3c9a450ebd12ab0135eaf5c7",
        "IPY_MODEL_31aba8a55edf46568ecaa5c87b3c6f4a"
       ],
       "layout": "IPY_MODEL_802ab6ba0f4b46ceb039565f00b37449",
       "marks": [
        "IPY_MODEL_f05a46e61b294b5d8dc9a135dc8486e7"
       ],
       "max_aspect_ratio": 6,
       "scale_x": "IPY_MODEL_ffe58dc878d1488a8f50b500b60838e7",
       "scale_y": "IPY_MODEL_0e401f354a6d45d3ab94a92e7f20e881"
      }
     },
     "cbfa9eda6fef44e5b7c11a0534206670": {
      "model_module": "@jupyter-widgets/controls",
      "model_module_version": "3.0.0",
      "model_name": "DescriptionStyleModel",
      "state": {
       "description_width": "initial"
      }
     },
     "cc06f0d130924cce824afbffa4d644d1": {
      "model_module": "@jupyter-widgets/controls",
      "model_module_version": "3.0.0",
      "model_name": "IntSliderModel",
      "state": {
       "description": "Number of Cost Curve Segments",
       "layout": "IPY_MODEL_e5b9e17dfb7f4a8db7e4d0cb9b88ba9b",
       "max": 50,
       "min": 2,
       "style": "IPY_MODEL_5bb154b69bc641bcad086f3451173c74",
       "value": 2
      }
     },
     "cc10c8d1c662434d8a22e2ee9d5b6238": {
      "model_module": "@jupyter-widgets/controls",
      "model_module_version": "3.0.0",
      "model_name": "DescriptionStyleModel",
      "state": {
       "description_width": "initial"
      }
     },
     "cc2c8ec0e88e4c96b57d2e4889d90b98": {
      "model_module": "@jupyter-widgets/base",
      "model_module_version": "3.0.0",
      "model_name": "LayoutModel",
      "state": {}
     },
     "cc461f39d63649d5b35982675999e0c1": {
      "model_module": "@jupyter-widgets/controls",
      "model_module_version": "3.0.0",
      "model_name": "DescriptionStyleModel",
      "state": {
       "description_width": "initial"
      }
     },
     "cc7f649e4d3b42b2bb25802f94705bfe": {
      "model_module": "@jupyter-widgets/base",
      "model_module_version": "3.0.0",
      "model_name": "LayoutModel",
      "state": {}
     },
     "cc960a04f92f4f65898c4f04c17e8f1a": {
      "model_module": "bqplot",
      "model_module_version": "^0.3.0-alpha.1",
      "model_name": "LinearScaleModel",
      "state": {
       "_model_module_version": "^0.3.0-alpha.1",
       "_view_module_version": "^0.3.0-alpha.1",
       "max": 30,
       "min": 0,
       "stabilized": false
      }
     },
     "ccbcb4bc53184856b7a9dd264672c3f7": {
      "model_module": "@jupyter-widgets/controls",
      "model_module_version": "3.0.0",
      "model_name": "VBoxModel",
      "state": {
       "children": [
        "IPY_MODEL_db5934504af5498788a0b4f31ec7c12f",
        "IPY_MODEL_271eb449062447309c32e5d6b7e9dfeb",
        "IPY_MODEL_d6f232193885432ba180bb56dace433f",
        "IPY_MODEL_16527a1f9ba84112ad44bfc2129a3ec0",
        "IPY_MODEL_d1758cca398643b5a23cc17e57e77a0c",
        "IPY_MODEL_cf88123282f04b85b41ecdd95d1c690b",
        "IPY_MODEL_5646689bacae4a3e83223754b668bb6c",
        "IPY_MODEL_b759497d585640bda99e6635ad63c23c",
        "IPY_MODEL_6975ba5f911949cda0c0acf40d7a97db",
        "IPY_MODEL_882b6b9ef547438eb0bc9da497302947",
        "IPY_MODEL_8dec810052e94e07a043251c9faf0871",
        "IPY_MODEL_e638997df95f44b58875cf8672884313",
        "IPY_MODEL_c119d142dff44bac808b40b00d183cfd",
        "IPY_MODEL_6119a2b0b315415d8fb586e07bfea649",
        "IPY_MODEL_da0e2b81cb2b4e05b005d574c66104f3",
        "IPY_MODEL_15f5d45c061b42ba865f40b750b26ceb"
       ],
       "layout": "IPY_MODEL_d54329342bdc4b8781ce40add59a5b04"
      }
     },
     "cd069d25dbee493780460a60a822173a": {
      "model_module": "@jupyter-widgets/controls",
      "model_module_version": "3.0.0",
      "model_name": "DescriptionStyleModel",
      "state": {
       "description_width": "initial"
      }
     },
     "cd539268b37e4d848695bd6801f7d46e": {
      "model_module": "@jupyter-widgets/controls",
      "model_module_version": "3.0.0",
      "model_name": "DescriptionStyleModel",
      "state": {
       "description_width": "initial"
      }
     },
     "cd5b1e2a60d24c1cb4640e065ae626a6": {
      "model_module": "@jupyter-widgets/base",
      "model_module_version": "3.0.0",
      "model_name": "LayoutModel",
      "state": {}
     },
     "cd7593de6a0b46d69d91dd0f1d5f895f": {
      "model_module": "@jupyter-widgets/controls",
      "model_module_version": "3.0.0",
      "model_name": "BoundedFloatTextModel",
      "state": {
       "description": "Shutdown Time (hr):",
       "layout": "IPY_MODEL_d1f56417b1714190b7215f7693eb66f3",
       "max": 24,
       "style": "IPY_MODEL_ec99378e74f44c758e6656be3da7636c"
      }
     },
     "cdbc6cef4ea74942abe6dfb14f5119f6": {
      "model_module": "@jupyter-widgets/base",
      "model_module_version": "3.0.0",
      "model_name": "LayoutModel",
      "state": {}
     },
     "cdea35e3135648a4a29279b4abff4238": {
      "model_module": "bqplot",
      "model_module_version": "^0.3.0-alpha.1",
      "model_name": "LinearScaleModel",
      "state": {
       "_model_module_version": "^0.3.0-alpha.1",
       "_view_module_version": "^0.3.0-alpha.1",
       "allow_padding": false,
       "max": 1,
       "min": 0,
       "stabilized": false
      }
     },
     "ce1f9b1b695a4d98aaa841eb03bb3a66": {
      "model_module": "@jupyter-widgets/controls",
      "model_module_version": "3.0.0",
      "model_name": "DescriptionStyleModel",
      "state": {
       "description_width": "initial"
      }
     },
     "ce2a346f3f624fd4b77d7d55bbd424e8": {
      "model_module": "@jupyter-widgets/controls",
      "model_module_version": "3.0.0",
      "model_name": "DescriptionStyleModel",
      "state": {
       "description_width": ""
      }
     },
     "ce425f6f28eb447f8d5c7a83afb063d2": {
      "model_module": "@jupyter-widgets/controls",
      "model_module_version": "3.0.0",
      "model_name": "DescriptionStyleModel",
      "state": {
       "description_width": "initial"
      }
     },
     "ce4c28989c884a3cbf5a742385a6e8d1": {
      "model_module": "@jupyter-widgets/controls",
      "model_module_version": "3.0.0",
      "model_name": "DescriptionStyleModel",
      "state": {
       "description_width": "initial"
      }
     },
     "ce51b01db1794c2f87507466ce8e2c6d": {
      "model_module": "@jupyter-widgets/controls",
      "model_module_version": "3.0.0",
      "model_name": "HBoxModel",
      "state": {
       "children": [
        "IPY_MODEL_ac2864d8939348638c688b081aa43227",
        "IPY_MODEL_1c7a6c4c9d254e5e8ee601adef6b9c39"
       ],
       "layout": "IPY_MODEL_4fdb6867d6854a7cbd0b3265c6ca7863"
      }
     },
     "ce904842a0c44563804d1e6369811fba": {
      "model_module": "@jupyter-widgets/controls",
      "model_module_version": "3.0.0",
      "model_name": "DescriptionStyleModel",
      "state": {
       "description_width": "initial"
      }
     },
     "ced01be53a0e43af87c7e8019696aa93": {
      "model_module": "@jupyter-widgets/controls",
      "model_module_version": "3.0.0",
      "model_name": "BoundedFloatTextModel",
      "state": {
       "description": "Initial Generation (MW):",
       "layout": "IPY_MODEL_593ba4da8efa4c8ca0fb6ebe844a43a0",
       "style": "IPY_MODEL_c6d33c9a05e54fc29619c34e14bba40b"
      }
     },
     "cf1dd2e55f68473f9964747f234f7074": {
      "model_module": "@jupyter-widgets/base",
      "model_module_version": "3.0.0",
      "model_name": "LayoutModel",
      "state": {}
     },
     "cf404d418c6743ce9868f46a1b513105": {
      "model_module": "@jupyter-widgets/base",
      "model_module_version": "3.0.0",
      "model_name": "LayoutModel",
      "state": {}
     },
     "cf4a232f690042d3961108f56c9896ba": {
      "model_module": "@jupyter-widgets/controls",
      "model_module_version": "3.0.0",
      "model_name": "DescriptionStyleModel",
      "state": {
       "description_width": "initial"
      }
     },
     "cf4c2028a9e041cd89c6e9489ab9aa4a": {
      "model_module": "@jupyter-widgets/base",
      "model_module_version": "3.0.0",
      "model_name": "LayoutModel",
      "state": {}
     },
     "cf4f63a2aa7c482ea15bad739c0d57ed": {
      "model_module": "@jupyter-widgets/controls",
      "model_module_version": "3.0.0",
      "model_name": "VBoxModel",
      "state": {
       "children": [
        "IPY_MODEL_2a79f127e0c348bf9a57c98b6afc9dae",
        "IPY_MODEL_003614937b2544f9b01428517ec5185b",
        "IPY_MODEL_f699ac5f3a3541098fc755e793952091",
        "IPY_MODEL_8867e57d6e4645ccabde40a1f0d0c03b",
        "IPY_MODEL_1b78ae2d949c48289c4073f304f27d0a",
        "IPY_MODEL_b48176d485ba448f80911e4aae6f8f7c",
        "IPY_MODEL_673e07b9e7a5464a807e6c1f2396adbc",
        "IPY_MODEL_973e3113b67842109b06969a00723a85",
        "IPY_MODEL_f786a2858e58455b8e6fe5c33a9f64aa",
        "IPY_MODEL_1809188bbf84476eaa9952bca9b9b1f3",
        "IPY_MODEL_5bee7d3e20b04f009898793f428a98f5",
        "IPY_MODEL_a5204b68a11d4e3e9afd9934e88fa1a8",
        "IPY_MODEL_93f2d7e390ad47e5a9fa9681ccc03264",
        "IPY_MODEL_f51c93b0705b444b94d672a4533f6621",
        "IPY_MODEL_8ec1d90717e64dd38240bed7699771f2",
        "IPY_MODEL_9ea6f48f43a84fefb8ea13f4e3cddc39"
       ],
       "layout": "IPY_MODEL_bbe2a87d115141078d933d63a67826b4"
      }
     },
     "cf666dfe428f4b8c81655c8650cbc81d": {
      "model_module": "@jupyter-widgets/controls",
      "model_module_version": "3.0.0",
      "model_name": "DescriptionStyleModel",
      "state": {
       "description_width": "initial"
      }
     },
     "cf88123282f04b85b41ecdd95d1c690b": {
      "model_module": "@jupyter-widgets/controls",
      "model_module_version": "3.0.0",
      "model_name": "BoundedFloatTextModel",
      "state": {
       "description": "Minimum Generation (MW):",
       "layout": "IPY_MODEL_cd5b1e2a60d24c1cb4640e065ae626a6",
       "style": "IPY_MODEL_18ef9a0dedee40569bfcb863c6c841c0"
      }
     },
     "cfbc93bf58c945d59fd7e9687b258084": {
      "model_module": "@jupyter-widgets/controls",
      "model_module_version": "3.0.0",
      "model_name": "HBoxModel",
      "state": {
       "children": [
        "IPY_MODEL_af108fb5c0394540840eec1af4e52748",
        "IPY_MODEL_a52b198e9b8945cbb1391c44d9afb3cd"
       ],
       "layout": "IPY_MODEL_ef02faefd0ea4f88a8231eb999e2fbdf"
      }
     },
     "cfdaab4e71104175b6669f20660f48aa": {
      "model_module": "bqplot",
      "model_module_version": "^0.3.0-alpha.1",
      "model_name": "LinearScaleModel",
      "state": {
       "_model_module_version": "^0.3.0-alpha.1",
       "_view_module_version": "^0.3.0-alpha.1",
       "allow_padding": false,
       "max": 1,
       "min": 0,
       "stabilized": false
      }
     },
     "d05a16d66bdf419ebde429269949e08a": {
      "model_module": "bqplot",
      "model_module_version": "^0.3.0-alpha.1",
      "model_name": "ScatterModel",
      "state": {
       "_model_module": "bqplot",
       "_model_module_version": "^0.3.0-alpha.1",
       "_view_count": null,
       "_view_module": "bqplot",
       "_view_module_version": "^0.3.0-alpha.1",
       "apply_clip": true,
       "color": {
        "type": null,
        "values": null
       },
       "colors": [
        "DeepSkyBlue"
       ],
       "display_legend": false,
       "enable_hover": true,
       "hovered_style": {},
       "interactions": {
        "hover": "tooltip"
       },
       "labels": [],
       "msg_throttle": 1,
       "names": {
        "type": null,
        "values": null
       },
       "opacity": {
        "type": null,
        "values": null
       },
       "preserve_domain": {},
       "rotation": {
        "type": null,
        "values": null
       },
       "scales": {
        "x": "IPY_MODEL_829cb28efcb845a48444926f05d169a5",
        "y": "IPY_MODEL_610291b7cefa4f03a0d67cfe3d97865c"
       },
       "scales_metadata": {
        "color": {
         "dimension": "color"
        },
        "opacity": {
         "dimension": "opacity"
        },
        "size": {
         "dimension": "size"
        },
        "x": {
         "dimension": "x",
         "orientation": "horizontal"
        },
        "y": {
         "dimension": "y",
         "orientation": "vertical"
        }
       },
       "selected": [],
       "selected_style": {},
       "size": {
        "type": null,
        "values": null
       },
       "skew": {
        "type": null,
        "values": null
       },
       "tooltip": null,
       "tooltip_location": "mouse",
       "tooltip_style": {
        "opacity": 0.9
       },
       "unhovered_style": {},
       "unselected_style": {},
       "visible": true,
       "x": {
        "type": "float",
        "values": [
         0,
         33.333333333333336,
         66.66666666666667,
         100
        ]
       },
       "y": {
        "type": "float",
        "values": [
         0,
         3,
         10,
         20
        ]
       }
      }
     },
     "d0674ee268b343a39cbd6cf88dca315b": {
      "model_module": "@jupyter-widgets/base",
      "model_module_version": "3.0.0",
      "model_name": "LayoutModel",
      "state": {}
     },
     "d09e68d7448d4f03a623c0ac0485f059": {
      "model_module": "@jupyter-widgets/base",
      "model_module_version": "3.0.0",
      "model_name": "LayoutModel",
      "state": {}
     },
     "d0b324b6f6384df384dbda5382f3df39": {
      "model_module": "@jupyter-widgets/base",
      "model_module_version": "3.0.0",
      "model_name": "LayoutModel",
      "state": {}
     },
     "d0c17311e9e54ddf8d577f6b69f01424": {
      "model_module": "@jupyter-widgets/base",
      "model_module_version": "3.0.0",
      "model_name": "LayoutModel",
      "state": {}
     },
     "d0f83545a0e5471b817d1838156feb77": {
      "model_module": "@jupyter-widgets/controls",
      "model_module_version": "3.0.0",
      "model_name": "DescriptionStyleModel",
      "state": {
       "description_width": "initial"
      }
     },
     "d13f7b109cc5460ca1ddb7398f6e2964": {
      "model_module": "@jupyter-widgets/base",
      "model_module_version": "3.0.0",
      "model_name": "LayoutModel",
      "state": {}
     },
     "d147adf03218475c826979e3d2cbf99e": {
      "model_module": "@jupyter-widgets/controls",
      "model_module_version": "3.0.0",
      "model_name": "HTMLModel",
      "state": {
       "layout": "IPY_MODEL_6a7c41243b434ca7a1df517ac5aaba97",
       "style": "IPY_MODEL_5d386a50bc03432680a10b4d3576b294",
       "value": "Generator:"
      }
     },
     "d155767183bc411aa459c6b6caec741c": {
      "model_module": "bqplot",
      "model_module_version": "^0.3.0-alpha.1",
      "model_name": "LinearScaleModel",
      "state": {
       "_model_module_version": "^0.3.0-alpha.1",
       "_view_module_version": "^0.3.0-alpha.1",
       "allow_padding": false,
       "max": 1,
       "min": 0,
       "stabilized": false
      }
     },
     "d1758cca398643b5a23cc17e57e77a0c": {
      "model_module": "@jupyter-widgets/controls",
      "model_module_version": "3.0.0",
      "model_name": "BoundedFloatTextModel",
      "state": {
       "description": "Capacity (MW):",
       "layout": "IPY_MODEL_46c71dbda2344652bd96614e8254b23a",
       "max": 10000000000,
       "style": "IPY_MODEL_c332afe4293e43f2a1cbc8fe38ee588b",
       "value": 100
      }
     },
     "d186e60f18fd468bb91f86e206fae278": {
      "model_module": "@jupyter-widgets/controls",
      "model_module_version": "3.0.0",
      "model_name": "DescriptionStyleModel",
      "state": {
       "description_width": ""
      }
     },
     "d18e74a7c62a44e59ab03b68bf7b2725": {
      "model_module": "@jupyter-widgets/controls",
      "model_module_version": "3.0.0",
      "model_name": "DropdownModel",
      "state": {
       "_options_labels": [
        "COAL",
        "NATURALGAS",
        "WIND"
       ],
       "description": "Generation Type:",
       "index": 0,
       "layout": "IPY_MODEL_3bb16d7d1ae446a69fb8a4ee6ba75a00",
       "style": "IPY_MODEL_deb381e90fd844e29ee59f90ed0413dd"
      }
     },
     "d1a14a23c3a343cbb121b2bb55d0190c": {
      "model_module": "bqplot",
      "model_module_version": "^0.3.0-alpha.1",
      "model_name": "AxisModel",
      "state": {
       "_model_module_version": "^0.3.0-alpha.1",
       "_view_module_version": "^0.3.0-alpha.1",
       "scale": "IPY_MODEL_b04d62441eb540419941c6ec97587acd",
       "side": "bottom",
       "tick_values": {
        "type": null,
        "values": null
       }
      }
     },
     "d1f39a8976014758b09e8ea8b0370b13": {
      "model_module": "@jupyter-widgets/controls",
      "model_module_version": "3.0.0",
      "model_name": "BoundedFloatTextModel",
      "state": {
       "description": "Minimum Up Time (hr):",
       "layout": "IPY_MODEL_2fcb01dc37f24302abe0c3b83775241b",
       "max": 24,
       "style": "IPY_MODEL_9a4021f18bc3482a8e75712163788f0e"
      }
     },
     "d1f56417b1714190b7215f7693eb66f3": {
      "model_module": "@jupyter-widgets/base",
      "model_module_version": "3.0.0",
      "model_name": "LayoutModel",
      "state": {}
     },
     "d22fcf5c38654928b4eba7c32c7fb1e5": {
      "model_module": "bqplot",
      "model_module_version": "^0.3.0-alpha.1",
      "model_name": "LinearScaleModel",
      "state": {
       "_model_module_version": "^0.3.0-alpha.1",
       "_view_module_version": "^0.3.0-alpha.1",
       "allow_padding": false,
       "max": 1,
       "min": 0,
       "stabilized": false
      }
     },
     "d23bf3408bfe426a972360dd1b452a84": {
      "model_module": "@jupyter-widgets/controls",
      "model_module_version": "3.0.0",
      "model_name": "BoundedFloatTextModel",
      "state": {
       "description": "Ramp Down Rate (MW/hr):",
       "layout": "IPY_MODEL_fdd7bea085a94dc8838a46205ec1ad2e",
       "style": "IPY_MODEL_146ad59113d248478ac2dfab6273858f"
      }
     },
     "d25700c3d51540e5b48701c002ddf4fc": {
      "model_module": "@jupyter-widgets/controls",
      "model_module_version": "3.0.0",
      "model_name": "DescriptionStyleModel",
      "state": {
       "description_width": "initial"
      }
     },
     "d262009f6fc04f6d87d0aabb57a22184": {
      "model_module": "@jupyter-widgets/controls",
      "model_module_version": "3.0.0",
      "model_name": "BoundedFloatTextModel",
      "state": {
       "description": "Ramp Down Rate (MW/hr):",
       "layout": "IPY_MODEL_9f376ea865d0481eb283839de0f26a2d",
       "style": "IPY_MODEL_1b61233ce7e540bcb401681e38be4010"
      }
     },
     "d2b02d389bd24829b872c634679eb57a": {
      "model_module": "@jupyter-widgets/base",
      "model_module_version": "3.0.0",
      "model_name": "LayoutModel",
      "state": {}
     },
     "d2d810e423cb4151963a1e38edda0624": {
      "model_module": "@jupyter-widgets/controls",
      "model_module_version": "3.0.0",
      "model_name": "DescriptionStyleModel",
      "state": {
       "description_width": "initial"
      }
     },
     "d2d84e1e804a43faa9e23966da30bffd": {
      "model_module": "@jupyter-widgets/controls",
      "model_module_version": "3.0.0",
      "model_name": "DescriptionStyleModel",
      "state": {
       "description_width": "initial"
      }
     },
     "d2f5c0e4ff684c068c41debae8bbcdee": {
      "model_module": "@jupyter-widgets/controls",
      "model_module_version": "3.0.0",
      "model_name": "BoundedFloatTextModel",
      "state": {
       "description": "Startup Cost ($/hr):",
       "layout": "IPY_MODEL_64cc83ee8beb4bfaa4ae61109cd4cfb3",
       "max": 10000000000,
       "style": "IPY_MODEL_837e3960a47849d699d6f7402855bc06"
      }
     },
     "d2fb07f511b842e7a2e361f4a5c6822f": {
      "model_module": "@jupyter-widgets/controls",
      "model_module_version": "3.0.0",
      "model_name": "BoundedFloatTextModel",
      "state": {
       "description": "Minimum Down Time (hr):",
       "layout": "IPY_MODEL_73cedc78f2a14b33b34724f348ca68a5",
       "max": 24,
       "style": "IPY_MODEL_56aa66052e35403fb5cee569f1c65876"
      }
     },
     "d30674e302424c16a7c830b66d7b8440": {
      "model_module": "@jupyter-widgets/controls",
      "model_module_version": "3.0.0",
      "model_name": "DescriptionStyleModel",
      "state": {
       "description_width": "initial"
      }
     },
     "d3182cb84dfd4be2b19b2518b67ec92d": {
      "model_module": "@jupyter-widgets/base",
      "model_module_version": "3.0.0",
      "model_name": "LayoutModel",
      "state": {}
     },
     "d32061fdc9a040e48d6a5029782f8dc2": {
      "model_module": "@jupyter-widgets/base",
      "model_module_version": "3.0.0",
      "model_name": "LayoutModel",
      "state": {}
     },
     "d3b08cd34c0f4ab08ff03f4cd1d9bb59": {
      "model_module": "bqplot",
      "model_module_version": "^0.3.0-alpha.1",
      "model_name": "AxisModel",
      "state": {
       "_model_module_version": "^0.3.0-alpha.1",
       "_view_module_version": "^0.3.0-alpha.1",
       "scale": "IPY_MODEL_f3a05d84dab841bba9ff96fa071825c6",
       "side": "bottom",
       "tick_values": {
        "type": null,
        "values": null
       }
      }
     },
     "d3f4f0b77f354fb8ad5400bac39282aa": {
      "model_module": "@jupyter-widgets/base",
      "model_module_version": "3.0.0",
      "model_name": "LayoutModel",
      "state": {}
     },
     "d40b2c19568740148bacf5fcf193986e": {
      "model_module": "@jupyter-widgets/controls",
      "model_module_version": "3.0.0",
      "model_name": "DescriptionStyleModel",
      "state": {
       "description_width": "initial"
      }
     },
     "d414ec409fd14516a1c38c3bc68ffed3": {
      "model_module": "bqplot",
      "model_module_version": "^0.3.0-alpha.1",
      "model_name": "LinearScaleModel",
      "state": {
       "_model_module_version": "^0.3.0-alpha.1",
       "_view_module_version": "^0.3.0-alpha.1",
       "allow_padding": false,
       "max": 1,
       "min": 0,
       "stabilized": false
      }
     },
     "d48c96a265d44859856160dffb6d5ff1": {
      "model_module": "bqplot",
      "model_module_version": "^0.3.0-alpha.1",
      "model_name": "LinearScaleModel",
      "state": {
       "_model_module_version": "^0.3.0-alpha.1",
       "_view_module_version": "^0.3.0-alpha.1",
       "max": 50,
       "min": 0,
       "stabilized": false
      }
     },
     "d4ce2b032d984b7caaf7da1bcaad3583": {
      "model_module": "@jupyter-widgets/controls",
      "model_module_version": "3.0.0",
      "model_name": "DescriptionStyleModel",
      "state": {
       "description_width": ""
      }
     },
     "d4fb41ca85b446a7867accf2fe48bb7e": {
      "model_module": "@jupyter-widgets/base",
      "model_module_version": "3.0.0",
      "model_name": "LayoutModel",
      "state": {}
     },
     "d509457317e94e3caba7e7823dcaad15": {
      "model_module": "bqplot",
      "model_module_version": "^0.3.0-alpha.1",
      "model_name": "LinearScaleModel",
      "state": {
       "_model_module_version": "^0.3.0-alpha.1",
       "_view_module_version": "^0.3.0-alpha.1",
       "max": 100,
       "min": 0,
       "stabilized": false
      }
     },
     "d52f8f3d341e485584a5ef771966ce9e": {
      "model_module": "@jupyter-widgets/controls",
      "model_module_version": "3.0.0",
      "model_name": "DescriptionStyleModel",
      "state": {
       "description_width": "initial"
      }
     },
     "d54329342bdc4b8781ce40add59a5b04": {
      "model_module": "@jupyter-widgets/base",
      "model_module_version": "3.0.0",
      "model_name": "LayoutModel",
      "state": {}
     },
     "d5988d63496143efb1c5fcfad72d0966": {
      "model_module": "bqplot",
      "model_module_version": "^0.3.0-alpha.1",
      "model_name": "AxisModel",
      "state": {
       "_model_module_version": "^0.3.0-alpha.1",
       "_view_module_version": "^0.3.0-alpha.1",
       "scale": "IPY_MODEL_c922fbe72edd429ebba2b4f483104883",
       "side": "bottom",
       "tick_values": {
        "type": null,
        "values": null
       }
      }
     },
     "d5bb3a424e4a426dada54eb820986161": {
      "model_module": "@jupyter-widgets/controls",
      "model_module_version": "3.0.0",
      "model_name": "BoundedFloatTextModel",
      "state": {
       "description": "Shutdown Time (hr):",
       "layout": "IPY_MODEL_2adf13df57784c97a95d47a99de5e29d",
       "max": 24,
       "style": "IPY_MODEL_15df15b24b2241e19336617910db94ff"
      }
     },
     "d5bc79960090453f92862c51024517d2": {
      "model_module": "@jupyter-widgets/controls",
      "model_module_version": "3.0.0",
      "model_name": "IntSliderModel",
      "state": {
       "description": "Number of Cost Curve Segments",
       "layout": "IPY_MODEL_196fbe1a3bbf41c48b10f72f5be4061a",
       "max": 50,
       "min": 2,
       "style": "IPY_MODEL_ec05cb5d558e4397ab19a4107176ff81",
       "value": 2
      }
     },
     "d5c36efa2b2a425781224d05b094b868": {
      "model_module": "@jupyter-widgets/controls",
      "model_module_version": "3.0.0",
      "model_name": "DescriptionStyleModel",
      "state": {
       "description_width": "initial"
      }
     },
     "d5ebbfa1603147ab9d91562ef224b879": {
      "model_module": "@jupyter-widgets/controls",
      "model_module_version": "3.0.0",
      "model_name": "SliderStyleModel",
      "state": {
       "description_width": "initial"
      }
     },
     "d62ddd3f04554b1cbada082cb75c9657": {
      "model_module": "@jupyter-widgets/controls",
      "model_module_version": "3.0.0",
      "model_name": "BoundedFloatTextModel",
      "state": {
       "description": "Minimum Up Time (hr):",
       "layout": "IPY_MODEL_532836eeb6244ea7be5a4eddba3559b5",
       "max": 24,
       "style": "IPY_MODEL_6549a6aa10d44d0cabd6370e89bc6c73"
      }
     },
     "d66b7d1715e34ec0a71b8ca2229636e2": {
      "model_module": "@jupyter-widgets/controls",
      "model_module_version": "3.0.0",
      "model_name": "TextModel",
      "state": {
       "description": "Name",
       "layout": "IPY_MODEL_c88b95bb346f47fa9113e2b1abe31b7d",
       "style": "IPY_MODEL_ce904842a0c44563804d1e6369811fba",
       "value": "GenCo0"
      }
     },
     "d68718ba0cbd4f28a2ed68cfbee484cd": {
      "model_module": "@jupyter-widgets/base",
      "model_module_version": "3.0.0",
      "model_name": "LayoutModel",
      "state": {}
     },
     "d69880ffadef45269789016cb03c5fd1": {
      "model_module": "@jupyter-widgets/controls",
      "model_module_version": "3.0.0",
      "model_name": "SliderStyleModel",
      "state": {
       "description_width": "initial"
      }
     },
     "d69dbbf294a74eaf901aa2bfeb50d57d": {
      "model_module": "@jupyter-widgets/controls",
      "model_module_version": "3.0.0",
      "model_name": "TextModel",
      "state": {
       "description": "Name",
       "layout": "IPY_MODEL_3a444eaab0404bc2bf8cdece682a57de",
       "style": "IPY_MODEL_48a37c7e28da45579c805db954dbbd40",
       "value": "GenCo0"
      }
     },
     "d69e741755884404b6b6689ac325e073": {
      "model_module": "@jupyter-widgets/base",
      "model_module_version": "3.0.0",
      "model_name": "LayoutModel",
      "state": {}
     },
     "d6d72850324345ac9405c2eb09ddbbc9": {
      "model_module": "@jupyter-widgets/controls",
      "model_module_version": "3.0.0",
      "model_name": "CheckboxModel",
      "state": {
       "description": "Initial Status:",
       "disabled": false,
       "layout": "IPY_MODEL_081c5263dad74a64b148b5f1a8e222a1",
       "style": "IPY_MODEL_3e13b370aada4d8ca9502ecfe9ead1f3",
       "value": true
      }
     },
     "d6f232193885432ba180bb56dace433f": {
      "model_module": "@jupyter-widgets/controls",
      "model_module_version": "3.0.0",
      "model_name": "CheckboxModel",
      "state": {
       "description": "Initial Status:",
       "disabled": false,
       "layout": "IPY_MODEL_5228a4ff80a84da0a6d1f3791346de7e",
       "style": "IPY_MODEL_37775ea3c0e24625bd9d98bf50ae91dc",
       "value": true
      }
     },
     "d733135671c04ed990f2991572f61b65": {
      "model_module": "@jupyter-widgets/base",
      "model_module_version": "3.0.0",
      "model_name": "LayoutModel",
      "state": {}
     },
     "d745a72e5a884d3b8603e62ad439a782": {
      "model_module": "bqplot",
      "model_module_version": "^0.3.0-alpha.1",
      "model_name": "LinearScaleModel",
      "state": {
       "_model_module_version": "^0.3.0-alpha.1",
       "_view_module_version": "^0.3.0-alpha.1",
       "allow_padding": false,
       "max": 1,
       "min": 0,
       "stabilized": false
      }
     },
     "d747042fe7bb457bad06d47d8294ee21": {
      "model_module": "@jupyter-widgets/base",
      "model_module_version": "3.0.0",
      "model_name": "LayoutModel",
      "state": {
       "min_width": "125px"
      }
     },
     "d748dbee832047958c4e81c667184e71": {
      "model_module": "@jupyter-widgets/controls",
      "model_module_version": "3.0.0",
      "model_name": "DescriptionStyleModel",
      "state": {
       "description_width": "initial"
      }
     },
     "d791a329f8284bb98f4bb82a0ca5fe1e": {
      "model_module": "@jupyter-widgets/controls",
      "model_module_version": "3.0.0",
      "model_name": "DescriptionStyleModel",
      "state": {
       "description_width": "initial"
      }
     },
     "d7a61fd598754d8bb62e32d0d4848b3a": {
      "model_module": "@jupyter-widgets/controls",
      "model_module_version": "3.0.0",
      "model_name": "BoundedFloatTextModel",
      "state": {
       "description": "Ramp Down Rate (MW/hr):",
       "layout": "IPY_MODEL_d8ef9ca6412a40dbb82200f1b79303b0",
       "style": "IPY_MODEL_651e749412654152887f9ca7bc450568"
      }
     },
     "d7d2e42fa9574b5d940536628dec7d55": {
      "model_module": "bqplot",
      "model_module_version": "^0.3.0-alpha.1",
      "model_name": "AxisModel",
      "state": {
       "_model_module_version": "^0.3.0-alpha.1",
       "_view_module_version": "^0.3.0-alpha.1",
       "scale": "IPY_MODEL_1e55e767fbb8484eaee2bd5b225c7e31",
       "side": "bottom",
       "tick_values": {
        "type": null,
        "values": null
       }
      }
     },
     "d7d97cf40b614539a555c24d4de34273": {
      "model_module": "bqplot",
      "model_module_version": "^0.3.0-alpha.1",
      "model_name": "LinearScaleModel",
      "state": {
       "_model_module_version": "^0.3.0-alpha.1",
       "_view_module_version": "^0.3.0-alpha.1",
       "allow_padding": false,
       "max": 1,
       "min": 0,
       "stabilized": false
      }
     },
     "d7e09a2591594dbaa8f17bc0393e1e6c": {
      "model_module": "bqplot",
      "model_module_version": "^0.3.0-alpha.1",
      "model_name": "LinearScaleModel",
      "state": {
       "_model_module_version": "^0.3.0-alpha.1",
       "_view_module_version": "^0.3.0-alpha.1",
       "max": 45,
       "min": 0,
       "stabilized": false
      }
     },
     "d7e8b2fd0b85406fbafb189bbaa67332": {
      "model_module": "@jupyter-widgets/base",
      "model_module_version": "3.0.0",
      "model_name": "LayoutModel",
      "state": {}
     },
     "d7f3c2e7b8da4bb699ac8d94a04b2cbb": {
      "model_module": "@jupyter-widgets/controls",
      "model_module_version": "3.0.0",
      "model_name": "DescriptionStyleModel",
      "state": {
       "description_width": "initial"
      }
     },
     "d8370ed4f9bd4e168597965480fb1180": {
      "model_module": "bqplot",
      "model_module_version": "^0.3.0-alpha.1",
      "model_name": "LinearScaleModel",
      "state": {
       "_model_module_version": "^0.3.0-alpha.1",
       "_view_module_version": "^0.3.0-alpha.1",
       "max": 100,
       "min": 0,
       "stabilized": false
      }
     },
     "d84ce4b706104ecd9a4cecd27adcc62f": {
      "model_module": "@jupyter-widgets/base",
      "model_module_version": "3.0.0",
      "model_name": "LayoutModel",
      "state": {}
     },
     "d8582334245b45e394cb58d18b85c31e": {
      "model_module": "bqplot",
      "model_module_version": "^0.3.0-alpha.1",
      "model_name": "AxisModel",
      "state": {
       "_model_module_version": "^0.3.0-alpha.1",
       "_view_module_version": "^0.3.0-alpha.1",
       "scale": "IPY_MODEL_bdccccd8cd0d4d61b41114540b39133e",
       "side": "bottom",
       "tick_values": {
        "type": null,
        "values": null
       }
      }
     },
     "d86078b5cde54d4e9872baba61d7354e": {
      "model_module": "@jupyter-widgets/controls",
      "model_module_version": "3.0.0",
      "model_name": "BoundedFloatTextModel",
      "state": {
       "description": "Shutdown Time (hr):",
       "layout": "IPY_MODEL_2284c57bfc3247c6bd395875fe83e0b5",
       "max": 24,
       "style": "IPY_MODEL_242bc72314754f6dafaa845da699b940"
      }
     },
     "d8ef9ca6412a40dbb82200f1b79303b0": {
      "model_module": "@jupyter-widgets/base",
      "model_module_version": "3.0.0",
      "model_name": "LayoutModel",
      "state": {}
     },
     "d909334205ef4e988b991b1d51c840a4": {
      "model_module": "@jupyter-widgets/controls",
      "model_module_version": "3.0.0",
      "model_name": "BoundedFloatTextModel",
      "state": {
       "description": "Ramp Down Rate (MW/hr):",
       "layout": "IPY_MODEL_a0953a5ca0744f3e9c30f5b1e10d38de",
       "style": "IPY_MODEL_97599b7363fe4ed3a1b1b906219d3055"
      }
     },
     "d90b9d038fdc4399b02d522f6a26da9a": {
      "model_module": "@jupyter-widgets/base",
      "model_module_version": "3.0.0",
      "model_name": "LayoutModel",
      "state": {}
     },
     "d92c56cb48f24bfa9da2041c20c2accc": {
      "model_module": "@jupyter-widgets/base",
      "model_module_version": "3.0.0",
      "model_name": "LayoutModel",
      "state": {}
     },
     "d92f80ea272d41ac8b462cafe951d79f": {
      "model_module": "@jupyter-widgets/controls",
      "model_module_version": "3.0.0",
      "model_name": "VBoxModel",
      "state": {
       "children": [
        "IPY_MODEL_a1a36e5266ac4fef99b3af9bed5d2fd2",
        "IPY_MODEL_be100a9c93d94935babd6949127dc2be",
        "IPY_MODEL_07197f29f74b4a60a909697c43e982ee",
        "IPY_MODEL_466f089423284085813af5cc2961101b",
        "IPY_MODEL_1d8f51e4b72b4e5f837e790b3b582bbf",
        "IPY_MODEL_c2b2976193c34788a93e3a5993c52460",
        "IPY_MODEL_ff4b95b3578f495c882846a009bc059e",
        "IPY_MODEL_8da717c4b4624d0dad3a578646c8e5e0",
        "IPY_MODEL_d2fb07f511b842e7a2e361f4a5c6822f",
        "IPY_MODEL_a626db38aaaa4dee8e8cfb586f3e1a98",
        "IPY_MODEL_123a2e589fa1429bbcdc293b56075ef5",
        "IPY_MODEL_634b167c74ea4cc0a5672305b3cfaa06",
        "IPY_MODEL_178c05ec4130440a9c7f631f249238fc",
        "IPY_MODEL_9c629add943d4cfbba7c8d893df89eb0",
        "IPY_MODEL_d2f5c0e4ff684c068c41debae8bbcdee",
        "IPY_MODEL_f2d10f3ac59e449cbe0fa678537d1cbf"
       ],
       "layout": "IPY_MODEL_3ef227df61044597a5c1b198d6283480"
      }
     },
     "d9548c4373cd4396a2702ffdb6cbd4ca": {
      "model_module": "@jupyter-widgets/base",
      "model_module_version": "3.0.0",
      "model_name": "LayoutModel",
      "state": {}
     },
     "d9990c0b71c1415f9e6a6a10942750db": {
      "model_module": "@jupyter-widgets/controls",
      "model_module_version": "3.0.0",
      "model_name": "BoundedFloatTextModel",
      "state": {
       "description": "Shutdown Time (hr):",
       "layout": "IPY_MODEL_66ecf2c4a0da40e5ac33e97e73d753a8",
       "max": 24,
       "style": "IPY_MODEL_1f4afe251d9f4fd9bf6b24196cbb4b4f"
      }
     },
     "d9a0e37d089f43ccb056195dc1407df2": {
      "model_module": "@jupyter-widgets/base",
      "model_module_version": "3.0.0",
      "model_name": "LayoutModel",
      "state": {}
     },
     "d9a71da8f22e4eec9e6cb58a47c39617": {
      "model_module": "@jupyter-widgets/controls",
      "model_module_version": "3.0.0",
      "model_name": "BoundedFloatTextModel",
      "state": {
       "description": "Minimum Down Time (hr):",
       "layout": "IPY_MODEL_b98223e9b677472d960f8bb8307f7cac",
       "max": 24,
       "style": "IPY_MODEL_bb4028b84bdc4f459fe097eb82da2dfe"
      }
     },
     "d9fa4591efe74f27b26ee41ae5241e79": {
      "model_module": "bqplot",
      "model_module_version": "^0.3.0-alpha.1",
      "model_name": "ScatterModel",
      "state": {
       "_model_module": "bqplot",
       "_model_module_version": "^0.3.0-alpha.1",
       "_view_count": null,
       "_view_module": "bqplot",
       "_view_module_version": "^0.3.0-alpha.1",
       "apply_clip": true,
       "color": {
        "type": null,
        "values": null
       },
       "colors": [
        "DeepSkyBlue"
       ],
       "display_legend": false,
       "enable_hover": true,
       "hovered_style": {},
       "interactions": {
        "hover": "tooltip"
       },
       "labels": [],
       "msg_throttle": 1,
       "names": {
        "type": null,
        "values": null
       },
       "opacity": {
        "type": null,
        "values": null
       },
       "preserve_domain": {},
       "rotation": {
        "type": null,
        "values": null
       },
       "scales": {
        "x": "IPY_MODEL_bdccccd8cd0d4d61b41114540b39133e",
        "y": "IPY_MODEL_97e44cfa906140e68e9500b87876215c"
       },
       "scales_metadata": {
        "color": {
         "dimension": "color"
        },
        "opacity": {
         "dimension": "opacity"
        },
        "size": {
         "dimension": "size"
        },
        "x": {
         "dimension": "x",
         "orientation": "horizontal"
        },
        "y": {
         "dimension": "y",
         "orientation": "vertical"
        }
       },
       "selected": [],
       "selected_style": {},
       "size": {
        "type": null,
        "values": null
       },
       "skew": {
        "type": null,
        "values": null
       },
       "tooltip": null,
       "tooltip_location": "mouse",
       "tooltip_style": {
        "opacity": 0.9
       },
       "unhovered_style": {},
       "unselected_style": {},
       "visible": true,
       "x": {
        "type": "float",
        "values": [
         0,
         33.333333333333336,
         66.66666666666667,
         100
        ]
       },
       "y": {
        "type": "float",
        "values": [
         0,
         3,
         10,
         20
        ]
       }
      }
     },
     "da0200fcd3b54e42a19b61e39146bbad": {
      "model_module": "bqplot",
      "model_module_version": "^0.3.0-alpha.1",
      "model_name": "FigureModel",
      "state": {
       "_dom_classes": [],
       "_model_module_version": "^0.3.0-alpha.1",
       "_view_module_version": "^0.3.0-alpha.1",
       "axes": [
        "IPY_MODEL_d5988d63496143efb1c5fcfad72d0966",
        "IPY_MODEL_0ae37935b3344fcfb1bf528ed6ac7820"
       ],
       "layout": "IPY_MODEL_f1213852897c4dd69016f427f3d4fb9a",
       "marks": [
        "IPY_MODEL_2ba8f389ae2a44f8bdd9348a7270dd41"
       ],
       "max_aspect_ratio": 6,
       "scale_x": "IPY_MODEL_baa22098c29442fd82352a714115b840",
       "scale_y": "IPY_MODEL_989c17b532344c4a891a64536b04e1ec"
      }
     },
     "da0e2b81cb2b4e05b005d574c66104f3": {
      "model_module": "@jupyter-widgets/controls",
      "model_module_version": "3.0.0",
      "model_name": "BoundedFloatTextModel",
      "state": {
       "description": "Startup Cost ($/hr):",
       "layout": "IPY_MODEL_cb4ac25bf781473a848360b0de7a6c58",
       "max": 10000000000,
       "style": "IPY_MODEL_9d577f1cb6754b62a1f92df72aa9ef1b"
      }
     },
     "da3b6d563f5b46848d1bcf60436195cf": {
      "model_module": "bqplot",
      "model_module_version": "^0.3.0-alpha.1",
      "model_name": "AxisModel",
      "state": {
       "_model_module_version": "^0.3.0-alpha.1",
       "_view_module_version": "^0.3.0-alpha.1",
       "scale": "IPY_MODEL_2a52a21d1537474eaa5755071443b43f",
       "side": "bottom",
       "tick_values": {
        "type": null,
        "values": null
       }
      }
     },
     "dab02a1c78f2406ba02edce7a8d43158": {
      "model_module": "@jupyter-widgets/controls",
      "model_module_version": "3.0.0",
      "model_name": "BoundedFloatTextModel",
      "state": {
       "description": "Ramp Up Rate (MW/hr):",
       "layout": "IPY_MODEL_846f6a2101104d75b9f086ec60b4e6b1",
       "style": "IPY_MODEL_7952914ca79b4c7dbc5c22a5247fa299"
      }
     },
     "dad73639923c4d8590f9125f66754d2b": {
      "model_module": "@jupyter-widgets/base",
      "model_module_version": "3.0.0",
      "model_name": "LayoutModel",
      "state": {}
     },
     "daf8ae6012be41f9826c59b103298f2d": {
      "model_module": "@jupyter-widgets/controls",
      "model_module_version": "3.0.0",
      "model_name": "HTMLModel",
      "state": {
       "layout": "IPY_MODEL_6ce8d6893465442b995241774d5bb3eb",
       "style": "IPY_MODEL_8c5f4dbe5eb04d938b83f642687f4bc6",
       "value": "Generator:"
      }
     },
     "db0d0428d18c484aac8e30a75673d491": {
      "model_module": "@jupyter-widgets/controls",
      "model_module_version": "3.0.0",
      "model_name": "SliderStyleModel",
      "state": {
       "description_width": "initial"
      }
     },
     "db0fda65e4314f5ab9411a40973eae42": {
      "model_module": "@jupyter-widgets/base",
      "model_module_version": "3.0.0",
      "model_name": "LayoutModel",
      "state": {}
     },
     "db2382eef53f4637b7824a5e271770d2": {
      "model_module": "@jupyter-widgets/controls",
      "model_module_version": "3.0.0",
      "model_name": "BoundedFloatTextModel",
      "state": {
       "description": "Minimum Generation (MW):",
       "layout": "IPY_MODEL_4890682ef2b2436dab316c83f009652f",
       "style": "IPY_MODEL_3ce66effac244cbfbdd594846c467da7"
      }
     },
     "db2ad612640b49ad85555ca8a11a9001": {
      "model_module": "bqplot",
      "model_module_version": "^0.3.0-alpha.1",
      "model_name": "LinearScaleModel",
      "state": {
       "_model_module_version": "^0.3.0-alpha.1",
       "_view_module_version": "^0.3.0-alpha.1",
       "max": 0,
       "min": 0,
       "stabilized": false
      }
     },
     "db3f80f8793341a89e3e22194b82174e": {
      "model_module": "@jupyter-widgets/controls",
      "model_module_version": "3.0.0",
      "model_name": "VBoxModel",
      "state": {
       "children": [
        "IPY_MODEL_86ab9f99c77543469c79a8570af9a655"
       ],
       "layout": "IPY_MODEL_4cfd00e2a9634755a5f92ef43dd4ed37"
      }
     },
     "db5934504af5498788a0b4f31ec7c12f": {
      "model_module": "@jupyter-widgets/controls",
      "model_module_version": "3.0.0",
      "model_name": "HTMLModel",
      "state": {
       "layout": "IPY_MODEL_dc0f7a02490943ee90173b2bd43115e5",
       "style": "IPY_MODEL_778c7748c24c41deb4dad1fc716a42b2",
       "value": "Generator:"
      }
     },
     "dc0f7a02490943ee90173b2bd43115e5": {
      "model_module": "@jupyter-widgets/base",
      "model_module_version": "3.0.0",
      "model_name": "LayoutModel",
      "state": {}
     },
     "dc2b5b21f3884743a927e74be7a6425d": {
      "model_module": "@jupyter-widgets/controls",
      "model_module_version": "3.0.0",
      "model_name": "BoundedFloatTextModel",
      "state": {
       "description": "Minimum Generation (MW):",
       "layout": "IPY_MODEL_be627014b19f4c44907d1277e6af638e",
       "style": "IPY_MODEL_4384c5a0ba81468384aed2eed844167e"
      }
     },
     "dc4c1eb36b84424dafdf6818909e0ae3": {
      "model_module": "@jupyter-widgets/base",
      "model_module_version": "3.0.0",
      "model_name": "LayoutModel",
      "state": {
       "min_width": "125px"
      }
     },
     "dc53362b4e224582a2cc30f6f5421637": {
      "model_module": "@jupyter-widgets/controls",
      "model_module_version": "3.0.0",
      "model_name": "DropdownModel",
      "state": {
       "_options_labels": [
        "COAL",
        "NATURALGAS",
        "WIND"
       ],
       "description": "Generation Type:",
       "index": 0,
       "layout": "IPY_MODEL_11e4d9b2e62f42d78cd29ad71d31fce2",
       "style": "IPY_MODEL_28f381bd2c2b4256bc737e60f941c9fd"
      }
     },
     "dc56f3cc01e644f7bdeb58094ce20349": {
      "model_module": "bqplot",
      "model_module_version": "^0.3.0-alpha.1",
      "model_name": "AxisModel",
      "state": {
       "_model_module_version": "^0.3.0-alpha.1",
       "_view_module_version": "^0.3.0-alpha.1",
       "orientation": "vertical",
       "scale": "IPY_MODEL_44b1bdf0600c40a6892fe5ca176d0eca",
       "side": "left",
       "tick_values": {
        "type": null,
        "values": null
       }
      }
     },
     "dc8780f37ae941f88b67e087b706074b": {
      "model_module": "@jupyter-widgets/controls",
      "model_module_version": "3.0.0",
      "model_name": "VBoxModel",
      "state": {
       "children": [
        "IPY_MODEL_daf8ae6012be41f9826c59b103298f2d",
        "IPY_MODEL_a04ef99a59994ebc9aaaeeccdb9b443b",
        "IPY_MODEL_10d7919b8c704ee1be8e697e641b8463",
        "IPY_MODEL_45d8608438f645e993c249bc3fe213cd",
        "IPY_MODEL_06ada10579b74a1d866367ecb3873d46",
        "IPY_MODEL_16b7e91377534d2abdebd6c788fc748e",
        "IPY_MODEL_ca61a250a02d40b8a9446a4a09121fea",
        "IPY_MODEL_7fe6c76a4b354ffa966d8a7066f71847",
        "IPY_MODEL_b3c7529741c5461eaa89a1d8133cc9d3",
        "IPY_MODEL_19045b1e9c4d4e689a429771f84d6fdc",
        "IPY_MODEL_dab02a1c78f2406ba02edce7a8d43158",
        "IPY_MODEL_372f929083384b5e99e781a1ee1d7527",
        "IPY_MODEL_8cf3c62136a14540aca22e5c05110d89",
        "IPY_MODEL_f490ac3ed34f41f590f7a3b6cc8e1539",
        "IPY_MODEL_9b508ed27a824f119a169fe322573112",
        "IPY_MODEL_ab6162f751914206be54de32b52543ab"
       ],
       "layout": "IPY_MODEL_23028e2bd4ce46f2bba6621b0a73c362"
      }
     },
     "dcf76a1826214493b642fddc42951e3d": {
      "model_module": "@jupyter-widgets/controls",
      "model_module_version": "3.0.0",
      "model_name": "BoundedFloatTextModel",
      "state": {
       "description": "Capacity (MW):",
       "layout": "IPY_MODEL_17620cb9c35f45d9aaa4203ccff96103",
       "max": 10000000000,
       "style": "IPY_MODEL_38d1702306db4a3fb24e17c650eccf69",
       "value": 200
      }
     },
     "dcfe11e2253e4db4b405c7f5987475cf": {
      "model_module": "@jupyter-widgets/controls",
      "model_module_version": "3.0.0",
      "model_name": "HBoxModel",
      "state": {
       "children": [
        "IPY_MODEL_dc8780f37ae941f88b67e087b706074b",
        "IPY_MODEL_ec9712cfa14a40a9812ee20ef0208f83"
       ],
       "layout": "IPY_MODEL_4c242971953f43fc8283dd0676fa6695"
      }
     },
     "dd06e0f493d24e4daad32750a3ff984a": {
      "model_module": "bqplot",
      "model_module_version": "^0.3.0-alpha.1",
      "model_name": "LinearScaleModel",
      "state": {
       "_model_module_version": "^0.3.0-alpha.1",
       "_view_module_version": "^0.3.0-alpha.1",
       "allow_padding": false,
       "max": 1,
       "min": 0,
       "stabilized": false
      }
     },
     "dd889bb2f62e4feebd3c4ac6ad3ea33c": {
      "model_module": "@jupyter-widgets/controls",
      "model_module_version": "3.0.0",
      "model_name": "BoundedFloatTextModel",
      "state": {
       "description": "Capacity (MW):",
       "layout": "IPY_MODEL_b6274cb2b76d48e188558392dd28dcde",
       "max": 10000000000,
       "style": "IPY_MODEL_7264f9e2c43e479db5e14f17fd352fe7",
       "value": 100
      }
     },
     "de0010f4908d4329bf789aecd758f914": {
      "model_module": "@jupyter-widgets/controls",
      "model_module_version": "3.0.0",
      "model_name": "BoundedFloatTextModel",
      "state": {
       "description": "Shutdown Time (hr):",
       "layout": "IPY_MODEL_f184bfc39d7541178b5560673fe0e34a",
       "max": 24,
       "style": "IPY_MODEL_27a2184ecea845cd8640325f88b15b7f"
      }
     },
     "de02ac4ed31e486786305f394e123194": {
      "model_module": "@jupyter-widgets/base",
      "model_module_version": "3.0.0",
      "model_name": "LayoutModel",
      "state": {}
     },
     "de391ff5fc2b40bea7c8868089a39628": {
      "model_module": "@jupyter-widgets/controls",
      "model_module_version": "3.0.0",
      "model_name": "DescriptionStyleModel",
      "state": {
       "description_width": "initial"
      }
     },
     "de4f15a807284658918f7aa1a9694024": {
      "model_module": "@jupyter-widgets/base",
      "model_module_version": "3.0.0",
      "model_name": "LayoutModel",
      "state": {}
     },
     "de67d58f54504968bef10e2df1e3f21c": {
      "model_module": "@jupyter-widgets/controls",
      "model_module_version": "3.0.0",
      "model_name": "DescriptionStyleModel",
      "state": {
       "description_width": "initial"
      }
     },
     "de9a47f6e33b42fdb4ed0b9563dd6fc5": {
      "model_module": "@jupyter-widgets/controls",
      "model_module_version": "3.0.0",
      "model_name": "DescriptionStyleModel",
      "state": {
       "description_width": "initial"
      }
     },
     "deb381e90fd844e29ee59f90ed0413dd": {
      "model_module": "@jupyter-widgets/controls",
      "model_module_version": "3.0.0",
      "model_name": "DescriptionStyleModel",
      "state": {
       "description_width": "initial"
      }
     },
     "debc3b49f6d848229084c00a63389f85": {
      "model_module": "@jupyter-widgets/base",
      "model_module_version": "3.0.0",
      "model_name": "LayoutModel",
      "state": {
       "min_width": "125px"
      }
     },
     "df138dd14a474bce8a617c0d75251c16": {
      "model_module": "@jupyter-widgets/controls",
      "model_module_version": "3.0.0",
      "model_name": "VBoxModel",
      "state": {
       "children": [
        "IPY_MODEL_03c0b082af8d48dcaf1511e6df023a48",
        "IPY_MODEL_b446200591a14badb646dc8eb7c23f1d",
        "IPY_MODEL_f879e0cca3ed44f2ad08f98ba8c9b427",
        "IPY_MODEL_c58c14ac55ce4352866f612629b50f65",
        "IPY_MODEL_dcf76a1826214493b642fddc42951e3d",
        "IPY_MODEL_a3eede763af74dce8518d83a3d12c562",
        "IPY_MODEL_8ba8a78517c5437684f07f294af221fa",
        "IPY_MODEL_bd967dd8f4204b7a91b392f4f1cea6e7",
        "IPY_MODEL_a4c6926395a945a88a788b763fcfd2e3",
        "IPY_MODEL_6abaac687f8e4cc990cf61526fe1300a",
        "IPY_MODEL_14bf28f65c364762adb652095a41b177",
        "IPY_MODEL_f393722492734fbc9a3e70a722bcece8",
        "IPY_MODEL_f79c1932b5084496832eb40f5eccffce",
        "IPY_MODEL_846074d3e1e54cf584b32d47c62c0a91",
        "IPY_MODEL_94170613198049cf9e3fc3b49bfb2d8f",
        "IPY_MODEL_e9a9e604bcba4fabadfb2d7a5885f2ae"
       ],
       "layout": "IPY_MODEL_233094464ba14457b2cedc0a032260b1"
      }
     },
     "df2e9fb56f754446be798d9dc30c86c2": {
      "model_module": "@jupyter-widgets/controls",
      "model_module_version": "3.0.0",
      "model_name": "DescriptionStyleModel",
      "state": {
       "description_width": "initial"
      }
     },
     "df877082ebdf4cc3b974076371f44f63": {
      "model_module": "@jupyter-widgets/base",
      "model_module_version": "3.0.0",
      "model_name": "LayoutModel",
      "state": {}
     },
     "df8c44f35806451cb25082c91e487f13": {
      "model_module": "@jupyter-widgets/controls",
      "model_module_version": "3.0.0",
      "model_name": "BoundedFloatTextModel",
      "state": {
       "description": "Startup Cost ($/hr):",
       "layout": "IPY_MODEL_3226c4f8854a4196916489d15114767a",
       "max": 10000000000,
       "style": "IPY_MODEL_8f1e31caa75a42f4bc4ea3424c854a82"
      }
     },
     "e00af5fe4a9d4c6bb1e484662ba9d1e8": {
      "model_module": "@jupyter-widgets/base",
      "model_module_version": "3.0.0",
      "model_name": "LayoutModel",
      "state": {
       "min_width": "125px"
      }
     },
     "e00eb5ccffea4374a3a754e84b7bbd47": {
      "model_module": "@jupyter-widgets/base",
      "model_module_version": "3.0.0",
      "model_name": "LayoutModel",
      "state": {
       "min_width": "125px"
      }
     },
     "e05028c488e240129299e527b7c2fb6f": {
      "model_module": "@jupyter-widgets/controls",
      "model_module_version": "3.0.0",
      "model_name": "BoundedFloatTextModel",
      "state": {
       "description": "Ramp Up Rate (MW/hr):",
       "layout": "IPY_MODEL_c7c542d52b6f41b1a8d54b581ca9d8fa",
       "style": "IPY_MODEL_0137d6844e1f440f876ea1d3be1ce039"
      }
     },
     "e0ab6adb73d54b3c9f345b983962ac8f": {
      "model_module": "@jupyter-widgets/controls",
      "model_module_version": "3.0.0",
      "model_name": "BoundedFloatTextModel",
      "state": {
       "description": "Minimum Down Time (hr):",
       "layout": "IPY_MODEL_c85a05928b93440da00f7429740ad3b4",
       "max": 24,
       "style": "IPY_MODEL_f18cb33ef73d4f098014985d908ce130"
      }
     },
     "e0ad33c09f574e65ac5425f60f894907": {
      "model_module": "bqplot",
      "model_module_version": "^0.3.0-alpha.1",
      "model_name": "ScatterModel",
      "state": {
       "_model_module": "bqplot",
       "_model_module_version": "^0.3.0-alpha.1",
       "_view_count": null,
       "_view_module": "bqplot",
       "_view_module_version": "^0.3.0-alpha.1",
       "apply_clip": true,
       "color": {
        "type": null,
        "values": null
       },
       "colors": [
        "DeepSkyBlue"
       ],
       "display_legend": false,
       "enable_hover": true,
       "hovered_style": {},
       "interactions": {
        "hover": "tooltip"
       },
       "labels": [],
       "msg_throttle": 1,
       "names": {
        "type": null,
        "values": null
       },
       "opacity": {
        "type": null,
        "values": null
       },
       "preserve_domain": {},
       "rotation": {
        "type": null,
        "values": null
       },
       "scales": {
        "x": "IPY_MODEL_eeca746e28f14b2485d0d6228fcf1e4f",
        "y": "IPY_MODEL_0fdfced2aa6244028d2d789f3377bbae"
       },
       "scales_metadata": {
        "color": {
         "dimension": "color"
        },
        "opacity": {
         "dimension": "opacity"
        },
        "size": {
         "dimension": "size"
        },
        "x": {
         "dimension": "x",
         "orientation": "horizontal"
        },
        "y": {
         "dimension": "y",
         "orientation": "vertical"
        }
       },
       "selected": [],
       "selected_style": {},
       "size": {
        "type": null,
        "values": null
       },
       "skew": {
        "type": null,
        "values": null
       },
       "tooltip": null,
       "tooltip_location": "mouse",
       "tooltip_style": {
        "opacity": 0.9
       },
       "unhovered_style": {},
       "unselected_style": {},
       "visible": true,
       "x": {
        "type": "float",
        "values": [
         0,
         33.333333333333336,
         66.66666666666667,
         100
        ]
       },
       "y": {
        "type": "float",
        "values": [
         0,
         3,
         10,
         20
        ]
       }
      }
     },
     "e0eac22bd5234b1395d78e97c382cc57": {
      "model_module": "@jupyter-widgets/controls",
      "model_module_version": "3.0.0",
      "model_name": "DescriptionStyleModel",
      "state": {
       "description_width": "initial"
      }
     },
     "e0ef3d7d0b4b4132a649572a3e5ac4c8": {
      "model_module": "@jupyter-widgets/controls",
      "model_module_version": "3.0.0",
      "model_name": "DescriptionStyleModel",
      "state": {
       "description_width": "initial"
      }
     },
     "e0fcb38076ef495e8738625105e19e6b": {
      "model_module": "@jupyter-widgets/controls",
      "model_module_version": "3.0.0",
      "model_name": "DescriptionStyleModel",
      "state": {
       "description_width": "initial"
      }
     },
     "e1918296a3994b158ec1ac44c01ac3de": {
      "model_module": "@jupyter-widgets/controls",
      "model_module_version": "3.0.0",
      "model_name": "BoundedFloatTextModel",
      "state": {
       "description": "Shutdown Time (hr):",
       "layout": "IPY_MODEL_a9f795df27f74a2e9ecdd43717f2eea5",
       "max": 24,
       "style": "IPY_MODEL_037601efcbac4873857c5e7c1f166ce4"
      }
     },
     "e1ac7736e7984d90a0472bea76df6b97": {
      "model_module": "@jupyter-widgets/controls",
      "model_module_version": "3.0.0",
      "model_name": "HTMLModel",
      "state": {
       "layout": "IPY_MODEL_5526293ce59d422c8305ad2c762f16f4",
       "style": "IPY_MODEL_71d03fb809ee40f0b64bf4fe5cea3974",
       "value": "Generator:"
      }
     },
     "e2552b5320104ee3be2ffbeb6c871f27": {
      "model_module": "@jupyter-widgets/controls",
      "model_module_version": "3.0.0",
      "model_name": "TextModel",
      "state": {
       "description": "Name",
       "layout": "IPY_MODEL_ee02fc78f4174958b11c807d811cff45",
       "style": "IPY_MODEL_9270da77a66042918a6a5a9d3b9322fe",
       "value": "GenCo0"
      }
     },
     "e25c4c62caf94913be0a29905b84ac66": {
      "model_module": "bqplot",
      "model_module_version": "^0.3.0-alpha.1",
      "model_name": "LinearScaleModel",
      "state": {
       "_model_module_version": "^0.3.0-alpha.1",
       "_view_module_version": "^0.3.0-alpha.1",
       "allow_padding": false,
       "max": 1,
       "min": 0,
       "stabilized": false
      }
     },
     "e2d4c3547e7447d88e86ff9338901080": {
      "model_module": "@jupyter-widgets/base",
      "model_module_version": "3.0.0",
      "model_name": "LayoutModel",
      "state": {}
     },
     "e308058998aa44c9b70bb292bf7dc5da": {
      "model_module": "bqplot",
      "model_module_version": "^0.3.0-alpha.1",
      "model_name": "LinearScaleModel",
      "state": {
       "_model_module_version": "^0.3.0-alpha.1",
       "_view_module_version": "^0.3.0-alpha.1",
       "allow_padding": false,
       "max": 1,
       "min": 0,
       "stabilized": false
      }
     },
     "e31cb40c9ce54994b346cf9745b83555": {
      "model_module": "@jupyter-widgets/controls",
      "model_module_version": "3.0.0",
      "model_name": "DescriptionStyleModel",
      "state": {
       "description_width": "initial"
      }
     },
     "e3d155e4c518419e9c03bddc89963bef": {
      "model_module": "bqplot",
      "model_module_version": "^0.3.0-alpha.1",
      "model_name": "AxisModel",
      "state": {
       "_model_module_version": "^0.3.0-alpha.1",
       "_view_module_version": "^0.3.0-alpha.1",
       "scale": "IPY_MODEL_eeca746e28f14b2485d0d6228fcf1e4f",
       "side": "bottom",
       "tick_values": {
        "type": null,
        "values": null
       }
      }
     },
     "e3d54603b3e34d1a839ad43b59cfb484": {
      "model_module": "@jupyter-widgets/base",
      "model_module_version": "3.0.0",
      "model_name": "LayoutModel",
      "state": {}
     },
     "e414a8b54fd74d34823d886279e71497": {
      "model_module": "bqplot",
      "model_module_version": "^0.3.0-alpha.1",
      "model_name": "LinesModel",
      "state": {
       "_model_module_version": "^0.3.0-alpha.1",
       "_view_module_version": "^0.3.0-alpha.1",
       "color": {
        "type": null,
        "values": null
       },
       "display_legend": false,
       "fill_colors": [],
       "labels": [
        "C1"
       ],
       "scales": {
        "x": "IPY_MODEL_2a52a21d1537474eaa5755071443b43f",
        "y": "IPY_MODEL_4442700008ec49d5acb87319b9912660"
       },
       "selected": [],
       "x": {
        "type": "float",
        "values": [
         0,
         33.333333333333336,
         66.66666666666667,
         100
        ]
       },
       "y": {
        "type": "float",
        "values": [
         0,
         0,
         0,
         0
        ]
       }
      }
     },
     "e41a5b9d5e0c401eb19fcb5d1f69c64c": {
      "model_module": "@jupyter-widgets/controls",
      "model_module_version": "3.0.0",
      "model_name": "DescriptionStyleModel",
      "state": {
       "description_width": "initial"
      }
     },
     "e42270f10b9943b68ac5a2fd89e84161": {
      "model_module": "@jupyter-widgets/base",
      "model_module_version": "3.0.0",
      "model_name": "LayoutModel",
      "state": {}
     },
     "e4756216daa046a680ef1a5e414f8b33": {
      "model_module": "@jupyter-widgets/controls",
      "model_module_version": "3.0.0",
      "model_name": "DescriptionStyleModel",
      "state": {
       "description_width": "initial"
      }
     },
     "e47ecb2ecd3b43b2848f9b7c6e3e1682": {
      "model_module": "@jupyter-widgets/base",
      "model_module_version": "3.0.0",
      "model_name": "LayoutModel",
      "state": {}
     },
     "e4d5cabfb13a4c5a8ec79cbe8a637e68": {
      "model_module": "@jupyter-widgets/controls",
      "model_module_version": "3.0.0",
      "model_name": "DescriptionStyleModel",
      "state": {
       "description_width": "initial"
      }
     },
     "e4ee7cd05bbb49bfb287df6675f69ddb": {
      "model_module": "@jupyter-widgets/base",
      "model_module_version": "3.0.0",
      "model_name": "LayoutModel",
      "state": {}
     },
     "e55f8453befc42a181bbea078f2f4751": {
      "model_module": "@jupyter-widgets/controls",
      "model_module_version": "3.0.0",
      "model_name": "DescriptionStyleModel",
      "state": {
       "description_width": "initial"
      }
     },
     "e560c4b7e80348d88afc192ff74c5285": {
      "model_module": "@jupyter-widgets/base",
      "model_module_version": "3.0.0",
      "model_name": "LayoutModel",
      "state": {}
     },
     "e59b4c8df4dd429196335c13327df0f9": {
      "model_module": "bqplot",
      "model_module_version": "^0.3.0-alpha.1",
      "model_name": "AxisModel",
      "state": {
       "_model_module_version": "^0.3.0-alpha.1",
       "_view_module_version": "^0.3.0-alpha.1",
       "scale": "IPY_MODEL_c1959c8e609a4cb4ac41a4ceb020be95",
       "side": "bottom",
       "tick_values": {
        "type": null,
        "values": null
       }
      }
     },
     "e5b9e17dfb7f4a8db7e4d0cb9b88ba9b": {
      "model_module": "@jupyter-widgets/base",
      "model_module_version": "3.0.0",
      "model_name": "LayoutModel",
      "state": {}
     },
     "e60c1d6b9b6847edbdefb2ceb5368977": {
      "model_module": "@jupyter-widgets/controls",
      "model_module_version": "3.0.0",
      "model_name": "BoundedFloatTextModel",
      "state": {
       "description": "Minimum Up Time (hr):",
       "layout": "IPY_MODEL_d68718ba0cbd4f28a2ed68cfbee484cd",
       "max": 24,
       "style": "IPY_MODEL_cd539268b37e4d848695bd6801f7d46e"
      }
     },
     "e6107c2a8e84478fa0319449a4bd1f04": {
      "model_module": "@jupyter-widgets/controls",
      "model_module_version": "3.0.0",
      "model_name": "HTMLModel",
      "state": {
       "layout": "IPY_MODEL_633eab04918244499954144792ce5ad4",
       "style": "IPY_MODEL_d4ce2b032d984b7caaf7da1bcaad3583",
       "value": "Generator:"
      }
     },
     "e61c5640e80043c2a05d85af95ccdb40": {
      "model_module": "bqplot",
      "model_module_version": "^0.3.0-alpha.1",
      "model_name": "AxisModel",
      "state": {
       "_model_module_version": "^0.3.0-alpha.1",
       "_view_module_version": "^0.3.0-alpha.1",
       "scale": "IPY_MODEL_2ca3f277319248c5bcafa9047726c025",
       "side": "bottom",
       "tick_values": {
        "type": null,
        "values": null
       }
      }
     },
     "e638997df95f44b58875cf8672884313": {
      "model_module": "@jupyter-widgets/controls",
      "model_module_version": "3.0.0",
      "model_name": "BoundedFloatTextModel",
      "state": {
       "description": "Startup Time (hr):",
       "layout": "IPY_MODEL_bb774383698a4f6793ca7c834331f66c",
       "max": 24,
       "style": "IPY_MODEL_cc461f39d63649d5b35982675999e0c1"
      }
     },
     "e67551aa115e4978a3b24927946ccb7c": {
      "model_module": "@jupyter-widgets/base",
      "model_module_version": "3.0.0",
      "model_name": "LayoutModel",
      "state": {}
     },
     "e68f89ca848d4a239db8c2e2695bd6aa": {
      "model_module": "@jupyter-widgets/controls",
      "model_module_version": "3.0.0",
      "model_name": "DescriptionStyleModel",
      "state": {
       "description_width": "initial"
      }
     },
     "e691ac8fb83242f9b1fa41235dacba62": {
      "model_module": "@jupyter-widgets/controls",
      "model_module_version": "3.0.0",
      "model_name": "DropdownModel",
      "state": {
       "_options_labels": [
        "COAL",
        "NATURALGAS",
        "WIND"
       ],
       "description": "Generation Type:",
       "index": 0,
       "layout": "IPY_MODEL_fe246d60eda848978afab0860657ff14",
       "style": "IPY_MODEL_cad64d547c68496e980cbb367dc0f237"
      }
     },
     "e6a49eb5a0814dc0913bb31836f4da53": {
      "model_module": "bqplot",
      "model_module_version": "^0.3.0-alpha.1",
      "model_name": "AxisModel",
      "state": {
       "_model_module_version": "^0.3.0-alpha.1",
       "_view_module_version": "^0.3.0-alpha.1",
       "scale": "IPY_MODEL_c922fbe72edd429ebba2b4f483104883",
       "side": "bottom",
       "tick_values": {
        "type": null,
        "values": null
       }
      }
     },
     "e6f7cf2527f5402cbdde06f1b7fb3ab1": {
      "model_module": "@jupyter-widgets/controls",
      "model_module_version": "3.0.0",
      "model_name": "SliderStyleModel",
      "state": {
       "description_width": "initial"
      }
     },
     "e78eebdbed4a4fd1b400f78d86e4df4f": {
      "model_module": "@jupyter-widgets/controls",
      "model_module_version": "3.0.0",
      "model_name": "DescriptionStyleModel",
      "state": {
       "description_width": "initial"
      }
     },
     "e7a23a63f279496f8e7ac4e6f040cf9c": {
      "model_module": "@jupyter-widgets/base",
      "model_module_version": "3.0.0",
      "model_name": "LayoutModel",
      "state": {}
     },
     "e7beb89fda5747a49d77c410e2eb571f": {
      "model_module": "@jupyter-widgets/controls",
      "model_module_version": "3.0.0",
      "model_name": "DescriptionStyleModel",
      "state": {
       "description_width": "initial"
      }
     },
     "e7d9eae2c11c43f9a62e3bc6bab5cb33": {
      "model_module": "@jupyter-widgets/controls",
      "model_module_version": "3.0.0",
      "model_name": "DropdownModel",
      "state": {
       "_options_labels": [
        "COAL",
        "NATURALGAS",
        "WIND"
       ],
       "description": "Generation Type:",
       "index": 0,
       "layout": "IPY_MODEL_4212fdb9f9e3492ea2e9127b75fe209d",
       "style": "IPY_MODEL_f3ec2893431042e09e24efbb5f8e3286"
      }
     },
     "e7f817f8297c4d8ab5ddd141678a6178": {
      "model_module": "@jupyter-widgets/controls",
      "model_module_version": "3.0.0",
      "model_name": "DescriptionStyleModel",
      "state": {
       "description_width": "initial"
      }
     },
     "e806d47d33c448b19cb6d2bc7768a25e": {
      "model_module": "bqplot",
      "model_module_version": "^0.3.0-alpha.1",
      "model_name": "LinearScaleModel",
      "state": {
       "_model_module_version": "^0.3.0-alpha.1",
       "_view_module_version": "^0.3.0-alpha.1",
       "max": 50,
       "min": 0,
       "stabilized": false
      }
     },
     "e8340f1137c9475db9f2d6fc768b8894": {
      "model_module": "@jupyter-widgets/base",
      "model_module_version": "3.0.0",
      "model_name": "LayoutModel",
      "state": {}
     },
     "e8621d49c1a44c49905c1fa3aa9696e9": {
      "model_module": "@jupyter-widgets/controls",
      "model_module_version": "3.0.0",
      "model_name": "DescriptionStyleModel",
      "state": {
       "description_width": "initial"
      }
     },
     "e88beddcc021449996b8f72bee38185b": {
      "model_module": "@jupyter-widgets/base",
      "model_module_version": "3.0.0",
      "model_name": "LayoutModel",
      "state": {
       "min_width": "125px"
      }
     },
     "e8a13496c3d04fd898fcd2df98e91839": {
      "model_module": "@jupyter-widgets/base",
      "model_module_version": "3.0.0",
      "model_name": "LayoutModel",
      "state": {}
     },
     "e8b167f8566f4f8081e43ce5dce0efaf": {
      "model_module": "@jupyter-widgets/controls",
      "model_module_version": "3.0.0",
      "model_name": "DescriptionStyleModel",
      "state": {
       "description_width": "initial"
      }
     },
     "e8f4dc9e0beb402180482e4e0f8f640b": {
      "model_module": "@jupyter-widgets/base",
      "model_module_version": "3.0.0",
      "model_name": "LayoutModel",
      "state": {}
     },
     "e90f06707fe14e0a8a74d50d5aa535d5": {
      "model_module": "@jupyter-widgets/controls",
      "model_module_version": "3.0.0",
      "model_name": "BoundedFloatTextModel",
      "state": {
       "description": "No-Load Cost ($/hr):",
       "layout": "IPY_MODEL_1075b9eddd3042f78916099141f5d818",
       "max": 10000000000,
       "style": "IPY_MODEL_6797c3893f3e4d90a344f302cb23d563",
       "value": 10
      }
     },
     "e93c0382acb54ae2a39ece747f8330bc": {
      "model_module": "@jupyter-widgets/controls",
      "model_module_version": "3.0.0",
      "model_name": "DropdownModel",
      "state": {
       "_options_labels": [
        "COAL",
        "NATURALGAS",
        "WIND"
       ],
       "description": "Generation Type:",
       "index": 0,
       "layout": "IPY_MODEL_360a88db487348cc93af494ba53874e6",
       "style": "IPY_MODEL_2dee8191e92d4065b41bfb81d92f0a0c"
      }
     },
     "e944b2b73a804c0999fe0de11862ead6": {
      "model_module": "@jupyter-widgets/controls",
      "model_module_version": "3.0.0",
      "model_name": "BoundedFloatTextModel",
      "state": {
       "description": "No-Load Cost ($/hr):",
       "layout": "IPY_MODEL_94cdf2438cf94fb78e3fe9f11fccf212",
       "max": 10000000000,
       "style": "IPY_MODEL_43096b221e034d94ae482428fb8884c9"
      }
     },
     "e9a9e604bcba4fabadfb2d7a5885f2ae": {
      "model_module": "@jupyter-widgets/controls",
      "model_module_version": "3.0.0",
      "model_name": "IntSliderModel",
      "state": {
       "description": "Number of Cost Curve Segments",
       "layout": "IPY_MODEL_77f25416230d46a18fc616b2e6e33532",
       "max": 50,
       "min": 2,
       "style": "IPY_MODEL_983c94148bee4213a29e5cdcf198a4ba",
       "value": 3
      }
     },
     "e9d557d3065e42fcb94831bc2cc3b9dd": {
      "model_module": "bqplot",
      "model_module_version": "^0.3.0-alpha.1",
      "model_name": "LinearScaleModel",
      "state": {
       "_model_module_version": "^0.3.0-alpha.1",
       "_view_module_version": "^0.3.0-alpha.1",
       "max": 100,
       "min": 0,
       "stabilized": false
      }
     },
     "ea1dcc52cde64c9fa9c27ab2b86db877": {
      "model_module": "bqplot",
      "model_module_version": "^0.3.0-alpha.1",
      "model_name": "FigureModel",
      "state": {
       "_dom_classes": [],
       "_model_module_version": "^0.3.0-alpha.1",
       "_view_module_version": "^0.3.0-alpha.1",
       "axes": [
        "IPY_MODEL_c905f21c8f374a0da1f124105e0dc196",
        "IPY_MODEL_b51fb884f5b4469d8fe58fb82fc66fa0"
       ],
       "layout": "IPY_MODEL_d747042fe7bb457bad06d47d8294ee21",
       "marks": [
        "IPY_MODEL_f2094e1a50874b918a4bc9ea1bc26e94",
        "IPY_MODEL_d05a16d66bdf419ebde429269949e08a"
       ],
       "max_aspect_ratio": 6,
       "scale_x": "IPY_MODEL_3e286d96a9e8452a84add105dba82683",
       "scale_y": "IPY_MODEL_60364d341b00449dbd112dbec6b20a39"
      }
     },
     "ea480303d4f74647bb9048a14ddf64e3": {
      "model_module": "@jupyter-widgets/base",
      "model_module_version": "3.0.0",
      "model_name": "LayoutModel",
      "state": {}
     },
     "ea8d643ee8124207b1a92d1fabda0d87": {
      "model_module": "@jupyter-widgets/base",
      "model_module_version": "3.0.0",
      "model_name": "LayoutModel",
      "state": {}
     },
     "ea8ea4150919402897dba0c26c6cea8d": {
      "model_module": "@jupyter-widgets/controls",
      "model_module_version": "3.0.0",
      "model_name": "VBoxModel",
      "state": {
       "children": [
        "IPY_MODEL_da0200fcd3b54e42a19b61e39146bbad"
       ],
       "layout": "IPY_MODEL_b224aba63e814077ad99c6dbc5878d8f"
      }
     },
     "eabefc169cca43118f9380a294ff4153": {
      "model_module": "@jupyter-widgets/controls",
      "model_module_version": "3.0.0",
      "model_name": "DescriptionStyleModel",
      "state": {
       "description_width": "initial"
      }
     },
     "ead7f82fbd194819ac841120096f3fc9": {
      "model_module": "@jupyter-widgets/controls",
      "model_module_version": "3.0.0",
      "model_name": "DescriptionStyleModel",
      "state": {
       "description_width": "initial"
      }
     },
     "eaf37640541c44fba1589b7e745d6f29": {
      "model_module": "@jupyter-widgets/controls",
      "model_module_version": "3.0.0",
      "model_name": "HBoxModel",
      "state": {
       "children": [
        "IPY_MODEL_df138dd14a474bce8a617c0d75251c16",
        "IPY_MODEL_db3f80f8793341a89e3e22194b82174e"
       ],
       "layout": "IPY_MODEL_2c2bdac8b1a74aadb9a1dd6db4308f00"
      }
     },
     "eaf5cc23a56f45c198978da50f0002e4": {
      "model_module": "@jupyter-widgets/base",
      "model_module_version": "3.0.0",
      "model_name": "LayoutModel",
      "state": {}
     },
     "eb46769745f545fb86f89ed6fa424012": {
      "model_module": "@jupyter-widgets/controls",
      "model_module_version": "3.0.0",
      "model_name": "DescriptionStyleModel",
      "state": {
       "description_width": "initial"
      }
     },
     "eb64a7ae51c94bc68eb9f6190402574f": {
      "model_module": "bqplot",
      "model_module_version": "^0.3.0-alpha.1",
      "model_name": "LinearScaleModel",
      "state": {
       "_model_module_version": "^0.3.0-alpha.1",
       "_view_module_version": "^0.3.0-alpha.1",
       "max": 0,
       "min": 0,
       "stabilized": false
      }
     },
     "eb6e5f65ea86471a81b9bd0634dc2c8a": {
      "model_module": "@jupyter-widgets/base",
      "model_module_version": "3.0.0",
      "model_name": "LayoutModel",
      "state": {}
     },
     "eb78ea7f62a64697ba66a6f7dbd6ef24": {
      "model_module": "@jupyter-widgets/base",
      "model_module_version": "3.0.0",
      "model_name": "LayoutModel",
      "state": {}
     },
     "eb825388f3bc4077a9c4637abe8a4ede": {
      "model_module": "@jupyter-widgets/controls",
      "model_module_version": "3.0.0",
      "model_name": "BoundedFloatTextModel",
      "state": {
       "description": "Initial Generation (MW):",
       "layout": "IPY_MODEL_a1e1d25e4de74125b49ccb0d5d9944a2",
       "style": "IPY_MODEL_9cd15a50d6b5405f88f40a7c86488ac2"
      }
     },
     "eba543c942a2495fafdaa0bd31aa5e02": {
      "model_module": "@jupyter-widgets/controls",
      "model_module_version": "3.0.0",
      "model_name": "BoundedFloatTextModel",
      "state": {
       "description": "Startup Time (hr):",
       "layout": "IPY_MODEL_97e4ec0212714803bcc4e543fb07fb95",
       "max": 24,
       "style": "IPY_MODEL_62133609c29049d7aff477b2cad86595"
      }
     },
     "ebb5cfa1290640b4af9d8539d06a98b9": {
      "model_module": "@jupyter-widgets/controls",
      "model_module_version": "3.0.0",
      "model_name": "BoundedFloatTextModel",
      "state": {
       "description": "Minimum Down Time (hr):",
       "layout": "IPY_MODEL_4af824e1e70b49d590cefe91d23324cc",
       "max": 24,
       "style": "IPY_MODEL_84a075c625194aa99edcfbf7115d70b1"
      }
     },
     "ebe29f9751fe47d0b6a6aa7c984f8085": {
      "model_module": "@jupyter-widgets/controls",
      "model_module_version": "3.0.0",
      "model_name": "DescriptionStyleModel",
      "state": {
       "description_width": "initial"
      }
     },
     "ebe8f1f68a3b4278a6089124a63dc387": {
      "model_module": "@jupyter-widgets/base",
      "model_module_version": "3.0.0",
      "model_name": "LayoutModel",
      "state": {}
     },
     "ebf867ff07d04700b5e9544fb2d2f080": {
      "model_module": "@jupyter-widgets/controls",
      "model_module_version": "3.0.0",
      "model_name": "BoundedFloatTextModel",
      "state": {
       "description": "Shutdown Time (hr):",
       "layout": "IPY_MODEL_9da17105bcde478fa989820bad9960aa",
       "max": 24,
       "style": "IPY_MODEL_20c6a7c951d14da3b04a079819cacb68"
      }
     },
     "ec05cb5d558e4397ab19a4107176ff81": {
      "model_module": "@jupyter-widgets/controls",
      "model_module_version": "3.0.0",
      "model_name": "SliderStyleModel",
      "state": {
       "description_width": "initial"
      }
     },
     "ec2fd553ae2e4c8f8ab2a3f022082554": {
      "model_module": "@jupyter-widgets/base",
      "model_module_version": "3.0.0",
      "model_name": "LayoutModel",
      "state": {}
     },
     "ec46e718421944478413e2d0d1fd28e6": {
      "model_module": "@jupyter-widgets/controls",
      "model_module_version": "3.0.0",
      "model_name": "DescriptionStyleModel",
      "state": {
       "description_width": "initial"
      }
     },
     "ec909e8a312a456eb634b58d3011116f": {
      "model_module": "@jupyter-widgets/controls",
      "model_module_version": "3.0.0",
      "model_name": "DescriptionStyleModel",
      "state": {
       "description_width": "initial"
      }
     },
     "ec9712cfa14a40a9812ee20ef0208f83": {
      "model_module": "@jupyter-widgets/controls",
      "model_module_version": "3.0.0",
      "model_name": "VBoxModel",
      "state": {
       "children": [
        "IPY_MODEL_9bfe1963e40f48feb89b248ce37deaf9"
       ],
       "layout": "IPY_MODEL_14355e1d24474d26b1efe80a3c876dfd"
      }
     },
     "ec99378e74f44c758e6656be3da7636c": {
      "model_module": "@jupyter-widgets/controls",
      "model_module_version": "3.0.0",
      "model_name": "DescriptionStyleModel",
      "state": {
       "description_width": "initial"
      }
     },
     "ec99448ed65449fbadc51666666e6cb6": {
      "model_module": "@jupyter-widgets/controls",
      "model_module_version": "3.0.0",
      "model_name": "VBoxModel",
      "state": {
       "children": [
        "IPY_MODEL_85815efb6fe040428c6b378573972cf7",
        "IPY_MODEL_369d3c85974847808893c3ab6302008b",
        "IPY_MODEL_c0f012faf820448699f69b72d82f0258",
        "IPY_MODEL_e93c0382acb54ae2a39ece747f8330bc",
        "IPY_MODEL_2aa3c351819a45ea846c33bdc20b4f88",
        "IPY_MODEL_84be6eccff70427199969b99b39a5b0f",
        "IPY_MODEL_7afccfa20e4f4fe1aef16c4721a4257e",
        "IPY_MODEL_99f41ef2b80844a598e8eba82ab6c24e",
        "IPY_MODEL_a26d3b910727430ea3511777d3d0906f",
        "IPY_MODEL_3ee365f7cf7a463bb3705de4fe433bb5",
        "IPY_MODEL_36c59abfc66b4f439fbd4666fd433af4",
        "IPY_MODEL_c189959b24b14ee996579ceb0fee134e",
        "IPY_MODEL_f63235310a7a489da599b7d5020d1e3c",
        "IPY_MODEL_b98b667df9f24a899c7f19e6ed48313f",
        "IPY_MODEL_7d8562737f8748fab1649a76fff7714b",
        "IPY_MODEL_05381c8e55c0482dbfbd73f1dec59204"
       ],
       "layout": "IPY_MODEL_7b93a7845de9480e87ba988ed909cc48"
      }
     },
     "ece570315eb548a39c64a0f0ff9d1933": {
      "model_module": "@jupyter-widgets/base",
      "model_module_version": "3.0.0",
      "model_name": "LayoutModel",
      "state": {}
     },
     "ecedef54b14849588c84d6c61a94de96": {
      "model_module": "@jupyter-widgets/controls",
      "model_module_version": "3.0.0",
      "model_name": "DescriptionStyleModel",
      "state": {
       "description_width": "initial"
      }
     },
     "ed05f82583344a2fa711a4bfea82e0c5": {
      "model_module": "@jupyter-widgets/controls",
      "model_module_version": "3.0.0",
      "model_name": "DescriptionStyleModel",
      "state": {
       "description_width": "initial"
      }
     },
     "ed3b62c56ee143eaa7e7adcafbd03ca1": {
      "model_module": "@jupyter-widgets/controls",
      "model_module_version": "3.0.0",
      "model_name": "BoundedFloatTextModel",
      "state": {
       "description": "Minimum Generation (MW):",
       "layout": "IPY_MODEL_52f1de03624645ed86f94d2fdf90c765",
       "style": "IPY_MODEL_25a90540cb30486c815d879a47109a07"
      }
     },
     "ed49f4667df749f29947157fdc052f9d": {
      "model_module": "@jupyter-widgets/controls",
      "model_module_version": "3.0.0",
      "model_name": "DescriptionStyleModel",
      "state": {
       "description_width": "initial"
      }
     },
     "ed5a73603b7c4ec5ba4e442536053dcf": {
      "model_module": "@jupyter-widgets/controls",
      "model_module_version": "3.0.0",
      "model_name": "DropdownModel",
      "state": {
       "_options_labels": [
        "COAL",
        "NATURALGAS",
        "WIND"
       ],
       "description": "Generation Type:",
       "index": 0,
       "layout": "IPY_MODEL_7af0c2f7760b438680eb1bc3243cb9eb",
       "style": "IPY_MODEL_f04c7fb9a4cc420391ab8f7251f34879"
      }
     },
     "ed6fc157935b4e9f83c66cd8b2696a77": {
      "model_module": "@jupyter-widgets/controls",
      "model_module_version": "3.0.0",
      "model_name": "TextModel",
      "state": {
       "description": "Name",
       "layout": "IPY_MODEL_1806e29f5a7447029a4883304692df32",
       "style": "IPY_MODEL_eabefc169cca43118f9380a294ff4153",
       "value": "GenCo0"
      }
     },
     "ed74fe9c0e5e4d62be10c5c021e45b91": {
      "model_module": "@jupyter-widgets/controls",
      "model_module_version": "3.0.0",
      "model_name": "BoundedFloatTextModel",
      "state": {
       "description": "Capacity (MW):",
       "layout": "IPY_MODEL_351cf9e281c24d6698dc1d53ecfdead0",
       "max": 10000000000,
       "style": "IPY_MODEL_b30d5942a09a4e619cd3e553659564cd",
       "value": 100
      }
     },
     "edc994938578411bab59740261d1e745": {
      "model_module": "@jupyter-widgets/base",
      "model_module_version": "3.0.0",
      "model_name": "LayoutModel",
      "state": {
       "min_width": "125px"
      }
     },
     "ee02fc78f4174958b11c807d811cff45": {
      "model_module": "@jupyter-widgets/base",
      "model_module_version": "3.0.0",
      "model_name": "LayoutModel",
      "state": {}
     },
     "ee180f23ccc248098b65365512e52b21": {
      "model_module": "@jupyter-widgets/controls",
      "model_module_version": "3.0.0",
      "model_name": "BoundedFloatTextModel",
      "state": {
       "description": "Startup Time (hr):",
       "layout": "IPY_MODEL_cf404d418c6743ce9868f46a1b513105",
       "max": 24,
       "style": "IPY_MODEL_515af33ff1084aa4a8a2c773f16623fa"
      }
     },
     "ee1abb8c4f184c60b87d06f345c59796": {
      "model_module": "@jupyter-widgets/controls",
      "model_module_version": "3.0.0",
      "model_name": "DescriptionStyleModel",
      "state": {
       "description_width": "initial"
      }
     },
     "ee9de471af484661976fa91601118f9c": {
      "model_module": "@jupyter-widgets/base",
      "model_module_version": "3.0.0",
      "model_name": "LayoutModel",
      "state": {}
     },
     "eeafe5861cdc47d3b19de1950db469c5": {
      "model_module": "@jupyter-widgets/base",
      "model_module_version": "3.0.0",
      "model_name": "LayoutModel",
      "state": {}
     },
     "eeca746e28f14b2485d0d6228fcf1e4f": {
      "model_module": "bqplot",
      "model_module_version": "^0.3.0-alpha.1",
      "model_name": "LinearScaleModel",
      "state": {
       "_model_module_version": "^0.3.0-alpha.1",
       "_view_module_version": "^0.3.0-alpha.1",
       "max": 100,
       "min": 0,
       "stabilized": false
      }
     },
     "ef02faefd0ea4f88a8231eb999e2fbdf": {
      "model_module": "@jupyter-widgets/base",
      "model_module_version": "3.0.0",
      "model_name": "LayoutModel",
      "state": {}
     },
     "ef306ac66b424a848385ec8c1546944f": {
      "model_module": "@jupyter-widgets/base",
      "model_module_version": "3.0.0",
      "model_name": "LayoutModel",
      "state": {}
     },
     "ef4bdecffc4b47b9b245074005e3440a": {
      "model_module": "@jupyter-widgets/base",
      "model_module_version": "3.0.0",
      "model_name": "LayoutModel",
      "state": {}
     },
     "ef5a8850f19d4a2aa618e59335f47f4c": {
      "model_module": "@jupyter-widgets/controls",
      "model_module_version": "3.0.0",
      "model_name": "VBoxModel",
      "state": {
       "children": [
        "IPY_MODEL_59b4753dad0648a99320c9d626754bfe",
        "IPY_MODEL_041f4826be34427db894980fd495f3a7",
        "IPY_MODEL_0307978f53424d58b8953a754393fd46",
        "IPY_MODEL_ed5a73603b7c4ec5ba4e442536053dcf",
        "IPY_MODEL_2728c38cd9ec4eebbb60e1b3d7b33ec3",
        "IPY_MODEL_7934b1f538244168ad1d06faf3a977c5",
        "IPY_MODEL_bbacaa35b4f84a9493944957efeb5a59",
        "IPY_MODEL_13016c65209c4b599323ad66aebcee22",
        "IPY_MODEL_c141a3b60afe4314ad596eddba93da9c",
        "IPY_MODEL_89036066658c4cac8f68827dfc5b3566",
        "IPY_MODEL_3919c5bfc4594e7da4020e06844d14d1",
        "IPY_MODEL_2bb286317bcb4927b8f35ca4f1b78927",
        "IPY_MODEL_e1918296a3994b158ec1ac44c01ac3de",
        "IPY_MODEL_66e51d7898744973bad85f37c5b2b014",
        "IPY_MODEL_149c3231ae004a548d225857a5d48fae",
        "IPY_MODEL_8f098e303ae94c0484433b6f231cda7e"
       ],
       "layout": "IPY_MODEL_6f55df11e19b4227a36ed3bcd613dca4"
      }
     },
     "ef7726c8b8354523805c131f7e49a24f": {
      "model_module": "bqplot",
      "model_module_version": "^0.3.0-alpha.1",
      "model_name": "LinearScaleModel",
      "state": {
       "_model_module_version": "^0.3.0-alpha.1",
       "_view_module_version": "^0.3.0-alpha.1",
       "max": 30,
       "min": 0,
       "stabilized": false
      }
     },
     "ef892329fb0442b78ac8c0f87ab66b60": {
      "model_module": "@jupyter-widgets/controls",
      "model_module_version": "3.0.0",
      "model_name": "DropdownModel",
      "state": {
       "_options_labels": [
        "COAL",
        "NATURALGAS",
        "WIND"
       ],
       "description": "Generation Type:",
       "index": 0,
       "layout": "IPY_MODEL_585b137b4aa64b91b5c3085ed58b8c23",
       "style": "IPY_MODEL_a2afa4ca51244b049d9b828e8dbf3c7b"
      }
     },
     "efa8e66650734ac7a4f7de08c7db25cc": {
      "model_module": "@jupyter-widgets/controls",
      "model_module_version": "3.0.0",
      "model_name": "DescriptionStyleModel",
      "state": {
       "description_width": "initial"
      }
     },
     "efb0e74e83c94cb9b43205272198dfca": {
      "model_module": "@jupyter-widgets/base",
      "model_module_version": "3.0.0",
      "model_name": "LayoutModel",
      "state": {}
     },
     "efbd3600d096469985b7cb7901345f8c": {
      "model_module": "@jupyter-widgets/base",
      "model_module_version": "3.0.0",
      "model_name": "LayoutModel",
      "state": {}
     },
     "efdffff9967444f7a786b3e086ca7f06": {
      "model_module": "bqplot",
      "model_module_version": "^0.3.0-alpha.1",
      "model_name": "FigureModel",
      "state": {
       "_dom_classes": [],
       "_model_module_version": "^0.3.0-alpha.1",
       "_view_module_version": "^0.3.0-alpha.1",
       "axes": [
        "IPY_MODEL_8b656058a0564587b3e55221e530ed74",
        "IPY_MODEL_7c4487ecb4a3421da50639626bdaa8e5"
       ],
       "layout": "IPY_MODEL_f11b94866782489a87b6a5fa4ff7ab8a",
       "marks": [
        "IPY_MODEL_3a8f00db701a4959ab01989f4fb09f9c",
        "IPY_MODEL_a83d5cdf1a214073b30aac89d9275053"
       ],
       "max_aspect_ratio": 6,
       "scale_x": "IPY_MODEL_cfdaab4e71104175b6669f20660f48aa",
       "scale_y": "IPY_MODEL_4026410bd227414397284f36bc924235"
      }
     },
     "efe093257f114a4480ebdb3aaf1fe9e5": {
      "model_module": "@jupyter-widgets/controls",
      "model_module_version": "3.0.0",
      "model_name": "DescriptionStyleModel",
      "state": {
       "description_width": "initial"
      }
     },
     "efe983753cb34fe4a6c7c79a0095d3a4": {
      "model_module": "bqplot",
      "model_module_version": "^0.3.0-alpha.1",
      "model_name": "ScatterModel",
      "state": {
       "_model_module": "bqplot",
       "_model_module_version": "^0.3.0-alpha.1",
       "_view_count": null,
       "_view_module": "bqplot",
       "_view_module_version": "^0.3.0-alpha.1",
       "apply_clip": true,
       "color": {
        "type": null,
        "values": null
       },
       "colors": [
        "DeepSkyBlue"
       ],
       "display_legend": false,
       "enable_hover": true,
       "enable_move": true,
       "hovered_style": {},
       "interactions": {
        "click": null
       },
       "labels": [],
       "msg_throttle": 1,
       "names": {
        "type": null,
        "values": null
       },
       "opacity": {
        "type": null,
        "values": null
       },
       "preserve_domain": {},
       "rotation": {
        "type": null,
        "values": null
       },
       "scales": {
        "x": "IPY_MODEL_c1959c8e609a4cb4ac41a4ceb020be95",
        "y": "IPY_MODEL_983d937edf3348e79c7779a4f5391a6e"
       },
       "scales_metadata": {
        "color": {
         "dimension": "color"
        },
        "opacity": {
         "dimension": "opacity"
        },
        "size": {
         "dimension": "size"
        },
        "x": {
         "dimension": "x",
         "orientation": "horizontal"
        },
        "y": {
         "dimension": "y",
         "orientation": "vertical"
        }
       },
       "selected": [],
       "selected_style": {},
       "size": {
        "type": null,
        "values": null
       },
       "skew": {
        "type": null,
        "values": null
       },
       "tooltip": null,
       "tooltip_location": "mouse",
       "tooltip_style": {
        "opacity": 0.9
       },
       "unhovered_style": {},
       "unselected_style": {},
       "update_on_move": true,
       "visible": true,
       "x": {
        "type": "float",
        "values": [
         0,
         33.333333333333336,
         66.66666666666667,
         100
        ]
       },
       "y": {
        "type": "float",
        "values": [
         0,
         0,
         0,
         0
        ]
       }
      }
     },
     "efeacb1619bd4a76b0dd0be7bd11cf33": {
      "model_module": "bqplot",
      "model_module_version": "^0.3.0-alpha.1",
      "model_name": "LinearScaleModel",
      "state": {
       "_model_module_version": "^0.3.0-alpha.1",
       "_view_module_version": "^0.3.0-alpha.1",
       "allow_padding": false,
       "max": 1,
       "min": 0,
       "stabilized": false
      }
     },
     "f0077fa1ca374937878d0d35b16c410a": {
      "model_module": "@jupyter-widgets/controls",
      "model_module_version": "3.0.0",
      "model_name": "DescriptionStyleModel",
      "state": {
       "description_width": "initial"
      }
     },
     "f0422675a56649a2839e86d17b3582c7": {
      "model_module": "@jupyter-widgets/controls",
      "model_module_version": "3.0.0",
      "model_name": "HBoxModel",
      "state": {
       "children": [
        "IPY_MODEL_32144e310fc547c58ea9b00639c5035e",
        "IPY_MODEL_c13630111f594931b88582f7fc40254f"
       ],
       "layout": "IPY_MODEL_7d9e1bf716754bb29548e10c91a19fd1"
      }
     },
     "f04c7fb9a4cc420391ab8f7251f34879": {
      "model_module": "@jupyter-widgets/controls",
      "model_module_version": "3.0.0",
      "model_name": "DescriptionStyleModel",
      "state": {
       "description_width": "initial"
      }
     },
     "f05a46e61b294b5d8dc9a135dc8486e7": {
      "model_module": "bqplot",
      "model_module_version": "^0.3.0-alpha.1",
      "model_name": "ScatterModel",
      "state": {
       "_model_module": "bqplot",
       "_model_module_version": "^0.3.0-alpha.1",
       "_view_count": null,
       "_view_module": "bqplot",
       "_view_module_version": "^0.3.0-alpha.1",
       "apply_clip": true,
       "color": {
        "type": null,
        "values": null
       },
       "colors": [
        "DeepSkyBlue"
       ],
       "display_legend": false,
       "enable_hover": true,
       "hovered_style": {},
       "interactions": {
        "hover": "tooltip"
       },
       "labels": [],
       "msg_throttle": 1,
       "names": {
        "type": null,
        "values": null
       },
       "opacity": {
        "type": null,
        "values": null
       },
       "preserve_domain": {},
       "rotation": {
        "type": null,
        "values": null
       },
       "scales": {},
       "scales_metadata": {
        "color": {
         "dimension": "color"
        },
        "opacity": {
         "dimension": "opacity"
        },
        "size": {
         "dimension": "size"
        },
        "x": {
         "dimension": "x",
         "orientation": "horizontal"
        },
        "y": {
         "dimension": "y",
         "orientation": "vertical"
        }
       },
       "selected": [],
       "selected_style": {},
       "size": {
        "type": null,
        "values": null
       },
       "skew": {
        "type": null,
        "values": null
       },
       "tooltip": null,
       "tooltip_location": "mouse",
       "tooltip_style": {
        "opacity": 0.9
       },
       "unhovered_style": {},
       "unselected_style": {},
       "visible": true,
       "x": {
        "type": "float",
        "values": [
         0,
         33.333333333333336,
         66.66666666666667,
         100
        ]
       },
       "y": {
        "type": "float",
        "values": [
         0,
         10,
         20,
         30
        ]
       }
      }
     },
     "f09290a400f946c29d43fc1c1cbe0e44": {
      "model_module": "bqplot",
      "model_module_version": "^0.3.0-alpha.1",
      "model_name": "LinearScaleModel",
      "state": {
       "_model_module_version": "^0.3.0-alpha.1",
       "_view_module_version": "^0.3.0-alpha.1",
       "max": 0,
       "min": 0,
       "stabilized": false
      }
     },
     "f0c0a8094c44417e8f3b6919b869455a": {
      "model_module": "@jupyter-widgets/controls",
      "model_module_version": "3.0.0",
      "model_name": "BoundedFloatTextModel",
      "state": {
       "description": "Ramp Up Rate (MW/hr):",
       "layout": "IPY_MODEL_ca5b9f61686d4108a9423e0a8e64ef5f",
       "max": 30,
       "style": "IPY_MODEL_2f6af0976bf74f589542329744f6b318"
      }
     },
     "f0d077695dc24179aff9b6af3d015484": {
      "model_module": "@jupyter-widgets/base",
      "model_module_version": "3.0.0",
      "model_name": "LayoutModel",
      "state": {}
     },
     "f0d36fa36bcb407b8502269a8890ab8f": {
      "model_module": "@jupyter-widgets/base",
      "model_module_version": "3.0.0",
      "model_name": "LayoutModel",
      "state": {}
     },
     "f0f4aa1ed1a24b8494c646d7adc4fba7": {
      "model_module": "@jupyter-widgets/controls",
      "model_module_version": "3.0.0",
      "model_name": "BoundedFloatTextModel",
      "state": {
       "description": "Capacity (MW):",
       "layout": "IPY_MODEL_eb6e5f65ea86471a81b9bd0634dc2c8a",
       "max": 10000000000,
       "style": "IPY_MODEL_cf4a232f690042d3961108f56c9896ba",
       "value": 100
      }
     },
     "f11b94866782489a87b6a5fa4ff7ab8a": {
      "model_module": "@jupyter-widgets/base",
      "model_module_version": "3.0.0",
      "model_name": "LayoutModel",
      "state": {
       "min_width": "125px"
      }
     },
     "f1213852897c4dd69016f427f3d4fb9a": {
      "model_module": "@jupyter-widgets/base",
      "model_module_version": "3.0.0",
      "model_name": "LayoutModel",
      "state": {
       "min_width": "125px"
      }
     },
     "f184bfc39d7541178b5560673fe0e34a": {
      "model_module": "@jupyter-widgets/base",
      "model_module_version": "3.0.0",
      "model_name": "LayoutModel",
      "state": {}
     },
     "f188c22710a046f8a44d85005261459d": {
      "model_module": "@jupyter-widgets/controls",
      "model_module_version": "3.0.0",
      "model_name": "VBoxModel",
      "state": {
       "children": [
        "IPY_MODEL_0b57bd1ec8ee4a22bf78ae11ec77308d",
        "IPY_MODEL_9017789282b54cddaf049e20db1c99f6",
        "IPY_MODEL_24792754ee7247cf9bdc4fb7a29a1b1f",
        "IPY_MODEL_5f976dc6fdd240b081c78cb31f1d70dd",
        "IPY_MODEL_2371e9bfd2164f24a6abbf1fba884fef",
        "IPY_MODEL_201f7adac336471d85d42f9429724dd7",
        "IPY_MODEL_403983b84ba44f82bdede4696bb629b0",
        "IPY_MODEL_1c72144fd1fe4c2290bb35f4aab66203",
        "IPY_MODEL_24fcff71c19b4bc5aef0d2f04578e363",
        "IPY_MODEL_8fbd49ba31314bdfb1db141e4bc488e7",
        "IPY_MODEL_5cfb9ca9733a4553a47666b83357e644",
        "IPY_MODEL_eba543c942a2495fafdaa0bd31aa5e02",
        "IPY_MODEL_c7ffe221f4f84fb880953967399b54ab",
        "IPY_MODEL_9eba1018038d4b84935f095ae12787d1",
        "IPY_MODEL_6eb5902f97dd494e9baf645e07f72960",
        "IPY_MODEL_d5bc79960090453f92862c51024517d2"
       ],
       "layout": "IPY_MODEL_4dfd5e7d58dc4ab4b031bc2203b183c9"
      }
     },
     "f18cb33ef73d4f098014985d908ce130": {
      "model_module": "@jupyter-widgets/controls",
      "model_module_version": "3.0.0",
      "model_name": "DescriptionStyleModel",
      "state": {
       "description_width": "initial"
      }
     },
     "f190b3b494fc42ae86fc0f5be5fc31c3": {
      "model_module": "@jupyter-widgets/base",
      "model_module_version": "3.0.0",
      "model_name": "LayoutModel",
      "state": {}
     },
     "f1a262df5d4048378c4ebc89788e5d39": {
      "model_module": "@jupyter-widgets/base",
      "model_module_version": "3.0.0",
      "model_name": "LayoutModel",
      "state": {}
     },
     "f1fd1df6346946f89e2eb45e75d93e9f": {
      "model_module": "@jupyter-widgets/base",
      "model_module_version": "3.0.0",
      "model_name": "LayoutModel",
      "state": {}
     },
     "f2055102229240079c86f73d0551c778": {
      "model_module": "@jupyter-widgets/controls",
      "model_module_version": "3.0.0",
      "model_name": "DescriptionStyleModel",
      "state": {
       "description_width": "initial"
      }
     },
     "f2094e1a50874b918a4bc9ea1bc26e94": {
      "model_module": "bqplot",
      "model_module_version": "^0.3.0-alpha.1",
      "model_name": "LinesModel",
      "state": {
       "_model_module_version": "^0.3.0-alpha.1",
       "_view_module_version": "^0.3.0-alpha.1",
       "color": {
        "type": null,
        "values": null
       },
       "display_legend": false,
       "fill_colors": [],
       "labels": [
        "C1"
       ],
       "scales": {
        "x": "IPY_MODEL_829cb28efcb845a48444926f05d169a5",
        "y": "IPY_MODEL_610291b7cefa4f03a0d67cfe3d97865c"
       },
       "selected": [],
       "x": {
        "type": "float",
        "values": [
         0,
         33.333333333333336,
         66.66666666666667,
         100
        ]
       },
       "y": {
        "type": "float",
        "values": [
         0,
         3,
         10,
         20
        ]
       }
      }
     },
     "f2946c8164334b51842623355bcb72d0": {
      "model_module": "bqplot",
      "model_module_version": "^0.3.0-alpha.1",
      "model_name": "AxisModel",
      "state": {
       "_model_module_version": "^0.3.0-alpha.1",
       "_view_module_version": "^0.3.0-alpha.1",
       "scale": "IPY_MODEL_2157d13c506d4dab94cc5d1eb77817a4",
       "side": "bottom",
       "tick_values": {
        "type": null,
        "values": null
       }
      }
     },
     "f2d10f3ac59e449cbe0fa678537d1cbf": {
      "model_module": "@jupyter-widgets/controls",
      "model_module_version": "3.0.0",
      "model_name": "IntSliderModel",
      "state": {
       "description": "Number of Cost Curve Segments",
       "layout": "IPY_MODEL_7916208cc6474875a11463245a570f02",
       "max": 50,
       "min": 2,
       "style": "IPY_MODEL_d5ebbfa1603147ab9d91562ef224b879",
       "value": 13
      }
     },
     "f382633ca2df4901a5fbef4db19571aa": {
      "model_module": "@jupyter-widgets/base",
      "model_module_version": "3.0.0",
      "model_name": "LayoutModel",
      "state": {}
     },
     "f390714e2958415291813b44201ffa16": {
      "model_module": "bqplot",
      "model_module_version": "^0.3.0-alpha.1",
      "model_name": "LinesModel",
      "state": {
       "_model_module_version": "^0.3.0-alpha.1",
       "_view_module_version": "^0.3.0-alpha.1",
       "color": {
        "type": null,
        "values": null
       },
       "display_legend": false,
       "fill_colors": [],
       "labels": [
        "C1"
       ],
       "scales": {
        "x": "IPY_MODEL_18bda9665e73411582b58a77575003ed",
        "y": "IPY_MODEL_1a14ab562fcd4dd08dc124092912e6da"
       },
       "selected": [],
       "x": {
        "type": "float",
        "values": [
         0,
         33.333333333333336,
         66.66666666666667,
         100
        ]
       },
       "y": {
        "type": "float",
        "values": [
         0,
         0,
         0,
         0
        ]
       }
      }
     },
     "f393722492734fbc9a3e70a722bcece8": {
      "model_module": "@jupyter-widgets/controls",
      "model_module_version": "3.0.0",
      "model_name": "BoundedFloatTextModel",
      "state": {
       "description": "Startup Time (hr):",
       "layout": "IPY_MODEL_5daaa7599edb4871b5e09bfca319b7df",
       "max": 24,
       "style": "IPY_MODEL_ec46e718421944478413e2d0d1fd28e6"
      }
     },
     "f39dd288811d483786e739747c04f4ff": {
      "model_module": "@jupyter-widgets/controls",
      "model_module_version": "3.0.0",
      "model_name": "BoundedFloatTextModel",
      "state": {
       "description": "Startup Time (hr):",
       "layout": "IPY_MODEL_08e411e5f58c4d00b0ef287130cf9218",
       "max": 24,
       "style": "IPY_MODEL_a0c5131d6f7e4167bbb8c9bcbb4c76d4"
      }
     },
     "f3a05d84dab841bba9ff96fa071825c6": {
      "model_module": "bqplot",
      "model_module_version": "^0.3.0-alpha.1",
      "model_name": "LinearScaleModel",
      "state": {
       "_model_module_version": "^0.3.0-alpha.1",
       "_view_module_version": "^0.3.0-alpha.1",
       "max": 100,
       "min": 0,
       "stabilized": false
      }
     },
     "f3e4d4aadd8f4e64a263c4f085ec4718": {
      "model_module": "@jupyter-widgets/controls",
      "model_module_version": "3.0.0",
      "model_name": "CheckboxModel",
      "state": {
       "description": "Initial Status:",
       "disabled": false,
       "layout": "IPY_MODEL_b8acd853859d410fac0c81e36cb8e28a",
       "style": "IPY_MODEL_6106b77b7ec24c6fb179b95193d8b477",
       "value": true
      }
     },
     "f3ec2893431042e09e24efbb5f8e3286": {
      "model_module": "@jupyter-widgets/controls",
      "model_module_version": "3.0.0",
      "model_name": "DescriptionStyleModel",
      "state": {
       "description_width": "initial"
      }
     },
     "f3ee237d63e24818a616823995e2122e": {
      "model_module": "@jupyter-widgets/base",
      "model_module_version": "3.0.0",
      "model_name": "LayoutModel",
      "state": {}
     },
     "f3fb521a8cf141bcaf92bccd2215fb4f": {
      "model_module": "@jupyter-widgets/base",
      "model_module_version": "3.0.0",
      "model_name": "LayoutModel",
      "state": {}
     },
     "f4478239d5c942f587ee65a6fef608f4": {
      "model_module": "bqplot",
      "model_module_version": "^0.3.0-alpha.1",
      "model_name": "ScatterModel",
      "state": {
       "_model_module": "bqplot",
       "_model_module_version": "^0.3.0-alpha.1",
       "_view_count": null,
       "_view_module": "bqplot",
       "_view_module_version": "^0.3.0-alpha.1",
       "apply_clip": true,
       "color": {
        "type": null,
        "values": null
       },
       "colors": [
        "DeepSkyBlue"
       ],
       "display_legend": false,
       "enable_hover": true,
       "enable_move": true,
       "hovered_style": {},
       "interactions": {
        "click": null
       },
       "labels": [],
       "msg_throttle": 1,
       "names": {
        "type": null,
        "values": null
       },
       "opacity": {
        "type": null,
        "values": null
       },
       "preserve_domain": {},
       "rotation": {
        "type": null,
        "values": null
       },
       "scales": {
        "x": "IPY_MODEL_1e55e767fbb8484eaee2bd5b225c7e31",
        "y": "IPY_MODEL_a43829bc9e904e5286ff84bfc65df6a3"
       },
       "scales_metadata": {
        "color": {
         "dimension": "color"
        },
        "opacity": {
         "dimension": "opacity"
        },
        "size": {
         "dimension": "size"
        },
        "x": {
         "dimension": "x",
         "orientation": "horizontal"
        },
        "y": {
         "dimension": "y",
         "orientation": "vertical"
        }
       },
       "selected": [],
       "selected_style": {},
       "size": {
        "type": null,
        "values": null
       },
       "skew": {
        "type": null,
        "values": null
       },
       "tooltip": null,
       "tooltip_location": "mouse",
       "tooltip_style": {
        "opacity": 0.9
       },
       "unhovered_style": {},
       "unselected_style": {},
       "update_on_move": true,
       "visible": true,
       "x": {
        "type": "float",
        "values": [
         0,
         33.333333333333336,
         66.66666666666667,
         100
        ]
       },
       "y": {
        "type": "float",
        "values": [
         0,
         0,
         0,
         0
        ]
       }
      }
     },
     "f45e01159ea045e19052f17a408d9d48": {
      "model_module": "@jupyter-widgets/controls",
      "model_module_version": "3.0.0",
      "model_name": "VBoxModel",
      "state": {
       "children": [
        "IPY_MODEL_840935d172d148c9b417db42f98bb152",
        "IPY_MODEL_90181003afb5433187d12eb7284e2de5",
        "IPY_MODEL_9b31d1a88f7f4115bb05a566f7e4ec1c",
        "IPY_MODEL_17246dd2d9cc4c5a938aa2ff77e4e7bf",
        "IPY_MODEL_5f4f76214db9442b9d2da785e47f1f74",
        "IPY_MODEL_c7e31cc90fc741558b1d8736c163dea6",
        "IPY_MODEL_3184699cbb124be99e4dfc3a94da5439",
        "IPY_MODEL_18d35d4f50434a4ba3837a039fc5dd97",
        "IPY_MODEL_d9a71da8f22e4eec9e6cb58a47c39617",
        "IPY_MODEL_96f88c1eca8c41c28c8efb511208acab",
        "IPY_MODEL_2836eae0aa684cc1b1cad215e9596814",
        "IPY_MODEL_772c21875a3344be8e512ca1aa37c080",
        "IPY_MODEL_ebf867ff07d04700b5e9544fb2d2f080",
        "IPY_MODEL_e90f06707fe14e0a8a74d50d5aa535d5",
        "IPY_MODEL_febcef7b1b32455cb044f097db3f37a6",
        "IPY_MODEL_91903255ecc9491297369166c65c9519"
       ],
       "layout": "IPY_MODEL_534735bf15c34f9e9a69ca00a51de08e"
      }
     },
     "f490ac3ed34f41f590f7a3b6cc8e1539": {
      "model_module": "@jupyter-widgets/controls",
      "model_module_version": "3.0.0",
      "model_name": "BoundedFloatTextModel",
      "state": {
       "description": "No-Load Cost ($/hr):",
       "layout": "IPY_MODEL_4f565f23429543ef96a02713f2762ac3",
       "max": 10000000000,
       "style": "IPY_MODEL_a6478b880e474b00bdab71c8602d1b65"
      }
     },
     "f4954570a5b9495d809c6da736715410": {
      "model_module": "@jupyter-widgets/controls",
      "model_module_version": "3.0.0",
      "model_name": "DescriptionStyleModel",
      "state": {
       "description_width": "initial"
      }
     },
     "f4b7c0af664f4a26a757bc3d868ebabb": {
      "model_module": "@jupyter-widgets/controls",
      "model_module_version": "3.0.0",
      "model_name": "BoundedFloatTextModel",
      "state": {
       "description": "Minimum Down Time (hr):",
       "layout": "IPY_MODEL_c1a91c7e517d47ada70991c53f8ca762",
       "max": 24,
       "style": "IPY_MODEL_c436e947cb1f47469affe6a82e8b2ccb"
      }
     },
     "f4bc2174441f4f0caea1a44755a39209": {
      "model_module": "@jupyter-widgets/controls",
      "model_module_version": "3.0.0",
      "model_name": "BoundedFloatTextModel",
      "state": {
       "description": "Ramp Down Rate (MW/hr):",
       "layout": "IPY_MODEL_8f744c19f3be40ea93b639dea3155794",
       "style": "IPY_MODEL_c1997f4659e043f8a2f051c1196adbb9"
      }
     },
     "f513a586f55d48e8a74839583973f9af": {
      "model_module": "@jupyter-widgets/controls",
      "model_module_version": "3.0.0",
      "model_name": "DescriptionStyleModel",
      "state": {
       "description_width": "initial"
      }
     },
     "f51c93b0705b444b94d672a4533f6621": {
      "model_module": "@jupyter-widgets/controls",
      "model_module_version": "3.0.0",
      "model_name": "BoundedFloatTextModel",
      "state": {
       "description": "No-Load Cost ($/hr):",
       "layout": "IPY_MODEL_18cedc9e784c42b696b1a41d7831b927",
       "max": 10000000000,
       "style": "IPY_MODEL_798304dcf50c466788c4303f94a4a9a6"
      }
     },
     "f51d739f1aa54a2e95d15d676ba8bac3": {
      "model_module": "@jupyter-widgets/controls",
      "model_module_version": "3.0.0",
      "model_name": "DescriptionStyleModel",
      "state": {
       "description_width": "initial"
      }
     },
     "f581ccf32ecc4f168eec831468428ad2": {
      "model_module": "@jupyter-widgets/controls",
      "model_module_version": "3.0.0",
      "model_name": "BoundedFloatTextModel",
      "state": {
       "description": "Minimum Up Time (hr):",
       "layout": "IPY_MODEL_f63f2bf36cce44b084d2d8de97cec322",
       "max": 24,
       "style": "IPY_MODEL_691e018439c641de9ead34e79a9affd5"
      }
     },
     "f5c97511db794dfdaa6178531a7df3b4": {
      "model_module": "@jupyter-widgets/controls",
      "model_module_version": "3.0.0",
      "model_name": "DescriptionStyleModel",
      "state": {
       "description_width": "initial"
      }
     },
     "f62b3e918b29471faae9c9bf5850ea08": {
      "model_module": "bqplot",
      "model_module_version": "^0.3.0-alpha.1",
      "model_name": "LinesModel",
      "state": {
       "_model_module_version": "^0.3.0-alpha.1",
       "_view_module_version": "^0.3.0-alpha.1",
       "color": {
        "type": null,
        "values": null
       },
       "display_legend": false,
       "fill_colors": [],
       "labels": [
        "C1"
       ],
       "scales": {
        "x": "IPY_MODEL_f3a05d84dab841bba9ff96fa071825c6",
        "y": "IPY_MODEL_fa50d25ebd83407d80b1dabc0419f64e"
       },
       "selected": [],
       "x": {
        "type": "float",
        "values": [
         0,
         33.333333333333336,
         66.66666666666667,
         100
        ]
       },
       "y": {
        "type": "float",
        "values": [
         0,
         0,
         0,
         0
        ]
       }
      }
     },
     "f63235310a7a489da599b7d5020d1e3c": {
      "model_module": "@jupyter-widgets/controls",
      "model_module_version": "3.0.0",
      "model_name": "BoundedFloatTextModel",
      "state": {
       "description": "Shutdown Time (hr):",
       "layout": "IPY_MODEL_60580813ee8741fbbec79f73da1de935",
       "max": 24,
       "style": "IPY_MODEL_7f9cec8a97bb414a8b9ae0ccdbee6c90"
      }
     },
     "f63f2bf36cce44b084d2d8de97cec322": {
      "model_module": "@jupyter-widgets/base",
      "model_module_version": "3.0.0",
      "model_name": "LayoutModel",
      "state": {}
     },
     "f6472d5253324396b42cda357ad789b8": {
      "model_module": "@jupyter-widgets/base",
      "model_module_version": "3.0.0",
      "model_name": "LayoutModel",
      "state": {
       "min_width": "125px"
      }
     },
     "f699ac5f3a3541098fc755e793952091": {
      "model_module": "@jupyter-widgets/controls",
      "model_module_version": "3.0.0",
      "model_name": "CheckboxModel",
      "state": {
       "description": "Initial Status:",
       "disabled": false,
       "layout": "IPY_MODEL_f7df9f90b6a0435ebc29e310f740bbd7",
       "style": "IPY_MODEL_1c9411fffe7740feb95d00819755d9d9",
       "value": true
      }
     },
     "f70c404620634ce5b5bc213094f63a57": {
      "model_module": "@jupyter-widgets/controls",
      "model_module_version": "3.0.0",
      "model_name": "BoundedFloatTextModel",
      "state": {
       "description": "Capacity (MW):",
       "layout": "IPY_MODEL_0a3f25cff75f473fa01421d6fc11d643",
       "max": 10000000000,
       "style": "IPY_MODEL_d30674e302424c16a7c830b66d7b8440",
       "value": 100
      }
     },
     "f730946e974a4714be1d789cec12b2be": {
      "model_module": "bqplot",
      "model_module_version": "^0.3.0-alpha.1",
      "model_name": "AxisModel",
      "state": {
       "_model_module_version": "^0.3.0-alpha.1",
       "_view_module_version": "^0.3.0-alpha.1",
       "scale": "IPY_MODEL_d8370ed4f9bd4e168597965480fb1180",
       "side": "bottom",
       "tick_values": {
        "type": null,
        "values": null
       }
      }
     },
     "f732fa2f31b0413b9cec48ee2f709690": {
      "model_module": "@jupyter-widgets/controls",
      "model_module_version": "3.0.0",
      "model_name": "BoundedFloatTextModel",
      "state": {
       "description": "No-Load Cost ($/hr):",
       "layout": "IPY_MODEL_2ebccb8e317a43ffb198aa3d61a802ee",
       "max": 10000000000,
       "style": "IPY_MODEL_73aff4749db447c9840f6c57356b2ca1"
      }
     },
     "f786a2858e58455b8e6fe5c33a9f64aa": {
      "model_module": "@jupyter-widgets/controls",
      "model_module_version": "3.0.0",
      "model_name": "BoundedFloatTextModel",
      "state": {
       "description": "Minimum Down Time (hr):",
       "layout": "IPY_MODEL_67512e0c79e04e53b529e54c0ad07cab",
       "max": 24,
       "style": "IPY_MODEL_3197665c107a484ea1267175050069c9"
      }
     },
     "f79c1932b5084496832eb40f5eccffce": {
      "model_module": "@jupyter-widgets/controls",
      "model_module_version": "3.0.0",
      "model_name": "BoundedFloatTextModel",
      "state": {
       "description": "Shutdown Time (hr):",
       "layout": "IPY_MODEL_0d3b6907c41c4afd9fedb1bfa153728d",
       "max": 24,
       "style": "IPY_MODEL_e0eac22bd5234b1395d78e97c382cc57"
      }
     },
     "f7df9f90b6a0435ebc29e310f740bbd7": {
      "model_module": "@jupyter-widgets/base",
      "model_module_version": "3.0.0",
      "model_name": "LayoutModel",
      "state": {}
     },
     "f8404ae392f14188a71327096f364358": {
      "model_module": "@jupyter-widgets/controls",
      "model_module_version": "3.0.0",
      "model_name": "BoundedFloatTextModel",
      "state": {
       "description": "Minimum Up Time (hr):",
       "layout": "IPY_MODEL_0b130572c7c04bf2b6b50c13a17b3889",
       "max": 24,
       "style": "IPY_MODEL_488574ade4c945028e7740cd6533663f"
      }
     },
     "f879e0cca3ed44f2ad08f98ba8c9b427": {
      "model_module": "@jupyter-widgets/controls",
      "model_module_version": "3.0.0",
      "model_name": "CheckboxModel",
      "state": {
       "description": "Initial Status:",
       "disabled": false,
       "layout": "IPY_MODEL_4d9ef73b7e5048f584515dfb265ffd1c",
       "style": "IPY_MODEL_90a23979a112406797059a167e4463d5",
       "value": true
      }
     },
     "f923f9fb8124469996491ce841977df2": {
      "model_module": "@jupyter-widgets/base",
      "model_module_version": "3.0.0",
      "model_name": "LayoutModel",
      "state": {}
     },
     "f92b7c7a464443a7a3ad9e57de94b3d7": {
      "model_module": "@jupyter-widgets/controls",
      "model_module_version": "3.0.0",
      "model_name": "CheckboxModel",
      "state": {
       "description": "Initial Status:",
       "disabled": false,
       "layout": "IPY_MODEL_6deee781bbf949a6bbaac615227762da",
       "style": "IPY_MODEL_d40b2c19568740148bacf5fcf193986e",
       "value": true
      }
     },
     "f9ad54240dd04dbebdf37d83503731df": {
      "model_module": "@jupyter-widgets/controls",
      "model_module_version": "3.0.0",
      "model_name": "BoundedFloatTextModel",
      "state": {
       "description": "Minimum Generation (MW):",
       "layout": "IPY_MODEL_d84ce4b706104ecd9a4cecd27adcc62f",
       "style": "IPY_MODEL_88798e33cebd4417819619564c27f0be"
      }
     },
     "f9e79433942b4af5b8c3705cee8d9a5c": {
      "model_module": "bqplot",
      "model_module_version": "^0.3.0-alpha.1",
      "model_name": "LinesModel",
      "state": {
       "_model_module_version": "^0.3.0-alpha.1",
       "_view_module_version": "^0.3.0-alpha.1",
       "color": {
        "type": null,
        "values": null
       },
       "display_legend": false,
       "fill_colors": [],
       "labels": [
        "C1"
       ],
       "scales": {
        "x": "IPY_MODEL_2ca3f277319248c5bcafa9047726c025",
        "y": "IPY_MODEL_c8196c51e1274e0db67080f248599f16"
       },
       "selected": [],
       "x": {
        "type": "float",
        "values": [
         0,
         33.333333333333336,
         66.66666666666667,
         100
        ]
       },
       "y": {
        "type": "float",
        "values": [
         0,
         0,
         0,
         0
        ]
       }
      }
     },
     "f9f73babdb7e487e8545bbd9e8c7b477": {
      "model_module": "@jupyter-widgets/base",
      "model_module_version": "3.0.0",
      "model_name": "LayoutModel",
      "state": {}
     },
     "fa50d25ebd83407d80b1dabc0419f64e": {
      "model_module": "bqplot",
      "model_module_version": "^0.3.0-alpha.1",
      "model_name": "LinearScaleModel",
      "state": {
       "_model_module_version": "^0.3.0-alpha.1",
       "_view_module_version": "^0.3.0-alpha.1",
       "max": 0,
       "min": 0,
       "stabilized": false
      }
     },
     "fa9c1a1d3d2c4a6db2851630ce880453": {
      "model_module": "bqplot",
      "model_module_version": "^0.3.0-alpha.1",
      "model_name": "AxisModel",
      "state": {
       "_model_module_version": "^0.3.0-alpha.1",
       "_view_module_version": "^0.3.0-alpha.1",
       "orientation": "vertical",
       "scale": "IPY_MODEL_03bd932e93af4b0889142701a6110910",
       "side": "left",
       "tick_values": {
        "type": null,
        "values": null
       }
      }
     },
     "fab168a0350c41a0b067307b29ec6297": {
      "model_module": "@jupyter-widgets/base",
      "model_module_version": "3.0.0",
      "model_name": "LayoutModel",
      "state": {}
     },
     "facae1d0dfbd4a07bd4cb286d0bcf626": {
      "model_module": "@jupyter-widgets/controls",
      "model_module_version": "3.0.0",
      "model_name": "DescriptionStyleModel",
      "state": {
       "description_width": "initial"
      }
     },
     "faf4511a15d7402c8e224dd7ebea10dd": {
      "model_module": "@jupyter-widgets/controls",
      "model_module_version": "3.0.0",
      "model_name": "DescriptionStyleModel",
      "state": {
       "description_width": "initial"
      }
     },
     "fb4a9cf8695f477187d7e3cb8ce82845": {
      "model_module": "@jupyter-widgets/base",
      "model_module_version": "3.0.0",
      "model_name": "LayoutModel",
      "state": {
       "min_width": "125px"
      }
     },
     "fb5c0f6196dd47d1a043491385054fd1": {
      "model_module": "@jupyter-widgets/base",
      "model_module_version": "3.0.0",
      "model_name": "LayoutModel",
      "state": {}
     },
     "fb8ddaedf0df40c2b477356d0302cc9b": {
      "model_module": "@jupyter-widgets/base",
      "model_module_version": "3.0.0",
      "model_name": "LayoutModel",
      "state": {}
     },
     "fb9142d36d0849ebb1fde9fa0fca3f04": {
      "model_module": "@jupyter-widgets/controls",
      "model_module_version": "3.0.0",
      "model_name": "TextModel",
      "state": {
       "description": "Name",
       "layout": "IPY_MODEL_657ed9cbda5f483f88e61c4137dc434d",
       "style": "IPY_MODEL_3153d51a4231407c8339b6a3a7849c4a",
       "value": "GenCo0"
      }
     },
     "fc1fcc0b4af7481abb020ceeba780753": {
      "model_module": "@jupyter-widgets/controls",
      "model_module_version": "3.0.0",
      "model_name": "DescriptionStyleModel",
      "state": {
       "description_width": "initial"
      }
     },
     "fc2c7fc97378434e9c9bd9fc13a77c2e": {
      "model_module": "@jupyter-widgets/base",
      "model_module_version": "3.0.0",
      "model_name": "LayoutModel",
      "state": {}
     },
     "fc4cee59a73444818f8056e6cc36c7e2": {
      "model_module": "bqplot",
      "model_module_version": "^0.3.0-alpha.1",
      "model_name": "ScatterModel",
      "state": {
       "_model_module": "bqplot",
       "_model_module_version": "^0.3.0-alpha.1",
       "_view_count": null,
       "_view_module": "bqplot",
       "_view_module_version": "^0.3.0-alpha.1",
       "apply_clip": true,
       "color": {
        "type": null,
        "values": null
       },
       "colors": [
        "DeepSkyBlue"
       ],
       "display_legend": false,
       "enable_hover": true,
       "hovered_style": {},
       "interactions": {
        "hover": "tooltip"
       },
       "labels": [],
       "msg_throttle": 1,
       "names": {
        "type": null,
        "values": null
       },
       "opacity": {
        "type": null,
        "values": null
       },
       "preserve_domain": {},
       "rotation": {
        "type": null,
        "values": null
       },
       "scales": {
        "x": "IPY_MODEL_d8370ed4f9bd4e168597965480fb1180",
        "y": "IPY_MODEL_01b09a7a1a9845b0b60237536365002a"
       },
       "scales_metadata": {
        "color": {
         "dimension": "color"
        },
        "opacity": {
         "dimension": "opacity"
        },
        "size": {
         "dimension": "size"
        },
        "x": {
         "dimension": "x",
         "orientation": "horizontal"
        },
        "y": {
         "dimension": "y",
         "orientation": "vertical"
        }
       },
       "selected": [],
       "selected_style": {},
       "size": {
        "type": null,
        "values": null
       },
       "skew": {
        "type": null,
        "values": null
       },
       "tooltip": null,
       "tooltip_location": "mouse",
       "tooltip_style": {
        "opacity": 0.9
       },
       "unhovered_style": {},
       "unselected_style": {},
       "visible": true,
       "x": {
        "type": "float",
        "values": [
         0,
         33.333333333333336,
         66.66666666666667,
         100
        ]
       },
       "y": {
        "type": "float",
        "values": [
         0,
         10,
         20,
         30
        ]
       }
      }
     },
     "fc616eafe59e48a699cca8beb600a4a9": {
      "model_module": "@jupyter-widgets/controls",
      "model_module_version": "3.0.0",
      "model_name": "DescriptionStyleModel",
      "state": {
       "description_width": "initial"
      }
     },
     "fc8d219e934a4263857626801186df15": {
      "model_module": "@jupyter-widgets/controls",
      "model_module_version": "3.0.0",
      "model_name": "DescriptionStyleModel",
      "state": {
       "description_width": "initial"
      }
     },
     "fccc8a11e3234831b863632e3e759c18": {
      "model_module": "@jupyter-widgets/controls",
      "model_module_version": "3.0.0",
      "model_name": "DescriptionStyleModel",
      "state": {
       "description_width": "initial"
      }
     },
     "fcd2b463913044648b4baa22286111c7": {
      "model_module": "@jupyter-widgets/controls",
      "model_module_version": "3.0.0",
      "model_name": "DescriptionStyleModel",
      "state": {
       "description_width": "initial"
      }
     },
     "fce32233b30a411e926cfcf53c5d5190": {
      "model_module": "@jupyter-widgets/controls",
      "model_module_version": "3.0.0",
      "model_name": "BoundedFloatTextModel",
      "state": {
       "description": "Capacity (MW):",
       "layout": "IPY_MODEL_a8fab5bacb464b7ea9be7f915fa82c9d",
       "max": 10000000000,
       "style": "IPY_MODEL_671bc9b328cd4fdaa59b8c0c8f6e3f53",
       "value": 100
      }
     },
     "fcf63297a007474a9e8dee1315e249cc": {
      "model_module": "@jupyter-widgets/base",
      "model_module_version": "3.0.0",
      "model_name": "LayoutModel",
      "state": {}
     },
     "fcfda4df68c64e1d92c18b747279fcf2": {
      "model_module": "@jupyter-widgets/controls",
      "model_module_version": "3.0.0",
      "model_name": "DescriptionStyleModel",
      "state": {
       "description_width": "initial"
      }
     },
     "fd6afb0939a94cc298a54f964210f724": {
      "model_module": "@jupyter-widgets/controls",
      "model_module_version": "3.0.0",
      "model_name": "BoundedFloatTextModel",
      "state": {
       "description": "Minimum Down Time (hr):",
       "layout": "IPY_MODEL_6911486f68124919b518f9834fde64e7",
       "max": 24,
       "style": "IPY_MODEL_fc8d219e934a4263857626801186df15"
      }
     },
     "fd70d3573a8743619c7842b9725d2b78": {
      "model_module": "@jupyter-widgets/controls",
      "model_module_version": "3.0.0",
      "model_name": "DescriptionStyleModel",
      "state": {
       "description_width": "initial"
      }
     },
     "fda031701b664d36a5a866efc58460ba": {
      "model_module": "bqplot",
      "model_module_version": "^0.3.0-alpha.1",
      "model_name": "ScatterModel",
      "state": {
       "_model_module": "bqplot",
       "_model_module_version": "^0.3.0-alpha.1",
       "_view_count": null,
       "_view_module": "bqplot",
       "_view_module_version": "^0.3.0-alpha.1",
       "apply_clip": true,
       "color": {
        "type": null,
        "values": null
       },
       "colors": [
        "DeepSkyBlue"
       ],
       "display_legend": false,
       "enable_hover": true,
       "enable_move": true,
       "hovered_style": {},
       "interactions": {
        "click": null
       },
       "labels": [],
       "msg_throttle": 1,
       "names": {
        "type": null,
        "values": null
       },
       "opacity": {
        "type": null,
        "values": null
       },
       "preserve_domain": {},
       "rotation": {
        "type": null,
        "values": null
       },
       "scales": {
        "x": "IPY_MODEL_ef7726c8b8354523805c131f7e49a24f",
        "y": "IPY_MODEL_c6cd9b2068774e688d2c66e9c147474d"
       },
       "scales_metadata": {
        "color": {
         "dimension": "color"
        },
        "opacity": {
         "dimension": "opacity"
        },
        "size": {
         "dimension": "size"
        },
        "x": {
         "dimension": "x",
         "orientation": "horizontal"
        },
        "y": {
         "dimension": "y",
         "orientation": "vertical"
        }
       },
       "selected": [],
       "selected_style": {},
       "size": {
        "type": null,
        "values": null
       },
       "skew": {
        "type": null,
        "values": null
       },
       "tooltip": null,
       "tooltip_location": "mouse",
       "tooltip_style": {
        "opacity": 0.9
       },
       "unhovered_style": {},
       "unselected_style": {},
       "update_on_move": true,
       "visible": true,
       "x": {
        "type": "float",
        "values": [
         0,
         49.310661764705884,
         78.91850490196079
        ]
       },
       "y": {
        "type": "float",
        "values": [
         0,
         28.27089608433735,
         40.46969126506024
        ]
       }
      }
     },
     "fdd7bea085a94dc8838a46205ec1ad2e": {
      "model_module": "@jupyter-widgets/base",
      "model_module_version": "3.0.0",
      "model_name": "LayoutModel",
      "state": {}
     },
     "fde3c2db6f404a858ffe56e22a26a95b": {
      "model_module": "bqplot",
      "model_module_version": "^0.3.0-alpha.1",
      "model_name": "ScatterModel",
      "state": {
       "_model_module": "bqplot",
       "_model_module_version": "^0.3.0-alpha.1",
       "_view_count": null,
       "_view_module": "bqplot",
       "_view_module_version": "^0.3.0-alpha.1",
       "apply_clip": true,
       "color": {
        "type": null,
        "values": null
       },
       "colors": [
        "DeepSkyBlue"
       ],
       "display_legend": false,
       "enable_hover": true,
       "hovered_style": {},
       "interactions": {
        "hover": "tooltip"
       },
       "labels": [],
       "msg_throttle": 1,
       "names": {
        "type": null,
        "values": null
       },
       "opacity": {
        "type": null,
        "values": null
       },
       "preserve_domain": {},
       "rotation": {
        "type": null,
        "values": null
       },
       "scales": {
        "x": "IPY_MODEL_568a7d18bd6e4b85b24c49d37b7a9080",
        "y": "IPY_MODEL_44b1bdf0600c40a6892fe5ca176d0eca"
       },
       "scales_metadata": {
        "color": {
         "dimension": "color"
        },
        "opacity": {
         "dimension": "opacity"
        },
        "size": {
         "dimension": "size"
        },
        "x": {
         "dimension": "x",
         "orientation": "horizontal"
        },
        "y": {
         "dimension": "y",
         "orientation": "vertical"
        }
       },
       "selected": [],
       "selected_style": {},
       "size": {
        "type": null,
        "values": null
       },
       "skew": {
        "type": null,
        "values": null
       },
       "tooltip": null,
       "tooltip_location": "mouse",
       "tooltip_style": {
        "opacity": 0.9
       },
       "unhovered_style": {},
       "unselected_style": {},
       "visible": true,
       "x": {
        "type": "float",
        "values": [
         0,
         33.333333333333336,
         66.66666666666667,
         100
        ]
       },
       "y": {
        "type": "float",
        "values": [
         0,
         10,
         20,
         30
        ]
       }
      }
     },
     "fe246d60eda848978afab0860657ff14": {
      "model_module": "@jupyter-widgets/base",
      "model_module_version": "3.0.0",
      "model_name": "LayoutModel",
      "state": {}
     },
     "fe48f095a8d14f72a364b905780c13ef": {
      "model_module": "bqplot",
      "model_module_version": "^0.3.0-alpha.1",
      "model_name": "AxisModel",
      "state": {
       "_model_module_version": "^0.3.0-alpha.1",
       "_view_module_version": "^0.3.0-alpha.1",
       "scale": "IPY_MODEL_2676a3af6d5947259b6ac8cab1e183fb",
       "side": "bottom",
       "tick_values": {
        "type": null,
        "values": null
       }
      }
     },
     "fea12911e9204bf882982aa6569fc6ec": {
      "model_module": "@jupyter-widgets/controls",
      "model_module_version": "3.0.0",
      "model_name": "DescriptionStyleModel",
      "state": {
       "description_width": "initial"
      }
     },
     "feb0ad8a8c1249e88aad1802c4bf433d": {
      "model_module": "@jupyter-widgets/controls",
      "model_module_version": "3.0.0",
      "model_name": "BoundedFloatTextModel",
      "state": {
       "description": "Shutdown Time (hr):",
       "layout": "IPY_MODEL_ec2fd553ae2e4c8f8ab2a3f022082554",
       "max": 24,
       "style": "IPY_MODEL_f2055102229240079c86f73d0551c778"
      }
     },
     "febcef7b1b32455cb044f097db3f37a6": {
      "model_module": "@jupyter-widgets/controls",
      "model_module_version": "3.0.0",
      "model_name": "BoundedFloatTextModel",
      "state": {
       "description": "Startup Cost ($/hr):",
       "layout": "IPY_MODEL_4040d5456d9c4b82bd03ea6f1c3d726d",
       "max": 10000000000,
       "style": "IPY_MODEL_e41a5b9d5e0c401eb19fcb5d1f69c64c"
      }
     },
     "fec3253cfada4de1b24462250b2baeb1": {
      "model_module": "@jupyter-widgets/controls",
      "model_module_version": "3.0.0",
      "model_name": "SliderStyleModel",
      "state": {
       "description_width": "initial"
      }
     },
     "fec63218cbb745708b2d4bb2a9bf9383": {
      "model_module": "@jupyter-widgets/controls",
      "model_module_version": "3.0.0",
      "model_name": "DescriptionStyleModel",
      "state": {
       "description_width": ""
      }
     },
     "fefb84e7e68d4cada627fe3710faedd1": {
      "model_module": "@jupyter-widgets/base",
      "model_module_version": "3.0.0",
      "model_name": "LayoutModel",
      "state": {}
     },
     "ff3a927de37344888b56b1b53a2c1fdf": {
      "model_module": "@jupyter-widgets/base",
      "model_module_version": "3.0.0",
      "model_name": "LayoutModel",
      "state": {}
     },
     "ff4b95b3578f495c882846a009bc059e": {
      "model_module": "@jupyter-widgets/controls",
      "model_module_version": "3.0.0",
      "model_name": "BoundedFloatTextModel",
      "state": {
       "description": "Initial Generation (MW):",
       "layout": "IPY_MODEL_e8340f1137c9475db9f2d6fc768b8894",
       "style": "IPY_MODEL_361dc73706f04068a9f4cd9232887e9c"
      }
     },
     "ffde82de43ec4efcb1ee6777b34e5eab": {
      "model_module": "@jupyter-widgets/base",
      "model_module_version": "3.0.0",
      "model_name": "LayoutModel",
      "state": {}
     },
     "ffe58dc878d1488a8f50b500b60838e7": {
      "model_module": "bqplot",
      "model_module_version": "^0.3.0-alpha.1",
      "model_name": "LinearScaleModel",
      "state": {
       "_model_module_version": "^0.3.0-alpha.1",
       "_view_module_version": "^0.3.0-alpha.1",
       "allow_padding": false,
       "max": 1,
       "min": 0,
       "stabilized": false
      }
     },
     "fffca4c9973a477d95b6541ff72424fb": {
      "model_module": "@jupyter-widgets/base",
      "model_module_version": "3.0.0",
      "model_name": "LayoutModel",
      "state": {}
     }
    },
    "version_major": 2,
    "version_minor": 0
   }
  }
 },
 "nbformat": 4,
 "nbformat_minor": 2
}
